{
 "cells": [
  {
   "cell_type": "markdown",
   "id": "b627f12d-1011-44c5-af7b-1ed402ec0898",
   "metadata": {},
   "source": [
    "# Deep Learning para la predicción de series temporales"
   ]
  },
  {
   "cell_type": "markdown",
   "id": "76fd656c-5d7a-44c7-8095-00ac4daae06f",
   "metadata": {},
   "source": [
    "## Redes neuronales"
   ]
  },
  {
   "cell_type": "markdown",
   "id": "f6bf7b05-a77c-4a86-a39c-6241f7d21507",
   "metadata": {},
   "source": [
    "```{admonition} Introducción\n",
    "- Las redes neuronales son ***sistemas de aprendizaje compuestos por neuronas conectadas en capas que ajustan sus conexiones para aprender***. Tras un período de ***25 años desde su inicio, las redes neuronales se convirtieron en la norma en el aprendizaje automático***. \n",
    "\n",
    "- En un principio, dominaron durante una década, pero ***luego fueron superadas por máquinas de vectores de soporte***. Sin embargo, ***desde 2010, las redes neuronales profundas se han vuelto populares gracias a mejoras en la tecnología y la disponibilidad de grandes conjuntos de datos***, impulsando el campo del aprendizaje automático.\n",
    "```"
   ]
  },
  {
   "cell_type": "markdown",
   "id": "c51b1bb9-c4a9-4ed2-bec0-f94154ce7476",
   "metadata": {},
   "source": [
    "## Gradiente descendiente"
   ]
  },
  {
   "cell_type": "markdown",
   "id": "79f19a0f-b90b-4028-ac8d-79d0c21aabf6",
   "metadata": {},
   "source": [
    "- El ***método de gradiente descendiente*** es uno de los mas ampliamente usados para la ***minimización iterativa de una función de costo diferenciable***, $J(\\boldsymbol{\\theta}),~\\boldsymbol{\\theta}\\in\\mathbb{R}^{l}$ (*por ejemplo MSE*). Como cualquier otra técnica iterativa, el método ***parte de una estimación inicial***, $\\boldsymbol{\\theta}^{(0)}$, ***y genera una sucesión*** $\\boldsymbol{\\theta}^{(i)},~i=1,2,\\dots,$ tal que:\n",
    "\n",
    "    $$\n",
    "    \\boldsymbol{\\theta}^{(i)}=\\boldsymbol{\\theta}^{(i-1)}+\\mu_{i}\\Delta\\boldsymbol{\\theta}^{(i)},~ i >0,~\\mu_{i}>0.\n",
    "    $$\n",
    "\n",
    "- La diferencia entre cada método radica en la forma que $\\mu_{i}$ y $\\Delta\\boldsymbol{\\theta}^{(i)}$ son seleccionados. $\\Delta\\boldsymbol{\\theta}^{(i)}$ es conocido como la ***dirección de actualización o de búsqueda***. La sucesión $\\mu_{i}$ es conocida como el ***tamaño o longitud de paso*** en la $i$-ésima iteración, estos valores pueden ser constantes o cambiar.\n",
    "\n",
    "- En el método de gradiente descendiente, ***la selección de*** $\\Delta\\boldsymbol{\\theta}^{(i)}$ ***es realizada para garantizar que*** $J(\\boldsymbol{\\theta}^{(i)})<J(\\boldsymbol{\\theta}^{(i-1)})$, excepto en el minimizador $\\boldsymbol{\\theta}_{\\star}$."
   ]
  },
  {
   "cell_type": "markdown",
   "id": "633c3811-7c07-49cb-837d-9369dfc6147e",
   "metadata": {},
   "source": [
    "```{figure} ./figures/curva_nivel.png\n",
    ":name: curva_nivel\n",
    ":align: center\n",
    ":scale: 80\n",
    "\n",
    "Función de coste en el espacio de parámetros bidimensional.\n",
    "```"
   ]
  },
  {
   "cell_type": "markdown",
   "id": "665fbee9-d5fd-42c9-8216-8bcf1aac87e8",
   "metadata": {},
   "source": [
    "- Suponga que en la iteración $i-1$ el valor $\\boldsymbol{\\theta}^{(i-1)}$ ***ha sido obtenido***\n",
    "\n",
    "$$\n",
    "J(\\boldsymbol{\\theta}^{(i)})=J(\\boldsymbol{\\theta}^{(i-1)}+\\mu_{i}\\Delta\\boldsymbol{\\theta}^{(i)})\\approx J(\\boldsymbol{\\theta}^{(i-1)})+\\mu_{i}\\cdot\\nabla^{T}J(\\boldsymbol{\\theta}^{(i-1)})\\Delta\\boldsymbol{\\theta}^{(i-1)}.\n",
    "$$"
   ]
  },
  {
   "cell_type": "markdown",
   "id": "af79909a-fa79-4d93-818c-db7e75943290",
   "metadata": {},
   "source": [
    "- Nótese que ***seleccionando la dirección tal que*** $\\nabla^{T}J(\\boldsymbol{\\theta}^{(i-1)})\\Delta\\boldsymbol{\\theta}^{(i)}<0$, ***garantizará que*** $J(\\boldsymbol{\\theta}^{(i-1)}+\\mu_{i}\\Delta\\boldsymbol{\\theta}^{(i)})<J(\\boldsymbol{\\theta}^{(i-1)})$. Tal selección de $\\Delta\\boldsymbol{\\theta}^{(i)}$ y $\\nabla J(\\boldsymbol{\\theta}^{(i-1)})$ debe formar un ***ángulo obtuso***. Las curvas de nivel asociadas a $J(\\boldsymbol{\\theta})$ pueden tomar cualquier forma, la cual va a ***depender de como está definido*** $J(\\boldsymbol{\\theta})$.\n",
    "\n",
    "- $J(\\boldsymbol{\\theta})$ se supone diferenciable, por lo tanto, las ***curvas de nivel o contornos deben ser suaves y aceptar un plano tangente en cualquier punto***. Además, de los cursos de cálculo sabemos que el ***vector gradiente*** $\\nabla J(\\boldsymbol{\\theta})$ ***es perpendicular al plano tangente*** (recta tangente) ***a la correspondiente curva de nivel en el punto*** $\\boldsymbol{\\theta}$.\n",
    "\n",
    "- Nótese que ***seleccionando la dirección de búsqueda*** $\\Delta\\boldsymbol{\\theta}^{(i)}$ ***que forma un angulo obtuso con el gradiente, se coloca a*** $\\boldsymbol{\\theta}^{(i-1)}+\\mu_{i}\\Delta\\boldsymbol{\\theta}^{(i)}$ ***en un punto sobre el contorno el cual corresponde a un valor menor que*** $J(\\boldsymbol{\\theta})$."
   ]
  },
  {
   "cell_type": "markdown",
   "id": "aceefa92-463e-4df3-b6a0-dc7fea844c44",
   "metadata": {},
   "source": [
    "- Dos problemas surgen ahora:\n",
    "\n",
    "    1. Escoger la ***mejor dirección de búsqueda***\n",
    "    2. Calcular ***que tan lejos es aceptable un movimiento a traves de esta dirección***."
   ]
  },
  {
   "cell_type": "markdown",
   "id": "be56dc49-04ac-43df-a754-4c1536d0ba83",
   "metadata": {},
   "source": [
    "```{figure} ./figures/maximun_dec_cost_function.png\n",
    ":name: maximun_dec_cost_function\n",
    ":align: center\n",
    ":scale: 80\n",
    "\n",
    "El vector gradiente en un punto $\\boldsymbol{\\theta}$ es perpendicular al plano tangente (línea punteada) en la curva de nivel que cruza $\\boldsymbol{\\theta}$. La dirección de descenso forma un ángulo obtuso, $\\phi$, con el vector gradiente.\n",
    "```"
   ]
  },
  {
   "cell_type": "markdown",
   "id": "296addd0-9e78-491d-92d8-130039793604",
   "metadata": {},
   "source": [
    "- Nótese que ***si*** $\\mu_{i}\\|\\Delta\\boldsymbol{\\theta}^{(i)}\\|$ ***es demasiado grande, entonces el nuevo punto puede ser colocado en un contorno correspondiente a un valor mayor al del actual*** contorno."
   ]
  },
  {
   "cell_type": "markdown",
   "id": "6146529f-aeae-40cf-b91d-86899495f3be",
   "metadata": {},
   "source": [
    "```{figure} ./figures/curva_nivel_cost_function.png\n",
    ":name: curva_nivel_cost_function\n",
    ":align: center\n",
    ":scale: 90\n",
    "\n",
    "Las correspondientes curvas de nivel para la función de coste, en el plano bidimensional. Nótese que a medida que nos alejamos del valor óptimo, $\\boldsymbol{\\theta}_{\\star}$, los valores de $c$ aumentan.\n",
    "```"
   ]
  },
  {
   "cell_type": "markdown",
   "id": "db383e64-3d8e-4e7e-98ef-d56c9afbd307",
   "metadata": {},
   "source": [
    "- Para abordar (1), ***supongamos que*** $\\mu_{i}=1$ y ***buscamos todos los vectores*** $\\boldsymbol{z}$ ***con norma Euclidiana unitaria, con inicio (cola) en*** $\\boldsymbol{\\theta}^{(i-1)}$. Entonces, para todas las posibles direcciones, la que entrega el valor más negativo del producto interno, $\\nabla^{T}J(\\boldsymbol{\\theta}^{(i-1)})z$, es aquella de gradiente negativo\n",
    "\n",
    "$$\n",
    "z=-\\frac{\\nabla J(\\boldsymbol{\\theta}^{(i-1)})}{\\|\\nabla J(\\boldsymbol{\\theta}^{(i-1)}\\|}\n",
    "$$"
   ]
  },
  {
   "cell_type": "markdown",
   "id": "ffd4d568-3f06-4ad8-bffb-7967324ea3eb",
   "metadata": {},
   "source": [
    "- Centrando $\\boldsymbol{\\theta}^{(i-1)}$ en la bola con norma Euclideana uno. ***De todos los vectores con norma unitaria y origen en*** $\\boldsymbol{\\theta}^{(i-1)}$, ***seleccionamos aquel que apunta en la dirección negativa del gradiente***. Por lo tanto, para todos los vectores con norma Euclidiana 1, la ***dirección de descenso mas pronunciada coincide con la dirección del gradiente descendiente, negativo***, y la correspondiente actualización recursiva se convierte en\n",
    "\n",
    "$$\n",
    "\\boldsymbol{\\theta}^{(i)}=\\boldsymbol{\\theta}^{(i-1)}-\\mu_{i}\\nabla J(\\boldsymbol{\\theta}^{(i-1)}),\\quad\\text{Gradiente descendiente}.\n",
    "$$"
   ]
  },
  {
   "cell_type": "markdown",
   "id": "26ae0e49-a71b-4b88-bb0f-6a5758dd6292",
   "metadata": {},
   "source": [
    "````{figure} ./figures/desc_gradient.png\n",
    ":name: fig_desc_gradient\n",
    ":align: center\n",
    ":scale: 90\n",
    "\n",
    "Representación del gradiente negativo, el cual conduce a la máxima disminución de la función de coste.\n",
    "````"
   ]
  },
  {
   "cell_type": "markdown",
   "id": "84604db7-f7cc-4c71-92db-cb50944daea1",
   "metadata": {},
   "source": [
    "- La selección de $\\mu_{i}$ debe ser realizada de tal forma que ***garantice convergencia de la secuencia de minimización***. Nótese que ***el algoritmo puede oscilar en torno al mínimo sin converger, si no seleccionamos la dirección correcta***. La selección de $\\mu_{i}$ ***dependerá de la convergencia a cero del error entre*** $\\boldsymbol{\\theta}^{(i)}$ ***y el mínimo real en forma de serie geométrica***.\n",
    "\n",
    "- Por ejemplo, para el caso de la función de coste del error cuadrático medio, la longitud de paso está dada por: $0<\\mu<2/\\lambda_{\\max}$, donde $\\lambda_{\\max}$ el máximo eigenvalor de la matriz de covarianza $\\Sigma_{x}=\\mathbb{E}[\\boldsymbol{x}\\boldsymbol{x}^{T}]$, donde $J(\\boldsymbol{\\theta})=\\text{E}[(y-\\boldsymbol{\\theta}^{T}\\boldsymbol{x})^{2}]$ (ver {cite}`theodoridis2020machine`) (***`bonus`***)."
   ]
  },
  {
   "cell_type": "markdown",
   "id": "f2539fbc-6fe0-4a32-8a78-9191b8d49daa",
   "metadata": {},
   "source": [
    "## El perceptrón"
   ]
  },
  {
   "cell_type": "markdown",
   "id": "1adf94cd-aaf0-420e-9ea4-bc57803ba594",
   "metadata": {},
   "source": [
    "- Nuestro punto de partida será considerar el problema simple de una ***tarea de clasificación conformada por dos clases linealmente separables***. En otras palabras, dado un conjunto de muestras de entrenamiento, $(y_{n}, \\boldsymbol{x}_{n})$, $n=1,2,\\dots,N$, con $y_{n}\\in\\{-1,+1\\},~\\boldsymbol{x}_{n}\\in\\mathbb{R}^{l}$, suponemos que existe un hiperplano\n",
    "\n",
    "    $$\n",
    "    \\boldsymbol{\\theta}_{\\star}^{T}\\boldsymbol{x}=0,\n",
    "    $$\n",
    "\n",
    "    tal que,\n",
    "\n",
    "    $$\n",
    "    \\begin{cases}\n",
    "    \\boldsymbol{\\theta}_{\\star}^{T}\\boldsymbol{x}&>0,\\quad\\text{si}\\quad\\boldsymbol{x}\\in\\omega_{1}\\\\\n",
    "    \\boldsymbol{\\theta}_{\\star}^{T}\\boldsymbol{x}&<0,\\quad\\text{si}\\quad\\boldsymbol{x}\\in\\omega_{2}\n",
    "    \\end{cases}\n",
    "    $$\n",
    "\n",
    "    en otras palabras, ***dicho hiperplano clasifica correctamente todos los puntos del conjunto de entrenamiento***.\n",
    "\n",
    "- Para simplificar, el ***término de sesgo del hiperplano ha sido absorbido en*** $\\boldsymbol{\\theta}_{\\star}$ después de extender la dimensionalidad del espacio de entrada en uno. El objetivo ahora es ***desarrollar un algoritmo que calcule iterativamente un hiperplano que clasifique correctamente todos los patrones de ambas clases***. Para ello, se adopta una función de costo."
   ]
  },
  {
   "cell_type": "markdown",
   "id": "83a189ef-00c1-4aa5-b32e-998b7c794013",
   "metadata": {},
   "source": [
    "- Sea $\\boldsymbol{\\theta}$ la ***estimación del vector de parámetros desconocidos, disponible en la actual iteración***. Entonces hay dos posibilidades. La primera es que ***todos los puntos estén clasificados correctamente***; esto significa que se ha obtenido una solución. La otra alternativa es que $\\boldsymbol{\\theta}$ ***clasifique correctamente algunos de los puntos*** y ***el resto estén mal clasificados***."
   ]
  },
  {
   "cell_type": "markdown",
   "id": "c26d5a5e-625c-4295-a131-0bb173ed46e0",
   "metadata": {},
   "source": [
    "```{admonition} Costo perceptrón\n",
    ":class: tip\n",
    "\n",
    "Sea $\\mathcal{Y}$ el conjunto de todas las muestras mal clasificadas. La **`función de costo, perceptrón`** se define como\n",
    "\n",
    "$$\n",
    "J(\\boldsymbol{\\theta})=-\\sum_{n:\\boldsymbol{x}_{n}\\in\\mathcal{Y}}y_{n}\\boldsymbol{\\theta}^{T}\\boldsymbol{x}_{n}:\\quad\\textsf{Costo perceptrón},\n",
    "$$\n",
    "donde\n",
    "\n",
    "$$\n",
    "y_{n}=\n",
    "\\begin{cases}\n",
    "+1,&\\quad\\text{si}~\\boldsymbol{x}\\in\\omega_{1}\\\\\n",
    "-1,&\\quad\\text{si}~\\boldsymbol{x}\\in\\omega_{2}.\n",
    "\\end{cases}\n",
    "$$\n",
    "```"
   ]
  },
  {
   "cell_type": "markdown",
   "id": "92a01ffc-5dcc-488e-85f4-db935ff5bb82",
   "metadata": {},
   "source": [
    "- Nótese que ***la función de costo es no negativa***. Dado que la suma es sobre los puntos mal clasificados, si $\\boldsymbol{x}_{n}\\in\\omega_{1}~(\\omega_{2}),~$ entonces $\\boldsymbol{\\theta}^{T}\\boldsymbol{x}_{n}\\leq (\\geq)~0$, entregando así un producto $-y_{n}\\boldsymbol{\\theta}^{T}\\boldsymbol{x}_{n}\\geq0$.\n",
    "- ***La función de costo es cero, si no existen puntos mal clasificados***, esto es, $\\mathcal{Y}=\\emptyset$. La función de costo perceptrón ***no es diferenciable en todos los puntos, es lineal por tramos***. Si reescribimos $J(\\boldsymbol{\\theta})$ en una forma ligeramente diferente:\n",
    "\n",
    "$$\n",
    "J(\\boldsymbol{\\theta})=\\left(-\\sum_{n:\\boldsymbol{x}_{n}\\in\\mathcal{Y}}y_{n}\\boldsymbol{x}_{n}^{T}\\right)\\boldsymbol{\\theta}.\n",
    "$$\n",
    "\n",
    "- ***Nótese que esta es una función lineal con respeto a*** $\\boldsymbol{\\theta}$, siempre que el conjunto de puntos mal clasificados permanezca igual. Además, ***nótese que ligeros cambios del valor*** $\\boldsymbol{\\theta}$ ***corresponden a cambios de posición del respectivo hiperplano***.\n",
    "\n",
    "- Como consecuencia, ***existirá un punto donde el número de muestras mal clasificadas en*** $\\mathcal{Y}$, ***repentinamente cambia***; este es el tiempo donde ***una muestra en el conjunto de entrenamiento cambia su posición relativa con respecto al hiperplano en movimiento***, y en consecuencia, el conjunto $\\mathcal{Y}$ es modificado. Después de este cambio, el conjunto, $J(\\boldsymbol{\\theta})$, corresponderá a una nueva  función lineal."
   ]
  },
  {
   "cell_type": "markdown",
   "id": "2865df4c-968f-4ec6-bcc6-f7acb92cde9c",
   "metadata": {},
   "source": [
    "```{admonition} El algoritmo perceptrón\n",
    ":class: tip\n",
    "\n",
    "A partir del ***método de subgradientes*** se puede verificar fácilmente que, iniciando desde un punto arbitrario, $\\boldsymbol{\\theta}^{(0)}$, el siguiente método iterativo,\n",
    "\n",
    "$$\n",
    "\\boldsymbol{\\theta}^{(i)}=\\boldsymbol{\\theta}^{(i-1)}+\\mu_{i}\\sum_{n:\\boldsymbol{x}_{n}\\in\\mathcal{Y}}y_{n}\\boldsymbol{x}_{n}:\\quad\\textsf{Regla perceptrón}, \n",
    "$$\n",
    "\n",
    "***converge después de un número finito de pasos***. La sucesión de parámetros $\\mu_{i}$ es seleccionada adecuadamente para garantizar convergencia. \n",
    "```"
   ]
  },
  {
   "cell_type": "markdown",
   "id": "c54cbf0e-fbe1-4fab-874c-bb267c95e066",
   "metadata": {},
   "source": [
    "- Nótese que usando el [método de subgradiente](https://en.wikipedia.org/wiki/Subgradient_method) se tiene que\n",
    "\n",
    "$$\n",
    "\\begin{align*}\n",
    "\\boldsymbol{\\theta}^{(i)}&=\\boldsymbol{\\theta}^{(i-1)}-\\mu_{i}\\nabla_{\\boldsymbol{\\theta}} J(\\boldsymbol{\\theta}^{(i-1)})\\\\\n",
    "&=\\boldsymbol{\\theta}^{(i-1)}-\\mu_{i}\\left(-\\sum_{n:\\boldsymbol{x}_{n}\\in\\mathcal{Y}}y_{n}\\boldsymbol{x}_{n}^{T}\\right)\\\\\n",
    "&=\\boldsymbol{\\theta}^{(i-1)}+\\mu_{i}\\sum_{n:\\boldsymbol{x}_{n}\\in\\mathcal{Y}}y_{n}\\boldsymbol{x}_{n}.\n",
    "\\end{align*}\n",
    "$$"
   ]
  },
  {
   "cell_type": "markdown",
   "id": "f3bebf23-c547-4106-b31f-9c810900191f",
   "metadata": {},
   "source": [
    "- Otra versión del algoritmo considera ***una muestra por iteración en un esquema cíclico, hasta que el algoritmo converge***. Denotemos por $y_{(i)}$, $\\boldsymbol{x}_{i},~i\\in\\{1,2,\\dots,N\\}$ los ***pares de entrenamiento presentados al algoritmo en la iteración*** $i$***-ésima***. Entonces, la iteración de actualización se convierte en:\n",
    "\n",
    "$$\n",
    "\\boldsymbol{\\theta}^{(i)}=\n",
    "\\begin{cases}\n",
    "\\boldsymbol{\\theta}^{(i-1)}+\\mu_{i}y_{(i)}\\boldsymbol{x}_{(i)},&\\quad\\text{si}\\,\\boldsymbol{x}_{(i)}\\,\\text{es mal clasificado por}\\,\\boldsymbol{\\theta}^{(i-1)},\\\\\n",
    "\\boldsymbol{\\theta}^{(i-1)},&\\quad\\text{otro caso}.\n",
    "\\end{cases}\n",
    "$$ (eq_perceptron_algo2)"
   ]
  },
  {
   "cell_type": "markdown",
   "id": "5f0b236f-2801-4b65-b609-6e4610b89fb5",
   "metadata": {},
   "source": [
    "- Esto es, partiendo de una estimación inicial de forma random, ***inicializando*** $\\boldsymbol{\\theta}^{(0)}$ ***con algunos valores pequeños, testeamos cada una de las muestras***, $\\boldsymbol{x}_{n},~n=1,2,\\dots,N$. Cada vez que una ***muestra es mal clasificada, se toma acción por medio de la regla perceptrón para una corrección***. En otro caso, ninguna acción es requerida. ***Una vez que todas las muestras han sido consideradas, decimos que una `época (epoch)` ha sido completada***."
   ]
  },
  {
   "cell_type": "markdown",
   "id": "a498e532-eadf-4483-b14a-26009ce95c8e",
   "metadata": {},
   "source": [
    "````{admonition} Observación\n",
    ":class: tip\n",
    "\n",
    "- Si ***no se obtiene convergencia, todas las muestras son reconsideradas en una segunda época***, y así sucesivamente. La versión de este algoritmo es conocida como esquema **`pattern-by-pattern`**. Algunas veces también es referido como el ***algoritmo online***. Nótese que el número total de datos muestrales es fijo, y que el algoritmo los considera en forma cíclica, época por época (***epoch-by-epoch***).\n",
    "\n",
    "- Después de un número finito de épocas, se garantiza que el algoritmo es convergente. ***Nótese que para obtener dicha convergencia, la sucesión*** $\\mu_{i}$ ***debe ser seleccionada apropiadamente***. Sin embargo, para el caso del ***algoritmo perceptrón, la convergencia es garantizada*** ($J$ convexa), aun cuando $\\mu_{i}$ es una constante positiva, $\\mu_{i}=\\mu>0$, ***usualmente tomado igual a uno***. \n",
    "\n",
    "- La formulación en {eq}`eq_perceptron_algo2` es conocida también como la ***filosofía de aprendizaje `reward-punishment`***. Si la actual estimación es exitosa en la predicción de la clase del respectivo patrón, ninguna acción es tomada (`reward`), en otro caso, el algoritmo es obligado a realizar una actualización (`punishment`).\n",
    "````"
   ]
  },
  {
   "cell_type": "markdown",
   "id": "da01d485-1854-448c-9c56-1a45f0a24673",
   "metadata": {},
   "source": [
    "```{figure} ./figures/perceptron_rule.png\n",
    ":name: perceptron_rule\n",
    ":align: center\n",
    ":scale: 80\n",
    "\n",
    "El punto $x$ está mal clasificado por la línea roja. La regla perceptrón gira el hiperplano hacia el punto $x$, para intentar incluirlo en el lado correcto del nuevo hiperplano y clasificarlo correctamente. El nuevo hiperplano está definido por $θ^{(i)}$ y se muestra con la línea negra.\n",
    "```"
   ]
  },
  {
   "cell_type": "markdown",
   "id": "00cf07d6-3a58-4c02-ba63-8720049f4f68",
   "metadata": {},
   "source": [
    "- La {numref}`perceptron_rule` ofrece una interpretación geométrica de la ***regla del perceptrón***. Supongamos que la muestra $\\boldsymbol{x}$ está mal clasificada por el hiperplano, $\\boldsymbol{\\theta}^{(i-1)}$. Como sabemos, por geometría analítica, $\\boldsymbol{\\theta}^{(i-1)}$ ***corresponde a un vector que es perpendicular al hiperplano que está definido por este vector***.\n",
    "\n",
    "- Como $\\boldsymbol{x}$ se encuentra en el lado $(-)$ del hiperplano y está *mal clasificado, pertenece a la clase* $\\omega_{1}$; asumiendo $\\mu = 1$, la corrección aplicada por el algoritmo es\n",
    "\n",
    "    $$\n",
    "    \\\\[1mm]\n",
    "    \\boldsymbol{\\theta}^{(i)}=\\boldsymbol{\\theta}^{(i-1)}+\\boldsymbol{x},\n",
    "    $$\n",
    "\n",
    "    y su efecto es ***girar el hiperplano en dirección a*** $\\boldsymbol{x}$ para colocarlo en el lado $(+)$ del nuevo hiperplano, que está definido por la estimación actualizada $\\boldsymbol{\\theta^{(i)}}$. El ***algoritmo perceptrón*** en su modo de funcionamiento patrón por patrón (***pattern-by-pattern***) se resume en el siguiente algoritmo."
   ]
  },
  {
   "cell_type": "markdown",
   "id": "ce17513e-4527-4a5a-8afc-3052b30a1b44",
   "metadata": {},
   "source": [
    "```{prf:algorithm} Algoritmo perceptrón *pattern-by-pattern*\n",
    ":label: my_algorithm_pattern_by_pattern\n",
    "\n",
    "**Inicialización**\n",
    "\n",
    "1. Inicializar $\\boldsymbol{\\theta}^{(0)}$; usualmente, de forma `random, pequeño`\n",
    "2. Seleccionar $\\mu$; usualmente `establecido como 1`\n",
    "3. $i=1$\n",
    "\n",
    "**Repeat** Cada iteración corresponde a un `epoch`\n",
    "\n",
    "1. `counter = 0`; Contador del número de actualizaciones por `epoch`\n",
    "2. **For** $n=1,2,\\dots,N$ **Do** Para cada `epoch`, *todas las muestras son presentadas una vez*\n",
    "\n",
    "\t**If**($y_{n}\\boldsymbol{x}_{n}^{T}\\leq0$) **Then**\n",
    "\n",
    "\t1. $\\boldsymbol{\\theta}^{(i)}=\\boldsymbol{\\theta}^{(i-1)}+\\mu y_{n}\\boldsymbol{x}_{n}$\n",
    "\t2. $i=i+1$\n",
    "\t3. counter = counter + 1\n",
    "\n",
    "\t**End For**\n",
    "3. **Until** counter = 0\n",
    "```"
   ]
  },
  {
   "cell_type": "markdown",
   "id": "f3b9e741-1432-489d-8250-f4eca347998c",
   "metadata": {},
   "source": [
    "- Una vez que el ***algoritmo perceptrón se ha ejecutado y converge***, tenemos los ***pesos***, $\\theta_{i},~i = 1,2,\\dots,l$, ***de las sinapsis de la neurona/perceptrón*** asociada, así como el término de sesgo $\\theta_{0}$. Ahora se pueden ***utilizar para clasificar patrones desconocidos***. Las características $x_{i}, i = 1, 2,\\dots,l$, se aplican a los nodos de entrada.\n",
    "\n",
    "- A su vez, ***cada característica se multiplica por la sinapsis respectiva (peso), y luego se añade el término de sesgo en su combinación lineal***. El resultado de esta operación ***pasa por una función no lineal***, $f$, conocida como ***[función de activación](https://en.wikipedia.org/wiki/Activation_function)***. Dependiendo de la forma de la no linealidad, se producen diferentes tipos de neuronas. La más clásica conocida como ***neurona McCulloch-Pitts***, la función de ***activación es la de Heaviside***, es decir,\n",
    "\n",
    "$$\n",
    "f(z)=\n",
    "\\begin{cases}\n",
    "1,&\\quad\\text{si}~z>0,\\\\\n",
    "0,&\\quad\\text{si}~z\\leq0.\n",
    "\\end{cases}\n",
    "$$"
   ]
  },
  {
   "cell_type": "markdown",
   "id": "4a5effd6-0268-48c3-a00a-4402ec788c2e",
   "metadata": {},
   "source": [
    "```{figure} ./figures/mcculloch_pitts.png\n",
    ":name: mcculloch_pitts\n",
    ":align: center\n",
    ":scale: 80\n",
    "\n",
    "Arquitectura básica de neuronas/perceptrones.\n",
    "```"
   ]
  },
  {
   "cell_type": "markdown",
   "id": "8973e110-c646-401c-921a-b2b0ae5e1bc0",
   "metadata": {},
   "source": [
    "- En la arquitectura básica de neuronas/perceptrones, las ***características de entrada se aplican a los nodos de entrada y se ponderan por los respectivos pesos que definen las sinapsis***. A continuación ***se añade el término de sesgo en su combinación lineal y el resultado es empujado a través de la no linealidad***.\n",
    "\n",
    "- En la neurona ***McCulloch-Pitts***, la salida es 1 para los patrones de la clase $\\omega_{1}$ o 0 para la clase $\\omega_{2}$. La suma y la operación no lineal se unen para simplificar el gráfico."
   ]
  },
  {
   "cell_type": "markdown",
   "id": "5a481974-5f31-4997-b15f-4029cae606af",
   "metadata": {},
   "source": [
    "```{figure} ./figures/hidden_layer_activationf_function.png\n",
    ":name: hidden_layer_activationf_function_fig\n",
    ":align: center\n",
    ":scale: 70\n",
    "\n",
    "Selección de función de activación para ***`hidden layers`***. (Fuente {cite}`brownlee2017deep`).\n",
    "```"
   ]
  },
  {
   "cell_type": "markdown",
   "id": "2da826c9-a4c9-4174-a99d-419ce3a86859",
   "metadata": {},
   "source": [
    "- Para las capas ocultas, la función de ***activación [tangente hiperbólica](https://es.wikipedia.org/wiki/Tangente_hiperb%C3%B3lica) suele funcionar mejor que la [sigmoidea logística](https://en.wikipedia.org/wiki/Sigmoid_function)***. Tanto la función ***sigmoid*** como ***tanh*** pueden hacer que el modelo sea más ***susceptible a los problemas durante el entrenamiento, a través del llamado problema de los `gradientes desvanecientes`***. Los modelos modernos de redes neuronales con arquitecturas comunes, como ***MLP y CNN, harán uso de la función de activación [ReLU](https://es.wikipedia.org/wiki/Rectificador_(redes_neuronales))***, o extensiones.\n",
    "\n",
    "- Las ***redes recurrentes*** suelen utilizar funciones de activación ***tanh*** o ***sigmoid***, o incluso ambas. Por ejemplo, la ***LSTM suele utilizar la activación sigmoid para las conexiones recurrentes y la activación tanh para la salida***."
   ]
  },
  {
   "cell_type": "markdown",
   "id": "d020e211-0a91-42bf-9889-81dac859b97a",
   "metadata": {},
   "source": [
    "```{figure} ./figures/output_layer_activation_function.png\n",
    ":name: output_layer_activation_function\n",
    ":align: center\n",
    ":scale: 70\n",
    "\n",
    "Selección de función de activación para ***`output layers`***. (Fuente {cite}`brownlee2017deep`).\n",
    "```"
   ]
  },
  {
   "cell_type": "markdown",
   "id": "32c3c0f3-5099-4ad8-a587-c08abfec7d90",
   "metadata": {},
   "source": [
    "- Si su problema es de ***regresión, debe utilizar una función de [activación lineal](https://en.wikipedia.org/wiki/Linearity)***. Si su problema es de ***clasificación***, el modelo predice la ***probabilidad de pertenencia a una clase***, que se puede convertir en una ***etiqueta de clase mediante redondeo (para sigmoid)*** o ***argmax (para [softmax](https://en.wikipedia.org/wiki/Softmax_function))***."
   ]
  },
  {
   "cell_type": "markdown",
   "id": "ec0e26a9-bb6b-4241-800b-cb5d55beb204",
   "metadata": {},
   "source": [
    "````{admonition} Activación Lineal y Problemas de Regresión\n",
    "\n",
    "En las ***Redes Neuronales Artificiales (ANNs)***, la función de ***activación lineal*** se utiliza comúnmente en la capa de salida para ***problemas de regresión y series de tiempo*** debido a las siguientes razones:\n",
    "\n",
    "- ***`Producción de Salidas Continuas`***\n",
    "\n",
    "    La regresión y las predicciones de ***series de tiempo*** generalmente requieren que el modelo produzca ***salidas continuas, no discretas***. Una función de ***activación lineal permite que la salida de la red neuronal sea cualquier valor real, lo que es adecuado para este tipo de problemas***. *Por ejemplo, si estamos prediciendo precios de viviendas o temperaturas futuras, necesitamos que las salidas sean valores continuos, no limitados a un rango específico*.\n",
    "\n",
    "- ***`Evitar Saturación`***\n",
    "\n",
    "    Funciones de activación no lineales como la ***sigmoid o tanh tienen salidas acotadas*** (*entre 0 y 1 para sigmoide, y entre -1 y 1 para tanh*). Estas funciones pueden saturarse, es decir, ***para valores grandes de entrada, los gradientes pueden volverse muy pequeños, lo que dificulta el entrenamiento del modelo debido al problema del gradiente desvaneciente***. *Una función de activación lineal no tiene este problema, ya que la salida es directamente proporcional a la entrada*.\n",
    "\n",
    "-  ***`Preservación de la Escala de la Salida`***\n",
    "\n",
    "    En ***tareas de regresión y predicción de series de tiempo***, a menudo ***es importante que la escala de las salidas se mantenga consistente con la escala de los valores objetivo***. La función de activación lineal, definida como, $\\boldsymbol{f(x)=x}$ ***no cambia la escala de los valores***, permitiendo que la red neuronal *modele relaciones directamente proporcionales entre las entradas y las salidas*.\n",
    "    \n",
    "````"
   ]
  },
  {
   "cell_type": "markdown",
   "id": "cd6fb676-bb95-4133-9d1a-c5356e22491b",
   "metadata": {},
   "source": [
    "## Redes Totalmente Conectadas"
   ]
  },
  {
   "cell_type": "markdown",
   "id": "e5f027b7-7b2e-40bb-88f3-b18388926e76",
   "metadata": {},
   "source": [
    "- Para resumir de manera más formal el tipo de ***operaciones que tienen lugar en una red totalmente conectada***, centrémonos en, por ejemplo, la ***capa*** $r$ ***de una red neuronal multicapa y supongamos que está formada por*** $k_{r}$ ***neuronas***. El vector de ***entrada a esta capa está formado por las salidas de los nodos de la capa anterior, que se denomina*** $\\boldsymbol{y}^{r-1}$.\n",
    "\n",
    "- Sea $\\boldsymbol{\\theta}_{j}^{r}$ el vector de los ***pesos sinápticos, incluido el término de sesgo, asociado a la neurona*** $j$ ***de la capa*** $r$, donde $j = 1,2,\\dots, k_{r}$. La ***dimensión respectiva*** de este vector es $k_{r-1} + 1$, donde $k_{r-1}$ es el ***número de neuronas de la capa anterior***, $r-1$, ***y el aumento en 1 representa el término de sesgo***. Entonces las operaciones realizadas, antes de la no linealidad, son los productos internos"
   ]
  },
  {
   "cell_type": "markdown",
   "id": "e8a32d76-5eac-4bbd-946d-9cfa71fdc3e4",
   "metadata": {},
   "source": [
    "$$\n",
    "z_{j}^{r}=\\boldsymbol{\\theta}_{j}^{rT}\\boldsymbol{y}^{r-1},\\quad j=1,2,\\dots,k_{r}.\n",
    "$$"
   ]
  },
  {
   "cell_type": "markdown",
   "id": "17fcca5b-b601-4ba1-90b6-6b7c8c2e5bcf",
   "metadata": {},
   "source": [
    "- Colocando todos los valores de salida en un vector $\\boldsymbol{z}^{r}=[z_{1}^{r}, z_{2}^{r},\\dots,z_{k_{r}}^{r}]^{T}$, y ***agrupando todos los vectores sinápticos como filas***, una debajo de la otra, en una matriz, podemos escribir colectivamente "
   ]
  },
  {
   "cell_type": "markdown",
   "id": "696e330b-cd16-4071-8737-cf3b77f0452e",
   "metadata": {},
   "source": [
    "$$\n",
    "\\boldsymbol{z}^{r}=\\Theta\\boldsymbol{y}^{r-1},\\quad\\text{donde}\\quad\\Theta:=[\\boldsymbol{\\theta}_{1}^{r}, \\boldsymbol{\\theta}_{2}^{r},\\dots, \\boldsymbol{\\theta}_{k_{r}}^{r}].\n",
    "$$"
   ]
  },
  {
   "cell_type": "markdown",
   "id": "d589f495-3bda-41d3-8900-800f156bfba4",
   "metadata": {},
   "source": [
    "- El vector de las salidas de la $r$ th capa oculta, después de ***empujar cada*** $z_{i}^{r}$ ***a través de la no linealidad*** $f$, está finalmente dado por"
   ]
  },
  {
   "cell_type": "markdown",
   "id": "89f4d9e8-0f9e-4f5a-81d7-31432eb3acf7",
   "metadata": {},
   "source": [
    "$$\n",
    "\\boldsymbol{y}^{r}=\n",
    "\\begin{bmatrix}\n",
    "1\\\\\n",
    "f(\\boldsymbol{z}^{r})\n",
    "\\end{bmatrix}\n",
    "$$"
   ]
  },
  {
   "cell_type": "markdown",
   "id": "ef390617-002d-4222-83a0-9339d8a59eb5",
   "metadata": {},
   "source": [
    "- La siguiente figura describe como es creada la $j$-ésima columna de la red neuronal full conectada"
   ]
  },
  {
   "cell_type": "markdown",
   "id": "6e23d099-f73f-478d-8991-f44f58adae52",
   "metadata": {},
   "source": [
    "````{figure} ./figures/fully_connected_net.png\n",
    ":align: center\n",
    ":scale: 20\n",
    "\n",
    "$j$-ésimo elemento de la capa $r$ de la red totalmente conectada.\n",
    "````"
   ]
  },
  {
   "cell_type": "markdown",
   "id": "6a4504a8-3346-437c-8e02-4b07654ae603",
   "metadata": {},
   "source": [
    "````{admonition} Observación\n",
    ":class: tip\n",
    "\n",
    "- La notación anterior significa que $f$ ***actúa sobre cada uno de los respectivos componentes del vector***, individualmente, y la ***extensión del vector en uno es para dar cuenta de los términos de sesgo*** en la práctica estándar. Para redes grandes, con muchas capas y muchos nodos por capa, este tipo de conectividad resulta ser muy costoso en términos del número de parámetros (pesos), que es del orden de $k_{r}k_{r-1}$. \n",
    "\n",
    "- Por ejemplo, si $k_{r-1} = 1000$ y $k_{r} = 1000$, ***esto equivale a un orden de 1 millón de parámetros***. Tenga en cuenta que este número es la contribución de los parámetros de una sola de las capas. Sin embargo, ***un gran número de parámetros hace que una red sea vulnerable al sobreajuste***, cuando se trata de entrenamiento\n",
    "````"
   ]
  },
  {
   "cell_type": "markdown",
   "id": "08b34003-844f-4574-8562-15e6add5fcd1",
   "metadata": {},
   "source": [
    "- Se pueden emplear las llamadas ***técnicas de reparto de pesos***, en las que un conjunto de parámetros es compartido entre un número de conexiones, a través de restricciones adecuadamente incorporadas. Las ***redes neuronales recurrentes y convolucionales*** pertenecen a esta familia de redes de peso compartido. En una red convolucional, las ***convoluciones sustituyen a las operaciones de producto interno***, lo que permite un reparto de pesos importante que conduce a una reducción sustancial del número de parámetros."
   ]
  },
  {
   "cell_type": "markdown",
   "id": "f53028ec-6343-48b3-9b7a-3c106a3d96b8",
   "metadata": {},
   "source": [
    "## El Algoritmo De Backpropagation"
   ]
  },
  {
   "cell_type": "markdown",
   "id": "9022b545-4244-4f49-b1ee-c0204684700b",
   "metadata": {},
   "source": [
    "- Una red neuronal considera una ***función paramétrica no lineal***, $\\hat{y} = f_{\\boldsymbol{\\theta}}(\\boldsymbol{x})$, donde $\\boldsymbol{\\theta}$ representa todos los pesos/sesgo presentes en la red. Por lo tanto, el entrenamiento de una red neuronal no parece ser diferente del entrenamiento de cualquier otro modelo de predicción paramétrico.\n",
    "\n",
    "- Todo lo que se necesita es ***(a)*** un ***conjunto de muestras de entrenamiento***, ***(b)*** una ***función de pérdida*** $\\mathcal{L}(y, \\hat{y})$, y ***(c)*** un ***esquema iterativo***, por ejemplo, el ***gradiente descendiente***, para realizar la optimización de la función de coste asociada (***pérdida empírica***)."
   ]
  },
  {
   "cell_type": "markdown",
   "id": "ad9c40e9-e7a8-439d-ad89-5dd056b607dd",
   "metadata": {},
   "source": [
    "$$\n",
    "J(\\boldsymbol{\\theta})=\\sum_{n=1}^{N}\\mathcal{L}(y_{n}, f_{\\boldsymbol{\\theta}}(\\boldsymbol{x}_{n})).\n",
    "$$"
   ]
  },
  {
   "cell_type": "markdown",
   "id": "cb5e7f49-8bb0-4107-b4b7-0fe6288e5bf4",
   "metadata": {},
   "source": [
    "- La dificultad del entrenamiento de las redes neuronales radica en su ***estructura multicapa que complica el cálculo de los gradientes, que intervienen en la optimización***. Además, la neurona ***McCulloch-Pitts*** se basa en la función de activación discontinua de ***Heaviside, que no es diferenciable***."
   ]
  },
  {
   "cell_type": "markdown",
   "id": "cb0e58b3-c4e5-4000-b48b-ad727ed728d5",
   "metadata": {},
   "source": [
    "- La ***`neurona sigmoidea logística`***: Una posibilidad es adoptar la función ***sigmoidea logística***, es decir, \n",
    "\n",
    "$$\n",
    "f(z)=\\sigma(z):=\\frac{1}{1+\\exp(-az)}.\n",
    "$$"
   ]
  },
  {
   "cell_type": "markdown",
   "id": "7b33a53d-ab58-4001-9c03-3c9022bb5fac",
   "metadata": {},
   "source": [
    "- Nótese que ***cuanto mayor sea el valor del parámetro*** $a$, ***la gráfica correspondiente se acerca más a la de la función de Heaviside*** (ver {numref}`sigmoid_act_function`)."
   ]
  },
  {
   "cell_type": "markdown",
   "id": "16975051-4f82-4977-ac83-7756289e9234",
   "metadata": {},
   "source": [
    "```{figure} ./figures/sigmoid_act_function.png\n",
    ":name: sigmoid_act_function\n",
    ":align: center\n",
    ":scale: 80\n",
    "\n",
    "La función sigmoidea logística para diferentes valores del parámetro $a$.\n",
    "```"
   ]
  },
  {
   "cell_type": "markdown",
   "id": "d34c158c-68ab-4fd7-b986-6c0f4de4de09",
   "metadata": {},
   "source": [
    "- Otra posibilidad sería ***utilizar la función***,\n",
    "\n",
    "    $$\n",
    "    f(z)=a\\tanh\\left(\\frac{cz}{2}\\right),\n",
    "    $$\n",
    "\n",
    "    donde $c$ y $a$ son parámetros de control. El gráfico de esta función se muestra en la {numref}`tanh_act_function`. Nótese que a diferencia de la sigmoidea logística, ésta es una ***función no simétrica***, es decir, $f(-z)=-f(z)$. Ambas son también conocidas como ***funciones de reducción, porque limitan la salida a un rango finito de valores***."
   ]
  },
  {
   "cell_type": "markdown",
   "id": "a0e9a3f0-d65a-4bed-a696-8182502bca2c",
   "metadata": {},
   "source": [
    "```{figure} ./figures/tanh_act_function.png\n",
    ":name: tanh_act_function\n",
    ":align: center\n",
    ":scale: 80\n",
    "\n",
    "Función de reducción de la tangente hiperbólica para $a = 1.7$ y $c = 4/3$.\n",
    "```"
   ]
  },
  {
   "cell_type": "markdown",
   "id": "8e47e53d-e87f-4b79-ae03-cccf5331ee98",
   "metadata": {},
   "source": [
    "- Recordemos que la regla de ***actualización del algoritmo gradiente descendiente***, en su versión unidimensional se convierte en\n",
    "\n",
    "    $$\n",
    "    \\\\[1mm]\n",
    "    \\theta(new)=\\theta(old)-\\mu\\left.\\frac{d J}{d\\theta}\\right|_{\\theta(old)},\n",
    "    $$\n",
    "\n",
    "    y las iteraciones parten de un punto inicial arbitrario, $\\theta^{(0)}$. Si en la iteración actual el algoritmo está digamos, en el punto $\\theta(old) = \\theta_{1}$, entonces se moverá hacia el mínimo local, $\\theta_{l}$. ***Esto se debe a que la derivada del coste en*** $\\theta_{1}$ ***es igual a la tangente de*** $\\phi_{1}$, ***que es negativa*** (*el ángulo es obtuso*) y la actualización, $\\theta(new)$, se moverá a la derecha, hacia el mínimo local, $\\theta_{l}$."
   ]
  },
  {
   "cell_type": "markdown",
   "id": "b6a6e94f-e3d8-4aab-8b6e-90a78df4d63e",
   "metadata": {},
   "source": [
    "```{figure} ./figures/convex_function_saddle_point.png\n",
    ":name: convex_function_saddle_point\n",
    ":align: center\n",
    ":scale: 80\n",
    "\n",
    "Función no convexa global, con mínimos locales y puntos de silla.\n",
    "```"
   ]
  },
  {
   "cell_type": "markdown",
   "id": "302396dc-e592-42c7-92ec-037c242c2397",
   "metadata": {},
   "source": [
    "- La ***elección del tamaño del paso***, $\\mu$, ***es crítica para la convergencia del algoritmo***. En problemas reales en espacios multidimensionales, el número de mínimos locales puede ser grande, por lo que ***el algoritmo puede converger a uno local***. Sin embargo, esto no es necesariamente una mala noticia.\n",
    "\n",
    "- Si este ***mínimo local es lo suficientemente profundo***, es decir, si el valor de la función de coste en este punto, por ejemplo, $J(\\theta_{l})$, ***no es mucho mayor que el alcanzado en el mínimo global***, es decir, $J(\\theta_{g})$, la ***convergencia a dicho mínimo local puede corresponder a una buena solución***."
   ]
  },
  {
   "cell_type": "markdown",
   "id": "a4f8d372-086d-4d4c-8549-49ad9c72e54c",
   "metadata": {},
   "source": [
    "## El Esquema De Backpropagation Para Gradiente Descendiente"
   ]
  },
  {
   "cell_type": "markdown",
   "id": "5910cb52-a21c-422a-8abf-cb73ae781809",
   "metadata": {},
   "source": [
    "- Habiendo adoptado una función de activación diferenciable, estamos listos para proceder a desarrollar el ***esquema iterativo de gradiente descendiente para la minimización de la función de coste***. Formularemos la tarea en un marco general."
   ]
  },
  {
   "cell_type": "markdown",
   "id": "451ca96b-35c2-4687-825b-757912869332",
   "metadata": {},
   "source": [
    "- Sea $(\\boldsymbol{y}_{n}, \\boldsymbol{x}_{n}), n = 1, 2,\\dots, N$, el conjunto de muestras de entrenamiento. ***Nótese que hemos asumido output multivariado***. Suponemos que la red consta de $L$ capas, $L-1$ capas ocultas y una capa de salida. Cada capa consta de $k_{r}, r = 1, 2,\\dots, L$, neuronas. Así, los vectores de salida (objetivo/deseado) son"
   ]
  },
  {
   "cell_type": "markdown",
   "id": "5c76a4c9-d76e-4b6a-b0d5-eb3c5d3d44b0",
   "metadata": {},
   "source": [
    "$$\n",
    "\\boldsymbol{y}_{n}=[y_{n1}, y_{n2},\\dots, y_{nk_{L}}]^{T}\\in\\mathbb{R}^{k_{L}},\\quad n=1,2,\\dots,N.\n",
    "$$"
   ]
  },
  {
   "cell_type": "markdown",
   "id": "1e944ac3-c188-4b75-8578-24a5064758dd",
   "metadata": {},
   "source": [
    "- Para ciertas derivaciones matemáticas, también denotamos el número de nodos de entrada como $k_{0}$; es decir $k_{0} = l$, donde $l$ es la ***dimensionalidad del espacio de características de entrada***.\n",
    "\n",
    "- Sea $\\boldsymbol{\\theta}_{j}^{r}$ el ***vector de los pesos sinápticos asociados a la*** $j$***-ésima neurona de la*** $r$***-ésima capa***, con $j = 1, 2,\\dots, k_{r}$ y $r = 1, 2,\\dots,L$, donde el término de sesgo se incluye en $\\boldsymbol{\\theta}_{j}^{r}$ , es decir,"
   ]
  },
  {
   "cell_type": "markdown",
   "id": "4861ce52-79c0-478a-89c1-e6ebae78907d",
   "metadata": {},
   "source": [
    "$$\n",
    "\\boldsymbol{\\theta}_{j}^{r}:=[\\theta_{j0}^{r}, \\theta_{j1}^{r},\\dots, \\theta_{jk_{r-1}}^{r}]^{T}.\n",
    "$$ (parameters_vector_def)"
   ]
  },
  {
   "cell_type": "markdown",
   "id": "b8543ce5-813a-4ce2-9551-68c3b3dd2ce8",
   "metadata": {},
   "source": [
    "- Los ***pesos sinápticos enlazan la neurona respectiva con todas las neuronas de la capa*** $k_{r-1}$ (véase la {numref}`synaptic_weights_link`). El paso iterativo básico para el esquema de gradiente descendiente se escribe como\n",
    "\n",
    "$$\n",
    "\\begin{align*}\n",
    "\\boldsymbol{\\theta}_{j}^{r}(\\text{new})&=\\boldsymbol{\\theta}_{j}^{r}(old)+\\Delta\\boldsymbol{\\theta}_{j}^{r},\\\\\n",
    "\\Delta\\boldsymbol{\\theta}_{j}^{r}&:=-\\mu\\left.\\frac{\\partial J}{\\partial\\boldsymbol{\\theta}_{j}^{r}}\\right|_{\\boldsymbol{\\theta}_{j}^{r}(old)}.\n",
    "\\end{align*}\n",
    "$$(update_equations_gd)"
   ]
  },
  {
   "cell_type": "markdown",
   "id": "bb5355d4-de0d-4ffe-8b90-a4d4206e8bf8",
   "metadata": {},
   "source": [
    "- El parámetro $\\mu$ es el ***tamaño de paso definido por el usuario*** (*también puede depender de la iteración*) y $J$ denota la función de coste."
   ]
  },
  {
   "cell_type": "markdown",
   "id": "33ff4b62-5c2a-46d3-a65f-b26a225d1159",
   "metadata": {},
   "source": [
    "```{figure} ./figures/synaptic_weights_link.png\n",
    ":name: synaptic_weights_link\n",
    ":align: center\n",
    ":scale: 80\n",
    "\n",
    "Enlaces y las variables asociadas de la $j$ th neurona en la $r$ th capa. $y_{k}^{r-1}$ es la salida de la $k$ th neurona de la $(r - 1)$ th capa y $\\theta_{jk}^{r}$ es el peso respectivo que conecta estas dos neuronas.\n",
    "```"
   ]
  },
  {
   "cell_type": "markdown",
   "id": "a9863a81-82b3-40c9-b4d6-0942312dc2b9",
   "metadata": {},
   "source": [
    "````{admonition} Forward/Backward\n",
    ":class: tip\n",
    "\n",
    "Las ***Ecuaciones de actualización*** {eq}`update_equations_gd` comprenden el ***esquema de gradiente descendiente*** para la optimización. Como se ha dicho anteriormente, la dificultad de las redes neuronales ***feed-forward*** surge de su estructura multicapa. Para calcular los gradientes en la Ecuación {eq}`update_equations_gd`, para todas las neuronas, en todas las capas, se deben seguir dos pasos en su cálculo\n",
    "\n",
    "- ***`Forward computations`***: Para un vector de entrada dado $\\boldsymbol{x}_{n}, n = 1, 2,\\dots, N$, se utilizan las estimaciones actuales de los parámetros (*pesos sinápticos*) ($\\boldsymbol{\\theta}_{j}^{r}(old)$) y ***calcula todas las salidas de todas las neuronas en todas las capas***, denotadas como $y_{nj}^{r}$; en la {numref}`synaptic_weights_link`, se ha suprimido el índice $n$ para no afectar la notación.\n",
    "\n",
    "- ***`Backward computations`***: Utilizando las salidas neuronales calculadas anteriormente junto con los valores objetivo conocidos, $y_{nk}$, de la capa de salida, se ***calculan los gradientes de la función de coste***. Esto implica $L$ pasos, es decir, tantos como el número de capas. La secuencia de los pasos algorítmicos se indica a continuación:\n",
    "    \n",
    "    - Calcular el gradiente de la función de coste con respecto a los parámetros de las neuronas de la última capa, es decir, $\\displaystyle{\\frac{\\partial J}{\\partial\\boldsymbol{\\theta}_{j}^{L}}, j = 1, 2,\\dots, k_{L}}$.\n",
    "    - **For** $r = L-1$ to $1$, **Do**\n",
    "        \n",
    "        Calcular los gradientes con respecto a los parámetros asociados a las neuronas de la $r$ th capa, es decir, $\\displaystyle{\\frac{\\partial J}{\\partial\\boldsymbol{\\theta}_{k}^{r}}, k= 1, 2,\\dots, k_{r}}$ basado en todos los gradientes $\\displaystyle{\\frac{\\partial J}{\\partial\\boldsymbol{\\theta}_{j}^{r+1}}}$, $j= 1, 2,\\dots, k_{r+1}$, con respecto a los parámetros de la capa $r + 1$ que se han calculado en el paso anterior.\n",
    "    - **End For**\n",
    "````"
   ]
  },
  {
   "cell_type": "markdown",
   "id": "30802015-7727-4043-91f7-b05c5e179194",
   "metadata": {},
   "source": [
    "- El esquema de cálculo hacia atrás ***backpropagation*** es una aplicación directa de la ***regla de la cadena para las derivadas***, y comienza con el paso inicial de ***calcular las derivadas asociadas a la última capa (de salida)***, que resulta ser sencillo."
   ]
  },
  {
   "cell_type": "markdown",
   "id": "7aa8c6c3-c5c4-4eff-a1c3-f6bac36e4ae0",
   "metadata": {},
   "source": [
    "````{admonition} Observación\n",
    ":class: tip\n",
    "\n",
    "- La última derivada en el algoritmo de retropropagación es sencilla porque ***se calcula directamente a partir de la función de pérdida y las salidas de la red***, sin necesidad de propagar errores hacia atrás a través de múltiples capas\n",
    "````"
   ]
  },
  {
   "cell_type": "markdown",
   "id": "7aaded3c-be47-4105-b06d-c7c00b1d5b27",
   "metadata": {},
   "source": [
    "- A continuación, el algoritmo \"fluye\" hacia atrás en la jerarquía de capas. Esto se debe a la naturaleza de la red multicapa, donde las ***salidas, capa tras capa, se forman como funciones de funciones***. En efecto, centrémonos en la salida $y_{k}^{r}$ de la neurona $k$ en la capa $r$. Entonces tenemos\n",
    "\n",
    "    $$\n",
    "    \\\\[1mm]\n",
    "    y_{k}^{r}=f(\\boldsymbol{\\theta}_{k}^{r^T}\\boldsymbol{y}^{r-1}),\\quad k=1,2,\\dots, k_{r},\n",
    "    $$\n",
    "\n",
    "    donde $\\boldsymbol{y}^{r-1}$ es el vector (ampliado) que comprende todas las salidas de la capa anterior, $r-1$, y $f$ denota la no-linealidad."
   ]
  },
  {
   "cell_type": "markdown",
   "id": "a1b72dc7-9d14-4c0c-9027-53f7192d18fc",
   "metadata": {},
   "source": [
    "- De acuerdo con lo anterior, la salida de la $j$ th neurona en la siguiente capa viene dada por\n",
    "\n",
    "    $$\n",
    "    \\\\[1mm]\n",
    "    y_{j}^{r+1}=f(\\boldsymbol{\\theta}_{j}^{r+1^T}\\boldsymbol{y}^{r})=f\\left(\\boldsymbol{\\theta}_{j}^{r+1^{T}}\n",
    "    \\begin{bmatrix}\n",
    "    1\\\\\n",
    "    f(\\Theta^{r}\\boldsymbol{y}^{r-1})\n",
    "    \\end{bmatrix}\n",
    "    \\right),\n",
    "    $$\n",
    "\n",
    "    donde $\\Theta^{r}:=[\\boldsymbol{\\theta}_{1}^{r}, \\boldsymbol{\\theta}_{2}^{r},\\dots,\\boldsymbol{\\theta}_{k_{r}}]^{T}$ denota la matriz cuyas columnas corresponden al vector de pesos en el layer $r$. "
   ]
  },
  {
   "cell_type": "markdown",
   "id": "2a497e5c-b817-4d33-8227-c06773676a8d",
   "metadata": {},
   "source": [
    "- Nótese que obtuvimos ***evaluación de \"una función interna bajo una función externa\"***. Claramente, esto continúa a medida que avanzamos en la jerarquía. Esta ***estructura de evaluación de funciones internas por funciones externas***, es el subproducto de la ***naturaleza multicapa de las redes neuronales, la cual es una operación altamente no lineal***, que da lugar a la dificultad de calcular los gradientes, a diferencia de otros modelos, como por ejemplo ***SVM***.\n",
    "\n",
    "- Sin embargo, se puede observar fácilmente que **`el cálculo de los gradientes con respecto a los parámetros que definen la capa de salida no plantea ninguna dificultad`**. En efecto, la salida de la $j$ th neurona de la última capa (que es en realidad la respectiva estimación de salida actual) se escribe como:\n",
    "\n",
    "$$\n",
    "\\hat{y}_{j}:=y_{j}^{L}=f(\\boldsymbol{\\theta}_{j}^{L^{T}}\\boldsymbol{y}^{L-1}).\n",
    "$$"
   ]
  },
  {
   "cell_type": "markdown",
   "id": "5ecbbde7-90f5-4e73-aa3e-68bb5c4364bb",
   "metadata": {},
   "source": [
    "- Dado que $\\boldsymbol{y}^{L-1}$ es conocido, después de los cálculos durante el paso adelante, tomando la derivada con respecto a $\\boldsymbol{\\theta}_{j}^{L}$ es sencillo; ***no hay ninguna operación de función sobre función***. Por esto es que ***empezamos por la capa superior y luego nos movemos hacia atrás***. Debido a su ***importancia histórica***, se dará la derivación completa del algoritmo ***backpropagation***."
   ]
  },
  {
   "cell_type": "markdown",
   "id": "79342590-9670-4245-a9d6-9eb92c704f41",
   "metadata": {},
   "source": [
    "- Para la derivación detallada del algoritmo backpropagation, ***se adopta como ejemplo la función de pérdida del error cuadrático***, es decir\n",
    "\n",
    "    $$\n",
    "    J(\\boldsymbol{\\theta})=\\sum_{n=1}^{N}J_{n}(\\boldsymbol{\\theta})\\quad\\text{y}\\quad J_{n}(\\boldsymbol{\\theta})=\\frac{1}{2}\\sum_{k=1}^{k_{L}}(\\hat{y}_{nk}-y_{nk})^{2},\n",
    "    $$ (gradient_desc_scheme)\n",
    "\n",
    "    donde $\\hat{y}_{nk},~k=1,2,\\dots,k_{L}$, son las estimaciones proporcionadas en los correspondientes nodos de salida de la red. Las consideraremos como los elementos de un vector correspondiente, $\\hat{\\boldsymbol{y}}_{n}$."
   ]
  },
  {
   "cell_type": "markdown",
   "id": "099a4563-620d-4a38-8efa-f2035355261a",
   "metadata": {},
   "source": [
    "## Cálculo de gradientes"
   ]
  },
  {
   "cell_type": "markdown",
   "id": "f00efde1-b13a-4d5a-b40d-6daaa50901fe",
   "metadata": {},
   "source": [
    "- Sea $z_{nj}^{r}$ la ***salida del combinador lineal*** de la $j$-th neurona en la capa $r$ en el ***instante de tiempo*** $n$, cuando se aplica el patrón $\\boldsymbol{x}_{n}$ en los nodos de entrada (véase la {numref}`synaptic_weights_link`). Entonces, para $n, j$ fijos, podemos escribir\n",
    "\n",
    "    $$\n",
    "    z_{nj}^{r}=\\sum_{m=1}^{k_{r-1}}\\theta_{jm}^{r}y_{nm}^{r-1}+\\theta_{j0}^{r}=\\sum_{m=0}^{k_{r-1}}\\theta_{jm}^{r}y_{nm}^{r-1}=\\boldsymbol{\\theta}_{j}^{r^{T}}\\boldsymbol{y}_{n}^{r-1},\n",
    "    $$ (eq_znj)\n",
    "\n",
    "    donde por definición \n",
    "\n",
    "    $$\n",
    "    \\boldsymbol{y}_{n}^{r-1}:=[1, y_{n1}^{r-1},\\dots, y_{nk_{r-1}}^{r-1}]^{T},\n",
    "    $$\n",
    "\n",
    "    y $y_{n0}^{r}\\equiv 1,~\\forall~r, n$ y $\\theta_{j}^{r}$ ha sido definido en la Ecuación {eq}`parameters_vector_def`. "
   ]
  },
  {
   "cell_type": "markdown",
   "id": "dff8e833-337c-4772-8ab1-69620f2899a1",
   "metadata": {},
   "source": [
    "- Para las neuronas de la capa de salida $r=L,~y_{nm}^{L}=\\hat{y}_{nm},~m=1,2,\\dots, k_{L}$, y para $r=1$, tenemos $y_{nm}^{1}=x_{nm},~m=1,2,\\dots, k_{1}$; esto es, $y_{nm}^{1}$ se fijan iguales a los ***valores de las características de entrada***."
   ]
  },
  {
   "cell_type": "markdown",
   "id": "4c90a9ac-a9cd-4eb2-8423-f24be8b81903",
   "metadata": {},
   "source": [
    "- Por lo tanto, podemos escribir ahora \n",
    "\n",
    "$$\n",
    "\\frac{\\partial J_{n}}{\\partial\\boldsymbol{\\theta}_{j}^{r}}=\\frac{\\partial J_{n}}{\\partial z_{nj}^{r}}\\frac{\\partial z_{nj}^{r}}{\\partial\\boldsymbol{\\theta}_{j}^{r}}=\\frac{\\partial J_{n}}{\\partial z_{nj}^{r}}\\boldsymbol{y}_{n}^{r-1}.\n",
    "$$"
   ]
  },
  {
   "cell_type": "markdown",
   "id": "61ee6ef0-8fb4-4890-b7a4-e5c662319ba2",
   "metadata": {},
   "source": [
    "- Definamos\n",
    "\n",
    "$$\n",
    "\\delta_{nj}^{r}:=\\frac{\\partial J_{n}}{\\partial z_{nj}^{r}}.\n",
    "$$"
   ]
  },
  {
   "cell_type": "markdown",
   "id": "bdcd7c21-5ef5-4aaf-88f7-e587b9c8eced",
   "metadata": {},
   "source": [
    "- Entonces la Ecuación {eq}`update_equations_gd` puede escribirse como\n",
    "\n",
    "$$\n",
    "\\Delta\\boldsymbol{\\theta}_{j}^{r}=\\left.-\\mu\\frac{\\partial J}{\\partial\\boldsymbol{\\theta}_{j}^{r}}\\right|_{\\boldsymbol{\\theta}_{j}^{r}(\\text{old})}=-\\mu\\frac{\\partial}{\\partial\\boldsymbol{\\theta}_{j}^{r}}\\left.\\sum_{n=1}^{N}J_{n}\\right|_{\\boldsymbol{\\theta}_{j}^{r}(\\text{old})}=-\\mu\\sum_{n=1}^{N}\\delta_{nj}^{r}\\boldsymbol{y}_{n}^{r-1},\\quad r=1,2,\\dots,L.\n",
    "$$ (eq_delta_theta_jr)"
   ]
  },
  {
   "cell_type": "markdown",
   "id": "2088fc72-5ec0-4bbc-b40d-b8a4da0164e6",
   "metadata": {},
   "source": [
    "## Cálculo de $\\delta_{nj}^{r}$"
   ]
  },
  {
   "cell_type": "markdown",
   "id": "f3e452b5-3952-47aa-8f05-9c0c4968d143",
   "metadata": {},
   "source": [
    "- Este es el ***cálculo principal del algoritmo backpropagation***. Para el cálculo de los gradientes, $\\delta_{nj}^{r}$, se ***comienza en la última capa***, $r = L$, y se ***procede hacia atrás***, hacia $r = 1$; esta \"filosofía\" justifica el nombre dado al algoritmo."
   ]
  },
  {
   "cell_type": "markdown",
   "id": "eb77831f-a860-49e6-8e74-38a1d661ceaf",
   "metadata": {},
   "source": [
    "1. $r=L$: Tenemos que\n",
    "\n",
    "    $$\n",
    "    \\delta_{nj}^{L}:=\\frac{\\partial J_{n}}{\\partial z_{nj}^{L}}.\n",
    "    $$\n",
    "\n",
    "    Para la función de pérdida del ***error al cuadrado***,\n",
    "\n",
    "    $$\n",
    "    J_{n}=\\frac{1}{2}\\sum_{k=1}^{k_{L}}\\left(\\hat{y}_{nk}-y_{nk}\\right)^{2}=\\frac{1}{2}\\sum_{k=1}^{k_{L}}\\left(f(z_{nk}^{L})-y_{nk}\\right)^{2}.\n",
    "    $$\n",
    "\n",
    "    Por lo tanto,\n",
    "\n",
    "    $$\n",
    "    \\begin{align*}\n",
    "    \\delta_{nj}^{L}=\\frac{\\partial}{\\partial z_{nj}^{L}}\\left(\\frac{1}{2}\\sum_{k=1}^{k_{L}}\\left(f(z_{nk}^{L})-y_{nk}\\right)^{2}\\right)&=(f(z_{nj}^{L})-y_{nj})f'(z_{nj}^{L})\\\\\n",
    "    &=(\\hat{y}_{nj}-y_{nj})f'(z_{nj}^{L})=e_{nj}f'(z_{nj}^{L}),\n",
    "    \\end{align*}\n",
    "    $$ (eq_delta_njL)\n",
    "\n",
    "    donde $j=1,2,\\dots, k_{L}$, $f'$ denota la derivada de $f$ y $e_{nj}$ es el error asociado con el $j$ th output en el tiempo $n$. ***Nótese que para el último layer, el cálculo del gradiente***, $\\delta_{nj}^{L}$ ***es sencillo***."
   ]
  },
  {
   "cell_type": "markdown",
   "id": "615a5c53-9391-4b4c-a950-285c895bdf4b",
   "metadata": {},
   "source": [
    "- Manteniendo la misma notación en la Ecuación {eq}`eq_delta_njL`, definimos\n",
    "\n",
    "    $$\n",
    "    \\\\[1mm]\n",
    "    e_{nj}^{r-1}:=\\sum_{k=1}^{k_{r}}\\delta_{nk}^{r}\\theta_{kj}^{r},\n",
    "    $$\n",
    "\n",
    "    y finalmente obtenemos,\n",
    "\n",
    "    $$\n",
    "    \\delta_{nj}^{r-1}=e_{nj}^{r-1}f'(z_{nj}^{r-1}).\n",
    "    $$ (eq_delta_njr_1)"
   ]
  },
  {
   "cell_type": "markdown",
   "id": "c8ec3e63-10a5-4f01-884a-5ad75a61cbcc",
   "metadata": {},
   "source": [
    "- El único cálculo que queda es la derivada de $f$. Para el caso de la ***función sigmoidea logística*** se demuestra fácilmente que es igual a\n",
    "\n",
    "$$\n",
    "f'(z)=af(z)(1-f(z)).\n",
    "$$"
   ]
  },
  {
   "cell_type": "markdown",
   "id": "7d028129-0448-48e3-a4cf-bcb0b398358d",
   "metadata": {},
   "source": [
    "- La derivación se ha completado y el esquema ***backpropagation neural network*** se resume en el siguiente algoritmo"
   ]
  },
  {
   "cell_type": "markdown",
   "id": "c725b4c1-40e5-48dd-9006-574359ac960d",
   "metadata": {},
   "source": [
    "```{prf:algorithm} Algoritmo Backpropagation Gradiente Descendiente \n",
    ":label: my_algorithm_backpropagation\n",
    "\n",
    "**Inicialización**\n",
    "\n",
    "1. ***Inicializar todos los pesos y sesgos sinápticos al azar con valores pequeños***, pero no muy pequeños.\n",
    "2. ***Seleccione el tamaño del paso*** $\\mu$.\n",
    "3. Fije $y_{nj}^{1}=x_{nj},\\quad j=1,2,\\dots,k_{1}:=l,\\quad n=1,2,\\dots,N$\n",
    "\n",
    "**Repeat** Cada repetición completa un ***epoch***\n",
    "\n",
    "1. **For** $n=1,2,\\dots,N$ **Do** \n",
    "\n",
    "\t1. **For** $r=1,2,\\dots,L$ **Do** Cálculo ***Forward***\n",
    "\t\n",
    "\t\t1. **For** $j=1,2,\\dots,k_{r}$ **Do**\n",
    "\t\t\n",
    "\t\t\tCalcule $z_{nj}^{r}$ a partir de la Ecuación {eq}`eq_znj`\n",
    "\t\t\tCalcule $y_{nj}^{r}=f(z_{nj}^{r})$\n",
    "\n",
    "\t\t2. **End For**\n",
    "\n",
    "\t2. **End For**\n",
    "\n",
    "\t3. **For** $j = 1, 2,\\dots, k_{L}$, **Do**; Cálculo ***Backward*** (***output layer***)\n",
    "\n",
    "\t\tCalcule $\\delta_{nj}^{L}$ a partir de la Ecuación {eq}`eq_delta_njr_1`\n",
    "\n",
    "\t4. **End For**\n",
    "\n",
    "\t5. **For** $r=L, L-1,\\dots, 2$, **Do**; Cálculo ***Backward*** (***hidden layers***)\n",
    "\n",
    "\t\t1. **For** $j=1,2,\\dots, k_{r}$, **Do**\n",
    "\n",
    "\t\t\tCalcule $\\delta_{nj}^{r-1}$ a partir de la Ecuación {eq}`eq_delta_njr_1`\n",
    "\n",
    "\t\t2. **End For**\n",
    "\n",
    "\t6. **End For**\n",
    "\n",
    "2. **End For**\n",
    "\n",
    "3. **For** $r=1,2,\\dots,L$, **Do**: Actualice los pesos\n",
    "\n",
    "\t1. **For** $j=1,2,\\dots,k_{r}$, **Do**\n",
    "\n",
    "\t\tCalcule $\\Delta\\boldsymbol{\\theta}_{j}^{r}$ a partir de la Ecuación {eq}`eq_delta_theta_jr`\n",
    "\n",
    "\t\t$\\boldsymbol{\\theta}_{j}^{r}=\\boldsymbol{\\theta}_{j}^{r}+\\Delta\\boldsymbol{\\theta}_{j}^{r}$\n",
    "\n",
    "\t2. **End For**\n",
    "\n",
    "4. **End For**\n",
    "5. **Until** Un criterio de parada se cumpla.\n",
    "```"
   ]
  },
  {
   "cell_type": "markdown",
   "id": "0df3ea19-b525-444f-9599-6498c5251946",
   "metadata": {},
   "source": [
    "- El algoritmo de ***backpropagation*** puede reivindicar una serie de padres. La popularización del algoritmo se asocia con el artículo clásico {cite}`rumelhart1986learning`, donde se proporciona la derivación del algoritmo. La idea de ***backpropagation*** también aparece en {cite}`bryson1963optimal` en el contexto del control óptimo.\n",
    "\n",
    "- Existen diferentes variaciones del algoritmo ***backpropagation***, tales como: ***Gradiende descendiente con término de momento, Algoritmo de momentos de Nesterov's, Algoritmo AdaGrad, RMSProp con momento de Nesterov, Algortimo de estimación de momentos adaptativo*** los cuales pueden ser utlizados para resolver la tarea de optimización (ver {cite}`theodoridis2020machine`)."
   ]
  },
  {
   "cell_type": "markdown",
   "id": "526b398b-1799-416c-80cf-bc8e0ff5dd07",
   "metadata": {},
   "source": [
    "## Las capas ocultas\n",
    "\n",
    "- ***¿Cuántas capas ocultas?***. Si los datos son ***linealmente separables (lo que a menudo se sabe cuando se empieza a codificar una ANN, SVM puede servir de test)***, entonces no se necesita ninguna capa oculta. Por supuesto, tampoco se necesita una ANN para resolver los datos, pero está seguirá haciendo su trabajo.\n",
    "\n",
    "- Sobre la configuración de las capas ocultas en las ANNs, existe un consenso dentro de este tema, y es la diferencia de rendimiento al añadir capas ocultas adicionales: ***las situaciones en las que el rendimiento mejora con una segunda (o tercera, etc.) capa oculta son muy pocas***. Una capa oculta es suficiente para la gran mayoría de los problemas.\n",
    "\n",
    "- Entonces, ***¿qué pasa con el tamaño de la(s) capa(s) oculta(s), cuántas neuronas?***. Existen algunas reglas empíricas; de ellas, la más utilizada es **`'The optimal size of the hidden layer is usually between the size of the input and size of the output layers'`**. `Jeff Heaton, the author of Introduction to Neural Networks in Java`."
   ]
  },
  {
   "cell_type": "markdown",
   "id": "da7177da-2645-4846-83aa-a085b83d6e4b",
   "metadata": {},
   "source": [
    "- Hay una regla empírica adicional que ayuda en los problemas de aprendizaje supervisado. Normalmente ***se puede evitar el sobreajuste si se mantiene el número de neuronas por debajo de***:\n",
    "\n",
    "    $$\n",
    "    N_{h}=\\frac{N_{s}}{(\\alpha\\cdot(N_{i}+N_{o}))}\n",
    "    $$\n",
    "\n",
    "    - $N_{i}=$ número de neuronas de entrada\n",
    "    - $N_{o}=$ número de neuronas de salida\n",
    "    - $N_{s}=$ número de muestras en el conjunto de datos de entrenamiento\n",
    "    - $\\alpha=$ un factor de escala arbitrario, normalmente 2-10\n",
    "\n",
    "- Un valor de $\\alpha=2$ suele funcionar ***sin sobreajustar***. Se puede pensar en $\\alpha$ como el ***factor de ramificación efectivo o el número de pesos distintos de cero para cada neurona***. Las capas de salida harán que el factor de ramificación \"efectivo\" sea muy inferior al factor de ramificación medio real de la red. Para ***profundizar mas en el diseño de redes neuronales, ver el siguiente texto de*** [Martin Hagan](https://hagan.okstate.edu/nnd.html)."
   ]
  },
  {
   "cell_type": "markdown",
   "id": "eb9a0d90-a16e-481a-9b14-3b7d9d9af7ae",
   "metadata": {},
   "source": [
    "- En resumen, para la mayoría de los problemas, probablemente se podría obtener un rendimiento decente (incluso sin un segundo paso de optimización) estableciendo la configuración de la capa oculta utilizando sólo dos reglas:\n",
    "    \n",
    "    - ***el número de capas ocultas es igual a uno***\n",
    "    - ***el número de neuronas de esa capa es la media de las neuronas de las capas de entrada y salida.*** ¡Nótese que en el ejemplo de esta sección el número de columnas para $X$ es 100!."
   ]
  },
  {
   "cell_type": "markdown",
   "id": "89123883-c3ee-40ab-8f71-fb46b70d8782",
   "metadata": {},
   "source": [
    "## Redes Neuronales Recurrentes"
   ]
  },
  {
   "cell_type": "markdown",
   "id": "50c327f0-c5c2-4478-b1fa-7ee9999cb4d3",
   "metadata": {},
   "source": [
    "```{admonition} Introducción\n",
    "- Recordemos de la sección anterior que en el corazón de las ***redes convolucionales*** se encuentra el concepto de ***peso compartido***. Es decir, ***la misma matriz de filtro se desliza sobre una matriz de imágenes en lugar de dedicar un peso específico a cada píxel de la imagen***. De este modo, una ***red neuronal*** puede ***escalarse fácilmente a imágenes de diferentes dimensiones***.\n",
    "\n",
    "- Nuestro interés en esta sección se centra en el caso de los ***datos secuenciales***. Es decir, los ***vectores de entrada no son independientes, sino que aparecen en secuencia***. Además, el ***orden específico en que se producen encierra información importante***. Por ejemplo, este tipo de secuencias se dan en el **`reconocimiento del habla y en el procesamiento del lenguaje, como la traducción automática, así como también el pronóstico de series de tiempo financieras`**. Sin duda, ***la secuencia en la que se producen las palabras es de suma importancia***. \n",
    "\n",
    "- El `reparto de pesos mediante convoluciones también podría ser y ha sido utilizado para estos casos` {cite}`lang1990time`. Tales redes se conocen como ***redes neuronales de retardo temporal***. Sin embargo, ***deslizar un filtro a través del tiempo*** para formar convoluciones es una ***operación de naturaleza local***. La salida es una función de las muestras de entrada dentro de una ventana temporal que abarca la ***longitud de la respuesta al impulso del filtro***, que por razones prácticas no puede ser muy larga.\n",
    "```"
   ]
  },
  {
   "cell_type": "markdown",
   "id": "8c92cb1b-6dee-45b2-a0f3-de9d2ceb71f3",
   "metadata": {},
   "source": [
    "``````{admonition} Redes Neuronales Recurrentes\n",
    "- Las variables que intervienen en una ***RNN*** son:\n",
    "\n",
    "    - ***Vector de estado en el tiempo*** $n$***, denotado como*** $\\boldsymbol{h}_{n}$. El símbolo nos recuerda que $\\boldsymbol{h}$ es un vector de variables ocultas (capa oculta en la jerga de las redes neuronales); ***el vector de estado constituye la memoria del sistema***,\n",
    "    - ***Vector de entrada en el momento*** $n$, denominado $\\boldsymbol{x}_{n}$,\n",
    "    - ***Vector de salida en el momento*** $n$, $\\hat{\\boldsymbol{y}}_{n}$, y el vector de salida objetivo, $\\boldsymbol{y}_{n}$.\n",
    "\n",
    "- El modelo se describe mediante un ***conjunto de matrices y vectores de parámetros desconocidos***, a saber, $U, W, V , \\boldsymbol{b}$ y $\\boldsymbol{c}$, que ***deben aprenderse durante el entrenamiento***.\n",
    "\n",
    "- Las ***ecuaciones que describen un modelo RNN*** son\n",
    "\n",
    "    $$\n",
    "    \\begin{align*}\n",
    "    \\boldsymbol{h}_{n}&=f(U\\boldsymbol{x}_{n}+W\\boldsymbol{h}_{n-1}+\\boldsymbol{b})\\\\\n",
    "    \\hat{\\boldsymbol{y}}_{n}&=g(V\\boldsymbol{h}_{n}+\\boldsymbol{c}).\n",
    "    \\end{align*}\n",
    "    $$(rnn_system_eq)\n",
    "\n",
    "    donde ***las funciones no lineales*** $f$ y $g$*** actúan elemento a elemento (element-wise)*** y ***se aplican individualmente a cada elemento de sus argumentos vectoriales***.\n",
    "\n",
    "- En otras palabras, ***una vez que se ha observado un nuevo vector de entrada, se actualiza el vector de estado***. Su nuevo valor ***depende de la información más reciente, transmitida por la entrada*** $\\boldsymbol{x}_{n}$ así como de la ***historia pasada, ya que esta se ha acumulado en*** $\\boldsymbol{h}_{n-1}$. La salida depende del ***vector de estado actualizado***, $\\boldsymbol{h}_{n}$. Es decir, ***depende de la \"historia\" hasta el instante actual*** $n$, tal y como se expresa en $\\boldsymbol{h}_{n}$.\n",
    "\n",
    "- Las opciones típicas para $f$ son la ***tangente hiperbólica, tanh, o las no linealidades ReLU***. El valor inicial $\\boldsymbol{h}_{0}$ ***suele ser igual al vector cero***. La ***no linealidad de salida,*** $g$***, se elige a menudo para ser la función softmax***.\n",
    "``````"
   ]
  },
  {
   "cell_type": "markdown",
   "id": "183129b5-7aea-46cc-832d-8a1a7098eb76",
   "metadata": {},
   "source": [
    "``````{figure} ./figures/recurrent_neural_network_arch.png\n",
    ":name: recurrent_neural_network_arch_numref\n",
    ":align: center\n",
    ":scale: 80\n",
    "Arquitectura de una ***Red Neuronal Recurrente***. Fuente {cite}`theodoridis2020machine`.\n",
    "``````"
   ]
  },
  {
   "cell_type": "markdown",
   "id": "21b5de93-af49-4afb-8591-a81fd8cdd308",
   "metadata": {},
   "source": [
    "- De las ecuaciones anteriores se deduce que las ***matrices y vectores de parámetros se comparten en todos los instantes temporales***. Durante el entrenamiento, ***se inicializan mediante números aleatorios***. El modelo gráfico\n",
    "asociado con Eq. {eq}`rnn_system_eq` se muestra en la {numref}`recurrent_neural_network_arch_numref`A. En la {numref}`recurrent_neural_network_arch_numref`B, ***el gráfico se despliega sobre los distintos instantes de tiempo*** para los que se dispone de observaciones. Por ejemplo, ***si la secuencia de interés es una frase de 10 palabras***, entonces $N$ se establece igual a 10, mientras que $\\boldsymbol{x}_{n}$ es el ***vector que codifica las respectivas palabras de entrada***."
   ]
  },
  {
   "cell_type": "markdown",
   "id": "addf0e88-0f06-48d3-9b28-809f720723f3",
   "metadata": {},
   "source": [
    "### Backpropagation en tiempo"
   ]
  },
  {
   "cell_type": "markdown",
   "id": "ed35dfff-30f6-47f7-a035-66ac8159d397",
   "metadata": {},
   "source": [
    "- El entrenamiento de las ***RNN*** sigue una ***lógica similar a la del algoritmo backpropagation*** para el entrenamiento de redes neuronales de avance. Después de todo, ***una RNN puede verse como una red feed-forward con*** $N$ ***capas***. La ***capa superior es la del instante de tiempo*** $N$ y la ***primera capa corresponde al instante de tiempo*** $n = 1$. Una diferencia radica en que las ***capas ocultas en una RNN también producen salidas***, es decir, $\\hat{\\boldsymbol{y}}_{n}$, y se alimentan directamente con entradas. Sin embargo, ***en lo que respecta al entrenamiento, estas diferencias no afectan al razonamiento principal***.\n",
    "\n",
    "- El ***aprendizaje de las matrices y vectores de parámetros desconocidos*** se consigue mediante un esquema de gradiente descendiente, de acuerdo con Eq. {eq}`update_equations_gd`. Resulta que los ***gradientes requeridos de la función de coste***, con respecto a los parámetros desconocidos, ***tienen lugar recursivamente, comenzando en el último instante de tiempo,*** $N$ , y retrocediendo en el tiempo, $n = N-1, N-2,\\dots,1$. Esta es la razón por la que el algoritmo se conoce como ***bakpropagation a traves del tiempo (BPTT)***."
   ]
  },
  {
   "cell_type": "markdown",
   "id": "21204961-622a-4f5d-80f8-4aee5abefbcd",
   "metadata": {},
   "source": [
    "- La ***función de coste es la suma a lo largo del tiempo,*** $n$, de las correspondientes ***contribuciones a la función de pérdida***, que dependen de los valores respectivos de $\\boldsymbol{h}_{n}, \\boldsymbol{x}_{n}$, es decir,\n",
    "\n",
    "$$\n",
    "J(U, W, V, \\boldsymbol{b}, \\boldsymbol{c})=\\sum_{n=1}^{N}J_{n}(U, W, V, \\boldsymbol{b}, \\boldsymbol{c}).\n",
    "$$\n",
    "\n",
    "- Por ejemplo, para el caso de la ***función de pérdida de entropía cruzada***, \n",
    "\n",
    "    $$\n",
    "    J_{n}(U, W, V, \\boldsymbol{b}, \\boldsymbol{c}):=-\\sum_{k}y_{nk}\\ln\\hat{y}_{nk},\n",
    "    $$\n",
    "\n",
    "    donde ***la suma es sobre la dimensionalidad de*** $\\boldsymbol{y}$, y\n",
    "\n",
    "    $$\n",
    "    \\hat{\\boldsymbol{y}}_{n}=g(\\boldsymbol{h}_{n}, V, \\boldsymbol{c})~\\text{y}~\\boldsymbol{h}_{n}=f(\\boldsymbol{x}_{n}, \\boldsymbol{h}_{n-1}, U, W, \\boldsymbol{b}).\n",
    "    $$"
   ]
  },
  {
   "cell_type": "markdown",
   "id": "4a45b490-5956-4ee8-8db7-a35b6d71fb30",
   "metadata": {},
   "source": [
    "- En el corazón del ***cálculo de los gradientes de la función de coste con respecto a las diversas matrices y vectores de parámetros*** se encuentra el cálculo de los ***gradientes de*** $J$ ***con respecto a los vectores de estado,*** $\\boldsymbol{h}_{n}$. Una vez calculados estos últimos, el resto de los gradientes, con respecto a las ***matrices y vectores de parámetros desconocidos***, es una tarea sencilla. Para ello, nótese que cada $h_{n},~n=1, 2,\\dots,N-1$, afecta a $J$ de dos maneras:\n",
    "\n",
    "    - Directamente, ***a traves de*** $J_{n}$\n",
    "    - Indirectamente, ***a través de la cadena que impone la estructura RNN***, es decir,\n",
    "\n",
    "    $$\n",
    "    \\boldsymbol{h}_{n}\\rightarrow\\boldsymbol{h}_{n+1}\\rightarrow\\cdots\\rightarrow\\boldsymbol{h}_{N}.\n",
    "    $$\n",
    "    \n",
    "    Es decir, $\\boldsymbol{h}_{n}$, además de $J_{n}$, ***también afecta a todos los valores de coste posteriores***, $J_{n+1},\\dots, J_{N}$. Nótese que, a traves de la cadena $\\boldsymbol{h}_{n+1}=f(\\boldsymbol{x}_{n+1}, \\boldsymbol{h}_{n}, U, W, \\boldsymbol{b}).$"
   ]
  },
  {
   "cell_type": "markdown",
   "id": "6846a4a0-b5be-4922-935c-252b5ebab921",
   "metadata": {},
   "source": [
    "- Empleando la ***regla de la cadena*** para las derivadas, las ***dependencias anteriores conducen al siguiente cálculo recursivo***:\n",
    "\n",
    "    $$\n",
    "    \\frac{\\partial J}{\\partial\\boldsymbol{h}_{n}}=\\underbrace{{\\left(\\frac{\\partial\\boldsymbol{h}_{n+1}}{\\partial\\boldsymbol{h}_{n}}\\right)^{T}}\\frac{\\partial J}{\\partial\\boldsymbol{h}_{n+1}}}_{\\text{parte recursiva indirecta}}+\\underbrace{\\left(\\frac{\\partial\\hat{\\boldsymbol{y}}_{n}}{\\partial\\boldsymbol{h}_{n}}\\right)^{T}\\frac{\\partial J}{\\partial\\hat{\\boldsymbol{y}}_{n}}}_{\\text{parte directa}},\n",
    "    $$(indirect_direct_rec_part)\n",
    "\n",
    "    donde, por definición, la ***derivada de un vector***, digamos, $\\boldsymbol{y}$, ***con respecto a otro vector***, digamos, $\\boldsymbol{x}$, se define como la matriz \n",
    "    \n",
    "    $$\n",
    "    \\left[\\frac{\\partial\\boldsymbol{y}}{\\partial\\boldsymbol{x}}\\right]_{ij}:=\\frac{\\partial y_{i}}{\\partial x_{j}}.\n",
    "    $$"
   ]
  },
  {
   "cell_type": "markdown",
   "id": "e345d7a4-fc95-4be7-8dd1-c8bfe3094ef0",
   "metadata": {},
   "source": [
    "- Nótese que el ***gradiente de la función de coste***, con respecto a los ***parámetros ocultos (vector de estado)*** en la capa \"$n$\", se da como una ***función del gradiente respectivo en la capa anterior***, es decir, con respecto al ***vector de estado en el tiempo*** $n + 1$. Las dos ***pasadas requeridas por backpropagation en el tiempo*** se resumen a continuación."
   ]
  },
  {
   "cell_type": "markdown",
   "id": "9322368a-ea9d-4164-8958-fc05c3b651f9",
   "metadata": {},
   "source": [
    "``````{admonition} Pasadas de Backpropagation en Tiempo\n",
    "- ***Paso hacia adelante***:\n",
    "    - Iniciando en $n=1$ y ***utilizando las estimaciones actuales de las matrices y vectores de parámetros implicados***, calcular en secuencia,\n",
    "\n",
    "    $$\n",
    "    (\\boldsymbol{h}_{1}, \\hat{\\boldsymbol{y}}_{1})\\rightarrow(\\boldsymbol{h}_{2}, \\hat{\\boldsymbol{y}}_{2})\\rightarrow\\cdots\\rightarrow(\\boldsymbol{h}_{N}, \\hat{\\boldsymbol{y}}_{N}).\n",
    "    $$\n",
    "- ***Paso hacia atrás***:\n",
    "    - Empezando en $n = N$, calcular en secuencia,\n",
    "\n",
    "    $$\n",
    "    \\frac{\\partial J}{\\partial\\boldsymbol{h}_{N}}\\rightarrow\\frac{\\partial J}{\\partial\\boldsymbol{h}_{N-1}}\\rightarrow\\cdots\\rightarrow\\frac{\\partial J}{\\partial\\boldsymbol{h}_{1}}.\n",
    "    $$\n",
    "\n",
    "``````"
   ]
  },
  {
   "cell_type": "markdown",
   "id": "fc46112c-f610-4d26-8808-062b12e69ca1",
   "metadata": {},
   "source": [
    "- Nótese que el ***cálculo del gradiente*** $\\partial J/\\partial\\boldsymbol{h}_{N}$ es sencillo, y ***solo involucra la parte directa en*** Eq. {eq}`indirect_direct_rec_part`. \n",
    "\n",
    "- Para la implementación de la `BPTT`, se procede a\n",
    "\n",
    "    1. ***inicializar aleatoriamente las matrices y vectores desconocidos implicados,***\n",
    "    2. ***calcular todos los gradientes requeridos, siguiendo los pasos indicados anteriormente***, y \n",
    "    3. ***realizar las actualizaciones según el esquema de gradiente descendiente***. \n",
    "\n",
    "- Los pasos ***(2) y (3) se realizan de forma iterativa hasta que se cumple un criterio de convergencia***, de forma análoga al ***algoritmo estándar de backpropagation***."
   ]
  },
  {
   "cell_type": "markdown",
   "id": "62b55485-f1b2-43b3-98a1-a195c0e2b918",
   "metadata": {},
   "source": [
    "### Desvanecimiento y explosión de gradientes"
   ]
  },
  {
   "cell_type": "markdown",
   "id": "1c54a059-c9f5-4564-8de9-76677da849c6",
   "metadata": {},
   "source": [
    "- La tarea de ***desvanecimiento y explosión de gradientes*** se ha introducido y discutido en secciones anteriores, en el contexto del algoritmo de backpropagation. ***Los mismos problemas se presentan en el algoritmo BPTT***, dado que, este último es una ***forma específica del concepto de backpropagation*** y, como se ha dicho, una ***RNN*** puede considerarse como una ***red multicapa, donde cada instante de tiempo corresponde a una capa diferente***. De hecho, en las ***RNN***, el fenómeno de ***desvanecimiento/explosión de gradiente aparece de una forma bastante “agresiva”***, teniendo en cuenta que $N$ puede alcanzar valores grandes."
   ]
  },
  {
   "cell_type": "markdown",
   "id": "c5a9d3a7-badb-46aa-8c9d-5e85229114a3",
   "metadata": {},
   "source": [
    "- La naturaleza multiplicativa de la propagación de gradientes puede verse fácilmente en la Eq. {eq}`indirect_direct_rec_part`. Para ayudar a comprender el concepto principal, simplifiquemos el escenario y ***supongamos que sólo interviene una variante de estado***. Entonces los vectores de estado se convierten en escalares, $h_{n}$ , y la matriz $W$ en un escalar $w$. Además, ***supongamos que las salidas también son escalares***. Entonces la recursión en la Eq. {eq}`indirect_direct_rec_part` se simplifica como:\n",
    "\n",
    "$$\n",
    "\\frac{\\partial J}{\\partial h_{n}}=\\frac{\\partial h_{n+1}}{\\partial h_{n}}\\frac{\\partial J}{\\partial h_{n+1}}+\\frac{\\partial\\hat{y}_{n}}{\\partial h_{n}}\\frac{\\partial J}{\\partial\\hat{y}_{n}}.\n",
    "$$"
   ]
  },
  {
   "cell_type": "markdown",
   "id": "9229ec75-08a0-41e3-9ced-0656eff07e88",
   "metadata": {},
   "source": [
    "- Suponiendo en la Eq. {eq}`rnn_system_eq` que $f$ ***es la función*** $\\tanh(\\cdot)$ ***estándar***, teniendo en cuenta que, $\\text{sech}^2(\\cdot)=1-\\tanh^2(\\cdot)$ y $|\\tanh(\\cdot)|<1$, sobre su dominio, se ve fácilmente que\n",
    "\n",
    "$$\n",
    "\\frac{\\partial h_{n+1}}{\\partial h_{n}}=w(1-h_{n+1}^{2}).\n",
    "$$(partial_deriv_hn)"
   ]
  },
  {
   "cell_type": "markdown",
   "id": "d835265d-2f9c-408f-a69f-6ab2d0ef2db1",
   "metadata": {},
   "source": [
    "- Escribiendo la ***recursión para dos pasos sucesivos***, repitiendo el proceso en Eq. {eq}`partial_deriv_hn`, por ejemplo, para $\\partial h_{n+2}/\\partial h_{n+1}$ obtenemos que,\n",
    "\n",
    "$$\n",
    "\\begin{align*}\n",
    "\\frac{\\partial J}{\\partial h_{n}}&=\\frac{\\partial h_{n+1}}{\\partial h_{n}}\\frac{\\partial J}{\\partial h_{n+1}}+\\frac{\\partial\\hat{y}_{n}}{\\partial h_{n}}\\frac{\\partial J}{\\partial\\hat{y}_{n}}\\\\\n",
    "&=w^{2}(1-h_{n+1}^{2})(1-h_{n+2}^{2})\\frac{\\partial J}{\\partial h_{n+2}}+\\text{otro términos}\n",
    "\\end{align*}\n",
    "$$(partialJ_hn_eq)"
   ]
  },
  {
   "cell_type": "markdown",
   "id": "8deec014-9bf5-41ee-b859-13ffdbf1c04a",
   "metadata": {},
   "source": [
    "- No es difícil ver que la ***multiplicación de los términos menores que uno puede llevar a valores de desvanecimiento***, sobre todo si tenemos en cuenta que, en la práctica, las ***secuencias pueden ser bastante grandes, por ejemplo,*** $N = 100$. Por lo tanto ***para instantes de tiempo cercanos a*** $n = 1$, la ***contribución al gradiente del primer término del lado derecho en la*** Eq. {eq}`partialJ_hn_eq` implicará un ***gran número de productos de números menores que uno en magnitud***. Por otra parte, el valor de $w$ estará contribuyendo en $w^{n}$ potencia. Por lo tanto, ***si su valor es mayor que uno, puede conducir a valores explosivos de los gradientes respectivos***."
   ]
  },
  {
   "cell_type": "markdown",
   "id": "dab9bad0-2355-4c6a-ae14-035bd94a44d1",
   "metadata": {},
   "source": [
    "- En varios casos, ***se puede truncar el algoritmo de backpropagation a unos pocos pasos de tiempo***. Otra forma, es ***sustituir la no linealidad tanh por la ReLU***. Para el caso del ***valor explosivo***, se puede ***introducir una técnica que recorte los valores a un umbral predeterminado***, una vez que los ***valores superen ese umbral***. Sin embargo, otra técnica que suele emplearse en la práctica es ***sustituir la formulación RNN*** estándar descrita anteriormente por una ***estructura alternativa, que puede hacer mejor frente a estos fenómenos causados por la dependencia a largo plazo de la RNN***."
   ]
  },
  {
   "cell_type": "markdown",
   "id": "070ff6ac-5dc4-45f4-9eee-f2d5a2553c46",
   "metadata": {},
   "source": [
    "```{prf:observation} \n",
    ":label: observation_ann9\n",
    "\n",
    "- **`RNN profundas`**: Además de la red ***RNN básica que comprende una sola capa de estados***, se han propuesto ***extensiones que implican múltiples capas de estados***, una encima de otra (ver {cite}`pascanu2013construct`).\n",
    "\n",
    "- **`RNN bidireccionales`**: Como su nombre indica, en las ***RNN bidireccionales hay dos variables de estado***, es decir, una denotada como $\\overset{\\rightarrow}{\\boldsymbol{h}}$***, que se propaga hacia adelante***, y otra, $\\overset{\\leftarrow}{\\boldsymbol{h}}$***, que se propaga hacia atrás***. De este modo, ***las salidas dependen tanto del pasado como del futuro*** (ver {cite}`graves2013speech`).\n",
    "```"
   ]
  },
  {
   "cell_type": "markdown",
   "id": "f1b04223-9c1c-4b0c-a102-700377873b94",
   "metadata": {},
   "source": [
    "## Red de memoria a largo plazo (LSTM)"
   ]
  },
  {
   "cell_type": "markdown",
   "id": "3eb69f62-fbe3-413a-9702-6873313b3973",
   "metadata": {},
   "source": [
    "```{prf:observation}\n",
    ":label: observation_ann10\n",
    "\n",
    "- La ***idea clave de la red LSTM***, propuesta en el artículo seminal {cite}`hochreiter1997long`, es el llamado ***estado de celda***, que ayuda a ***superar los problemas asociados con los fenómenos de desvanecimiento/explosión*** que son causados por las ***dependencias largo plazo*** dentro de la red. Las ***redes LSTM*** tienen la capacidad incorporada de ***controlar el flujo de información que entra y sale de la memoria del sistema mediante algoritmos no lineales***. Estas puertas se implementan ***mediante la no linealidad sigmoidea y un multiplicador***. Desde un punto de vista algorítmico, las puertas equivalen a ***aplicar una ponderación al flujo de información correspondiente***. Los ***pesos*** se sitúan en el intervalo $[0,1]$ y ***dependen de los valores de las variables implicadas que activan la no linealidad sigmoidea***.\n",
    "```"
   ]
  },
  {
   "cell_type": "markdown",
   "id": "71e0e708-5ccd-4c77-9af1-22fb4cc5eaa5",
   "metadata": {},
   "source": [
    "```{figure} ./figures/lstm_arch_rnn.png\n",
    ":name: lstm_arch_rnn_numref\n",
    ":align: center\n",
    ":scale: 80\n",
    "\n",
    "Arquitectura de unidad LSTM. Fuente {cite}`theodoridis2020machine`.\n",
    "```"
   ]
  },
  {
   "cell_type": "markdown",
   "id": "c06be932-30ae-4505-b3b1-607433d75352",
   "metadata": {},
   "source": [
    "- En otras palabras, ***la ponderación (control) de la información*** tiene lugar en el contexto. Según este razonamiento, ***la red tiene la agilidad de olvidar la información que ya ha sido utilizada y ya no es necesaria***. La ***célula/unidad LSTM básica*** se\n",
    "se muestra en la {numref}`lstm_arch_rnn_numref`. Se construye en torno a ***dos conjuntos de variables, apiladas en el vector*** $\\boldsymbol{s}$, que se conoce como el ***estado de la célula o unidad***, y el vector $\\boldsymbol{h}$, que se conoce como el ***vector de variables ocultas***. Una ***red LSTM*** se construye a partir de la ***concatenación sucesiva de esta unidad básica***. La unidad correspondiente al tiempo $n$, además del vector de entrada, $\\boldsymbol{x}_{n}$, recibe $\\boldsymbol{s}_{n-1}$ y $\\boldsymbol{h}_{n-1}$ de la etapa anterior y pasa $\\boldsymbol{s}_{n}$ y $\\boldsymbol{h}_{n}$ a la siguiente."
   ]
  },
  {
   "cell_type": "markdown",
   "id": "1611fa6f-0151-412a-87a6-49689f34e107",
   "metadata": {},
   "source": [
    "- A continuación se resumen las ***ecuaciones de actualización asociadas***,\n",
    "\n",
    "    $$\n",
    "    \\begin{align*}\n",
    "    \\boldsymbol{f}&=\\sigma(U^{f}\\boldsymbol{x}_{n}+W^{f}\\boldsymbol{h}_{n-1}+\\boldsymbol{b}^{f}),\\\\\n",
    "    \\boldsymbol{i}&=\\sigma(U^{i}\\boldsymbol{x}_{n}+W^{i}\\boldsymbol{h}_{n-1}+\\boldsymbol{b}^{i}),\\\\\n",
    "    \\tilde{\\boldsymbol{s}}&=\\tanh(U^{s}\\boldsymbol{x}_{n}+W^{s}\\boldsymbol{h}_{n-1}+\\boldsymbol{b}^{s}),\\\\\n",
    "    \\boldsymbol{o}&=\\sigma(U^{o}\\boldsymbol{x}_{n}+W^{o}\\boldsymbol{h}_{n-1}+\\boldsymbol{b}^{o}),\\\\\n",
    "    \\boldsymbol{s}_{n}&=\\boldsymbol{s}_{n-1}\\circ f+\\boldsymbol{i}\\circ\\tilde{\\boldsymbol{s}},\\\\\n",
    "    \\boldsymbol{h}_{n}&=\\boldsymbol{o}\\circ\\tanh(\\boldsymbol{s}_{n}),\n",
    "    \\end{align*}\n",
    "    $$\n",
    "\n",
    "    donde $\\circ$ denota el ***producto elemento a elemento entre vectores o matrices*** (producto de ***Hadamard***), es decir, $(s\\circ f)_{i} = s_{i}f_{i}$, y $\\sigma$ denota la ***función sigmoidea logística***."
   ]
  },
  {
   "cell_type": "markdown",
   "id": "4c9a3a76-19a3-49b4-8cb0-f20173e44741",
   "metadata": {},
   "source": [
    "```{prf:observation}\n",
    ":label: observation_ann11\n",
    "\n",
    "- Nótese que el ***estado de la célula***, $\\boldsymbol{s}$, ***pasa información directa del instante anterior al siguiente***. Esta información es ***controlada primero por la primera puerta***, según los elementos en $f$, que toman valores en el rango $[0, 1]$, ***dependiendo de la entrada actual y de las variables ocultas que se reciben de la etapa anterior***. Esto es lo que decíamos antes, es decir, que ***la ponderación se ajusta en \"contexto\"***. A continuación, ***se añade nueva información***, es decir, $\\tilde{\\boldsymbol{s}}$, a $\\boldsymbol{s}_{n-1}$, que también está ***controlada por la segunda red de puertas sigmoidales*** (es decir, $\\boldsymbol{i}$). Así se garantiza que la ***información del pasado se transmita al futuro de forma directa, lo cual, ayuda a la red a memorizar información.***.\n",
    "- Resulta que este tipo de memoria ***explota mejor las dependencias de largo alcance en los datos***, en comparación con la estructura ***RNN básica***. El vector de variables ocultas $\\boldsymbol{h}$ ***está controlado tanto por el estado de la célula como por los valores actuales de las variables de entrada y de estados anteriores***. Todas las ***matrices y vectores implicados se aprenden en la fase de entrenamiento***. Nótese que hay dos líneas asociadas a $\\boldsymbol{h}_{n}$. La de ***la derecha conduce a la siguiente etapa*** y la de ***la parte superior se utiliza para proporcionar la salida***, $\\hat{\\boldsymbol{y}}_{n}$, en el tiempo $n$, a ***través de, digamos, la no linealidad softmax***, como en las RNN estándar en Eq. {eq}`rnn_system_eq`.\n",
    "```"
   ]
  },
  {
   "cell_type": "markdown",
   "id": "60301414-6af7-45af-8269-378887c150c1",
   "metadata": {},
   "source": [
    "```{admonition} Variantes y Aplicaciones\n",
    "- Además de la estructura LSTM ya comentada, ***se han propuesto diversas variantes***. Un extenso ***estudio comparativo entre diferentes arquitecturas LSTM y RNN*** se puede encontrar en {cite}`greff2016lstm, jozefowicz2015empirical`. Las ***RNNs y las LSTMs*** se han utilizado con éxito en una ***amplia gama de aplicaciones***, tales como: \n",
    "\n",
    "    - el `modelado del lenguaje` {cite}`sutskever2011generating`, \n",
    "    - `traducción de máquinas` {cite}`liu2014recursive`, \n",
    "    - `reconocimiento del habla` {cite}`graves2014towards`, \n",
    "    - `visión artificial` para la generación de descriptores de imágenes {cite}`karpathy2015deep`, \n",
    "    - análisis de datos de fMRI para comprender la `dinámica temporal de las redes cerebrales` asociadas {cite}`seo2019unsupervised`. \n",
    "    - pronostico de `volatilidad de Bitcoin` {cite}`pratas2023forecasting` \n",
    "    \n",
    "- Por ejemplo, en el ***procesamiento del lenguaje*** la ***entrada suele ser una secuencia de palabras, que se codifican como números*** (son punteros al diccionario disponible). La ***salida es la secuencia de palabras que hay que predecir***. Durante el entrenamiento, se establece $\\boldsymbol{y}_{n} = \\boldsymbol{x}_{n+1}$. Es decir, ***la red se entrena como un predictor no lineal`.\n",
    "```"
   ]
  },
  {
   "cell_type": "markdown",
   "id": "ef9839c7-37e8-4d77-ba0d-3a2b7dabdaf1",
   "metadata": {},
   "source": [
    "## Series de Tiempo"
   ]
  },
  {
   "attachments": {},
   "cell_type": "markdown",
   "id": "21a2180b-cc65-4492-880d-d566810eab58",
   "metadata": {},
   "source": [
    "- Hasta ahora, en este curso hemos descrito ***métodos estadísticos*** tradicionales para el análisis de series temporales. En los capítulos anteriores, hemos analizado varios métodos para predecir la serie en un momento futuro a partir de observaciones tomadas en el pasado. Uno de estos métodos para realizar predicciones es el ***modelo autorregresivo*** ($AR$), que expresa la serie en el tiempo $t$ como una ***regresión lineal*** de $p$ observaciones anteriores"
   ]
  },
  {
   "attachments": {},
   "cell_type": "markdown",
   "id": "73b96a08-6008-4331-91dc-7b757f96be60",
   "metadata": {},
   "source": [
    "$$\n",
    "y_{t}=\\omega_{0}+\\sum_{i=1}^{p}\\omega_{i}y_{t-i}+\\varepsilon_{t}.\n",
    "$$"
   ]
  },
  {
   "attachments": {},
   "cell_type": "markdown",
   "id": "aed87b4f-03fe-424a-96c2-51bdebf36f4c",
   "metadata": {},
   "source": [
    "- Aquí, $\\varepsilon_{t}$ es el término de ***error residual*** del modelo $AR$. La idea que subyace al modelo lineal puede generalizarse en el sentido de que el objetivo de la predicción de series temporales es ***desarrollar una función*** $f$ ***que prediga*** $y_{t}$ ***en función de las observaciones en*** $p$ ***valores previos en el tiempo***"
   ]
  },
  {
   "attachments": {},
   "cell_type": "markdown",
   "id": "51c2b309-477c-447c-9a72-0164de31df2f",
   "metadata": {},
   "source": [
    "$$\n",
    "y_{t}=f(y_{t-1}, y_{t-2}, \\dots, y_{t-p}).\n",
    "$$"
   ]
  },
  {
   "attachments": {},
   "cell_type": "markdown",
   "id": "fa2cd3d1-a4ce-4881-a827-3b92c2db20ee",
   "metadata": {},
   "source": [
    "- En este capítulo, exploraremos tres ***métodos basados en redes neuronales para desarrollar la función*** $f$. Cada método incluye la definición de una ***arquitectura de red neuronal*** (en términos del ***número de capas ocultas, número de neuronas en cada capa oculta***, etc.) y luego el algoritmo ***backpropagation*** o su variante adecuada para la arquitectura de red utilizada."
   ]
  },
  {
   "attachments": {},
   "cell_type": "markdown",
   "id": "9d276422",
   "metadata": {},
   "source": [
    "- Los ejemplos de este capítulo serán implementados utilizando la `API Keras` para el aprendizaje profundo. `Keras` es una `API` de alto nivel que permite ***definir diferentes arquitecturas de redes neuronales y entrenarlas utilizando varios optimizadores basados en gradientes***. En el ***backend, Keras*** utiliza un marco computacional de bajo nivel implementado en `C, C++` y `FORTRAN`. Varios de estos entornos de bajo nivel están disponibles en código abierto. `Keras` soporta los tres siguientes entornos: ***TensorFlow, que fue desarrollado por Google*** y es el ***backend*** por defecto de ***Keras, CNTK, un marco de código abierto de Microsoft***, y ***Theano, desarrollado originalmente en la Universidad de Montreal, Canadá***. Los ejemplos de este libro utilizan `TensorFlow` como backend. Por lo tanto, para ejecutar los ejemplos, necesitarás tanto `Keras` como `TensorFlow` instalados."
   ]
  },
  {
   "cell_type": "markdown",
   "id": "6949a2a1-bf8a-46bb-8008-d0c93792fc1d",
   "metadata": {},
   "source": [
    "## Perceptrones multicapa"
   ]
  },
  {
   "attachments": {},
   "cell_type": "markdown",
   "id": "78f59333-7de1-41f7-9ab0-9158d352631d",
   "metadata": {},
   "source": [
    "- Los ***perceptrones multicapa (MLP)*** son las formas más básicas de las redes neuronales. Un `MLP` consta de tres componentes: una ***capa de entrada***, varias ***capas ocultas*** y una ***capa de salida***. Una ***capa de entrada representa un vector de regresores o características de entrada***, por ejemplo, observaciones a partir de $p$ puntos previos en el tiempo $[y_{t-1}, y_{t-2}, \\dots, y_{t-p}]$. Las ***características de entrada se introducen en una capa oculta*** que tiene $n$ neuronas, cada una de las cuales aplica una ***transformación lineal*** y una ***activación no lineal*** a las características de entrada. "
   ]
  },
  {
   "attachments": {},
   "cell_type": "markdown",
   "id": "40fc2ef1",
   "metadata": {},
   "source": [
    "- La salida de una neurona es $g_{i} = h(\\boldsymbol{w}_{i}x + b_{i})$, donde $\\boldsymbol{w}_{i}$ y $b_{i}$ son los ***pesos y el sesgo de la transformación lineal***, y $h$ es una ***función de activación no lineal***. La función de activación no lineal permite a la red neuronal ***modelar no linealidades complejas de las relaciones subyacentes entre los regresores y la variable objetivo***. Popularmente, $h$ es la función ***sigmoid***\n",
    "\n",
    "    $$\n",
    "    h(z)=\\displaystyle{\\frac{1}{1-e^{-z}}},\n",
    "    $$\n",
    "    \n",
    "    que mapea cualquier número real al intervalo $[0, 1]$."
   ]
  },
  {
   "attachments": {},
   "cell_type": "markdown",
   "id": "2a4c48c3-bef6-4a27-ac13-c79f838f3c70",
   "metadata": {},
   "source": [
    "- Debido a esta propiedad, ***la función sigmoidea se utiliza para generar probabilidades de clase binarias y, por tanto, es comunmente usada en los modelos de clasificación***. Otra opción de función de activación no lineal es la función `tanh`\n",
    "\n",
    "    $$\n",
    "    h(z)=\\displaystyle{\\frac{1-e^{-z}}{1+e^{-z}}},\n",
    "    $$\n",
    "    \n",
    "    la cual mapea cualquier número real al intervalo $[-1, 1]$. En algunos casos la función $h$ es una ***función lineal o la identidad***."
   ]
  },
  {
   "attachments": {},
   "cell_type": "markdown",
   "id": "d8880dbc-bd64-4492-8223-acb8d006a4e6",
   "metadata": {},
   "source": [
    "- En el caso de una ***red neuronal de una sola capa oculta***, como se muestra en {numref}`single_hidden_layer`, la salida de cada neurona se pasa a la capa de salida, que aplica una ***transformación lineal y función de activación para generar la predicción de la variable objetivo***, que, en el caso de la predicción de series temporales, es el valor predicho de la serie en el tiempo $t$"
   ]
  },
  {
   "cell_type": "markdown",
   "id": "7578dfeb-2890-4d76-98dd-769b83270cca",
   "metadata": {},
   "source": [
    "```{figure} ./figures/single_hidden_layer.png\n",
    ":name: single_hidden_layer\n",
    ":align: center\n",
    ":scale: 12\n",
    "\n",
    "Red neuronal con una sola capa oculta.\n",
    "```"
   ]
  },
  {
   "attachments": {},
   "cell_type": "markdown",
   "id": "8ec6bb1e-a5f8-4ed2-bbe2-39fa7b8af478",
   "metadata": {},
   "source": [
    "- En un `MLP` (ver {numref}`multiple_hidden_layer`), se agrupan varias capas ocultas. ***La salida de las neuronas de una capa oculta se introduce en la siguiente capa oculta***. Las neuronas de esta capa transforman la entrada y la pasan a la siguiente capa oculta. Finalmente, ***la última capa oculta alimenta la capa de salida***"
   ]
  },
  {
   "cell_type": "markdown",
   "id": "ca2422af-8bda-4714-8bd4-01d660d25660",
   "metadata": {},
   "source": [
    "```{figure} ./figures/multiple_hidden_layer.png\n",
    ":name: multiple_hidden_layer\n",
    ":align: center\n",
    ":scale: 19\n",
    "\n",
    "Red neuronal con múltiples capas ocultas.\n",
    "```"
   ]
  },
  {
   "attachments": {},
   "cell_type": "markdown",
   "id": "52ef7024-c823-454e-bbb9-724612e5a215",
   "metadata": {},
   "source": [
    "- Las capas ocultas del `MLP` también se denominan ***capas densas o, a veces, capas totalmente conectadas***. El nombre denso tiene su significado en el hecho de que todas ***las neuronas de una capa densa están conectadas a todas las neuronas de la capa anterior y de la siguiente***. Si la capa anterior es la capa de entrada, todas las características de entrada alimentan a cada una de las neuronas de la capa oculta.\n",
    "\n",
    "- ***Debido a las conexiones múltiples entre la capa de entrada y la primera capa densa y entre las capas densas intermedias, un MLP tiene un número enorme de pesos entrenables***. Por ejemplo, si el número de características de entrada es $p$ y hay tres capas densas que tienen número de neuronas $n_{1}, n_{2}$ y $n_{3}$ respectivamente, entonces el número de pesos entrenables es\n",
    "\n",
    "$$\n",
    "p\\times n_{1}+n_{1}\\times n_{2}+n_{2}\\times n_{3}+n_{3}.\n",
    "$$"
   ]
  },
  {
   "cell_type": "markdown",
   "id": "38244a0c-0674-4d86-8148-60922548679c",
   "metadata": {},
   "source": [
    "- El último elemento de este cálculo es el número de pesos que conectan la tercera capa oculta y la capa de salida. Los ***MLP profundos tienen varias capas densas y cientos, incluso miles, de neuronas en cada capa***. Por lo tanto, el número de pesos entrenables en los MLP profundos es muy grande."
   ]
  },
  {
   "cell_type": "markdown",
   "id": "2ebfbcc6-ff9f-4d50-8f8f-a26946d47f06",
   "metadata": {},
   "source": [
    "## Entrenamiento de MLP"
   ]
  },
  {
   "attachments": {},
   "cell_type": "markdown",
   "id": "79652bc1-ec72-432c-a4b9-9cb1cfefff92",
   "metadata": {},
   "source": [
    "- Los pesos $w$ de una red neuronal se calculan mediante un algoritmo de optimización basado en el gradiente, como el ***gradiente decendiente estocástico, que minimiza iterativamente la función de pérdida o el error*** ($L$) en que incurre la red al hacer predicciones sobre los datos de entrenamiento. El ***error cuadrático medio*** ($MSE$) y el ***error absoluto medio*** ($MAE$) se utilizan para ***tareas de regresión***, mientras que la pérdida binaria y categórica logarítmica son funciones de pérdida habituales en los problemas de clasificación."
   ]
  },
  {
   "attachments": {},
   "cell_type": "markdown",
   "id": "e666ada3",
   "metadata": {},
   "source": [
    "- Para la predicción de series temporales, $MSE$ y $MAE$ serían aptos para entrenar los modelos neuronales. ***Los algoritmos gradiente descendiente funcionan moviendo los pesos, en iteraciones*** $i$***, a lo largo de su trayectoria de gradiente***. El gradiente es la derivada parcial de la función de pérdida $L$ con respecto al peso. La regla de actualización más sencilla para cambiar un peso $w$ requiere los valores de los pesos, la derivada parcial de $L$ con respecto a los pesos, y una tasa de aprendizaje $\\alpha$ que ***controla la rapidez con la que el punto desciende a lo largo del gradiente***"
   ]
  },
  {
   "cell_type": "markdown",
   "id": "771363b3-3ed5-4e20-9252-62a0f70781d5",
   "metadata": {},
   "source": [
    "$$\n",
    "\\omega_{i+1}=\\omega_{i}-\\alpha\\left(\\frac{\\partial L}{\\partial\\omega}\\right)_{\\omega = \\omega_{i}}\n",
    "$$"
   ]
  },
  {
   "attachments": {},
   "cell_type": "markdown",
   "id": "fdd64ddd-abc6-4354-ade4-df7da03e737f",
   "metadata": {},
   "source": [
    "- Esta regla básica de actualización tiene diversas variantes que influyen en la convergencia del algoritmo. Sin embargo, ***una entrada crucial para todos los algoritmos basados en el gradiente es la derivada parcial que debe calcularse para todos los pesos de la red***. En redes neuronales profundas, algunas de las cuales tienen millones de pesos, el cálculo de la derivada puede ser una tarea computacional gigantesca. En esta dirección es exactamente donde entra en juego el famoso ***algoritmo backpropagation*** que resuelve este problema de forma eficiente.\n",
    "\n",
    "- Para entender el algoritmo backpropagation, primero hay que conocer los ***grafos computacionales y cómo se utilizan para realizar cálculos en una red neuronal***. Consideremos una ***red neuronal simple de una sola capa oculta, que tiene dos unidades ocultas, cada una con una activación sigmoidea***. La unidad de salida es una transformación lineal de sus entradas. La red se alimenta con dos variables de entrada, $[y_{1},y_{2}]$. Los pesos se muestran a lo largo de los bordes de la red"
   ]
  },
  {
   "cell_type": "markdown",
   "id": "ac9ba83a-7fbb-4120-b068-60a3c9701910",
   "metadata": {},
   "source": [
    "```{figure} ./figures/twoinput_single_hidden_layer.png\n",
    ":name: twoinput_single_hidden_layer\n",
    ":align: center\n",
    ":scale: 10\n",
    "\n",
    "Red neuronal con una sola capa oculta y dos entradas.\n",
    "```"
   ]
  },
  {
   "attachments": {},
   "cell_type": "markdown",
   "id": "f5c74f4c-1ffa-4be2-b1d8-2320c7283c0f",
   "metadata": {},
   "source": [
    "- La red realiza una serie de ***sumas, multiplicaciones y un par evaluaciones de funciones sigmoidales para transformar la entrada en una predicción***. La transformación de la entrada en una predicción se denomina paso hacia delante de la red neuronal. La {numref}`forwardprop_single_hidden_layer` muestra cómo se consigue un pase hacia adelante mediante un grafo computacional para un par de entrada $[-1, 2]$. Cada cálculo da como resultado una salida intermedia $p_{i}$. ***Los resultados intermedios*** $p_{7}$ ***y*** $p_{8}$ ***son la salida de las neuronas ocultas*** $g_{1}$ y $g_{2}$. Durante el entrenamiento, la función de pérdida $L$ también se calcula en el paso hacia delante"
   ]
  },
  {
   "cell_type": "markdown",
   "id": "39bb3dd5-bbce-4efc-b04e-aa897a8661da",
   "metadata": {},
   "source": [
    "```{figure} ./figures/forwardprop_single_hidden_layer.png\n",
    ":name: forwardprop_single_hidden_layer\n",
    ":align: center\n",
    "\n",
    "Gráfico computacional de un perceptrón con una capa y dos neuronas ocultas.\n",
    "```"
   ]
  },
  {
   "attachments": {},
   "cell_type": "markdown",
   "id": "59c78374-8115-4959-ac49-cab575c37de6",
   "metadata": {},
   "source": [
    "- En este punto, ***se aplica el algoritmo de backpropagation para calcular las derivadas parciales entre dos nodos conectados por una arista***. El recorrido hacia atrás en el grafo para calcular la derivada parcial también se conoce como paso hacia atrás (***backward pass***). ***El operador de diferenciación parcial se aplica en cada nodo y las derivadas parciales se asignan a las respectivas aristas que conectan el nodo descendente a lo largo del grafo computacional***. \n",
    "\n",
    "- Siguiendo la regla de la cadena la derivada parcial $\\partial_{\\omega} L$ se calcula ***multiplicando las derivadas parciales en todas las aristas que conectan el nodo de peso y el nodo de pérdida***. Si existen varios caminos entre un nodo de peso y el nodo de pérdida, las derivadas parciales a lo largo de cada camino se suman para obtener la ***derivada parcial total de la pérdida con respecto al peso***. Esta técnica gráfica de implementar los pasos hacia delante y hacia atrás es la técnica computacional subyacente utilizada en potentes bibliotecas de aprendizaje profundo. El paso hacia atrás se ilustra en {numref}`partialderivates_single_hidden_layer`"
   ]
  },
  {
   "cell_type": "markdown",
   "id": "670796d6-b5bd-4b00-9b2c-f759a9502a80",
   "metadata": {},
   "source": [
    "```{figure} ./figures/partialderivates_single_hidden_layer.png\n",
    ":name: partialderivates_single_hidden_layer\n",
    ":align: center\n",
    "\n",
    "Cálculo de derivadas parciales en un grafo computacional.\n",
    "```"
   ]
  },
  {
   "cell_type": "markdown",
   "id": "065a8963-be54-4053-9f30-47527a482b1e",
   "metadata": {},
   "source": [
    "- Las derivadas parciales de la función de pérdida con respecto a los pesos se obtienen aplicando la ***regla de la cadena***:"
   ]
  },
  {
   "cell_type": "markdown",
   "id": "39f27392-eae0-45a8-82fe-c978288245f7",
   "metadata": {},
   "source": [
    "$$\n",
    "\\begin{align*}\n",
    "\\frac{\\partial L}{\\partial\\omega_{5}} &= -2(y-\\hat{y})\\times 1\\times p_{7}\\\\\n",
    "\\frac{\\partial L}{\\partial\\omega_{6}} &= -2(y-\\hat{y})\\times 1\\times p_{8}\\\\\n",
    "\\frac{\\partial L}{\\partial\\omega_{1}} = \\frac{\\partial L}{\\partial\\hat{y}}\\frac{\\partial\\hat{y}}{\\partial p_{9}}\\frac{\\partial p_{9}}{\\partial p_{7}}\\frac{\\partial p_{7}}{\\partial p_{5}}\\frac{\\partial p_{5}}{\\partial p_{1}}\\frac{\\partial p_{1}}{\\partial\\omega_{1}} &= -2(y-\\hat{y})\\times 1\\times\\omega_{5}\\times p_{7}^{2}e^{-p_{5}}\\times 1\\times -1\\\\\n",
    "\\frac{\\partial L}{\\partial\\omega_{2}} = \\frac{\\partial L}{\\partial\\hat{y}}\\frac{\\partial\\hat{y}}{\\partial p_{9}}\\frac{\\partial p_{9}}{\\partial p_{7}}\\frac{\\partial p_{7}}{\\partial p_{5}}\\frac{\\partial p_{5}}{\\partial p_{2}}\\frac{\\partial p_{2}}{\\partial\\omega_{2}} &= -2(y-\\hat{y})\\times 1\\times\\omega_{5}\\times p_{7}^{2}e^{-p_{5}}\\times 1\\times 2\\\\\n",
    "\\frac{\\partial L}{\\partial\\omega_{3}} = \\frac{\\partial L}{\\partial\\hat{y}}\\frac{\\partial\\hat{y}}{\\partial p_{10}}\\frac{\\partial p_{10}}{\\partial p_{8}}\\frac{\\partial p_{8}}{\\partial p_{6}}\\frac{\\partial p_{6}}{\\partial p_{3}}\\frac{\\partial p_{3}}{\\partial\\omega_{3}} &= -2(y-\\hat{y})\\times 1\\times\\omega_{6}\\times p_{8}^{2}e^{-p_{6}}\\times 1\\times -1\\\\\n",
    "\\frac{\\partial L}{\\partial\\omega_{4}} = \\frac{\\partial L}{\\partial\\hat{y}}\\frac{\\partial\\hat{y}}{\\partial p_{10}}\\frac{\\partial p_{10}}{\\partial p_{8}}\\frac{\\partial p_{8}}{\\partial p_{6}}\\frac{\\partial p_{6}}{\\partial p_{4}}\\frac{\\partial p_{4}}{\\partial\\omega_{4}} &= -2(y-\\hat{y})\\times 1\\times\\omega_{6}\\times p_{8}^{2}e^{-p_{6}}\\times 1\\times 2.\n",
    "\\end{align*}\n",
    "$$"
   ]
  },
  {
   "attachments": {},
   "cell_type": "markdown",
   "id": "dfd021b5-091d-4e5f-9c5c-30369f34ed32",
   "metadata": {},
   "source": [
    "- Durante el entrenamiento, ***los pesos se inicializan con números aleatorios comúnmente muestreados a partir de una distribución uniforme con límites superior e inferior en*** $[-1, 1]$ o una ***distribución normal que tiene media cero y varianza unitaria***. Estos esquemas de inicialización aleatoria tienen algunas variantes que mejoran la convergencia de la optimización. En este caso, vamos a suponer que los pesos son inicializados a partir de una distribución aleatoria uniforme y, por tanto, $w_{1} = -0.33, w_{2} = -0.33, w_{3} = 0.57, w_{4} = -0.01, w_{5}=0.07$, y $w_{6} = 0.82$. \n",
    "\n",
    "- Con estos valores, vamos a realizar pasos hacia adelante y hacia atrás sobre el grafo computacional. Actualizamos la figura anterior con los valores calculados durante la ***pasada hacia adelante en azul y los gradientes calculados durante la pasada hacia atrás en rojo***. Para este ejemplo, fijamos el ***valor real de la variable objetivo como*** $y = 1$"
   ]
  },
  {
   "cell_type": "markdown",
   "id": "999c3c6e-24b5-43e5-959e-ebd3376afd16",
   "metadata": {},
   "source": [
    "```{figure} ./figures/forward_backward_single_hidden_layer.png\n",
    ":name: forward_backward_single_hidden_layer\n",
    ":align: center\n",
    "Pasos hacia delante (en azul) y hacia atrás (en rojo) sobre un grafo computacional.\n",
    "```"
   ]
  },
  {
   "attachments": {},
   "cell_type": "markdown",
   "id": "7a6babd6-6227-4bc6-821c-a0ee95fc28e3",
   "metadata": {},
   "source": [
    "- Una vez calculados los gradientes a lo largo de las aristas, ***las derivadas parciales con respecto a los pesos no son más que una aplicación de la regla de la cadena***, de la que ya hemos hablado. Los valores de las derivadas parciales son los siguientes:"
   ]
  },
  {
   "cell_type": "markdown",
   "id": "fe791ee6-1be1-4f3f-b7f0-87ff08f2742d",
   "metadata": {},
   "source": [
    "$$\n",
    "\\begin{align*}\n",
    "\\frac{\\partial L}{\\partial\\omega_{5}} &= -0.919\\times 1\\times 0.418 = -0.384\\\\\n",
    "\\frac{\\partial L}{\\partial\\omega_{6}} &= -0.919\\times 1\\times 0.357 = -0.328\\\\\n",
    "\\frac{\\partial L}{\\partial\\omega_{1}} &= -0.919\\times 1\\times 0.07\\times 0.243\\times 1\\times -1 = 0.016\\\\\n",
    "\\frac{\\partial L}{\\partial\\omega_{2}} &= -0.919\\times 1\\times 0.07\\times 0.243\\times 1\\times 2 = -0.032\\\\\n",
    "\\frac{\\partial L}{\\partial\\omega_{3}} &= -0.919\\times 1\\times 0.82\\times 0.229\\times 1\\times -1 = 0.173\\\\\n",
    "\\frac{\\partial L}{\\partial\\omega_{4}} &= -0.919\\times 1\\times 0.82\\times 0.229\\times 1\\times 2 = -0.346\\\\\n",
    "\\end{align*}\n",
    "$$"
   ]
  },
  {
   "attachments": {},
   "cell_type": "markdown",
   "id": "4545fe28-2e6e-40fc-9af6-a084ab9a230f",
   "metadata": {},
   "source": [
    "- El siguiente paso consiste en ***actualizar los pesos mediante el algoritmo de gradiente descendiente***. Así, con una ***tasa de aprendizaje de*** $\\alpha = 0.01$, el nuevo valor de \n",
    "\n",
    "$$\n",
    "w_{5} = 0.07 - 0.01\\times -0.384 = 0.0738.\n",
    "$$ \n",
    "\n",
    "- El resto de pesos también pueden actualizarse utilizando una regla de actualización similar. El proceso de actualización iterativa de los pesos se repite varias veces. ***El número de veces que se actualizan los pesos se conoce como número de épocas*** o pasadas sobre los datos de entrenamiento. Normalmente, un criterio de tolerancia sobre el cambio de la función de pérdida en comparación con la época anterior controla el número de épocas.\n",
    "\n",
    "- ***Para determinar los pesos de una red neuronal se utiliza el algoritmo backpropagation junto con un optimizador basado en el gradiente***. Afortunadamente, existen potentes bibliotecas de aprendizaje profundo, como `Tensorflow, Theano` y `CNTK` que implementan gráficos computacionales para entrenar redes neuronales de cualquier arquitectura y complejidad. Estas bibliotecas vienen con soporte para ejecutar los cálculos como operaciones matemáticas en matrices multidimensionales y también pueden aprovechar las `GPU` para realizar cálculos más rápidos."
   ]
  },
  {
   "cell_type": "markdown",
   "id": "bea593ed-1413-4482-8b8a-c4138c3d6529",
   "metadata": {},
   "source": [
    "## MLP para la predicción de series temporales"
   ]
  },
  {
   "attachments": {},
   "cell_type": "markdown",
   "id": "8d7a9f65-1068-491e-b7d9-46db7a18e26b",
   "metadata": {},
   "source": [
    "- En esta sección, utilizaremos `MLP` para desarrollar ***modelos de predicción de series temporales***. El conjunto de datos utilizado para estos ejemplos es sobre la ***contaminación atmosférica medida por la concentración de partículas (PM) de diámetro inferior o igual a 2.5 micrómetros***.\n",
    "\n",
    "- Hay otras variables, como la ***presión atmosférica, temperatura del aire, punto de rocío, etc***. Se han desarrollado un par de modelos de series temporales, uno sobre la ***presión atmosférica*** `PRES` y otro sobre `pm 2.5`. El conjunto de datos se ha descargado del repositorio de aprendizaje automático de la [UCI](https://archive.ics.uci.edu/ml/datasets/Beijing+PM2.5+Data)."
   ]
  },
  {
   "cell_type": "code",
   "execution_count": 1,
   "id": "9799480e-7b15-470a-b4bc-15444a3dadc0",
   "metadata": {
    "tags": []
   },
   "outputs": [],
   "source": [
    "import sys\n",
    "import pandas as pd\n",
    "import numpy as np\n",
    "from matplotlib import pyplot as plt\n",
    "import seaborn as sns\n",
    "import datetime\n",
    "from sklearn.preprocessing import MinMaxScaler\n",
    "from tensorflow import keras\n",
    "from keras.layers import Dense, Input, Dropout\n",
    "from keras.optimizers import SGD\n",
    "from keras.models import Model\n",
    "from keras.models import load_model\n",
    "from keras.callbacks import ModelCheckpoint\n",
    "import os\n",
    "from sklearn.metrics import r2_score\n",
    "from sklearn.metrics import mean_absolute_error"
   ]
  },
  {
   "cell_type": "code",
   "execution_count": 2,
   "id": "96fed00e-15fb-4d57-bab0-7fea1deb8bee",
   "metadata": {},
   "outputs": [],
   "source": [
    "import warnings\n",
    "warnings.filterwarnings(\"ignore\")\n",
    "plt.rcParams['text.usetex'] = True\n",
    "sns.set_style(\"darkgrid\")"
   ]
  },
  {
   "cell_type": "code",
   "execution_count": 3,
   "id": "972b0279-d17d-41d2-958e-ff4894d31c88",
   "metadata": {},
   "outputs": [],
   "source": [
    "df = pd.read_csv('datasets/PRSA_data_2010.1.1-2014.12.31.csv', usecols=lambda column: column not in ['DEWP', 'TEMP', 'cbwd', 'Iws',\t'Is', 'Ir'])"
   ]
  },
  {
   "cell_type": "code",
   "execution_count": 4,
   "id": "532f3d57-ce36-41ea-9996-8acf3461230b",
   "metadata": {},
   "outputs": [
    {
     "name": "stdout",
     "output_type": "stream",
     "text": [
      "Shape of the dataframe: (43824, 7)\n"
     ]
    }
   ],
   "source": [
    "print('Shape of the dataframe:', df.shape)"
   ]
  },
  {
   "cell_type": "code",
   "execution_count": 5,
   "id": "5eb18425-2aa6-48a5-9e9f-47518d83c46a",
   "metadata": {},
   "outputs": [
    {
     "data": {
      "text/html": [
       "<div>\n",
       "<style scoped>\n",
       "    .dataframe tbody tr th:only-of-type {\n",
       "        vertical-align: middle;\n",
       "    }\n",
       "\n",
       "    .dataframe tbody tr th {\n",
       "        vertical-align: top;\n",
       "    }\n",
       "\n",
       "    .dataframe thead th {\n",
       "        text-align: right;\n",
       "    }\n",
       "</style>\n",
       "<table border=\"1\" class=\"dataframe\">\n",
       "  <thead>\n",
       "    <tr style=\"text-align: right;\">\n",
       "      <th></th>\n",
       "      <th>No</th>\n",
       "      <th>year</th>\n",
       "      <th>month</th>\n",
       "      <th>day</th>\n",
       "      <th>hour</th>\n",
       "      <th>pm2.5</th>\n",
       "      <th>PRES</th>\n",
       "    </tr>\n",
       "  </thead>\n",
       "  <tbody>\n",
       "    <tr>\n",
       "      <th>0</th>\n",
       "      <td>1</td>\n",
       "      <td>2010</td>\n",
       "      <td>1</td>\n",
       "      <td>1</td>\n",
       "      <td>0</td>\n",
       "      <td>NaN</td>\n",
       "      <td>1021.0</td>\n",
       "    </tr>\n",
       "    <tr>\n",
       "      <th>1</th>\n",
       "      <td>2</td>\n",
       "      <td>2010</td>\n",
       "      <td>1</td>\n",
       "      <td>1</td>\n",
       "      <td>1</td>\n",
       "      <td>NaN</td>\n",
       "      <td>1020.0</td>\n",
       "    </tr>\n",
       "    <tr>\n",
       "      <th>2</th>\n",
       "      <td>3</td>\n",
       "      <td>2010</td>\n",
       "      <td>1</td>\n",
       "      <td>1</td>\n",
       "      <td>2</td>\n",
       "      <td>NaN</td>\n",
       "      <td>1019.0</td>\n",
       "    </tr>\n",
       "    <tr>\n",
       "      <th>3</th>\n",
       "      <td>4</td>\n",
       "      <td>2010</td>\n",
       "      <td>1</td>\n",
       "      <td>1</td>\n",
       "      <td>3</td>\n",
       "      <td>NaN</td>\n",
       "      <td>1019.0</td>\n",
       "    </tr>\n",
       "    <tr>\n",
       "      <th>4</th>\n",
       "      <td>5</td>\n",
       "      <td>2010</td>\n",
       "      <td>1</td>\n",
       "      <td>1</td>\n",
       "      <td>4</td>\n",
       "      <td>NaN</td>\n",
       "      <td>1018.0</td>\n",
       "    </tr>\n",
       "  </tbody>\n",
       "</table>\n",
       "</div>"
      ],
      "text/plain": [
       "   No  year  month  day  hour  pm2.5    PRES\n",
       "0   1  2010      1    1     0    NaN  1021.0\n",
       "1   2  2010      1    1     1    NaN  1020.0\n",
       "2   3  2010      1    1     2    NaN  1019.0\n",
       "3   4  2010      1    1     3    NaN  1019.0\n",
       "4   5  2010      1    1     4    NaN  1018.0"
      ]
     },
     "execution_count": 5,
     "metadata": {},
     "output_type": "execute_result"
    }
   ],
   "source": [
    "df.head()"
   ]
  },
  {
   "attachments": {},
   "cell_type": "markdown",
   "id": "4a7d17bb-b2b5-4679-bd61-e3cf897406f0",
   "metadata": {},
   "source": [
    "- Para asegurarse de que las filas están en el orden correcto de fecha y hora de las observaciones, ***se crea una nueva columna datetime a partir de las columnas relacionadas con la fecha y la hora del DataFrame***. La nueva columna se compone de objetos `datetime.datetime de Python`. El DataFrame se ordena en orden ascendente sobre esta columna"
   ]
  },
  {
   "cell_type": "code",
   "execution_count": 6,
   "id": "6d1caf42-32de-4ef1-9a98-296d23d98806",
   "metadata": {},
   "outputs": [],
   "source": [
    "df['datetime'] = df[['year', 'month', 'day', 'hour']].apply(lambda row: datetime.datetime(year=row['year'], month=row['month'], day=row['day'],\n",
    "                                                                                          hour=row['hour']), axis=1)\n",
    "df.sort_values('datetime', ascending=True, inplace=True)"
   ]
  },
  {
   "cell_type": "code",
   "execution_count": 7,
   "id": "18621c67-2629-4f8d-9020-d01552892cc9",
   "metadata": {},
   "outputs": [
    {
     "data": {
      "text/html": [
       "<div>\n",
       "<style scoped>\n",
       "    .dataframe tbody tr th:only-of-type {\n",
       "        vertical-align: middle;\n",
       "    }\n",
       "\n",
       "    .dataframe tbody tr th {\n",
       "        vertical-align: top;\n",
       "    }\n",
       "\n",
       "    .dataframe thead th {\n",
       "        text-align: right;\n",
       "    }\n",
       "</style>\n",
       "<table border=\"1\" class=\"dataframe\">\n",
       "  <thead>\n",
       "    <tr style=\"text-align: right;\">\n",
       "      <th></th>\n",
       "      <th>No</th>\n",
       "      <th>year</th>\n",
       "      <th>month</th>\n",
       "      <th>day</th>\n",
       "      <th>hour</th>\n",
       "      <th>pm2.5</th>\n",
       "      <th>PRES</th>\n",
       "      <th>datetime</th>\n",
       "    </tr>\n",
       "  </thead>\n",
       "  <tbody>\n",
       "    <tr>\n",
       "      <th>0</th>\n",
       "      <td>1</td>\n",
       "      <td>2010</td>\n",
       "      <td>1</td>\n",
       "      <td>1</td>\n",
       "      <td>0</td>\n",
       "      <td>NaN</td>\n",
       "      <td>1021.0</td>\n",
       "      <td>2010-01-01 00:00:00</td>\n",
       "    </tr>\n",
       "    <tr>\n",
       "      <th>1</th>\n",
       "      <td>2</td>\n",
       "      <td>2010</td>\n",
       "      <td>1</td>\n",
       "      <td>1</td>\n",
       "      <td>1</td>\n",
       "      <td>NaN</td>\n",
       "      <td>1020.0</td>\n",
       "      <td>2010-01-01 01:00:00</td>\n",
       "    </tr>\n",
       "    <tr>\n",
       "      <th>2</th>\n",
       "      <td>3</td>\n",
       "      <td>2010</td>\n",
       "      <td>1</td>\n",
       "      <td>1</td>\n",
       "      <td>2</td>\n",
       "      <td>NaN</td>\n",
       "      <td>1019.0</td>\n",
       "      <td>2010-01-01 02:00:00</td>\n",
       "    </tr>\n",
       "    <tr>\n",
       "      <th>3</th>\n",
       "      <td>4</td>\n",
       "      <td>2010</td>\n",
       "      <td>1</td>\n",
       "      <td>1</td>\n",
       "      <td>3</td>\n",
       "      <td>NaN</td>\n",
       "      <td>1019.0</td>\n",
       "      <td>2010-01-01 03:00:00</td>\n",
       "    </tr>\n",
       "    <tr>\n",
       "      <th>4</th>\n",
       "      <td>5</td>\n",
       "      <td>2010</td>\n",
       "      <td>1</td>\n",
       "      <td>1</td>\n",
       "      <td>4</td>\n",
       "      <td>NaN</td>\n",
       "      <td>1018.0</td>\n",
       "      <td>2010-01-01 04:00:00</td>\n",
       "    </tr>\n",
       "  </tbody>\n",
       "</table>\n",
       "</div>"
      ],
      "text/plain": [
       "   No  year  month  day  hour  pm2.5    PRES            datetime\n",
       "0   1  2010      1    1     0    NaN  1021.0 2010-01-01 00:00:00\n",
       "1   2  2010      1    1     1    NaN  1020.0 2010-01-01 01:00:00\n",
       "2   3  2010      1    1     2    NaN  1019.0 2010-01-01 02:00:00\n",
       "3   4  2010      1    1     3    NaN  1019.0 2010-01-01 03:00:00\n",
       "4   5  2010      1    1     4    NaN  1018.0 2010-01-01 04:00:00"
      ]
     },
     "execution_count": 7,
     "metadata": {},
     "output_type": "execute_result"
    }
   ],
   "source": [
    "df.head()"
   ]
  },
  {
   "attachments": {},
   "cell_type": "markdown",
   "id": "cd571b10",
   "metadata": {},
   "source": [
    "- Dibujamos un diagrama de cajas para visualizar la ***tendencia central y la dispersión*** de por ejemplo la columna `PRES`"
   ]
  },
  {
   "cell_type": "code",
   "execution_count": 8,
   "id": "312da1cd-654d-42d7-a9b8-2419dc7afa79",
   "metadata": {},
   "outputs": [],
   "source": [
    "plot_fontsize = 18;"
   ]
  },
  {
   "cell_type": "code",
   "execution_count": 9,
   "id": "1124bcea-67dd-468e-b8e2-77652e957328",
   "metadata": {},
   "outputs": [
    {
     "data": {
      "image/png": "[encoded data removed]",
      "text/plain": [
       "<Figure size 1500x800 with 2 Axes>"
      ]
     },
     "metadata": {},
     "output_type": "display_data"
    }
   ],
   "source": [
    "plt.figure(figsize=(15, 8))\n",
    "\n",
    "plt.subplot(1, 2, 1)  \n",
    "g1 = sns.boxplot(x=df['PRES'], orient=\"h\", palette=\"Set2\")\n",
    "g1.set_title('Box plot of Air Pressure', fontsize=plot_fontsize)\n",
    "g1.set_xlabel('Air Pressure readings in hPa', fontsize=plot_fontsize)\n",
    "\n",
    "plt.subplot(1, 2, 2) \n",
    "g2 = sns.boxplot(x=df['pm2.5'], orient=\"h\", palette=\"Set2\")\n",
    "g2.set_title('Box plot of PM2.5', fontsize=plot_fontsize)\n",
    "g2.set_xlabel('PM2.5 readings in µg/m³', fontsize=plot_fontsize)\n",
    "\n",
    "plt.show()"
   ]
  },
  {
   "cell_type": "code",
   "execution_count": 10,
   "id": "dd06a7b6-6437-4738-974c-e88274095440",
   "metadata": {},
   "outputs": [
    {
     "data": {
      "image/png": "[encoded data removed]",
      "text/plain": [
       "<Figure size 1500x800 with 2 Axes>"
      ]
     },
     "metadata": {},
     "output_type": "display_data"
    }
   ],
   "source": [
    "plt.figure(figsize=(15, 8))\n",
    "\n",
    "plt.subplot(1, 2, 1) \n",
    "g1 = sns.lineplot(data=df['PRES'])\n",
    "g1.set_title('Time series of Air Pressure', fontsize=plot_fontsize)\n",
    "g1.set_xlabel('Index', fontsize=plot_fontsize)\n",
    "g1.set_ylabel('Air Pressure readings in hPa', fontsize=plot_fontsize)\n",
    "\n",
    "plt.subplot(1, 2, 2)  \n",
    "g2 = sns.lineplot(data=df['pm2.5'])\n",
    "g2.set_title('Time series of PM2.5', fontsize=plot_fontsize)\n",
    "g2.set_xlabel('Index', fontsize=plot_fontsize)\n",
    "g2.set_ylabel('PM2.5 readings in µg/m³', fontsize=plot_fontsize)\n",
    "\n",
    "plt.show()"
   ]
  },
  {
   "attachments": {},
   "cell_type": "markdown",
   "id": "aa832d80-dad9-433b-9009-8458fad9aad1",
   "metadata": {},
   "source": [
    "- ***Los algoritmos de gradiente descendiente funcionan mejor (por ejemplo, convergen más rápido) si las variables están dentro del intervalo*** $[-1, 1]$. Muchas fuentes relajan el límite hasta $[-3, 3]$. La variable `PRES` es escalada con `minmax` para limitar la variable transformada dentro de $[0,1]$."
   ]
  },
  {
   "cell_type": "code",
   "execution_count": 11,
   "id": "4472833d-4c1a-4f3a-b986-393c28798ca1",
   "metadata": {},
   "outputs": [],
   "source": [
    "scaler = MinMaxScaler(feature_range=(0, 1))\n",
    "df['scaled_PRES'] = scaler.fit_transform(np.array(df['PRES']).reshape(-1, 1))"
   ]
  },
  {
   "cell_type": "markdown",
   "id": "1773b186-6d6b-44d8-9611-05267dcb7f7c",
   "metadata": {},
   "source": [
    "````{admonition} Observación\n",
    ":class: tip\n",
    "\n",
    "- Antes de entrenar el modelo, el conjunto de datos se divide en dos partes: el conjunto de ***entrenamiento*** y el conjunto de ***validación***. La red neuronal se entrena en el conjunto de entrenamiento. Esto significa que ***el cálculo de la función de pérdida, la propagación hacia atrás y los pesos actualizados mediante un algoritmo de gradiente descendiente se realizan en el conjunto de entrenamiento***.\n",
    "\n",
    "- ***El conjunto de validación se utiliza para evaluar el modelo y determinar el número de épocas en su entrenamiento***. Aumentar el número de épocas reducirá aún más la función de pérdida en el conjunto de entrenamiento, pero no necesariamente tendrá el mismo efecto en el conjunto de validación debido al sobreajuste en el conjunto de entrenamiento, por lo que ***el número de épocas se controla manteniendo una evaluación y verificación sobre la función de pérdida calculada para el conjunto de validación***.\n",
    "````"
   ]
  },
  {
   "attachments": {},
   "cell_type": "markdown",
   "id": "e7aa810f-11b1-4b69-b738-34baa6c43064",
   "metadata": {},
   "source": [
    "- Utilizamos `Keras` con el backend `Tensorflow` para definir y entrenar el modelo. Todos los pasos implicados en el entrenamiento y validación del modelo se realizan llamando a las funciones apropiadas de la `API` de `Keras`."
   ]
  },
  {
   "attachments": {},
   "cell_type": "markdown",
   "id": "de0f8e9a",
   "metadata": {},
   "source": [
    "- Los cuatro primeros años, ***de 2010 a 2013, se utilizan como entrenamiento y\n",
    "2014 se utiliza para la validación***"
   ]
  },
  {
   "cell_type": "code",
   "execution_count": 12,
   "id": "ffa97b07-9ac9-4dc5-8fcb-6ead7e7ff5f7",
   "metadata": {},
   "outputs": [
    {
     "name": "stdout",
     "output_type": "stream",
     "text": [
      "Shape of train: (35064, 9)\n",
      "Shape of test: (8760, 9)\n"
     ]
    }
   ],
   "source": [
    "split_date = datetime.datetime(year=2014, month=1, day=1, hour=0)\n",
    "df_train = df.loc[df['datetime']<split_date]\n",
    "df_val = df.loc[df['datetime']>=split_date]\n",
    "print('Shape of train:', df_train.shape)\n",
    "print('Shape of test:', df_val.shape)"
   ]
  },
  {
   "cell_type": "code",
   "execution_count": 13,
   "id": "729942cc-84a1-4c84-b48b-08332cc35c70",
   "metadata": {},
   "outputs": [
    {
     "data": {
      "text/html": [
       "<div>\n",
       "<style scoped>\n",
       "    .dataframe tbody tr th:only-of-type {\n",
       "        vertical-align: middle;\n",
       "    }\n",
       "\n",
       "    .dataframe tbody tr th {\n",
       "        vertical-align: top;\n",
       "    }\n",
       "\n",
       "    .dataframe thead th {\n",
       "        text-align: right;\n",
       "    }\n",
       "</style>\n",
       "<table border=\"1\" class=\"dataframe\">\n",
       "  <thead>\n",
       "    <tr style=\"text-align: right;\">\n",
       "      <th></th>\n",
       "      <th>No</th>\n",
       "      <th>year</th>\n",
       "      <th>month</th>\n",
       "      <th>day</th>\n",
       "      <th>hour</th>\n",
       "      <th>pm2.5</th>\n",
       "      <th>PRES</th>\n",
       "      <th>datetime</th>\n",
       "      <th>scaled_PRES</th>\n",
       "    </tr>\n",
       "  </thead>\n",
       "  <tbody>\n",
       "    <tr>\n",
       "      <th>0</th>\n",
       "      <td>1</td>\n",
       "      <td>2010</td>\n",
       "      <td>1</td>\n",
       "      <td>1</td>\n",
       "      <td>0</td>\n",
       "      <td>NaN</td>\n",
       "      <td>1021.0</td>\n",
       "      <td>2010-01-01 00:00:00</td>\n",
       "      <td>0.545455</td>\n",
       "    </tr>\n",
       "    <tr>\n",
       "      <th>1</th>\n",
       "      <td>2</td>\n",
       "      <td>2010</td>\n",
       "      <td>1</td>\n",
       "      <td>1</td>\n",
       "      <td>1</td>\n",
       "      <td>NaN</td>\n",
       "      <td>1020.0</td>\n",
       "      <td>2010-01-01 01:00:00</td>\n",
       "      <td>0.527273</td>\n",
       "    </tr>\n",
       "    <tr>\n",
       "      <th>2</th>\n",
       "      <td>3</td>\n",
       "      <td>2010</td>\n",
       "      <td>1</td>\n",
       "      <td>1</td>\n",
       "      <td>2</td>\n",
       "      <td>NaN</td>\n",
       "      <td>1019.0</td>\n",
       "      <td>2010-01-01 02:00:00</td>\n",
       "      <td>0.509091</td>\n",
       "    </tr>\n",
       "    <tr>\n",
       "      <th>3</th>\n",
       "      <td>4</td>\n",
       "      <td>2010</td>\n",
       "      <td>1</td>\n",
       "      <td>1</td>\n",
       "      <td>3</td>\n",
       "      <td>NaN</td>\n",
       "      <td>1019.0</td>\n",
       "      <td>2010-01-01 03:00:00</td>\n",
       "      <td>0.509091</td>\n",
       "    </tr>\n",
       "    <tr>\n",
       "      <th>4</th>\n",
       "      <td>5</td>\n",
       "      <td>2010</td>\n",
       "      <td>1</td>\n",
       "      <td>1</td>\n",
       "      <td>4</td>\n",
       "      <td>NaN</td>\n",
       "      <td>1018.0</td>\n",
       "      <td>2010-01-01 04:00:00</td>\n",
       "      <td>0.490909</td>\n",
       "    </tr>\n",
       "  </tbody>\n",
       "</table>\n",
       "</div>"
      ],
      "text/plain": [
       "   No  year  month  day  hour  pm2.5    PRES            datetime  scaled_PRES\n",
       "0   1  2010      1    1     0    NaN  1021.0 2010-01-01 00:00:00     0.545455\n",
       "1   2  2010      1    1     1    NaN  1020.0 2010-01-01 01:00:00     0.527273\n",
       "2   3  2010      1    1     2    NaN  1019.0 2010-01-01 02:00:00     0.509091\n",
       "3   4  2010      1    1     3    NaN  1019.0 2010-01-01 03:00:00     0.509091\n",
       "4   5  2010      1    1     4    NaN  1018.0 2010-01-01 04:00:00     0.490909"
      ]
     },
     "execution_count": 13,
     "metadata": {},
     "output_type": "execute_result"
    }
   ],
   "source": [
    "df_train.head()"
   ]
  },
  {
   "cell_type": "code",
   "execution_count": 14,
   "id": "332e0b49-e150-4a10-b2a5-c92c1abfa3c8",
   "metadata": {},
   "outputs": [
    {
     "data": {
      "text/html": [
       "<div>\n",
       "<style scoped>\n",
       "    .dataframe tbody tr th:only-of-type {\n",
       "        vertical-align: middle;\n",
       "    }\n",
       "\n",
       "    .dataframe tbody tr th {\n",
       "        vertical-align: top;\n",
       "    }\n",
       "\n",
       "    .dataframe thead th {\n",
       "        text-align: right;\n",
       "    }\n",
       "</style>\n",
       "<table border=\"1\" class=\"dataframe\">\n",
       "  <thead>\n",
       "    <tr style=\"text-align: right;\">\n",
       "      <th></th>\n",
       "      <th>No</th>\n",
       "      <th>year</th>\n",
       "      <th>month</th>\n",
       "      <th>day</th>\n",
       "      <th>hour</th>\n",
       "      <th>pm2.5</th>\n",
       "      <th>PRES</th>\n",
       "      <th>datetime</th>\n",
       "      <th>scaled_PRES</th>\n",
       "    </tr>\n",
       "  </thead>\n",
       "  <tbody>\n",
       "    <tr>\n",
       "      <th>35064</th>\n",
       "      <td>35065</td>\n",
       "      <td>2014</td>\n",
       "      <td>1</td>\n",
       "      <td>1</td>\n",
       "      <td>0</td>\n",
       "      <td>24.0</td>\n",
       "      <td>1014.0</td>\n",
       "      <td>2014-01-01 00:00:00</td>\n",
       "      <td>0.418182</td>\n",
       "    </tr>\n",
       "    <tr>\n",
       "      <th>35065</th>\n",
       "      <td>35066</td>\n",
       "      <td>2014</td>\n",
       "      <td>1</td>\n",
       "      <td>1</td>\n",
       "      <td>1</td>\n",
       "      <td>53.0</td>\n",
       "      <td>1013.0</td>\n",
       "      <td>2014-01-01 01:00:00</td>\n",
       "      <td>0.400000</td>\n",
       "    </tr>\n",
       "    <tr>\n",
       "      <th>35066</th>\n",
       "      <td>35067</td>\n",
       "      <td>2014</td>\n",
       "      <td>1</td>\n",
       "      <td>1</td>\n",
       "      <td>2</td>\n",
       "      <td>65.0</td>\n",
       "      <td>1013.0</td>\n",
       "      <td>2014-01-01 02:00:00</td>\n",
       "      <td>0.400000</td>\n",
       "    </tr>\n",
       "    <tr>\n",
       "      <th>35067</th>\n",
       "      <td>35068</td>\n",
       "      <td>2014</td>\n",
       "      <td>1</td>\n",
       "      <td>1</td>\n",
       "      <td>3</td>\n",
       "      <td>70.0</td>\n",
       "      <td>1013.0</td>\n",
       "      <td>2014-01-01 03:00:00</td>\n",
       "      <td>0.400000</td>\n",
       "    </tr>\n",
       "    <tr>\n",
       "      <th>35068</th>\n",
       "      <td>35069</td>\n",
       "      <td>2014</td>\n",
       "      <td>1</td>\n",
       "      <td>1</td>\n",
       "      <td>4</td>\n",
       "      <td>79.0</td>\n",
       "      <td>1012.0</td>\n",
       "      <td>2014-01-01 04:00:00</td>\n",
       "      <td>0.381818</td>\n",
       "    </tr>\n",
       "  </tbody>\n",
       "</table>\n",
       "</div>"
      ],
      "text/plain": [
       "          No  year  month  day  hour  pm2.5    PRES            datetime  \\\n",
       "35064  35065  2014      1    1     0   24.0  1014.0 2014-01-01 00:00:00   \n",
       "35065  35066  2014      1    1     1   53.0  1013.0 2014-01-01 01:00:00   \n",
       "35066  35067  2014      1    1     2   65.0  1013.0 2014-01-01 02:00:00   \n",
       "35067  35068  2014      1    1     3   70.0  1013.0 2014-01-01 03:00:00   \n",
       "35068  35069  2014      1    1     4   79.0  1012.0 2014-01-01 04:00:00   \n",
       "\n",
       "       scaled_PRES  \n",
       "35064     0.418182  \n",
       "35065     0.400000  \n",
       "35066     0.400000  \n",
       "35067     0.400000  \n",
       "35068     0.381818  "
      ]
     },
     "execution_count": 14,
     "metadata": {},
     "output_type": "execute_result"
    }
   ],
   "source": [
    "df_val.head()"
   ]
  },
  {
   "attachments": {},
   "cell_type": "markdown",
   "id": "bc69b9c5",
   "metadata": {},
   "source": [
    "- Restablecemos los ***índices del conjunto de validación***"
   ]
  },
  {
   "cell_type": "code",
   "execution_count": 15,
   "id": "c53e29bb-e5aa-4a7c-b5ae-0076022a5e64",
   "metadata": {},
   "outputs": [],
   "source": [
    "df_val.reset_index(drop=True, inplace=True)"
   ]
  },
  {
   "cell_type": "code",
   "execution_count": 16,
   "id": "004cdfdf",
   "metadata": {},
   "outputs": [
    {
     "data": {
      "text/html": [
       "<div>\n",
       "<style scoped>\n",
       "    .dataframe tbody tr th:only-of-type {\n",
       "        vertical-align: middle;\n",
       "    }\n",
       "\n",
       "    .dataframe tbody tr th {\n",
       "        vertical-align: top;\n",
       "    }\n",
       "\n",
       "    .dataframe thead th {\n",
       "        text-align: right;\n",
       "    }\n",
       "</style>\n",
       "<table border=\"1\" class=\"dataframe\">\n",
       "  <thead>\n",
       "    <tr style=\"text-align: right;\">\n",
       "      <th></th>\n",
       "      <th>No</th>\n",
       "      <th>year</th>\n",
       "      <th>month</th>\n",
       "      <th>day</th>\n",
       "      <th>hour</th>\n",
       "      <th>pm2.5</th>\n",
       "      <th>PRES</th>\n",
       "      <th>datetime</th>\n",
       "      <th>scaled_PRES</th>\n",
       "    </tr>\n",
       "  </thead>\n",
       "  <tbody>\n",
       "    <tr>\n",
       "      <th>0</th>\n",
       "      <td>35065</td>\n",
       "      <td>2014</td>\n",
       "      <td>1</td>\n",
       "      <td>1</td>\n",
       "      <td>0</td>\n",
       "      <td>24.0</td>\n",
       "      <td>1014.0</td>\n",
       "      <td>2014-01-01 00:00:00</td>\n",
       "      <td>0.418182</td>\n",
       "    </tr>\n",
       "    <tr>\n",
       "      <th>1</th>\n",
       "      <td>35066</td>\n",
       "      <td>2014</td>\n",
       "      <td>1</td>\n",
       "      <td>1</td>\n",
       "      <td>1</td>\n",
       "      <td>53.0</td>\n",
       "      <td>1013.0</td>\n",
       "      <td>2014-01-01 01:00:00</td>\n",
       "      <td>0.400000</td>\n",
       "    </tr>\n",
       "    <tr>\n",
       "      <th>2</th>\n",
       "      <td>35067</td>\n",
       "      <td>2014</td>\n",
       "      <td>1</td>\n",
       "      <td>1</td>\n",
       "      <td>2</td>\n",
       "      <td>65.0</td>\n",
       "      <td>1013.0</td>\n",
       "      <td>2014-01-01 02:00:00</td>\n",
       "      <td>0.400000</td>\n",
       "    </tr>\n",
       "    <tr>\n",
       "      <th>3</th>\n",
       "      <td>35068</td>\n",
       "      <td>2014</td>\n",
       "      <td>1</td>\n",
       "      <td>1</td>\n",
       "      <td>3</td>\n",
       "      <td>70.0</td>\n",
       "      <td>1013.0</td>\n",
       "      <td>2014-01-01 03:00:00</td>\n",
       "      <td>0.400000</td>\n",
       "    </tr>\n",
       "    <tr>\n",
       "      <th>4</th>\n",
       "      <td>35069</td>\n",
       "      <td>2014</td>\n",
       "      <td>1</td>\n",
       "      <td>1</td>\n",
       "      <td>4</td>\n",
       "      <td>79.0</td>\n",
       "      <td>1012.0</td>\n",
       "      <td>2014-01-01 04:00:00</td>\n",
       "      <td>0.381818</td>\n",
       "    </tr>\n",
       "  </tbody>\n",
       "</table>\n",
       "</div>"
      ],
      "text/plain": [
       "      No  year  month  day  hour  pm2.5    PRES            datetime  \\\n",
       "0  35065  2014      1    1     0   24.0  1014.0 2014-01-01 00:00:00   \n",
       "1  35066  2014      1    1     1   53.0  1013.0 2014-01-01 01:00:00   \n",
       "2  35067  2014      1    1     2   65.0  1013.0 2014-01-01 02:00:00   \n",
       "3  35068  2014      1    1     3   70.0  1013.0 2014-01-01 03:00:00   \n",
       "4  35069  2014      1    1     4   79.0  1012.0 2014-01-01 04:00:00   \n",
       "\n",
       "   scaled_PRES  \n",
       "0     0.418182  \n",
       "1     0.400000  \n",
       "2     0.400000  \n",
       "3     0.400000  \n",
       "4     0.381818  "
      ]
     },
     "execution_count": 16,
     "metadata": {},
     "output_type": "execute_result"
    }
   ],
   "source": [
    "df_val.head()"
   ]
  },
  {
   "attachments": {},
   "cell_type": "markdown",
   "id": "92613b64",
   "metadata": {},
   "source": [
    "- También ***se grafican las series temporales de entrenamiento y validación normalizadas para PRES***."
   ]
  },
  {
   "cell_type": "code",
   "execution_count": 17,
   "id": "c9502c39-28ae-41ff-9f11-6069b6a3664c",
   "metadata": {
    "scrolled": true
   },
   "outputs": [
    {
     "data": {
      "image/png": "[encoded data removed]",
      "text/plain": [
       "<Figure size 1500x800 with 2 Axes>"
      ]
     },
     "metadata": {},
     "output_type": "display_data"
    }
   ],
   "source": [
    "plt.figure(figsize=(15, 8))\n",
    "\n",
    "plt.subplot(1, 2, 1) \n",
    "g1 = sns.lineplot(df_train['scaled_PRES'], color='b')\n",
    "g1.set_title('Time series of scaled Air Pressure in train set', fontsize=plot_fontsize)\n",
    "g1.set_xlabel('Index', fontsize=plot_fontsize)\n",
    "g1.set_ylabel('Scaled Air Pressure readings', fontsize=plot_fontsize);\n",
    "\n",
    "plt.subplot(1, 2, 2)\n",
    "g2 = sns.lineplot(df_val['scaled_PRES'], color='r')\n",
    "g2.set_title('Time series of scaled Air Pressure in validation set', fontsize=plot_fontsize)\n",
    "g2.set_xlabel('Index', fontsize=plot_fontsize)\n",
    "g2.set_ylabel('Scaled Air Pressure readings', fontsize=plot_fontsize);\n",
    "\n",
    "plt.show()"
   ]
  },
  {
   "cell_type": "markdown",
   "id": "fc60861e-7543-4d9d-8c94-03f347306989",
   "metadata": {},
   "source": [
    "````{admonition} Regresores y Variable Objetivo\n",
    ":class: tip \n",
    "\n",
    "- Ahora necesitamos generar los ***regresores*** ($X$) y la ***variable objetivo*** ($y$) para el entrenamiento y la validación. ***La matriz bidimensional de regresores y la matriz unidimensional objetivo se crean a partir de la matriz unidimensional original de la columna standardized_PRES*** en el *DataFrame*. \n",
    "\n",
    "- Para el modelo de predicción de series temporales, de este ejemplo, ***se utilizan las observaciones de los últimos siete días para predecir el día siguiente***. Esto equivale a un modelo $AR(7)$. Definimos una función que toma la serie temporal original y el número de pasos temporales en regresores como entrada para generar las matrices $X$ e $y$\n",
    "````"
   ]
  },
  {
   "cell_type": "code",
   "execution_count": 18,
   "id": "c7a55e64-7617-4cb6-bf5b-9cfa1f84cec8",
   "metadata": {},
   "outputs": [],
   "source": [
    "def makeXy(ts, nb_timesteps):\n",
    "    \"\"\"\n",
    "    Input: \n",
    "           ts: original time series\n",
    "           nb_timesteps: number of time steps in the regressors\n",
    "    Output: \n",
    "           X: 2-D array of regressors\n",
    "           y: 1-D array of target \n",
    "    \"\"\"\n",
    "    X = []\n",
    "    y = []\n",
    "    for i in range(nb_timesteps, ts.shape[0]):\n",
    "        if i-nb_timesteps <= 4:\n",
    "            print(i-nb_timesteps, i-1, i)\n",
    "        X.append(list(ts.loc[i-nb_timesteps:i-1])) #Regressors\n",
    "        y.append(ts.loc[i]) #Target\n",
    "    X, y = np.array(X), np.array(y)\n",
    "    return X, y"
   ]
  },
  {
   "cell_type": "code",
   "execution_count": 19,
   "id": "bc73f05e-1270-4e41-a571-66e1c4dba0e3",
   "metadata": {},
   "outputs": [
    {
     "name": "stdout",
     "output_type": "stream",
     "text": [
      "0 6 7\n",
      "1 7 8\n",
      "2 8 9\n",
      "3 9 10\n",
      "4 10 11\n"
     ]
    }
   ],
   "source": [
    "X_train, y_train = makeXy(df_train['scaled_PRES'], 7)"
   ]
  },
  {
   "cell_type": "code",
   "execution_count": 20,
   "id": "a887d109-ad41-4a31-96a5-71d368113d55",
   "metadata": {},
   "outputs": [
    {
     "name": "stdout",
     "output_type": "stream",
     "text": [
      "Shape of train arrays: (35057, 7) (35057,)\n"
     ]
    }
   ],
   "source": [
    "print('Shape of train arrays:', X_train.shape, y_train.shape)"
   ]
  },
  {
   "cell_type": "code",
   "execution_count": 21,
   "id": "01112e51-66f3-4e45-a3f8-166d6d033fa4",
   "metadata": {},
   "outputs": [
    {
     "name": "stdout",
     "output_type": "stream",
     "text": [
      "0 6 7\n",
      "1 7 8\n",
      "2 8 9\n",
      "3 9 10\n",
      "4 10 11\n"
     ]
    }
   ],
   "source": [
    "X_val, y_val = makeXy(df_val['scaled_PRES'], 7)"
   ]
  },
  {
   "cell_type": "code",
   "execution_count": 22,
   "id": "ad21a260-2422-4b52-861f-00d1fdbd0835",
   "metadata": {},
   "outputs": [
    {
     "name": "stdout",
     "output_type": "stream",
     "text": [
      "Shape of validation arrays: (8753, 7) (8753,)\n"
     ]
    }
   ],
   "source": [
    "print('Shape of validation arrays:', X_val.shape, y_val.shape)"
   ]
  },
  {
   "attachments": {},
   "cell_type": "markdown",
   "id": "dd2bbd5d-497c-4d6d-9e71-c5686acbf0af",
   "metadata": {},
   "source": [
    "- Ahora definimos la red `MLP` utilizando la `API` funcional de `Keras`. En este enfoque ***una capa puede ser declarada como la entrada de la siguiente capa en el momento de definir la siguiente***"
   ]
  },
  {
   "cell_type": "code",
   "execution_count": 23,
   "id": "be886073-c185-4004-9b44-4208ec8a6106",
   "metadata": {},
   "outputs": [],
   "source": [
    "input_layer = Input(shape=(7,), dtype='float32')"
   ]
  },
  {
   "cell_type": "markdown",
   "id": "be6b85a6-f7ee-4686-b740-051fe2f2fef5",
   "metadata": {},
   "source": [
    "- En este caso, `Input` es una función que se utiliza para ***crear una capa de entrada en un modelo de red neuronal***. `shape=(7,)` específica la ***forma de los datos de entrada***. En este caso, *significa que los datos de entrada tendrán 7 dimensiones*. `dtype='float32'` especifica el ***tipo de datos de los elementos de la capa de entrada**. En este caso, son números de punto *flotante de 32 bits*."
   ]
  },
  {
   "attachments": {},
   "cell_type": "markdown",
   "id": "a10ae5e4",
   "metadata": {},
   "source": [
    "- Las capas densas las definimos en esta caso con ***activación lineal***. Puede utilizar un `GridSearch` tal como se hizo en el curso de ***Machine Learning*** para encontrar ***hiperparámetros adecuados minimizando las métricas de regresión***."
   ]
  },
  {
   "cell_type": "code",
   "execution_count": 24,
   "id": "b99ec29a-c723-4b64-9460-c0049175738b",
   "metadata": {},
   "outputs": [],
   "source": [
    "dense1 = Dense(32, activation='linear')(input_layer)\n",
    "dense2 = Dense(16, activation='linear')(dense1)\n",
    "dense3 = Dense(16, activation='linear')(dense2)"
   ]
  },
  {
   "cell_type": "markdown",
   "id": "af7610ce-6e4c-4dc0-8b4c-70347db29563",
   "metadata": {},
   "source": [
    "````{admonition} **Dense** e **input_layer**\n",
    ":class: tip\n",
    "\n",
    "- ***`Dense`***: Correspone a una ***capa totalmente conectada*** (fully connected).\n",
    "- ***Unidades (Neurons)***: 32 neuronas.\n",
    "- ***`dense1`***: Esta capa ***toma como entrada*** `input_layer`, que puede ser la ***capa de entrada del modelo u otra capa anterior***. \n",
    "- ***`dense2`***: Esta capa ***toma como entrada la salida de*** `dense1`. Esto significa que ***los 32 valores de salida de*** `dense1` ***se usan como entrada para*** `dense2`. Similarmente, ocurre con `dense3`\n",
    "````"
   ]
  },
  {
   "cell_type": "markdown",
   "id": "b3211d10-1a02-4215-9404-b64879a62d24",
   "metadata": {},
   "source": [
    "````{admonition} Observación\n",
    "\n",
    "- Las ***múltiples capas ocultas y el gran número de neuronas en cada capa oculta*** le dan a las redes neuronales la ***capacidad de modelar la compleja no linealidad de las relaciones subyacentes entre los regresores y el objetivo***. Sin embargo, las redes neuronales profundas también ***pueden sobreajustar los datos de entrenamiento*** y dar malos resultados en el conjunto de validación o prueba. La función `Dropout` se ha utilizado eficazmente para ***regularizar las redes neuronales profundas***. \n",
    "````"
   ]
  },
  {
   "attachments": {},
   "cell_type": "markdown",
   "id": "ce184bdc-cd8e-4e65-a796-5511eb73eb44",
   "metadata": {},
   "source": [
    "- En este ejemplo, se añade una capa `Dropout` antes de la capa de salida. ***Dropout aleatoriamente establece*** $p$ ***fracción de neuronas de entrada a cero antes de pasar a la siguiente capa***. La eliminación aleatoria de entradas actúa esencialmente como un tipo de ensamblaje de modelos de agregación `bootstrap`. Al ***apagar neuronas aleatoriamente***, `Dropout` está ***forzando a la red a no depender excesivamente de ninguna unidad específica, mejorando la generalización***.\n",
    "\n",
    "- Por ejemplo, ***el bosque aleatorio utiliza el ensamblaje mediante la construcción de árboles en subconjuntos aleatorios de características de entrada***. Utilizamos $p=0.2$ para *descartar el 20% de las características de entrada seleccionadas aleatoriamente*."
   ]
  },
  {
   "cell_type": "code",
   "execution_count": 25,
   "id": "c7ceb83d-80b3-434e-8692-be0276b10da7",
   "metadata": {},
   "outputs": [],
   "source": [
    "dropout_layer = Dropout(0.2)(dense3)"
   ]
  },
  {
   "attachments": {},
   "cell_type": "markdown",
   "id": "8c7ab57b",
   "metadata": {},
   "source": [
    "- Por último, ***la capa de salida predice la presión atmosférica del día siguiente***"
   ]
  },
  {
   "cell_type": "code",
   "execution_count": 26,
   "id": "68b46b0f-2366-401f-8242-9171d929c041",
   "metadata": {},
   "outputs": [],
   "source": [
    "output_layer = Dense(1, activation='linear')(dropout_layer)"
   ]
  },
  {
   "attachments": {},
   "cell_type": "markdown",
   "id": "645ab321-4dc5-4cf6-8092-ec63171b9d95",
   "metadata": {},
   "source": [
    "- Las capas de entrada, densa y de salida se empaquetarán ahora dentro de un modelo, que es una clase envolvente para entrenar y hacer predicciones. ***Como función de pérdida se utiliza el error cuadrático medio*** (MSE). Los pesos de la red se optimizan mediante el algoritmo `Adam`. `Adam` significa ***Estimación Adaptativa de Momentos*** y ha sido una opción popular para el entrenamiento de redes neuronales profundas. \n",
    "\n",
    "- A diferencia del ***Gradiente Descendiente Estocástico, Adam utiliza diferentes tasas de aprendizaje para cada peso y las actualiza por separado a medida que avanza el entrenamiento***. La tasa de aprendizaje de un peso se actualiza basándose en medias móviles ponderadas exponencialmente de los gradientes del peso y los gradientes al cuadrado."
   ]
  },
  {
   "cell_type": "code",
   "execution_count": 27,
   "id": "36c43496-9cf8-4085-9032-764fb5bf45db",
   "metadata": {},
   "outputs": [
    {
     "name": "stdout",
     "output_type": "stream",
     "text": [
      "Model: \"model\"\n",
      "_________________________________________________________________\n",
      " Layer (type)                Output Shape              Param #   \n",
      "=================================================================\n",
      " input_1 (InputLayer)        [(None, 7)]               0         \n",
      "                                                                 \n",
      " dense (Dense)               (None, 32)                256       \n",
      "                                                                 \n",
      " dense_1 (Dense)             (None, 16)                528       \n",
      "                                                                 \n",
      " dense_2 (Dense)             (None, 16)                272       \n",
      "                                                                 \n",
      " dropout (Dropout)           (None, 16)                0         \n",
      "                                                                 \n",
      " dense_3 (Dense)             (None, 1)                 17        \n",
      "                                                                 \n",
      "=================================================================\n",
      "Total params: 1,073\n",
      "Trainable params: 1,073\n",
      "Non-trainable params: 0\n",
      "_________________________________________________________________\n"
     ]
    }
   ],
   "source": [
    "ts_model = Model(inputs=input_layer, outputs=output_layer)\n",
    "ts_model.compile(loss='mean_squared_error', optimizer='adam')\n",
    "ts_model.summary()"
   ]
  },
  {
   "cell_type": "markdown",
   "id": "80cdd03d-0d36-4b63-a467-4df2e5d02faf",
   "metadata": {},
   "source": [
    "````{admonition} Observación\n",
    ":class: tip\n",
    "\n",
    "- En este caso, `Params #` es calculado mediante la fórmula: ***`Param # = #Entradas x #Neuronas + #Neuronas`***. Esto incluye los ***pesos de cada conexión entre las entradas y las neuronas*** y un ***bias para cada neurona***. En este caso `Params # = 7x32 + 32 = 256`.\n",
    "\n",
    "- El modelo se entrena llamando a la función `fit()` en el objeto modelo y pasándole `X_train` y `y_train`. El entrenamiento se realiza para un ***número predefinido de épocas***. Además, `batch_size` define el ***número de muestras del conjunto de entrenamiento que se utilizarán para una instancia de backpropagation***.\n",
    "````"
   ]
  },
  {
   "attachments": {},
   "cell_type": "markdown",
   "id": "b7dd0f9c-b040-42e5-8f13-3f102bde03b4",
   "metadata": {},
   "source": [
    "- El conjunto de datos de validación también se pasa para evaluar el modelo después de cada `epoch` completa. Un objeto ***`ModelCheckpoint` rastrea la función de pérdida en el conjunto de validación y guarda el modelo para la época en la que la función de pérdida ha sido mínima***."
   ]
  },
  {
   "cell_type": "markdown",
   "id": "d39cab46",
   "metadata": {},
   "source": []
  },
  {
   "cell_type": "code",
   "execution_count": 28,
   "id": "c4ba19c7-d98e-401f-981d-df72e772d59b",
   "metadata": {},
   "outputs": [],
   "source": [
    "save_weights_at = os.path.join('keras_models', 'PRSA_data_Air_Pressure_MLP_weights.{epoch:02d}-{val_loss:.4f}.keras')\n",
    "save_best = ModelCheckpoint(save_weights_at, monitor='val_loss', verbose=0,\n",
    "                            save_best_only=True, save_weights_only=False, mode='min', save_freq='epoch');"
   ]
  },
  {
   "cell_type": "markdown",
   "id": "80efe221-6854-4f47-8014-9558f3e4d6c1",
   "metadata": {},
   "source": [
    "- Aquí `val_loss` es el ***valor de la función de coste para los datos de validación cruzada*** y `loss` es el ***valor de la función de coste para los datos de entrenamiento***. Con `verbose=0`, no se imprime ningún mensaje en la consola durante el proceso de guardado del modelo. `period=1` indica que ***el modelo se evaluará y potencialmente se guardará después de cada época***."
   ]
  },
  {
   "cell_type": "markdown",
   "id": "4b2cdea6-4a1c-4234-9391-cc914ca22980",
   "metadata": {},
   "source": [
    "````python\n",
    "ts_model.fit(x=X_train, y=y_train, batch_size=16, epochs=20,\n",
    "             verbose=2, callbacks=[save_best], validation_data=(X_val, y_val),\n",
    "             shuffle=True);\n",
    "````"
   ]
  },
  {
   "cell_type": "markdown",
   "id": "6d545e37",
   "metadata": {},
   "source": [
    "```{figure} ./figures/airpresure_mlp_epochs.png\n",
    ":scale: 100\n",
    "\n",
    "```"
   ]
  },
  {
   "cell_type": "markdown",
   "id": "8d1c0fc5-bca1-4d6e-b4e6-1d89f821707c",
   "metadata": {},
   "source": [
    "- En este caso, el modo `verbose=2` muestra una ***barra de progreso por cada época***. Los modos posibles son: `0` para no mostrar nada, `1` para mostrar la barra de progreso, `2` para mostrar una línea por época. Las ***muestras se mezclan aleatoriamente antes de cada época*** (`shuffle=True`)."
   ]
  },
  {
   "cell_type": "markdown",
   "id": "894c81f0-eb15-4ff9-beaf-a5dabefd7185",
   "metadata": {},
   "source": [
    "- Se hacen predicciones para la presión atmosférica a partir del mejor modelo guardado. ***Las predicciones del modelo sobre la presión atmosférica escalada, se transforman inversamente para obtener predicciones sobre la presión atmosférica original***. También se calcula la bondad de ajuste o ***`R cuadrado`***."
   ]
  },
  {
   "cell_type": "code",
   "execution_count": 29,
   "id": "00873c64-2a24-4ccb-bf52-1e752633b79c",
   "metadata": {},
   "outputs": [
    {
     "ename": "OSError",
     "evalue": "Unable to open file (file signature not found)",
     "output_type": "error",
     "traceback": [
      "\u001b[1;31m---------------------------------------------------------------------------\u001b[0m",
      "\u001b[1;31mOSError\u001b[0m                                   Traceback (most recent call last)",
      "Cell \u001b[1;32mIn[29], line 1\u001b[0m\n\u001b[1;32m----> 1\u001b[0m best_model \u001b[38;5;241m=\u001b[39m \u001b[43mload_model\u001b[49m\u001b[43m(\u001b[49m\u001b[43mos\u001b[49m\u001b[38;5;241;43m.\u001b[39;49m\u001b[43mpath\u001b[49m\u001b[38;5;241;43m.\u001b[39;49m\u001b[43mjoin\u001b[49m\u001b[43m(\u001b[49m\u001b[38;5;124;43m'\u001b[39;49m\u001b[38;5;124;43mkeras_models\u001b[39;49m\u001b[38;5;124;43m'\u001b[39;49m\u001b[43m,\u001b[49m\u001b[43m \u001b[49m\u001b[38;5;124;43m'\u001b[39;49m\u001b[38;5;124;43mPRSA_data_Air_Pressure_MLP_weights.05-0.0001.keras\u001b[39;49m\u001b[38;5;124;43m'\u001b[39;49m\u001b[43m)\u001b[49m\u001b[43m,\u001b[49m\u001b[43m \u001b[49m\u001b[38;5;28;43mcompile\u001b[39;49m\u001b[38;5;241;43m=\u001b[39;49m\u001b[38;5;28;43;01mFalse\u001b[39;49;00m\u001b[43m)\u001b[49m\n\u001b[0;32m      2\u001b[0m preds \u001b[38;5;241m=\u001b[39m best_model\u001b[38;5;241m.\u001b[39mpredict(X_val)\n\u001b[0;32m      3\u001b[0m pred_PRES \u001b[38;5;241m=\u001b[39m scaler\u001b[38;5;241m.\u001b[39minverse_transform(preds)\n",
      "File \u001b[1;32m~\\Anaconda3\\envs\\ml_tf\\lib\\site-packages\\keras\\utils\\traceback_utils.py:70\u001b[0m, in \u001b[0;36mfilter_traceback.<locals>.error_handler\u001b[1;34m(*args, **kwargs)\u001b[0m\n\u001b[0;32m     67\u001b[0m     filtered_tb \u001b[38;5;241m=\u001b[39m _process_traceback_frames(e\u001b[38;5;241m.\u001b[39m__traceback__)\n\u001b[0;32m     68\u001b[0m     \u001b[38;5;66;03m# To get the full stack trace, call:\u001b[39;00m\n\u001b[0;32m     69\u001b[0m     \u001b[38;5;66;03m# `tf.debugging.disable_traceback_filtering()`\u001b[39;00m\n\u001b[1;32m---> 70\u001b[0m     \u001b[38;5;28;01mraise\u001b[39;00m e\u001b[38;5;241m.\u001b[39mwith_traceback(filtered_tb) \u001b[38;5;28;01mfrom\u001b[39;00m \u001b[38;5;28;01mNone\u001b[39;00m\n\u001b[0;32m     71\u001b[0m \u001b[38;5;28;01mfinally\u001b[39;00m:\n\u001b[0;32m     72\u001b[0m     \u001b[38;5;28;01mdel\u001b[39;00m filtered_tb\n",
      "File \u001b[1;32m~\\Anaconda3\\envs\\ml_tf\\lib\\site-packages\\h5py\\_hl\\files.py:567\u001b[0m, in \u001b[0;36mFile.__init__\u001b[1;34m(self, name, mode, driver, libver, userblock_size, swmr, rdcc_nslots, rdcc_nbytes, rdcc_w0, track_order, fs_strategy, fs_persist, fs_threshold, fs_page_size, page_buf_size, min_meta_keep, min_raw_keep, locking, alignment_threshold, alignment_interval, meta_block_size, **kwds)\u001b[0m\n\u001b[0;32m    558\u001b[0m     fapl \u001b[38;5;241m=\u001b[39m make_fapl(driver, libver, rdcc_nslots, rdcc_nbytes, rdcc_w0,\n\u001b[0;32m    559\u001b[0m                      locking, page_buf_size, min_meta_keep, min_raw_keep,\n\u001b[0;32m    560\u001b[0m                      alignment_threshold\u001b[38;5;241m=\u001b[39malignment_threshold,\n\u001b[0;32m    561\u001b[0m                      alignment_interval\u001b[38;5;241m=\u001b[39malignment_interval,\n\u001b[0;32m    562\u001b[0m                      meta_block_size\u001b[38;5;241m=\u001b[39mmeta_block_size,\n\u001b[0;32m    563\u001b[0m                      \u001b[38;5;241m*\u001b[39m\u001b[38;5;241m*\u001b[39mkwds)\n\u001b[0;32m    564\u001b[0m     fcpl \u001b[38;5;241m=\u001b[39m make_fcpl(track_order\u001b[38;5;241m=\u001b[39mtrack_order, fs_strategy\u001b[38;5;241m=\u001b[39mfs_strategy,\n\u001b[0;32m    565\u001b[0m                      fs_persist\u001b[38;5;241m=\u001b[39mfs_persist, fs_threshold\u001b[38;5;241m=\u001b[39mfs_threshold,\n\u001b[0;32m    566\u001b[0m                      fs_page_size\u001b[38;5;241m=\u001b[39mfs_page_size)\n\u001b[1;32m--> 567\u001b[0m     fid \u001b[38;5;241m=\u001b[39m make_fid(name, mode, userblock_size, fapl, fcpl, swmr\u001b[38;5;241m=\u001b[39mswmr)\n\u001b[0;32m    569\u001b[0m \u001b[38;5;28;01mif\u001b[39;00m \u001b[38;5;28misinstance\u001b[39m(libver, \u001b[38;5;28mtuple\u001b[39m):\n\u001b[0;32m    570\u001b[0m     \u001b[38;5;28mself\u001b[39m\u001b[38;5;241m.\u001b[39m_libver \u001b[38;5;241m=\u001b[39m libver\n",
      "File \u001b[1;32m~\\Anaconda3\\envs\\ml_tf\\lib\\site-packages\\h5py\\_hl\\files.py:231\u001b[0m, in \u001b[0;36mmake_fid\u001b[1;34m(name, mode, userblock_size, fapl, fcpl, swmr)\u001b[0m\n\u001b[0;32m    229\u001b[0m     \u001b[38;5;28;01mif\u001b[39;00m swmr \u001b[38;5;129;01mand\u001b[39;00m swmr_support:\n\u001b[0;32m    230\u001b[0m         flags \u001b[38;5;241m|\u001b[39m\u001b[38;5;241m=\u001b[39m h5f\u001b[38;5;241m.\u001b[39mACC_SWMR_READ\n\u001b[1;32m--> 231\u001b[0m     fid \u001b[38;5;241m=\u001b[39m \u001b[43mh5f\u001b[49m\u001b[38;5;241;43m.\u001b[39;49m\u001b[43mopen\u001b[49m\u001b[43m(\u001b[49m\u001b[43mname\u001b[49m\u001b[43m,\u001b[49m\u001b[43m \u001b[49m\u001b[43mflags\u001b[49m\u001b[43m,\u001b[49m\u001b[43m \u001b[49m\u001b[43mfapl\u001b[49m\u001b[38;5;241;43m=\u001b[39;49m\u001b[43mfapl\u001b[49m\u001b[43m)\u001b[49m\n\u001b[0;32m    232\u001b[0m \u001b[38;5;28;01melif\u001b[39;00m mode \u001b[38;5;241m==\u001b[39m \u001b[38;5;124m'\u001b[39m\u001b[38;5;124mr+\u001b[39m\u001b[38;5;124m'\u001b[39m:\n\u001b[0;32m    233\u001b[0m     fid \u001b[38;5;241m=\u001b[39m h5f\u001b[38;5;241m.\u001b[39mopen(name, h5f\u001b[38;5;241m.\u001b[39mACC_RDWR, fapl\u001b[38;5;241m=\u001b[39mfapl)\n",
      "File \u001b[1;32mh5py\\_objects.pyx:54\u001b[0m, in \u001b[0;36mh5py._objects.with_phil.wrapper\u001b[1;34m()\u001b[0m\n",
      "File \u001b[1;32mh5py\\_objects.pyx:55\u001b[0m, in \u001b[0;36mh5py._objects.with_phil.wrapper\u001b[1;34m()\u001b[0m\n",
      "File \u001b[1;32mh5py\\h5f.pyx:106\u001b[0m, in \u001b[0;36mh5py.h5f.open\u001b[1;34m()\u001b[0m\n",
      "\u001b[1;31mOSError\u001b[0m: Unable to open file (file signature not found)"
     ]
    }
   ],
   "source": [
    "best_model = load_model(os.path.join('keras_models', 'PRSA_data_Air_Pressure_MLP_weights.05-0.0001.keras'), compile=False)\n",
    "preds = best_model.predict(X_val)\n",
    "pred_PRES = scaler.inverse_transform(preds)\n",
    "pred_PRES = np.squeeze(pred_PRES)"
   ]
  },
  {
   "cell_type": "code",
   "execution_count": null,
   "id": "1df985d8-770b-432b-9cfb-af087354bb1c",
   "metadata": {
    "scrolled": true
   },
   "outputs": [],
   "source": [
    "r2 = r2_score(df_val['PRES'].loc[7:], pred_PRES)\n",
    "print('R-squared for the validation set:', round(r2,4))"
   ]
  },
  {
   "cell_type": "code",
   "execution_count": null,
   "id": "7da1d17d-b171-4c17-8a83-d55bbe56c9cc",
   "metadata": {},
   "outputs": [],
   "source": [
    "plt.figure(figsize=(5.5, 5.5))\n",
    "plt.plot(range(50), df_val['PRES'].loc[7:56], linestyle='-', marker='*', color='r')\n",
    "plt.plot(range(50), pred_PRES[:50], linestyle='-', marker='.', color='b')\n",
    "plt.legend(['Actual','Predicted'], loc=2)\n",
    "plt.title('Actual vs Predicted Air Pressure')\n",
    "plt.ylabel('Air Pressure')\n",
    "plt.xlabel('Index');"
   ]
  },
  {
   "cell_type": "markdown",
   "id": "fde63aa7-bfdc-4749-940e-1c8f38fb04c8",
   "metadata": {},
   "source": [
    "- Para ***predecir la variable*** `pm2.5` usando `MLP` usamos la implementación presentada a continuación"
   ]
  },
  {
   "cell_type": "code",
   "execution_count": null,
   "id": "e2561f2a-2f7d-4c04-b931-3dff595e1fbe",
   "metadata": {},
   "outputs": [],
   "source": [
    "df = pd.read_csv('datasets/PRSA_data_2010.1.1-2014.12.31.csv', usecols=lambda column: column not in ['DEWP', 'TEMP', 'cbwd', 'Iws',\t'Is', 'Ir'])"
   ]
  },
  {
   "cell_type": "code",
   "execution_count": null,
   "id": "1845ffa1-a12a-4896-829b-f4f1aa274688",
   "metadata": {},
   "outputs": [],
   "source": [
    "print('Shape of the dataframe:', df.shape)"
   ]
  },
  {
   "cell_type": "code",
   "execution_count": null,
   "id": "58dcc1d5-fe53-49bd-b72e-857a9fc05c02",
   "metadata": {
    "scrolled": true
   },
   "outputs": [],
   "source": [
    "df.head()"
   ]
  },
  {
   "cell_type": "markdown",
   "id": "6832ee5b-e75a-481b-aa99-272ea11a1c48",
   "metadata": {},
   "source": [
    "- Las ***filas con valores NaN*** en la columna pm2.5 ***se eliminan***"
   ]
  },
  {
   "cell_type": "code",
   "execution_count": null,
   "id": "1b0d5c24-4291-4e74-b520-548651a345a1",
   "metadata": {},
   "outputs": [],
   "source": [
    "df.dropna(subset=['pm2.5'], axis=0, inplace=True)\n",
    "df.reset_index(drop=True, inplace=True)"
   ]
  },
  {
   "cell_type": "code",
   "execution_count": null,
   "id": "7efb2776-a751-46e5-baf9-72566a1e1939",
   "metadata": {},
   "outputs": [],
   "source": [
    "df['datetime'] = df[['year', 'month', 'day', 'hour']].apply(lambda row: datetime.datetime(year=row['year'], month=row['month'], day=row['day'],\n",
    "                                                                                          hour=row['hour']), axis=1)\n",
    "df.sort_values('datetime', ascending=True, inplace=True)"
   ]
  },
  {
   "cell_type": "code",
   "execution_count": null,
   "id": "5ff3714d-d652-4d86-9dd3-2c0cadf6f521",
   "metadata": {},
   "outputs": [],
   "source": [
    "plt.figure(figsize=(15, 8))\n",
    "\n",
    "plt.subplot(1, 2, 1) \n",
    "g1 = sns.boxplot(df['pm2.5'], orient=\"h\", palette=\"Set2\")\n",
    "g1.set_title('Box plot of pm2.5', fontsize=plot_fontsize);\n",
    "g1.set_xlabel(xlabel='pm2.5', fontsize=plot_fontsize)\n",
    "g1.set(yticklabels=[])\n",
    "g1.tick_params(left=False);\n",
    "\n",
    "plt.subplot(1, 2, 2)\n",
    "g2 = sns.lineplot(df['pm2.5'])\n",
    "g2.set_title('Time series of pm2.5', fontsize=plot_fontsize)\n",
    "g2.set_xlabel('Index', fontsize=plot_fontsize)\n",
    "g2.set_ylabel('pm2.5 readings');\n",
    "\n",
    "plt.show()"
   ]
  },
  {
   "cell_type": "code",
   "execution_count": null,
   "id": "b9f3aa81-1ed2-4b1b-bc63-0527fc31d0a7",
   "metadata": {},
   "outputs": [],
   "source": [
    "plt.figure(figsize=(15, 8))\n",
    "\n",
    "plt.subplot(1, 2, 1)\n",
    "g1 = sns.lineplot(df['pm2.5'].loc[df['datetime']<=datetime.datetime(year=2010,month=6,day=30)], color='g')\n",
    "g1.set_title('pm2.5 during 2010', fontsize=plot_fontsize)\n",
    "g1.set_xlabel('Index', fontsize=plot_fontsize)\n",
    "g1.set_ylabel('pm2.5 readings', fontsize=plot_fontsize);\n",
    "\n",
    "plt.subplot(1, 2, 2)\n",
    "g = sns.lineplot(df['pm2.5'].loc[df['datetime']<=datetime.datetime(year=2010,month=1,day=31)], color='g')\n",
    "g.set_title('Zoom in on one month: pm2.5 during Jan 2010', fontsize=plot_fontsize)\n",
    "g.set_xlabel('Index', fontsize=plot_fontsize)\n",
    "g.set_ylabel('pm2.5 readings', fontsize=plot_fontsize);\n",
    "\n",
    "plt.show()"
   ]
  },
  {
   "cell_type": "code",
   "execution_count": null,
   "id": "3418624d-9f50-4626-83cd-53fc605c4bee",
   "metadata": {},
   "outputs": [],
   "source": [
    "scaler = MinMaxScaler(feature_range=(0, 1))\n",
    "df['scaled_pm2.5'] = scaler.fit_transform(np.array(df['pm2.5']).reshape(-1, 1))"
   ]
  },
  {
   "cell_type": "code",
   "execution_count": null,
   "id": "07991c5b-9bd5-4104-8137-41fcaae2809c",
   "metadata": {},
   "outputs": [],
   "source": [
    "split_date = datetime.datetime(year=2014, month=1, day=1, hour=0)\n",
    "df_train = df.loc[df['datetime']<split_date]\n",
    "df_val = df.loc[df['datetime']>=split_date]\n",
    "print('Shape of train:', df_train.shape)\n",
    "print('Shape of test:', df_val.shape)"
   ]
  },
  {
   "cell_type": "code",
   "execution_count": null,
   "id": "97609de5-11cf-48fa-b5b7-111b99c4cb5a",
   "metadata": {},
   "outputs": [],
   "source": [
    "df_train.head()"
   ]
  },
  {
   "cell_type": "code",
   "execution_count": null,
   "id": "6b918945-ced9-4b0f-b059-84825d4ca7c4",
   "metadata": {},
   "outputs": [],
   "source": [
    "df_val.head()"
   ]
  },
  {
   "cell_type": "code",
   "execution_count": null,
   "id": "eb868c0b-5c1f-4460-9973-f2e3d6f68553",
   "metadata": {},
   "outputs": [],
   "source": [
    "df_val.reset_index(drop=True, inplace=True)"
   ]
  },
  {
   "cell_type": "code",
   "execution_count": null,
   "id": "ccd8cff0-4215-4231-b37d-a4cd6525d5d0",
   "metadata": {},
   "outputs": [],
   "source": [
    "plt.figure(figsize=(15, 8))\n",
    "\n",
    "plt.subplot(1, 2, 1)\n",
    "g1 = sns.lineplot(df_train['scaled_pm2.5'], color='b')\n",
    "g1.set_title('Time series of scaled pm2.5 in train set', fontsize=plot_fontsize)\n",
    "g1.set_xlabel('Index', fontsize=plot_fontsize)\n",
    "g1.set_ylabel('Scaled pm2.5 readings', fontsize=plot_fontsize);\n",
    "\n",
    "plt.subplot(1, 2, 2)\n",
    "g2 = sns.lineplot(df_val['scaled_pm2.5'], color='r')\n",
    "g2.set_title('Time series of scaled pm2.5 in validation set', fontsize=plot_fontsize)\n",
    "g2.set_xlabel('Index', fontsize=plot_fontsize)\n",
    "g2.set_ylabel('Scaled pm2.5 readings', fontsize=plot_fontsize);\n",
    "\n",
    "plt.show()"
   ]
  },
  {
   "cell_type": "code",
   "execution_count": null,
   "id": "98c0fd23-7eb6-44dc-b4fe-910826123af7",
   "metadata": {},
   "outputs": [],
   "source": [
    "X_train, y_train = makeXy(df_train['scaled_pm2.5'], 7)"
   ]
  },
  {
   "cell_type": "code",
   "execution_count": null,
   "id": "ce21d01f-ed65-4a7d-b6b0-3c67698b80ce",
   "metadata": {},
   "outputs": [],
   "source": [
    "print('Shape of train arrays:', X_train.shape, y_train.shape)"
   ]
  },
  {
   "cell_type": "code",
   "execution_count": null,
   "id": "a21e1bdb-04ba-40bc-8f54-0f7602a00027",
   "metadata": {},
   "outputs": [],
   "source": [
    "X_val, y_val = makeXy(df_val['scaled_pm2.5'], 7)"
   ]
  },
  {
   "cell_type": "code",
   "execution_count": null,
   "id": "84b4b9a4-bf24-4570-8fa2-8b116ced89ca",
   "metadata": {},
   "outputs": [],
   "source": [
    "print('Shape of validation arrays:', X_val.shape, y_val.shape)"
   ]
  },
  {
   "cell_type": "markdown",
   "id": "1ffdea34-559c-488c-9bf9-6056c727f65e",
   "metadata": {},
   "source": [
    "- Definimos la ***capa de entrada*** que tiene forma `(None, 7)` y de tipo `float32`"
   ]
  },
  {
   "cell_type": "code",
   "execution_count": null,
   "id": "b96a0c1c-f4b3-4507-9663-8be25e100a72",
   "metadata": {},
   "outputs": [],
   "source": [
    "input_layer = Input(shape=(7,), dtype='float32')"
   ]
  },
  {
   "cell_type": "code",
   "execution_count": null,
   "id": "b93e853e-cc6d-4104-a347-bef7fc5e66f0",
   "metadata": {},
   "outputs": [],
   "source": [
    "#Dense layers are defined with linear activation\n",
    "dense1 = Dense(32, activation='tanh')(input_layer)\n",
    "dense2 = Dense(16, activation='tanh')(dense1)\n",
    "dense3 = Dense(16, activation='tanh')(dense2)"
   ]
  },
  {
   "cell_type": "code",
   "execution_count": null,
   "id": "d0c7ee26-89bd-4585-8637-aa9d36a1de70",
   "metadata": {},
   "outputs": [],
   "source": [
    "dropout_layer = Dropout(0.2)(dense3)"
   ]
  },
  {
   "cell_type": "code",
   "execution_count": null,
   "id": "d991c168-a4c2-4ba3-a009-2daf8c0886e1",
   "metadata": {},
   "outputs": [],
   "source": [
    "#Finally the output layer gives prediction for the next day's air pressure.\n",
    "output_layer = Dense(1, activation='linear')(dropout_layer)"
   ]
  },
  {
   "cell_type": "code",
   "execution_count": null,
   "id": "66990cf6-5feb-4925-847a-ea6822d4b856",
   "metadata": {
    "scrolled": true
   },
   "outputs": [],
   "source": [
    "ts_model = Model(inputs=input_layer, outputs=output_layer)\n",
    "ts_model.compile(loss='mean_absolute_error', optimizer='adam')\n",
    "ts_model.summary()"
   ]
  },
  {
   "cell_type": "markdown",
   "id": "1e2228ab-a421-4bd2-a117-b1e1ed1f4e63",
   "metadata": {},
   "source": [
    "````python\n",
    "save_weights_at = os.path.join('keras_models', 'PRSA_data_PM2.5_MLP_weights.{epoch:02d}-{val_loss:.4f}.keras')\n",
    "save_best = ModelCheckpoint(save_weights_at, monitor='val_loss', verbose=0,\n",
    "                            save_best_only=True, save_weights_only=False, mode='min', save_freq='epoch')\n",
    "````"
   ]
  },
  {
   "cell_type": "markdown",
   "id": "977c20d9-4871-4e3f-b25d-24e586041ef7",
   "metadata": {},
   "source": [
    "````python\n",
    "ts_model.fit(x=X_train, y=y_train, batch_size=16, epochs=20,\n",
    "             verbose=1, callbacks=[save_best], validation_data=(X_val, y_val),\n",
    "             shuffle=True);\n",
    "````"
   ]
  },
  {
   "cell_type": "markdown",
   "id": "0d8f8890",
   "metadata": {},
   "source": [
    "```{figure} ./figures/mlp_pm25_epochs.png\n",
    ":scale: 100\n",
    "\n",
    "```"
   ]
  },
  {
   "cell_type": "code",
   "execution_count": null,
   "id": "39f3bbaa-67cf-45f2-9359-1886695c91df",
   "metadata": {
    "scrolled": true
   },
   "outputs": [],
   "source": [
    "best_model = load_model(os.path.join('keras_models', 'PRSA_data_PM2.5_MLP_weights.19-0.0116.keras'), compile=False)\n",
    "preds = best_model.predict(X_val)\n",
    "pred_pm25 = scaler.inverse_transform(preds)\n",
    "pred_pm25 = np.squeeze(pred_pm25)"
   ]
  },
  {
   "cell_type": "code",
   "execution_count": null,
   "id": "49cd29b9-bb8e-4301-b4be-75b37cc561c5",
   "metadata": {},
   "outputs": [],
   "source": [
    "mae = mean_absolute_error(df_val['pm2.5'].loc[7:], pred_pm25)\n",
    "print('MAE for the validation set:', round(mae, 4))"
   ]
  },
  {
   "attachments": {},
   "cell_type": "markdown",
   "id": "0a74e505",
   "metadata": {},
   "source": [
    "- Trazamos los 50 primeros valores reales y predichos de `pm2.5`"
   ]
  },
  {
   "cell_type": "code",
   "execution_count": null,
   "id": "7fe2a2e7-146f-4c7a-8693-80b587fc812a",
   "metadata": {},
   "outputs": [],
   "source": [
    "plt.figure(figsize=(5.5, 5.5))\n",
    "plt.plot(range(50), df_val['pm2.5'].loc[7:56], linestyle='-', marker='*', color='r')\n",
    "plt.plot(range(50), pred_pm25[:50], linestyle='-', marker='.', color='b')\n",
    "plt.legend(['Actual','Predicted'], loc=2)\n",
    "plt.title('Actual vs Predicted pm2.5')\n",
    "plt.ylabel('pm2.5')\n",
    "plt.xlabel('Index');"
   ]
  },
  {
   "cell_type": "markdown",
   "id": "937c5f9d-cc29-4d8e-a3bb-ced6cd3c9b7e",
   "metadata": {},
   "source": [
    "## LSTM para la predicción de series de tiempo"
   ]
  },
  {
   "cell_type": "markdown",
   "id": "af2e2459-6976-4e81-9393-09b0ba31f596",
   "metadata": {},
   "source": [
    "- Continuaremos usando el conjunto de datos sobre contaminación del aire (pm2.5) usando LSTM. La lectura y el ***preprocesamiento de los datos se mantienen igual que en los ejemplos de `MLPs`***. El conjunto de datos original se divide en dos conjuntos: *entrenamiento y validación*, que se usan para el entrenamiento y validación del modelo respectivamente."
   ]
  },
  {
   "cell_type": "markdown",
   "id": "78bbe837-fae4-49f5-9672-1dda8f1b027f",
   "metadata": {},
   "source": [
    "- La función `makeXy` se utiliza para generar arreglos de regresores y objetivos: `X_train, X_val, y_train` y `y_val`. `X_train y X_val`, generados por la función `makeXy`, son ***arreglos 2D de forma (número de muestras, número de pasos de tiempo)***. Sin embargo, la ***entrada a las capas RNN debe ser de forma (número de muestras, número de pasos de tiempo, número de características por paso de tiempo)***.\n",
    "\n",
    "- En este caso, estamos tratando solo con `pm2.5`, por lo tanto, el ***número de características por paso de tiempo es uno***. El número de pasos de tiempo es siete y el número de muestras es el mismo que el número de muestras en `X_train` y `X_val`, que se transforman a arreglos 3D"
   ]
  },
  {
   "cell_type": "code",
   "execution_count": null,
   "id": "9822007a-0fdf-4e24-a961-2ddf456e623b",
   "metadata": {},
   "outputs": [],
   "source": [
    "X_train, X_val = X_train.reshape((X_train.shape[0], X_train.shape[1], 1)), X_val.reshape((X_val.shape[0], X_val.shape[1], 1))\n",
    "print('Shape of 3D arrays:', X_train.shape, X_val.shape)"
   ]
  },
  {
   "cell_type": "markdown",
   "id": "97b0c6b8-8437-4517-ae90-81fa247f683d",
   "metadata": {},
   "source": [
    "- `X_train` y `X_val` se han ***convertido en matrices 3D*** y sus nuevas formas se ven en la salida de la instrucción de impresión anterior"
   ]
  },
  {
   "cell_type": "code",
   "execution_count": null,
   "id": "4318905c-f079-4592-9338-40364e7f75a2",
   "metadata": {},
   "outputs": [],
   "source": [
    "from keras.layers import Dense, Input, Dropout\n",
    "from keras.layers import LSTM\n",
    "from keras.optimizers import SGD\n",
    "from keras.models import Model\n",
    "from keras.models import load_model\n",
    "from keras.callbacks import ModelCheckpoint"
   ]
  },
  {
   "cell_type": "markdown",
   "id": "539fcde3-41f2-4388-8545-993c94277263",
   "metadata": {},
   "source": [
    "- La red neuronal para desarrollar el modelo de predicción de series temporales tiene una ***capa de entrada, que alimenta a la capa LSTM***. La capa LSTM tiene ***siete pasos temporales***, que es el mismo número de observaciones históricas tomadas para hacer la predicción de la presión atmosférica para el día siguiente. Solo ***el último paso temporal de la LSTM devuelve una salida***.\n",
    "\n",
    "- Hay ***sesenta y cuatro neuronas ocultas en cada paso temporal de la capa LSTM***. Por lo tanto, la salida de la LSTM tiene sesenta y cuatro\n",
    "características:"
   ]
  },
  {
   "cell_type": "code",
   "execution_count": null,
   "id": "0203c221-181b-4a29-a4bd-d88f59cd0954",
   "metadata": {},
   "outputs": [],
   "source": [
    "input_layer = Input(shape=(7,1), dtype='float32')"
   ]
  },
  {
   "cell_type": "markdown",
   "id": "de0463dc-fc7c-4002-9798-94654d136f52",
   "metadata": {},
   "source": [
    "- Aquí `shape=(7,1)` forma de la ***entrada a la LSTM***. `7`: Número de ***pasos de tiempo (timesteps)***. `1`: Número de ***características (features) por cada paso de tiempo***. `return_sequences=True` se usa cuando se necesita ***pasar la secuencia completa de salidas a la siguiente capa de la red***, que también puede ser una capa recurrente como otra LSTM"
   ]
  },
  {
   "cell_type": "code",
   "execution_count": null,
   "id": "7596898a-4a66-490d-8b11-f4757aadfdb3",
   "metadata": {},
   "outputs": [],
   "source": [
    "lstm_layer1 = LSTM(64, input_shape=(7,1), return_sequences=True)(input_layer)\n",
    "lstm_layer2 = LSTM(32, input_shape=(7,64), return_sequences=False)(lstm_layer1)"
   ]
  },
  {
   "cell_type": "markdown",
   "id": "7394ed5a-fdd7-4141-9c6d-357fbf5c3e19",
   "metadata": {},
   "source": [
    "- A continuación, ***la salida de LSTM pasa a una capa de exclusión que elimina aleatoriamente el 20% de la entrada antes de pasar a la capa de salida***, que tiene una única neurona oculta con una función de ***activación lineal***"
   ]
  },
  {
   "cell_type": "code",
   "execution_count": null,
   "id": "575190d0-cd18-47af-85db-689d64c69159",
   "metadata": {},
   "outputs": [],
   "source": [
    "dropout_layer = Dropout(0.2)(lstm_layer2)"
   ]
  },
  {
   "cell_type": "code",
   "execution_count": null,
   "id": "17776ad7-05fd-4328-a1ae-90d04bc98d2a",
   "metadata": {},
   "outputs": [],
   "source": [
    "output_layer = Dense(1, activation='linear')(dropout_layer)"
   ]
  },
  {
   "cell_type": "markdown",
   "id": "f33958a9-11af-447c-acf7-11a4c08f6f7b",
   "metadata": {},
   "source": [
    "- Finalmente, todas las capas se envuelven en un `keras.models.Model` y se entrenan durante ***veinte epochs para minimizar el MSE*** utilizando el ***optimizador Adam***"
   ]
  },
  {
   "cell_type": "code",
   "execution_count": null,
   "id": "cbdc2d02-4aad-4334-80d4-f4af3df79668",
   "metadata": {},
   "outputs": [],
   "source": [
    "ts_model = Model(inputs=input_layer, outputs=output_layer)\n",
    "ts_model.compile(loss='mean_absolute_error', optimizer='adam') #SGD(lr=0.001, decay=1e-5))\n",
    "ts_model.summary()"
   ]
  },
  {
   "cell_type": "markdown",
   "id": "bb1ad0a5-2dd5-4a6a-9253-4b7bd954a9be",
   "metadata": {},
   "source": [
    "````python\n",
    "save_weights_at = os.path.join('keras_models', 'PRSA_data_PM2.5_LSTM_weights.{epoch:02d}-{val_loss:.4f}.keras')\n",
    "save_best = ModelCheckpoint(save_weights_at, monitor='val_loss', verbose=0,\n",
    "                            save_best_only=True, save_weights_only=False, mode='min', save_freq='epoch')\n",
    "````"
   ]
  },
  {
   "cell_type": "markdown",
   "id": "4a641406-b21f-4d48-9480-f48e9c136f43",
   "metadata": {},
   "source": [
    "````python\n",
    "ts_model.fit(x=X_train, y=y_train, batch_size=16, epochs=20,\n",
    "             verbose=1, callbacks=[save_best], validation_data=(X_val, y_val),\n",
    "             shuffle=True)\n",
    "````"
   ]
  },
  {
   "cell_type": "markdown",
   "id": "23b24092-a309-4c56-89ff-404769a6f6d4",
   "metadata": {},
   "source": [
    "````{figure} ./figures/lstm_epochs.png\n",
    ":scale: 100\n",
    "\n",
    "````"
   ]
  },
  {
   "cell_type": "code",
   "execution_count": null,
   "id": "a2632c80-eb29-4717-bd94-1b97e0072075",
   "metadata": {},
   "outputs": [],
   "source": [
    "best_model = load_model(os.path.join('keras_models', 'PRSA_data_PM2.5_LSTM_weights.20-0.0116.keras'))"
   ]
  },
  {
   "cell_type": "code",
   "execution_count": null,
   "id": "ff0b21e3-3e55-4987-ba9b-b6a34d971ab2",
   "metadata": {},
   "outputs": [],
   "source": [
    "preds = best_model.predict(X_val)\n",
    "pred_pm25 = scaler.inverse_transform(preds)\n",
    "pred_pm25 = np.squeeze(pred_pm25)"
   ]
  },
  {
   "cell_type": "code",
   "execution_count": null,
   "id": "f274fe15-badc-458c-a2f4-3e7912ff72e9",
   "metadata": {},
   "outputs": [],
   "source": [
    "from sklearn.metrics import mean_absolute_error"
   ]
  },
  {
   "cell_type": "code",
   "execution_count": null,
   "id": "86324f1a-3c34-4dfe-80ae-9c8ad89108f4",
   "metadata": {},
   "outputs": [],
   "source": [
    "mae = mean_absolute_error(df_val['pm2.5'].loc[7:], pred_pm25)\n",
    "print('MAE for the validation set:', round(mae, 4))"
   ]
  },
  {
   "cell_type": "markdown",
   "id": "21c53678-ecf6-42e3-bca7-9d8aae744225",
   "metadata": {},
   "source": [
    "- Hemos utilizado `keras.callbacks.ModelCheckpoint` como callback para rastrear el `MSE` del modelo en el conjunto de validación y ***guardar los pesos de la epoch que da el mínimo MSE***. El `R-cuadrado` del mejor modelo para el conjunto de validación es de 0.9959. Los primeros cincuenta valores reales y predichos se muestran en la siguiente figura"
   ]
  },
  {
   "cell_type": "code",
   "execution_count": null,
   "id": "a6527e2c-d39c-486a-83d0-ab980be0d1f3",
   "metadata": {},
   "outputs": [],
   "source": [
    "plt.figure(figsize=(5.5, 5.5))\n",
    "plt.plot(range(50), df_val['pm2.5'].loc[7:56], linestyle='-', marker='*', color='r')\n",
    "plt.plot(range(50), pred_pm25[:50], linestyle='-', marker='.', color='b')\n",
    "plt.legend(['Actual','Predicted'], loc=2)\n",
    "plt.title('Actual vs Predicted pm2.5')\n",
    "plt.ylabel('pm2.5')\n",
    "plt.xlabel('Index');"
   ]
  },
  {
   "cell_type": "code",
   "execution_count": null,
   "id": "4516dc0f-f708-47d1-bd1d-72c6127583b6",
   "metadata": {},
   "outputs": [],
   "source": []
  },
  {
   "cell_type": "code",
   "execution_count": null,
   "id": "5cc19957-776e-4a65-9d8d-4c4b10e09e90",
   "metadata": {},
   "outputs": [],
   "source": []
  },
  {
   "cell_type": "code",
   "execution_count": null,
   "id": "e48d72a3-e9cb-4b5c-ba10-b2fddd860fdd",
   "metadata": {},
   "outputs": [],
   "source": []
  },
  {
   "cell_type": "code",
   "execution_count": null,
   "id": "06e1736c-b627-47ac-9422-b404cfa79eed",
   "metadata": {},
   "outputs": [],
   "source": []
  }
 ],
 "metadata": {
  "kernelspec": {
   "display_name": "ml_tf",
   "language": "python",
   "name": "ml_tf"
  },
  "language_info": {
   "codemirror_mode": {
    "name": "ipython",
    "version": 3
   },
   "file_extension": ".py",
   "mimetype": "text/x-python",
   "name": "python",
   "nbconvert_exporter": "python",
   "pygments_lexer": "ipython3",
   "version": "3.9.18"
  },
  "toc": {
   "base_numbering": 1,
   "nav_menu": {},
   "number_sections": false,
   "sideBar": false,
   "skip_h1_title": false,
   "title_cell": "Table of Contents",
   "title_sidebar": "Contents",
   "toc_cell": false,
   "toc_position": {},
   "toc_section_display": false,
   "toc_window_display": false
  }
 },
 "nbformat": 4,
 "nbformat_minor": 5
}
