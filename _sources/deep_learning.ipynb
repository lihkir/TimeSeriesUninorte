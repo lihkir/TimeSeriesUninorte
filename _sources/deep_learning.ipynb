{
 "cells": [
  {
   "cell_type": "markdown",
   "id": "b627f12d-1011-44c5-af7b-1ed402ec0898",
   "metadata": {},
   "source": [
    "# Deep Learning para la predicción de series temporales"
   ]
  },
  {
   "attachments": {},
   "cell_type": "markdown",
   "id": "21a2180b-cc65-4492-880d-d566810eab58",
   "metadata": {},
   "source": [
    "- Hasta ahora, en este curso hemos descrito `métodos estadísticos` tradicionales para el análisis de series temporales. En los capítulos anteriores, hemos analizado varios métodos para predecir la serie en un momento futuro a partir de observaciones tomadas en el pasado. Uno de estos métodos para realizar predicciones es el `modelo autorregresivo` ($AR$), que expresa la serie en el tiempo $t$ como una `regresión lineal` de $p$ observaciones anteriores"
   ]
  },
  {
   "attachments": {},
   "cell_type": "markdown",
   "id": "73b96a08-6008-4331-91dc-7b757f96be60",
   "metadata": {},
   "source": [
    "$$\n",
    "y_{t}=\\omega_{0}+\\sum_{i=1}^{p}\\omega_{i}y_{t-i}+\\varepsilon_{t}.\n",
    "$$"
   ]
  },
  {
   "attachments": {},
   "cell_type": "markdown",
   "id": "aed87b4f-03fe-424a-96c2-51bdebf36f4c",
   "metadata": {},
   "source": [
    "- Aquí, $\\varepsilon_{t}$ es el término de `error residual` del modelo $AR$. La idea que subyace al modelo lineal puede generalizarse en el sentido de que el objetivo de la predicción de series temporales es `desarrollar una función` $f$ `que prediga` $y_{t}$ `en función de las observaciones en` $p$ `valores previos en el tiempo`"
   ]
  },
  {
   "attachments": {},
   "cell_type": "markdown",
   "id": "51c2b309-477c-447c-9a72-0164de31df2f",
   "metadata": {},
   "source": [
    "$$\n",
    "y_{t}=f(y_{t-1}, y_{t-2}, \\dots, y_{t-p}).\n",
    "$$"
   ]
  },
  {
   "attachments": {},
   "cell_type": "markdown",
   "id": "fa2cd3d1-a4ce-4881-a827-3b92c2db20ee",
   "metadata": {},
   "source": [
    "- En este capítulo, exploraremos tres `métodos basados en redes neuronales para desarrollar la función` $f$. Cada método incluye la definición de una `arquitectura de red neuronal` (en términos del `número de capas ocultas, número de neuronas en cada capa oculta`, etc.) y luego el algoritmo `backpropagation` o su variante adecuada para la arquitectura de red utilizada."
   ]
  },
  {
   "attachments": {},
   "cell_type": "markdown",
   "id": "c64a5175-294b-41d8-a876-17d51129fd56",
   "metadata": {},
   "source": [
    "- En los últimos años ha resurgido el interés por las redes neuronales. Esto ha sido posible gracias a la disponibilidad de abundantes datos de entrenamiento procedentes de medios digitales y a un acceso más económico a la `computación paralela basada en GPU`. Estos factores han permitido entrenar redes neuronales con cientos de miles y, en algunos casos, millones de parámetros. Redes neuronales de distintas arquitecturas se han aplicado con éxito para resolver `problemas de visión por computadora, reconocimiento de voz y traducción de lenguaje natural`. Investigaciones y practicas de diseño y entrenamiento de redes neuronales en estas áreas se conoce popularmente como `aprendizaje profundo` que, como el nombre, es indicativo de las `numerosas capas ocultas utilizadas en estos modelos`."
   ]
  },
  {
   "attachments": {},
   "cell_type": "markdown",
   "id": "c06d40b3",
   "metadata": {},
   "source": [
    "- El aprendizaje profundo ha dado lugar a interesantes arquitecturas neuronales diseñadas para abordar las `características estructurales especiales de datos sobre imagenes y lenguaje`. Por ejemplo las `redes neuronales convolucionales (CNN) están diseñadas para aprovechar las estructuras bidimensionales o tridimensionales de las imágenes`, mientras que la mayoría de `los modelos lingüísticos utilizan redes neuronales recurrentes (RNN) que admiten secuencias y memoria inherente a las idiomas hablados y escritos`. Estos nuevos avances también se han aplicado a ámbitos en los que tradicionalmente dominaba el aprendizaje automático estadístico. Uno de ellos es la `predicción de series temporales`."
   ]
  },
  {
   "attachments": {},
   "cell_type": "markdown",
   "id": "2788411f",
   "metadata": {},
   "source": [
    "- En este capítulo `exploraremos tres tipos diferentes de redes neuronales para la predicción de series temporales`. Empezaremos con los `perceptrones multicapa (MLP)`. A continuación `redes neuronales recurrentes` que se adaptan a la disposición secuencial de los puntos de datos. Por último, las `redes neuronales convolucionales`, que se utilizan sobre todo con imágenes, pero discutiremos como formas especiales de `CNN` pueden ser usadas para la predicción de series temporales. Estos temas se tratarán explicando la arquitectura de la red y cómo puede aplicarse a la previsión de series temporales. Las demostraciones de código muestran cómo utilizar las bibliotecas de aprendizaje automático para desarrollar modelos de predicción de series temporales. "
   ]
  },
  {
   "attachments": {},
   "cell_type": "markdown",
   "id": "9d276422",
   "metadata": {},
   "source": [
    "- Los ejemplos de este capítulo serán implementados utilizando la `API Keras` para el aprendizaje profundo. `Keras` es una `API` de alto nivel que permite `definir diferentes arquitecturas de redes neuronales y entrenarlas utilizando varios optimizadores basados en gradientes`. En el `backend, Keras` utiliza un marco computacional de bajo nivel implementado en `C, C++` y `FORTRAN`. Varios de estos entornos de bajo nivel están disponibles en código abierto. `Keras` soporta los tres siguientes entornos: `TensorFlow, que fue desarrollado por Google` y es el `backend` por defecto de `Keras, CNTK, un marco de código abierto de Microsoft`, y `Theano, desarrollado originalmente en la Universidad de Montreal, Canadá`. Los ejemplos de este libro utilizan `TensorFlow` como backend. Por lo tanto, para ejecutar los ejemplos, necesitarás tanto `Keras` como `TensorFlow` instalados."
   ]
  },
  {
   "cell_type": "markdown",
   "id": "6949a2a1-bf8a-46bb-8008-d0c93792fc1d",
   "metadata": {},
   "source": [
    "## Perceptrones multicapa"
   ]
  },
  {
   "attachments": {},
   "cell_type": "markdown",
   "id": "78f59333-7de1-41f7-9ab0-9158d352631d",
   "metadata": {},
   "source": [
    "- Los `perceptrones multicapa (MLP)` son las formas más básicas de las redes neuronales. Un `MLP` consta de tres componentes: una `capa de entrada`, varias `capas ocultas` y una `capa de salida`. Una `capa de entrada representa un vector de regresores o características de entrada`, por ejemplo, observaciones a partir de $p$ puntos previos en el tiempo $[y_{t-1}, y_{t-2}, \\dots, y_{t-p}]$. Las `características de entrada se introducen en una capa oculta` que tiene $n$ neuronas, cada una de las cuales aplica una `transformación lineal` y una `activación no lineal` a las características de entrada. "
   ]
  },
  {
   "attachments": {},
   "cell_type": "markdown",
   "id": "40fc2ef1",
   "metadata": {},
   "source": [
    "- La salida de una neurona es $g_{i} = h(\\boldsymbol{w}_{i}x + b_{i})$, donde $\\boldsymbol{w}_{i}$ y $b_{i}$ son los `pesos y el sesgo de la transformación lineal`, y $h$ es una `función de activación no lineal`. La función de activación no lineal permite a la red neuronal `modelar no linealidades complejas de las relaciones subyacentes entre los regresores y la variable objetivo`. Popularmente, $h$ es la función `sigmoid`\n",
    "\n",
    "    $$\n",
    "    \\\\[1mm]\n",
    "    h(z)=\\displaystyle{\\frac{1}{1-e^{-z}}},\n",
    "    $$\n",
    "    \n",
    "    que mapea cualquier número real al intervalo $[0, 1]$."
   ]
  },
  {
   "attachments": {},
   "cell_type": "markdown",
   "id": "2a4c48c3-bef6-4a27-ac13-c79f838f3c70",
   "metadata": {},
   "source": [
    "- Debido a esta propiedad, `la función sigmoidea se utiliza para generar probabilidades de clase binarias y, por tanto, es comunmente usada en los modelos de clasificación`. Otra opción de función de activación no lineal es la función `tanh`\n",
    "\n",
    "    $$\n",
    "    h(z)=\\displaystyle{\\frac{1-e^{-z}}{1+e^{-z}}},\n",
    "    $$\n",
    "    \n",
    "    la cual mapea cualquier número real al intervalo $[-1, 1]$. En algunos casos la función $h$ es una `función lineal o la identidad`."
   ]
  },
  {
   "attachments": {},
   "cell_type": "markdown",
   "id": "d8880dbc-bd64-4492-8223-acb8d006a4e6",
   "metadata": {},
   "source": [
    "- En el caso de una `red neuronal de una sola capa oculta`, como se muestra en {numref}`single_hidden_layer`, la salida de cada neurona se pasa a la capa de salida, que aplica una `transformación lineal y función de activación para generar la predicción de la variable objetivo`, que, en el caso de la predicción de series temporales, es el valor predicho de la serie en el tiempo $t$"
   ]
  },
  {
   "cell_type": "markdown",
   "id": "7578dfeb-2890-4d76-98dd-769b83270cca",
   "metadata": {},
   "source": [
    "```{figure} ./figures/single_hidden_layer.png\n",
    ":name: single_hidden_layer\n",
    ":align: center\n",
    ":scale: 15\n",
    "Red neuronal con una sola capa oculta.\n",
    "```"
   ]
  },
  {
   "attachments": {},
   "cell_type": "markdown",
   "id": "8ec6bb1e-a5f8-4ed2-bbe2-39fa7b8af478",
   "metadata": {},
   "source": [
    "- En un `MLP` (ver {numref}`multiple_hidden_layer`), se agrupan varias capas ocultas. `La salida de las neuronas de una capa oculta se introduce en la siguiente capa oculta`. Las neuronas de esta capa transforman la entrada y la pasan a la siguiente capa oculta. Finalmente, `la última capa oculta alimenta la capa de salida`"
   ]
  },
  {
   "cell_type": "markdown",
   "id": "ca2422af-8bda-4714-8bd4-01d660d25660",
   "metadata": {},
   "source": [
    "```{figure} ./figures/multiple_hidden_layer.png\n",
    ":name: multiple_hidden_layer\n",
    ":align: center\n",
    ":scale: 23\n",
    "Red neuronal con múltiples capas ocultas.\n",
    "```"
   ]
  },
  {
   "attachments": {},
   "cell_type": "markdown",
   "id": "52ef7024-c823-454e-bbb9-724612e5a215",
   "metadata": {},
   "source": [
    "- Las capas ocultas del `MLP` también se denominan `capas densas o, a veces, capas totalmente conectadas`. El nombre denso tiene su significado en el hecho de que todas `las neuronas de una capa densa están conectadas a todas las neuronas de la capa anterior y de la siguiente`. Si la capa anterior es la capa de entrada, todas las características de entrada alimentan a cada una de las neuronas de la capa oculta. `Debido a las conexiones múltiples entre la capa de entrada y la primera capa densa y entre las capas densas intermedias, un MLP tiene un número enorme de pesos entrenables`. Por ejemplo, si el número de características de entrada es $p$ y hay tres capas densas que tienen número de neuronas $n_{1}, n_{2}$ y $n_{3}$ respectivamente, entonces el número de pesos entrenables es\n",
    "\n",
    "$$\n",
    "p\\times n_{1}+n_{1}\\times n_{2}+n_{2}\\times n_{3}+n_{3}.\n",
    "$$"
   ]
  },
  {
   "cell_type": "markdown",
   "id": "38244a0c-0674-4d86-8148-60922548679c",
   "metadata": {},
   "source": [
    "- El último elemento de este cálculo es el número de pesos que conectan la tercera capa oculta y la capa de salida. Los `MLP profundos tienen varias capas densas y cientos, incluso miles, de neuronas en cada capa`. Por lo tanto, el número de pesos entrenables en los MLP profundos es muy grande."
   ]
  },
  {
   "cell_type": "markdown",
   "id": "2ebfbcc6-ff9f-4d50-8f8f-a26946d47f06",
   "metadata": {},
   "source": [
    "## Entrenamiento de MLP"
   ]
  },
  {
   "attachments": {},
   "cell_type": "markdown",
   "id": "79652bc1-ec72-432c-a4b9-9cb1cfefff92",
   "metadata": {},
   "source": [
    "- Los pesos $w$ de una red neuronal se calculan mediante un algoritmo de optimización basado en el gradiente, como el `gradiente decendiente estocástico, que minimiza iterativamente la función de pérdida o el error` ($L$) en que incurre la red al hacer predicciones sobre los datos de entrenamiento. El `error cuadrático medio` ($MSE$) y el `error absoluto medio` ($MAE$) se utilizan para `tareas de regresión`, mientras que la pérdida binaria y categórica logarítmica son funciones de pérdida habituales en los problemas de clasificación."
   ]
  },
  {
   "attachments": {},
   "cell_type": "markdown",
   "id": "e666ada3",
   "metadata": {},
   "source": [
    "- Para la previsión de series temporales, $MSE$ y $MAE$ serían aptos para entrenar los modelos neuronales. `Los algoritmos gradiente descendiente funcionan moviendo los pesos, en iteraciones` $i$`, a lo largo de su trayectoria de gradiente`. El gradiente es la derivada parcial de la función de pérdida $L$ con respecto al peso. La regla de actualización más sencilla para cambiar un peso $w$ requiere los valores de los pesos, la derivada parcial de $L$ con respecto a los pesos, y una tasa de aprendizaje $\\alpha$ que `controla la rapidez con la que el punto desciende a lo largo del gradiente`"
   ]
  },
  {
   "cell_type": "markdown",
   "id": "771363b3-3ed5-4e20-9252-62a0f70781d5",
   "metadata": {},
   "source": [
    "$$\n",
    "\\omega_{i+1}=\\omega_{i}-\\alpha\\left(\\frac{\\partial L}{\\partial\\omega}\\right)_{\\omega = \\omega_{i}}\n",
    "$$"
   ]
  },
  {
   "attachments": {},
   "cell_type": "markdown",
   "id": "fdd64ddd-abc6-4354-ade4-df7da03e737f",
   "metadata": {},
   "source": [
    "- Esta regla básica de actualización tiene diversas variantes que influyen en la convergencia del algoritmo. Sin embargo, `una entrada crucial para todos los algoritmos basados en el gradiente es la derivada parcial que debe calcularse para todos los pesos de la red`. En redes neuronales profundas, algunas de las cuales tienen millones de pesos, el cálculo de la derivada puede ser una tarea computacional gigantesca. En esta dirección es exactamente donde entra en juego el famoso `algoritmo backpropagation` que resuelve este problema de forma eficiente.\n",
    "\n",
    "- Para entender el algoritmo backpropagation, primero hay que conocer los `grafos computacionales y cómo se utilizan para realizar cálculos en una red neuronal`. Consideremos una `red neuronal simple de una sola capa oculta, que tiene dos unidades ocultas, cada una con una activación sigmoidea`. La unidad de salida es una transformación lineal de sus entradas. La red se alimenta con dos variables de entrada, $[y_{1},y_{2}]$. Los pesos se muestran a lo largo de los bordes de la red"
   ]
  },
  {
   "cell_type": "markdown",
   "id": "ac9ba83a-7fbb-4120-b068-60a3c9701910",
   "metadata": {},
   "source": [
    "```{figure} ./figures/twoinput_single_hidden_layer.png\n",
    ":name: twoinput_single_hidden_layer\n",
    ":align: center\n",
    ":scale: 13\n",
    "Red neuronal con una sola capa oculta y dos entradas.\n",
    "```"
   ]
  },
  {
   "attachments": {},
   "cell_type": "markdown",
   "id": "f5c74f4c-1ffa-4be2-b1d8-2320c7283c0f",
   "metadata": {},
   "source": [
    "- La red realiza una serie de `sumas, multiplicaciones y un par evaluaciones de funciones sigmoidales para transformar la entrada en una predicción`. La transformación de la entrada en una predicción se denomina paso hacia delante de la red neuronal. La {numref}`forwardprop_single_hidden_layer` muestra cómo se consigue un pase hacia adelante mediante un grafo computacional para un par de entrada $[-1, 2]$. Cada cálculo da como resultado una salida intermedia $p_{i}$. `Los resultados intermedios` $p_{7}$ `y` $p_{8}$ `son la salida de las neuronas ocultas` $g_{1}$ y $g_{2}$. Durante el entrenamiento, la función de pérdida $L$ también se calcula en el paso hacia delante"
   ]
  },
  {
   "cell_type": "markdown",
   "id": "39bb3dd5-bbce-4efc-b04e-aa897a8661da",
   "metadata": {},
   "source": [
    "```{figure} ./figures/forwardprop_single_hidden_layer.png\n",
    ":name: forwardprop_single_hidden_layer\n",
    ":align: center\n",
    "Gráfico computacional de un perceptrón con una capa y dos neuronas ocultas.\n",
    "```"
   ]
  },
  {
   "attachments": {},
   "cell_type": "markdown",
   "id": "59c78374-8115-4959-ac49-cab575c37de6",
   "metadata": {},
   "source": [
    "- En este punto, `se aplica el algoritmo de backpropagation para calcular las derivadas parciales entre dos nodos conectados por una arista`. El recorrido hacia atrás en el grafo para calcular la derivada parcial también se conoce como paso hacia atrás (`backward pass`). `El operador de diferenciación parcial se aplica en cada nodo y las derivadas parciales se asignan a las respectivas aristas que conectan el nodo descendente a lo largo del grafo computacional`. \n",
    "\n",
    "- Siguiendo la regla de la cadena la derivada parcial $\\partial_{\\omega} L$ se calcula `multiplicando las derivadas parciales en todas las aristas que conectan el nodo de peso y el nodo de pérdida`. Si existen varios caminos entre un nodo de peso y el nodo de pérdida, las derivadas parciales a lo largo de cada camino se suman para obtener la `derivada parcial total de la pérdida con respecto al peso`. Esta técnica gráfica de implementar los pasos hacia delante y hacia atrás es la técnica computacional subyacente utilizada en potentes bibliotecas de aprendizaje profundo. El paso hacia atrás se ilustra en {numref}`partialderivates_single_hidden_layer`"
   ]
  },
  {
   "cell_type": "markdown",
   "id": "670796d6-b5bd-4b00-9b2c-f759a9502a80",
   "metadata": {},
   "source": [
    "```{figure} ./figures/partialderivates_single_hidden_layer.png\n",
    ":name: partialderivates_single_hidden_layer\n",
    ":align: center\n",
    "Cálculo de derivadas parciales en un grafo computacional.\n",
    "```"
   ]
  },
  {
   "cell_type": "markdown",
   "id": "065a8963-be54-4053-9f30-47527a482b1e",
   "metadata": {},
   "source": [
    "- Las derivadas parciales de la función de pérdida con respecto a los pesos se obtienen aplicando la `regla de la cadena`:"
   ]
  },
  {
   "cell_type": "markdown",
   "id": "39f27392-eae0-45a8-82fe-c978288245f7",
   "metadata": {},
   "source": [
    "$$\n",
    "\\begin{align*}\n",
    "\\frac{\\partial L}{\\partial\\omega_{5}} &= -2(y-\\hat{y})\\times 1\\times p_{7}\\\\\n",
    "\\frac{\\partial L}{\\partial\\omega_{6}} &= -2(y-\\hat{y})\\times 1\\times p_{8}\\\\\n",
    "\\frac{\\partial L}{\\partial\\omega_{1}} = \\frac{\\partial L}{\\partial\\hat{y}}\\frac{\\partial\\hat{y}}{\\partial p_{9}}\\frac{\\partial p_{9}}{\\partial p_{7}}\\frac{\\partial p_{7}}{\\partial p_{5}}\\frac{\\partial p_{5}}{\\partial p_{1}}\\frac{\\partial p_{1}}{\\partial\\omega_{1}} &= -2(y-\\hat{y})\\times 1\\times\\omega_{5}\\times p_{7}^{2}e^{-p_{5}}\\times 1\\times -1\\\\\n",
    "\\frac{\\partial L}{\\partial\\omega_{2}} = \\frac{\\partial L}{\\partial\\hat{y}}\\frac{\\partial\\hat{y}}{\\partial p_{9}}\\frac{\\partial p_{9}}{\\partial p_{7}}\\frac{\\partial p_{7}}{\\partial p_{5}}\\frac{\\partial p_{5}}{\\partial p_{2}}\\frac{\\partial p_{2}}{\\partial\\omega_{2}} &= -2(y-\\hat{y})\\times 1\\times\\omega_{5}\\times p_{7}^{2}e^{-p_{5}}\\times 1\\times 2\\\\\n",
    "\\frac{\\partial L}{\\partial\\omega_{3}} = \\frac{\\partial L}{\\partial\\hat{y}}\\frac{\\partial\\hat{y}}{\\partial p_{10}}\\frac{\\partial p_{10}}{\\partial p_{8}}\\frac{\\partial p_{8}}{\\partial p_{6}}\\frac{\\partial p_{6}}{\\partial p_{3}}\\frac{\\partial p_{3}}{\\partial\\omega_{3}} &= -2(y-\\hat{y})\\times 1\\times\\omega_{6}\\times p_{8}^{2}e^{-p_{6}}\\times 1\\times -1\\\\\n",
    "\\frac{\\partial L}{\\partial\\omega_{4}} = \\frac{\\partial L}{\\partial\\hat{y}}\\frac{\\partial\\hat{y}}{\\partial p_{10}}\\frac{\\partial p_{10}}{\\partial p_{8}}\\frac{\\partial p_{8}}{\\partial p_{6}}\\frac{\\partial p_{6}}{\\partial p_{4}}\\frac{\\partial p_{4}}{\\partial\\omega_{4}} &= -2(y-\\hat{y})\\times 1\\times\\omega_{6}\\times p_{8}^{2}e^{-p_{6}}\\times 1\\times 2.\n",
    "\\end{align*}\n",
    "$$"
   ]
  },
  {
   "attachments": {},
   "cell_type": "markdown",
   "id": "dfd021b5-091d-4e5f-9c5c-30369f34ed32",
   "metadata": {},
   "source": [
    "- Durante el entrenamiento, `los pesos se inicializan con números aleatorios comúnmente muestreados a partir de una distribución uniforme con límites superior e inferior en` $[-1, 1]$ o una `distribución normal que tiene media cero y varianza unitaria`. Estos esquemas de inicialización aleatoria tienen algunas variantes que mejoran la convergencia de la optimización. En este caso, vamos a suponer que los pesos son inicializados a partir de una distribución aleatoria uniforme y, por tanto, $w_{1} = -0.33, w_{2} = -0.33, w_{3} = 0.57, w_{4} = -0.01, w_{5}=0.07$, y $w_{6} = 0.82$. \n",
    "\n",
    "- Con estos valores, vamos a realizar pasos hacia adelante y hacia atrás sobre el grafo computacional. Actualizamos la figura anterior con los valores calculados durante la `pasada hacia adelante en azul y los gradientes calculados durante la pasada hacia atrás en rojo`. Para este ejemplo, fijamos el `valor real de la variable objetivo como` $y = 1$"
   ]
  },
  {
   "cell_type": "markdown",
   "id": "999c3c6e-24b5-43e5-959e-ebd3376afd16",
   "metadata": {},
   "source": [
    "```{figure} ./figures/forward_backward_single_hidden_layer.png\n",
    ":name: forward_backward_single_hidden_layer\n",
    ":align: center\n",
    "Pasos hacia delante (en azul) y hacia atrás (en rojo) sobre un grafo computacional.\n",
    "```"
   ]
  },
  {
   "attachments": {},
   "cell_type": "markdown",
   "id": "7a6babd6-6227-4bc6-821c-a0ee95fc28e3",
   "metadata": {},
   "source": [
    "- Una vez calculados los gradientes a lo largo de las aristas, `las derivadas parciales con respecto a los pesos no son más que una aplicación de la regla de la cadena`, de la que ya hemos hablado. Los valores de las derivadas parciales son los siguientes:"
   ]
  },
  {
   "cell_type": "markdown",
   "id": "fe791ee6-1be1-4f3f-b7f0-87ff08f2742d",
   "metadata": {},
   "source": [
    "$$\n",
    "\\begin{align*}\n",
    "\\frac{\\partial L}{\\partial\\omega_{5}} &= -0.919\\times 1\\times 0.418 = -0.384\\\\\n",
    "\\frac{\\partial L}{\\partial\\omega_{6}} &= -0.919\\times 1\\times 0.357 = -0.328\\\\\n",
    "\\frac{\\partial L}{\\partial\\omega_{1}} &= -0.919\\times 1\\times 0.07\\times 0.243\\times 1\\times -1 = 0.016\\\\\n",
    "\\frac{\\partial L}{\\partial\\omega_{2}} &= -0.919\\times 1\\times 0.07\\times 0.243\\times 1\\times 2 = -0.032\\\\\n",
    "\\frac{\\partial L}{\\partial\\omega_{3}} &= -0.919\\times 1\\times 0.82\\times 0.229\\times 1\\times -1 = 0.173\\\\\n",
    "\\frac{\\partial L}{\\partial\\omega_{4}} &= -0.919\\times 1\\times 0.82\\times 0.229\\times 1\\times 2 = -0.346\\\\\n",
    "\\end{align*}\n",
    "$$"
   ]
  },
  {
   "attachments": {},
   "cell_type": "markdown",
   "id": "4545fe28-2e6e-40fc-9af6-a084ab9a230f",
   "metadata": {},
   "source": [
    "- El siguiente paso consiste en `actualizar los pesos mediante el algoritmo de gradiente descendiente`. Así, con una `tasa de aprendizaje de` $\\alpha = 0.01$, el nuevo valor de \n",
    "\n",
    "$$\n",
    "w_{5} = 0.07 - 0.01\\times -0.384 = 0.0738.\n",
    "$$ \n",
    "\n",
    "- El resto de pesos también pueden actualizarse utilizando una regla de actualización similar. El proceso de actualización iterativa de los pesos se repite varias veces. `El número de veces que se actualizan los pesos se conoce como número de épocas` o pasadas sobre los datos de entrenamiento. Normalmente, un criterio de tolerancia sobre el cambio de la función de pérdida en comparación con la época anterior controla el número de épocas.\n",
    "\n",
    "- `Para determinar los pesos de una red neuronal se utiliza el algoritmo backpropagation junto con un optimizador basado en el gradiente`. Afortunadamente, existen potentes bibliotecas de aprendizaje profundo, como `Tensorflow, Theano` y `CNTK` que implementan gráficos computacionales para entrenar redes neuronales de cualquier arquitectura y complejidad. Estas bibliotecas vienen con soporte para ejecutar los cálculos como operaciones matemáticas en matrices multidimensionales y también pueden aprovechar las `GPU` para realizar cálculos más rápidos."
   ]
  },
  {
   "cell_type": "markdown",
   "id": "bea593ed-1413-4482-8b8a-c4138c3d6529",
   "metadata": {},
   "source": [
    "## MLP para la previsión de series temporales"
   ]
  },
  {
   "attachments": {},
   "cell_type": "markdown",
   "id": "8d7a9f65-1068-491e-b7d9-46db7a18e26b",
   "metadata": {},
   "source": [
    "- En esta sección, utilizaremos `MLP` para desarrollar `modelos de predicción de series temporales`. El conjunto de datos utilizado para estos ejemplos es sobre la `contaminación atmosférica medida por la concentración de partículas (PM) de diámetro inferior o igual a 2.5 micrómetros`. Hay otras variables, como la presión atmosférica, temperatura del aire, punto de rocío, etc. Se han desarrollado un par de modelos de series temporales uno sobre la presión atmosférica y otro sobre `pm 2.5`. El conjunto de datos se ha descargado del repositorio de aprendizaje automático de la [UCI](https://archive.ics.uci.edu/ml/datasets/Beijing+PM2.5+Data)."
   ]
  },
  {
   "cell_type": "markdown",
   "id": "b784b758-729e-459f-8dab-482b416127b8",
   "metadata": {},
   "source": [
    "- Empezaremos importando los paquetes necesarios para ejecutar el código:"
   ]
  },
  {
   "cell_type": "code",
   "execution_count": 1,
   "id": "9799480e-7b15-470a-b4bc-15444a3dadc0",
   "metadata": {
    "tags": []
   },
   "outputs": [],
   "source": [
    "import sys\n",
    "import pandas as pd\n",
    "import numpy as np\n",
    "from matplotlib import pyplot as plt\n",
    "import seaborn as sns\n",
    "import datetime\n",
    "from sklearn.preprocessing import MinMaxScaler\n",
    "from keras.layers import Dense, Input, Dropout\n",
    "from keras.optimizers import SGD\n",
    "from keras.models import Model\n",
    "from keras.models import load_model\n",
    "from keras.callbacks import ModelCheckpoint\n",
    "import os\n",
    "from sklearn.metrics import r2_score\n",
    "from sklearn.metrics import mean_absolute_error"
   ]
  },
  {
   "cell_type": "code",
   "execution_count": 2,
   "id": "96fed00e-15fb-4d57-bab0-7fea1deb8bee",
   "metadata": {},
   "outputs": [],
   "source": [
    "import warnings\n",
    "warnings.filterwarnings(\"ignore\")"
   ]
  },
  {
   "cell_type": "code",
   "execution_count": 3,
   "id": "972b0279-d17d-41d2-958e-ff4894d31c88",
   "metadata": {},
   "outputs": [],
   "source": [
    "df = pd.read_csv('datasets/PRSA_data_2010.1.1-2014.12.31.csv')"
   ]
  },
  {
   "cell_type": "code",
   "execution_count": 4,
   "id": "532f3d57-ce36-41ea-9996-8acf3461230b",
   "metadata": {},
   "outputs": [
    {
     "name": "stdout",
     "output_type": "stream",
     "text": [
      "Shape of the dataframe: (43824, 13)\n"
     ]
    }
   ],
   "source": [
    "print('Shape of the dataframe:', df.shape)"
   ]
  },
  {
   "cell_type": "code",
   "execution_count": 5,
   "id": "5eb18425-2aa6-48a5-9e9f-47518d83c46a",
   "metadata": {},
   "outputs": [
    {
     "data": {
      "text/html": [
       "<div>\n",
       "<style scoped>\n",
       "    .dataframe tbody tr th:only-of-type {\n",
       "        vertical-align: middle;\n",
       "    }\n",
       "\n",
       "    .dataframe tbody tr th {\n",
       "        vertical-align: top;\n",
       "    }\n",
       "\n",
       "    .dataframe thead th {\n",
       "        text-align: right;\n",
       "    }\n",
       "</style>\n",
       "<table border=\"1\" class=\"dataframe\">\n",
       "  <thead>\n",
       "    <tr style=\"text-align: right;\">\n",
       "      <th></th>\n",
       "      <th>No</th>\n",
       "      <th>year</th>\n",
       "      <th>month</th>\n",
       "      <th>day</th>\n",
       "      <th>hour</th>\n",
       "      <th>pm2.5</th>\n",
       "      <th>DEWP</th>\n",
       "      <th>TEMP</th>\n",
       "      <th>PRES</th>\n",
       "      <th>cbwd</th>\n",
       "      <th>Iws</th>\n",
       "      <th>Is</th>\n",
       "      <th>Ir</th>\n",
       "    </tr>\n",
       "  </thead>\n",
       "  <tbody>\n",
       "    <tr>\n",
       "      <th>0</th>\n",
       "      <td>1</td>\n",
       "      <td>2010</td>\n",
       "      <td>1</td>\n",
       "      <td>1</td>\n",
       "      <td>0</td>\n",
       "      <td>NaN</td>\n",
       "      <td>-21</td>\n",
       "      <td>-11.0</td>\n",
       "      <td>1021.0</td>\n",
       "      <td>NW</td>\n",
       "      <td>1.79</td>\n",
       "      <td>0</td>\n",
       "      <td>0</td>\n",
       "    </tr>\n",
       "    <tr>\n",
       "      <th>1</th>\n",
       "      <td>2</td>\n",
       "      <td>2010</td>\n",
       "      <td>1</td>\n",
       "      <td>1</td>\n",
       "      <td>1</td>\n",
       "      <td>NaN</td>\n",
       "      <td>-21</td>\n",
       "      <td>-12.0</td>\n",
       "      <td>1020.0</td>\n",
       "      <td>NW</td>\n",
       "      <td>4.92</td>\n",
       "      <td>0</td>\n",
       "      <td>0</td>\n",
       "    </tr>\n",
       "    <tr>\n",
       "      <th>2</th>\n",
       "      <td>3</td>\n",
       "      <td>2010</td>\n",
       "      <td>1</td>\n",
       "      <td>1</td>\n",
       "      <td>2</td>\n",
       "      <td>NaN</td>\n",
       "      <td>-21</td>\n",
       "      <td>-11.0</td>\n",
       "      <td>1019.0</td>\n",
       "      <td>NW</td>\n",
       "      <td>6.71</td>\n",
       "      <td>0</td>\n",
       "      <td>0</td>\n",
       "    </tr>\n",
       "    <tr>\n",
       "      <th>3</th>\n",
       "      <td>4</td>\n",
       "      <td>2010</td>\n",
       "      <td>1</td>\n",
       "      <td>1</td>\n",
       "      <td>3</td>\n",
       "      <td>NaN</td>\n",
       "      <td>-21</td>\n",
       "      <td>-14.0</td>\n",
       "      <td>1019.0</td>\n",
       "      <td>NW</td>\n",
       "      <td>9.84</td>\n",
       "      <td>0</td>\n",
       "      <td>0</td>\n",
       "    </tr>\n",
       "    <tr>\n",
       "      <th>4</th>\n",
       "      <td>5</td>\n",
       "      <td>2010</td>\n",
       "      <td>1</td>\n",
       "      <td>1</td>\n",
       "      <td>4</td>\n",
       "      <td>NaN</td>\n",
       "      <td>-20</td>\n",
       "      <td>-12.0</td>\n",
       "      <td>1018.0</td>\n",
       "      <td>NW</td>\n",
       "      <td>12.97</td>\n",
       "      <td>0</td>\n",
       "      <td>0</td>\n",
       "    </tr>\n",
       "  </tbody>\n",
       "</table>\n",
       "</div>"
      ],
      "text/plain": [
       "   No  year  month  day  hour  pm2.5  DEWP  TEMP    PRES cbwd    Iws  Is  Ir\n",
       "0   1  2010      1    1     0    NaN   -21 -11.0  1021.0   NW   1.79   0   0\n",
       "1   2  2010      1    1     1    NaN   -21 -12.0  1020.0   NW   4.92   0   0\n",
       "2   3  2010      1    1     2    NaN   -21 -11.0  1019.0   NW   6.71   0   0\n",
       "3   4  2010      1    1     3    NaN   -21 -14.0  1019.0   NW   9.84   0   0\n",
       "4   5  2010      1    1     4    NaN   -20 -12.0  1018.0   NW  12.97   0   0"
      ]
     },
     "execution_count": 5,
     "metadata": {},
     "output_type": "execute_result"
    }
   ],
   "source": [
    "df.head()"
   ]
  },
  {
   "attachments": {},
   "cell_type": "markdown",
   "id": "4a7d17bb-b2b5-4679-bd61-e3cf897406f0",
   "metadata": {},
   "source": [
    "- Para asegurarse de que las filas están en el orden correcto de fecha y hora de las observaciones, `se crea una nueva columna datetime a partir de las columnas relacionadas con la fecha y la hora del DataFrame`. La nueva columna se compone de objetos `datetime.datetime de Python`. El DataFrame se ordena en orden ascendente sobre esta columna"
   ]
  },
  {
   "cell_type": "code",
   "execution_count": 6,
   "id": "6d1caf42-32de-4ef1-9a98-296d23d98806",
   "metadata": {},
   "outputs": [],
   "source": [
    "df['datetime'] = df[['year', 'month', 'day', 'hour']].apply(lambda row: datetime.datetime(year=row['year'], month=row['month'], day=row['day'],\n",
    "                                                                                          hour=row['hour']), axis=1)\n",
    "df.sort_values('datetime', ascending=True, inplace=True)"
   ]
  },
  {
   "cell_type": "code",
   "execution_count": 7,
   "id": "18621c67-2629-4f8d-9020-d01552892cc9",
   "metadata": {},
   "outputs": [
    {
     "data": {
      "text/html": [
       "<div>\n",
       "<style scoped>\n",
       "    .dataframe tbody tr th:only-of-type {\n",
       "        vertical-align: middle;\n",
       "    }\n",
       "\n",
       "    .dataframe tbody tr th {\n",
       "        vertical-align: top;\n",
       "    }\n",
       "\n",
       "    .dataframe thead th {\n",
       "        text-align: right;\n",
       "    }\n",
       "</style>\n",
       "<table border=\"1\" class=\"dataframe\">\n",
       "  <thead>\n",
       "    <tr style=\"text-align: right;\">\n",
       "      <th></th>\n",
       "      <th>No</th>\n",
       "      <th>year</th>\n",
       "      <th>month</th>\n",
       "      <th>day</th>\n",
       "      <th>hour</th>\n",
       "      <th>pm2.5</th>\n",
       "      <th>DEWP</th>\n",
       "      <th>TEMP</th>\n",
       "      <th>PRES</th>\n",
       "      <th>cbwd</th>\n",
       "      <th>Iws</th>\n",
       "      <th>Is</th>\n",
       "      <th>Ir</th>\n",
       "      <th>datetime</th>\n",
       "    </tr>\n",
       "  </thead>\n",
       "  <tbody>\n",
       "    <tr>\n",
       "      <th>0</th>\n",
       "      <td>1</td>\n",
       "      <td>2010</td>\n",
       "      <td>1</td>\n",
       "      <td>1</td>\n",
       "      <td>0</td>\n",
       "      <td>NaN</td>\n",
       "      <td>-21</td>\n",
       "      <td>-11.0</td>\n",
       "      <td>1021.0</td>\n",
       "      <td>NW</td>\n",
       "      <td>1.79</td>\n",
       "      <td>0</td>\n",
       "      <td>0</td>\n",
       "      <td>2010-01-01 00:00:00</td>\n",
       "    </tr>\n",
       "    <tr>\n",
       "      <th>1</th>\n",
       "      <td>2</td>\n",
       "      <td>2010</td>\n",
       "      <td>1</td>\n",
       "      <td>1</td>\n",
       "      <td>1</td>\n",
       "      <td>NaN</td>\n",
       "      <td>-21</td>\n",
       "      <td>-12.0</td>\n",
       "      <td>1020.0</td>\n",
       "      <td>NW</td>\n",
       "      <td>4.92</td>\n",
       "      <td>0</td>\n",
       "      <td>0</td>\n",
       "      <td>2010-01-01 01:00:00</td>\n",
       "    </tr>\n",
       "    <tr>\n",
       "      <th>2</th>\n",
       "      <td>3</td>\n",
       "      <td>2010</td>\n",
       "      <td>1</td>\n",
       "      <td>1</td>\n",
       "      <td>2</td>\n",
       "      <td>NaN</td>\n",
       "      <td>-21</td>\n",
       "      <td>-11.0</td>\n",
       "      <td>1019.0</td>\n",
       "      <td>NW</td>\n",
       "      <td>6.71</td>\n",
       "      <td>0</td>\n",
       "      <td>0</td>\n",
       "      <td>2010-01-01 02:00:00</td>\n",
       "    </tr>\n",
       "    <tr>\n",
       "      <th>3</th>\n",
       "      <td>4</td>\n",
       "      <td>2010</td>\n",
       "      <td>1</td>\n",
       "      <td>1</td>\n",
       "      <td>3</td>\n",
       "      <td>NaN</td>\n",
       "      <td>-21</td>\n",
       "      <td>-14.0</td>\n",
       "      <td>1019.0</td>\n",
       "      <td>NW</td>\n",
       "      <td>9.84</td>\n",
       "      <td>0</td>\n",
       "      <td>0</td>\n",
       "      <td>2010-01-01 03:00:00</td>\n",
       "    </tr>\n",
       "    <tr>\n",
       "      <th>4</th>\n",
       "      <td>5</td>\n",
       "      <td>2010</td>\n",
       "      <td>1</td>\n",
       "      <td>1</td>\n",
       "      <td>4</td>\n",
       "      <td>NaN</td>\n",
       "      <td>-20</td>\n",
       "      <td>-12.0</td>\n",
       "      <td>1018.0</td>\n",
       "      <td>NW</td>\n",
       "      <td>12.97</td>\n",
       "      <td>0</td>\n",
       "      <td>0</td>\n",
       "      <td>2010-01-01 04:00:00</td>\n",
       "    </tr>\n",
       "  </tbody>\n",
       "</table>\n",
       "</div>"
      ],
      "text/plain": [
       "   No  year  month  day  hour  pm2.5  DEWP  TEMP    PRES cbwd    Iws  Is  Ir  \\\n",
       "0   1  2010      1    1     0    NaN   -21 -11.0  1021.0   NW   1.79   0   0   \n",
       "1   2  2010      1    1     1    NaN   -21 -12.0  1020.0   NW   4.92   0   0   \n",
       "2   3  2010      1    1     2    NaN   -21 -11.0  1019.0   NW   6.71   0   0   \n",
       "3   4  2010      1    1     3    NaN   -21 -14.0  1019.0   NW   9.84   0   0   \n",
       "4   5  2010      1    1     4    NaN   -20 -12.0  1018.0   NW  12.97   0   0   \n",
       "\n",
       "             datetime  \n",
       "0 2010-01-01 00:00:00  \n",
       "1 2010-01-01 01:00:00  \n",
       "2 2010-01-01 02:00:00  \n",
       "3 2010-01-01 03:00:00  \n",
       "4 2010-01-01 04:00:00  "
      ]
     },
     "execution_count": 7,
     "metadata": {},
     "output_type": "execute_result"
    }
   ],
   "source": [
    "df.head()"
   ]
  },
  {
   "attachments": {},
   "cell_type": "markdown",
   "id": "cd571b10",
   "metadata": {},
   "source": [
    "- Dibujamos un diagrama de cajas para visualizar la tendencia central y la dispersión de por ejemplo la columna `PRES`"
   ]
  },
  {
   "cell_type": "code",
   "execution_count": 8,
   "id": "cbb16002-0e50-45c2-8039-c584f9c80752",
   "metadata": {},
   "outputs": [
    {
     "data": {
      "image/png": "[encoded data removed]",
      "text/plain": [
       "<Figure size 550x550 with 1 Axes>"
      ]
     },
     "metadata": {},
     "output_type": "display_data"
    }
   ],
   "source": [
    "plt.figure(figsize=(5.5, 5.5))\n",
    "g = sns.boxplot(df['PRES'], orient=\"h\", palette=\"Set2\")\n",
    "g.set_title('Box plot of Air Pressure');\n",
    "g.set(xlabel='PRESS')\n",
    "g.set(yticklabels=[])\n",
    "g.tick_params(left=False);"
   ]
  },
  {
   "cell_type": "code",
   "execution_count": 9,
   "id": "61535258-ccef-48b1-97b4-6466b5f32ce6",
   "metadata": {},
   "outputs": [
    {
     "data": {
      "image/png": "[encoded data removed]",
      "text/plain": [
       "<Figure size 550x550 with 1 Axes>"
      ]
     },
     "metadata": {},
     "output_type": "display_data"
    }
   ],
   "source": [
    "plt.figure(figsize=(5.5, 5.5))\n",
    "g = sns.lineplot(df['PRES'])\n",
    "g.set_title('Time series of Air Pressure')\n",
    "g.set_xlabel('Index')\n",
    "g.set_ylabel('Air Pressure readings in hPa');"
   ]
  },
  {
   "attachments": {},
   "cell_type": "markdown",
   "id": "aa832d80-dad9-433b-9009-8458fad9aad1",
   "metadata": {},
   "source": [
    "- `Los algoritmos de gradiente descendiente funcionan mejor (por ejemplo, convergen más rápido) si las variables están dentro del intervalo` $[-1, 1]$. Muchas fuentes relajan el límite hasta $[-3, 3]$. La variable `PRES` es escalada con `minmax` para limitar la variable transformada dentro de $[0,1]$."
   ]
  },
  {
   "cell_type": "code",
   "execution_count": 10,
   "id": "4472833d-4c1a-4f3a-b986-393c28798ca1",
   "metadata": {},
   "outputs": [],
   "source": [
    "scaler = MinMaxScaler(feature_range=(0, 1))\n",
    "df['scaled_PRES'] = scaler.fit_transform(np.array(df['PRES']).reshape(-1, 1))"
   ]
  },
  {
   "attachments": {},
   "cell_type": "markdown",
   "id": "e7aa810f-11b1-4b69-b738-34baa6c43064",
   "metadata": {},
   "source": [
    "- Antes de entrenar el modelo, el conjunto de datos se divide en dos partes: el conjunto de `entrenamiento` y el conjunto de `validación`. La red neuronal se entrena en el conjunto de entrenamiento. Esto significa que `el cálculo de la función de pérdida, la propagación hacia atrás y los pesos actualizados mediante un algoritmo de gradiente descendiente se realizan en el conjunto de entrenamiento`.\n",
    "\n",
    "- `El conjunto de validación se utiliza para evaluar el modelo y determinar el número de épocas en su entrenamiento`. Aumentar el número de épocas reducirá aún más la función de pérdida en el conjunto de entrenamiento, pero no necesariamente tendrá el mismo efecto en el conjunto de validación debido al sobreajuste en el conjunto de entrenamiento, por lo que `el número de épocas se controla manteniendo una evaluación y verificación sobre la función de pérdida calculada para el conjunto de validación`. \n",
    "\n",
    "- Utilizamos `Keras` con el backend `Tensorflow` para definir y entrenar el modelo. Todos los pasos implicados en el entrenamiento y validación del modelo se realizan llamando a las funciones apropiadas de la `API` de `Keras`."
   ]
  },
  {
   "attachments": {},
   "cell_type": "markdown",
   "id": "de0f8e9a",
   "metadata": {},
   "source": [
    "- `Los cuatro primeros años, de 2010 a 2013, se utilizan como entrenamiento y\n",
    "2014 se utiliza para la validación`"
   ]
  },
  {
   "cell_type": "code",
   "execution_count": 11,
   "id": "ffa97b07-9ac9-4dc5-8fcb-6ead7e7ff5f7",
   "metadata": {},
   "outputs": [
    {
     "name": "stdout",
     "output_type": "stream",
     "text": [
      "Shape of train: (35064, 15)\n",
      "Shape of test: (8760, 15)\n"
     ]
    }
   ],
   "source": [
    "split_date = datetime.datetime(year=2014, month=1, day=1, hour=0)\n",
    "df_train = df.loc[df['datetime']<split_date]\n",
    "df_val = df.loc[df['datetime']>=split_date]\n",
    "print('Shape of train:', df_train.shape)\n",
    "print('Shape of test:', df_val.shape)"
   ]
  },
  {
   "cell_type": "code",
   "execution_count": 12,
   "id": "729942cc-84a1-4c84-b48b-08332cc35c70",
   "metadata": {},
   "outputs": [
    {
     "data": {
      "text/html": [
       "<div>\n",
       "<style scoped>\n",
       "    .dataframe tbody tr th:only-of-type {\n",
       "        vertical-align: middle;\n",
       "    }\n",
       "\n",
       "    .dataframe tbody tr th {\n",
       "        vertical-align: top;\n",
       "    }\n",
       "\n",
       "    .dataframe thead th {\n",
       "        text-align: right;\n",
       "    }\n",
       "</style>\n",
       "<table border=\"1\" class=\"dataframe\">\n",
       "  <thead>\n",
       "    <tr style=\"text-align: right;\">\n",
       "      <th></th>\n",
       "      <th>No</th>\n",
       "      <th>year</th>\n",
       "      <th>month</th>\n",
       "      <th>day</th>\n",
       "      <th>hour</th>\n",
       "      <th>pm2.5</th>\n",
       "      <th>DEWP</th>\n",
       "      <th>TEMP</th>\n",
       "      <th>PRES</th>\n",
       "      <th>cbwd</th>\n",
       "      <th>Iws</th>\n",
       "      <th>Is</th>\n",
       "      <th>Ir</th>\n",
       "      <th>datetime</th>\n",
       "      <th>scaled_PRES</th>\n",
       "    </tr>\n",
       "  </thead>\n",
       "  <tbody>\n",
       "    <tr>\n",
       "      <th>0</th>\n",
       "      <td>1</td>\n",
       "      <td>2010</td>\n",
       "      <td>1</td>\n",
       "      <td>1</td>\n",
       "      <td>0</td>\n",
       "      <td>NaN</td>\n",
       "      <td>-21</td>\n",
       "      <td>-11.0</td>\n",
       "      <td>1021.0</td>\n",
       "      <td>NW</td>\n",
       "      <td>1.79</td>\n",
       "      <td>0</td>\n",
       "      <td>0</td>\n",
       "      <td>2010-01-01 00:00:00</td>\n",
       "      <td>0.545455</td>\n",
       "    </tr>\n",
       "    <tr>\n",
       "      <th>1</th>\n",
       "      <td>2</td>\n",
       "      <td>2010</td>\n",
       "      <td>1</td>\n",
       "      <td>1</td>\n",
       "      <td>1</td>\n",
       "      <td>NaN</td>\n",
       "      <td>-21</td>\n",
       "      <td>-12.0</td>\n",
       "      <td>1020.0</td>\n",
       "      <td>NW</td>\n",
       "      <td>4.92</td>\n",
       "      <td>0</td>\n",
       "      <td>0</td>\n",
       "      <td>2010-01-01 01:00:00</td>\n",
       "      <td>0.527273</td>\n",
       "    </tr>\n",
       "    <tr>\n",
       "      <th>2</th>\n",
       "      <td>3</td>\n",
       "      <td>2010</td>\n",
       "      <td>1</td>\n",
       "      <td>1</td>\n",
       "      <td>2</td>\n",
       "      <td>NaN</td>\n",
       "      <td>-21</td>\n",
       "      <td>-11.0</td>\n",
       "      <td>1019.0</td>\n",
       "      <td>NW</td>\n",
       "      <td>6.71</td>\n",
       "      <td>0</td>\n",
       "      <td>0</td>\n",
       "      <td>2010-01-01 02:00:00</td>\n",
       "      <td>0.509091</td>\n",
       "    </tr>\n",
       "    <tr>\n",
       "      <th>3</th>\n",
       "      <td>4</td>\n",
       "      <td>2010</td>\n",
       "      <td>1</td>\n",
       "      <td>1</td>\n",
       "      <td>3</td>\n",
       "      <td>NaN</td>\n",
       "      <td>-21</td>\n",
       "      <td>-14.0</td>\n",
       "      <td>1019.0</td>\n",
       "      <td>NW</td>\n",
       "      <td>9.84</td>\n",
       "      <td>0</td>\n",
       "      <td>0</td>\n",
       "      <td>2010-01-01 03:00:00</td>\n",
       "      <td>0.509091</td>\n",
       "    </tr>\n",
       "    <tr>\n",
       "      <th>4</th>\n",
       "      <td>5</td>\n",
       "      <td>2010</td>\n",
       "      <td>1</td>\n",
       "      <td>1</td>\n",
       "      <td>4</td>\n",
       "      <td>NaN</td>\n",
       "      <td>-20</td>\n",
       "      <td>-12.0</td>\n",
       "      <td>1018.0</td>\n",
       "      <td>NW</td>\n",
       "      <td>12.97</td>\n",
       "      <td>0</td>\n",
       "      <td>0</td>\n",
       "      <td>2010-01-01 04:00:00</td>\n",
       "      <td>0.490909</td>\n",
       "    </tr>\n",
       "  </tbody>\n",
       "</table>\n",
       "</div>"
      ],
      "text/plain": [
       "   No  year  month  day  hour  pm2.5  DEWP  TEMP    PRES cbwd    Iws  Is  Ir  \\\n",
       "0   1  2010      1    1     0    NaN   -21 -11.0  1021.0   NW   1.79   0   0   \n",
       "1   2  2010      1    1     1    NaN   -21 -12.0  1020.0   NW   4.92   0   0   \n",
       "2   3  2010      1    1     2    NaN   -21 -11.0  1019.0   NW   6.71   0   0   \n",
       "3   4  2010      1    1     3    NaN   -21 -14.0  1019.0   NW   9.84   0   0   \n",
       "4   5  2010      1    1     4    NaN   -20 -12.0  1018.0   NW  12.97   0   0   \n",
       "\n",
       "             datetime  scaled_PRES  \n",
       "0 2010-01-01 00:00:00     0.545455  \n",
       "1 2010-01-01 01:00:00     0.527273  \n",
       "2 2010-01-01 02:00:00     0.509091  \n",
       "3 2010-01-01 03:00:00     0.509091  \n",
       "4 2010-01-01 04:00:00     0.490909  "
      ]
     },
     "execution_count": 12,
     "metadata": {},
     "output_type": "execute_result"
    }
   ],
   "source": [
    "df_train.head()"
   ]
  },
  {
   "cell_type": "code",
   "execution_count": 13,
   "id": "332e0b49-e150-4a10-b2a5-c92c1abfa3c8",
   "metadata": {},
   "outputs": [
    {
     "data": {
      "text/html": [
       "<div>\n",
       "<style scoped>\n",
       "    .dataframe tbody tr th:only-of-type {\n",
       "        vertical-align: middle;\n",
       "    }\n",
       "\n",
       "    .dataframe tbody tr th {\n",
       "        vertical-align: top;\n",
       "    }\n",
       "\n",
       "    .dataframe thead th {\n",
       "        text-align: right;\n",
       "    }\n",
       "</style>\n",
       "<table border=\"1\" class=\"dataframe\">\n",
       "  <thead>\n",
       "    <tr style=\"text-align: right;\">\n",
       "      <th></th>\n",
       "      <th>No</th>\n",
       "      <th>year</th>\n",
       "      <th>month</th>\n",
       "      <th>day</th>\n",
       "      <th>hour</th>\n",
       "      <th>pm2.5</th>\n",
       "      <th>DEWP</th>\n",
       "      <th>TEMP</th>\n",
       "      <th>PRES</th>\n",
       "      <th>cbwd</th>\n",
       "      <th>Iws</th>\n",
       "      <th>Is</th>\n",
       "      <th>Ir</th>\n",
       "      <th>datetime</th>\n",
       "      <th>scaled_PRES</th>\n",
       "    </tr>\n",
       "  </thead>\n",
       "  <tbody>\n",
       "    <tr>\n",
       "      <th>35064</th>\n",
       "      <td>35065</td>\n",
       "      <td>2014</td>\n",
       "      <td>1</td>\n",
       "      <td>1</td>\n",
       "      <td>0</td>\n",
       "      <td>24.0</td>\n",
       "      <td>-20</td>\n",
       "      <td>7.0</td>\n",
       "      <td>1014.0</td>\n",
       "      <td>NW</td>\n",
       "      <td>143.48</td>\n",
       "      <td>0</td>\n",
       "      <td>0</td>\n",
       "      <td>2014-01-01 00:00:00</td>\n",
       "      <td>0.418182</td>\n",
       "    </tr>\n",
       "    <tr>\n",
       "      <th>35065</th>\n",
       "      <td>35066</td>\n",
       "      <td>2014</td>\n",
       "      <td>1</td>\n",
       "      <td>1</td>\n",
       "      <td>1</td>\n",
       "      <td>53.0</td>\n",
       "      <td>-20</td>\n",
       "      <td>7.0</td>\n",
       "      <td>1013.0</td>\n",
       "      <td>NW</td>\n",
       "      <td>147.50</td>\n",
       "      <td>0</td>\n",
       "      <td>0</td>\n",
       "      <td>2014-01-01 01:00:00</td>\n",
       "      <td>0.400000</td>\n",
       "    </tr>\n",
       "    <tr>\n",
       "      <th>35066</th>\n",
       "      <td>35067</td>\n",
       "      <td>2014</td>\n",
       "      <td>1</td>\n",
       "      <td>1</td>\n",
       "      <td>2</td>\n",
       "      <td>65.0</td>\n",
       "      <td>-20</td>\n",
       "      <td>6.0</td>\n",
       "      <td>1013.0</td>\n",
       "      <td>NW</td>\n",
       "      <td>151.52</td>\n",
       "      <td>0</td>\n",
       "      <td>0</td>\n",
       "      <td>2014-01-01 02:00:00</td>\n",
       "      <td>0.400000</td>\n",
       "    </tr>\n",
       "    <tr>\n",
       "      <th>35067</th>\n",
       "      <td>35068</td>\n",
       "      <td>2014</td>\n",
       "      <td>1</td>\n",
       "      <td>1</td>\n",
       "      <td>3</td>\n",
       "      <td>70.0</td>\n",
       "      <td>-20</td>\n",
       "      <td>6.0</td>\n",
       "      <td>1013.0</td>\n",
       "      <td>NW</td>\n",
       "      <td>153.31</td>\n",
       "      <td>0</td>\n",
       "      <td>0</td>\n",
       "      <td>2014-01-01 03:00:00</td>\n",
       "      <td>0.400000</td>\n",
       "    </tr>\n",
       "    <tr>\n",
       "      <th>35068</th>\n",
       "      <td>35069</td>\n",
       "      <td>2014</td>\n",
       "      <td>1</td>\n",
       "      <td>1</td>\n",
       "      <td>4</td>\n",
       "      <td>79.0</td>\n",
       "      <td>-18</td>\n",
       "      <td>3.0</td>\n",
       "      <td>1012.0</td>\n",
       "      <td>cv</td>\n",
       "      <td>0.89</td>\n",
       "      <td>0</td>\n",
       "      <td>0</td>\n",
       "      <td>2014-01-01 04:00:00</td>\n",
       "      <td>0.381818</td>\n",
       "    </tr>\n",
       "  </tbody>\n",
       "</table>\n",
       "</div>"
      ],
      "text/plain": [
       "          No  year  month  day  hour  pm2.5  DEWP  TEMP    PRES cbwd     Iws  \\\n",
       "35064  35065  2014      1    1     0   24.0   -20   7.0  1014.0   NW  143.48   \n",
       "35065  35066  2014      1    1     1   53.0   -20   7.0  1013.0   NW  147.50   \n",
       "35066  35067  2014      1    1     2   65.0   -20   6.0  1013.0   NW  151.52   \n",
       "35067  35068  2014      1    1     3   70.0   -20   6.0  1013.0   NW  153.31   \n",
       "35068  35069  2014      1    1     4   79.0   -18   3.0  1012.0   cv    0.89   \n",
       "\n",
       "       Is  Ir            datetime  scaled_PRES  \n",
       "35064   0   0 2014-01-01 00:00:00     0.418182  \n",
       "35065   0   0 2014-01-01 01:00:00     0.400000  \n",
       "35066   0   0 2014-01-01 02:00:00     0.400000  \n",
       "35067   0   0 2014-01-01 03:00:00     0.400000  \n",
       "35068   0   0 2014-01-01 04:00:00     0.381818  "
      ]
     },
     "execution_count": 13,
     "metadata": {},
     "output_type": "execute_result"
    }
   ],
   "source": [
    "df_val.head()"
   ]
  },
  {
   "attachments": {},
   "cell_type": "markdown",
   "id": "bc69b9c5",
   "metadata": {},
   "source": [
    "- Restablecemos los `índices del conjunto de validación`"
   ]
  },
  {
   "cell_type": "code",
   "execution_count": 14,
   "id": "c53e29bb-e5aa-4a7c-b5ae-0076022a5e64",
   "metadata": {},
   "outputs": [],
   "source": [
    "df_val.reset_index(drop=True, inplace=True)"
   ]
  },
  {
   "cell_type": "code",
   "execution_count": 15,
   "id": "004cdfdf",
   "metadata": {},
   "outputs": [
    {
     "data": {
      "text/html": [
       "<div>\n",
       "<style scoped>\n",
       "    .dataframe tbody tr th:only-of-type {\n",
       "        vertical-align: middle;\n",
       "    }\n",
       "\n",
       "    .dataframe tbody tr th {\n",
       "        vertical-align: top;\n",
       "    }\n",
       "\n",
       "    .dataframe thead th {\n",
       "        text-align: right;\n",
       "    }\n",
       "</style>\n",
       "<table border=\"1\" class=\"dataframe\">\n",
       "  <thead>\n",
       "    <tr style=\"text-align: right;\">\n",
       "      <th></th>\n",
       "      <th>No</th>\n",
       "      <th>year</th>\n",
       "      <th>month</th>\n",
       "      <th>day</th>\n",
       "      <th>hour</th>\n",
       "      <th>pm2.5</th>\n",
       "      <th>DEWP</th>\n",
       "      <th>TEMP</th>\n",
       "      <th>PRES</th>\n",
       "      <th>cbwd</th>\n",
       "      <th>Iws</th>\n",
       "      <th>Is</th>\n",
       "      <th>Ir</th>\n",
       "      <th>datetime</th>\n",
       "      <th>scaled_PRES</th>\n",
       "    </tr>\n",
       "  </thead>\n",
       "  <tbody>\n",
       "    <tr>\n",
       "      <th>0</th>\n",
       "      <td>35065</td>\n",
       "      <td>2014</td>\n",
       "      <td>1</td>\n",
       "      <td>1</td>\n",
       "      <td>0</td>\n",
       "      <td>24.0</td>\n",
       "      <td>-20</td>\n",
       "      <td>7.0</td>\n",
       "      <td>1014.0</td>\n",
       "      <td>NW</td>\n",
       "      <td>143.48</td>\n",
       "      <td>0</td>\n",
       "      <td>0</td>\n",
       "      <td>2014-01-01 00:00:00</td>\n",
       "      <td>0.418182</td>\n",
       "    </tr>\n",
       "    <tr>\n",
       "      <th>1</th>\n",
       "      <td>35066</td>\n",
       "      <td>2014</td>\n",
       "      <td>1</td>\n",
       "      <td>1</td>\n",
       "      <td>1</td>\n",
       "      <td>53.0</td>\n",
       "      <td>-20</td>\n",
       "      <td>7.0</td>\n",
       "      <td>1013.0</td>\n",
       "      <td>NW</td>\n",
       "      <td>147.50</td>\n",
       "      <td>0</td>\n",
       "      <td>0</td>\n",
       "      <td>2014-01-01 01:00:00</td>\n",
       "      <td>0.400000</td>\n",
       "    </tr>\n",
       "    <tr>\n",
       "      <th>2</th>\n",
       "      <td>35067</td>\n",
       "      <td>2014</td>\n",
       "      <td>1</td>\n",
       "      <td>1</td>\n",
       "      <td>2</td>\n",
       "      <td>65.0</td>\n",
       "      <td>-20</td>\n",
       "      <td>6.0</td>\n",
       "      <td>1013.0</td>\n",
       "      <td>NW</td>\n",
       "      <td>151.52</td>\n",
       "      <td>0</td>\n",
       "      <td>0</td>\n",
       "      <td>2014-01-01 02:00:00</td>\n",
       "      <td>0.400000</td>\n",
       "    </tr>\n",
       "    <tr>\n",
       "      <th>3</th>\n",
       "      <td>35068</td>\n",
       "      <td>2014</td>\n",
       "      <td>1</td>\n",
       "      <td>1</td>\n",
       "      <td>3</td>\n",
       "      <td>70.0</td>\n",
       "      <td>-20</td>\n",
       "      <td>6.0</td>\n",
       "      <td>1013.0</td>\n",
       "      <td>NW</td>\n",
       "      <td>153.31</td>\n",
       "      <td>0</td>\n",
       "      <td>0</td>\n",
       "      <td>2014-01-01 03:00:00</td>\n",
       "      <td>0.400000</td>\n",
       "    </tr>\n",
       "    <tr>\n",
       "      <th>4</th>\n",
       "      <td>35069</td>\n",
       "      <td>2014</td>\n",
       "      <td>1</td>\n",
       "      <td>1</td>\n",
       "      <td>4</td>\n",
       "      <td>79.0</td>\n",
       "      <td>-18</td>\n",
       "      <td>3.0</td>\n",
       "      <td>1012.0</td>\n",
       "      <td>cv</td>\n",
       "      <td>0.89</td>\n",
       "      <td>0</td>\n",
       "      <td>0</td>\n",
       "      <td>2014-01-01 04:00:00</td>\n",
       "      <td>0.381818</td>\n",
       "    </tr>\n",
       "  </tbody>\n",
       "</table>\n",
       "</div>"
      ],
      "text/plain": [
       "      No  year  month  day  hour  pm2.5  DEWP  TEMP    PRES cbwd     Iws  Is  \\\n",
       "0  35065  2014      1    1     0   24.0   -20   7.0  1014.0   NW  143.48   0   \n",
       "1  35066  2014      1    1     1   53.0   -20   7.0  1013.0   NW  147.50   0   \n",
       "2  35067  2014      1    1     2   65.0   -20   6.0  1013.0   NW  151.52   0   \n",
       "3  35068  2014      1    1     3   70.0   -20   6.0  1013.0   NW  153.31   0   \n",
       "4  35069  2014      1    1     4   79.0   -18   3.0  1012.0   cv    0.89   0   \n",
       "\n",
       "   Ir            datetime  scaled_PRES  \n",
       "0   0 2014-01-01 00:00:00     0.418182  \n",
       "1   0 2014-01-01 01:00:00     0.400000  \n",
       "2   0 2014-01-01 02:00:00     0.400000  \n",
       "3   0 2014-01-01 03:00:00     0.400000  \n",
       "4   0 2014-01-01 04:00:00     0.381818  "
      ]
     },
     "execution_count": 15,
     "metadata": {},
     "output_type": "execute_result"
    }
   ],
   "source": [
    "df_val.head()"
   ]
  },
  {
   "attachments": {},
   "cell_type": "markdown",
   "id": "92613b64",
   "metadata": {},
   "source": [
    "- También `se grafican las series temporales de entrenamiento y validación normalizadas para PRES`."
   ]
  },
  {
   "cell_type": "code",
   "execution_count": 16,
   "id": "c9502c39-28ae-41ff-9f11-6069b6a3664c",
   "metadata": {},
   "outputs": [
    {
     "data": {
      "image/png": "[encoded data removed]",
      "text/plain": [
       "<Figure size 550x550 with 1 Axes>"
      ]
     },
     "metadata": {},
     "output_type": "display_data"
    }
   ],
   "source": [
    "plt.figure(figsize=(5.5, 5.5))\n",
    "g = sns.lineplot(df_train['scaled_PRES'], color='b')\n",
    "g.set_title('Time series of scaled Air Pressure in train set')\n",
    "g.set_xlabel('Index')\n",
    "g.set_ylabel('Scaled Air Pressure readings');"
   ]
  },
  {
   "cell_type": "code",
   "execution_count": 17,
   "id": "14b3f70f-0742-4a41-b5b3-3f43cd503c33",
   "metadata": {},
   "outputs": [
    {
     "data": {
      "image/png": "[encoded data removed]",
      "text/plain": [
       "<Figure size 550x550 with 1 Axes>"
      ]
     },
     "metadata": {},
     "output_type": "display_data"
    }
   ],
   "source": [
    "plt.figure(figsize=(5.5, 5.5))\n",
    "g = sns.lineplot(df_val['scaled_PRES'], color='r')\n",
    "g.set_title('Time series of scaled Air Pressure in validation set')\n",
    "g.set_xlabel('Index')\n",
    "g.set_ylabel('Scaled Air Pressure readings');"
   ]
  },
  {
   "attachments": {},
   "cell_type": "markdown",
   "id": "3b83974c-dc2a-4dca-84a2-789b4edd6adf",
   "metadata": {},
   "source": [
    "- Ahora necesitamos generar los `regresores` ($X$) y la `variable objetivo` ($y$) para el entrenamiento y la validación. `La matriz bidimensional de regresores y la matriz unidimensional de objetivo se crean a partir de la matriz unidimensional original de la columna standardized_PRES` en el *DataFrame*. Para el modelo de predicción de series temporales, `se utilizan las observaciones de los últimos siete días para predecir el día siguiente`. Esto equivale a un modelo $AR(7)$. Definimos una función que toma la serie temporal original y el número de pasos temporales en regresores como entrada para generar las matrices de $X$ e $y$"
   ]
  },
  {
   "cell_type": "code",
   "execution_count": 18,
   "id": "c7a55e64-7617-4cb6-bf5b-9cfa1f84cec8",
   "metadata": {},
   "outputs": [],
   "source": [
    "def makeXy(ts, nb_timesteps):\n",
    "    \"\"\"\n",
    "    Input: \n",
    "           ts: original time series\n",
    "           nb_timesteps: number of time steps in the regressors\n",
    "    Output: \n",
    "           X: 2-D array of regressors\n",
    "           y: 1-D array of target \n",
    "    \"\"\"\n",
    "    X = []\n",
    "    y = []\n",
    "    for i in range(nb_timesteps, ts.shape[0]):\n",
    "        X.append(list(ts.loc[i-nb_timesteps:i-1]))\n",
    "        y.append(ts.loc[i])\n",
    "    X, y = np.array(X), np.array(y)\n",
    "    return X, y"
   ]
  },
  {
   "cell_type": "code",
   "execution_count": 19,
   "id": "bc73f05e-1270-4e41-a571-66e1c4dba0e3",
   "metadata": {},
   "outputs": [
    {
     "name": "stdout",
     "output_type": "stream",
     "text": [
      "Shape of train arrays: (35057, 7) (35057,)\n"
     ]
    }
   ],
   "source": [
    "X_train, y_train = makeXy(df_train['scaled_PRES'], 7)\n",
    "print('Shape of train arrays:', X_train.shape, y_train.shape)"
   ]
  },
  {
   "cell_type": "code",
   "execution_count": 20,
   "id": "01112e51-66f3-4e45-a3f8-166d6d033fa4",
   "metadata": {},
   "outputs": [
    {
     "name": "stdout",
     "output_type": "stream",
     "text": [
      "Shape of validation arrays: (8753, 7) (8753,)\n"
     ]
    }
   ],
   "source": [
    "X_val, y_val = makeXy(df_val['scaled_PRES'], 7)\n",
    "print('Shape of validation arrays:', X_val.shape, y_val.shape)"
   ]
  },
  {
   "attachments": {},
   "cell_type": "markdown",
   "id": "dd2bbd5d-497c-4d6d-9e71-c5686acbf0af",
   "metadata": {},
   "source": [
    "- Ahora definimos el `MLP` utilizando la `API` funcional de `Keras`. En este enfoque `una capa puede ser declarada como la entrada de la siguiente capa en el momento de definir la siguiente`"
   ]
  },
  {
   "cell_type": "code",
   "execution_count": 21,
   "id": "be886073-c185-4004-9b44-4208ec8a6106",
   "metadata": {},
   "outputs": [],
   "source": [
    "input_layer = Input(shape=(7,), dtype='float32')"
   ]
  },
  {
   "attachments": {},
   "cell_type": "markdown",
   "id": "a10ae5e4",
   "metadata": {},
   "source": [
    "- Las capas densas las definimos en esta caso con `activación lineal`. Puede utilizar un `GridSearch` tal como se hizo en el curso de `Machine Learning` para encontrar hiperparámetros adecuados minimizando las métricas de regresión."
   ]
  },
  {
   "cell_type": "code",
   "execution_count": 22,
   "id": "b99ec29a-c723-4b64-9460-c0049175738b",
   "metadata": {},
   "outputs": [],
   "source": [
    "dense1 = Dense(32, activation='linear')(input_layer)\n",
    "dense2 = Dense(16, activation='linear')(dense1)\n",
    "dense3 = Dense(16, activation='linear')(dense2)"
   ]
  },
  {
   "attachments": {},
   "cell_type": "markdown",
   "id": "ce184bdc-cd8e-4e65-a796-5511eb73eb44",
   "metadata": {},
   "source": [
    "- Las `múltiples capas ocultas y el gran número de neuronas en cada capa oculta le dan a las redes neuronales la capacidad de modelar la compleja no linealidad de las relaciones subyacentes entre los regresores y el objetivo`. Sin embargo, las redes neuronales profundas también pueden sobreajustar los datos de entrenamiento y dar malos resultados en el conjunto de validación o prueba. El `Dropout` se ha utilizado eficazmente para regularizar las redes neuronales profundas. \n",
    "\n",
    "- En este ejemplo, se añade una capa `Dropout` antes de la capa de salida. `Dropout aleatoriamente establece` $p$ `fracción de neuronas de entrada a cero antes de pasar a la siguiente capa`. La eliminación aleatoria de entradas actúa esencialmente como un tipo de ensamblaje de modelos de agregación `bootstrap`. Por ejemplo, `el bosque aleatorio utiliza el ensamblaje mediante la construcción de árboles en subconjuntos aleatorios de características de entrada`. Utilizamos $p=0.2$ para descartar el 20% de las características de entrada seleccionadas aleatoriamente."
   ]
  },
  {
   "cell_type": "code",
   "execution_count": 23,
   "id": "c7ceb83d-80b3-434e-8692-be0276b10da7",
   "metadata": {},
   "outputs": [],
   "source": [
    "dropout_layer = Dropout(0.2)(dense3)"
   ]
  },
  {
   "attachments": {},
   "cell_type": "markdown",
   "id": "8c7ab57b",
   "metadata": {},
   "source": [
    "- Por último, la capa de salida predice la presión atmosférica del día siguiente"
   ]
  },
  {
   "cell_type": "code",
   "execution_count": 24,
   "id": "68b46b0f-2366-401f-8242-9171d929c041",
   "metadata": {},
   "outputs": [],
   "source": [
    "output_layer = Dense(1, activation='linear')(dropout_layer)"
   ]
  },
  {
   "attachments": {},
   "cell_type": "markdown",
   "id": "645ab321-4dc5-4cf6-8092-ec63171b9d95",
   "metadata": {},
   "source": [
    "- Las capas de entrada, densa y de salida se empaquetarán ahora dentro de un modelo, que es una clase envolvente para entrenar y hacer predicciones. `Como función de pérdida se utiliza el error cuadrático medio` ($MSE$). Los pesos de la red se optimizan mediante el algoritmo `Adam`. `Adam` significa `estimación adaptativa de momentos` y ha sido una opción popular para el entrenamiento de redes neuronales profundas. \n",
    "\n",
    "- A diferencia del `gradiente descendiente estocástico, Adam utiliza diferentes tasas de aprendizaje para cada peso y las actualiza por separado a medida que avanza el entrenamiento`. La tasa de aprendizaje de un peso se actualiza basándose en medias móviles ponderadas exponencialmente de los gradientes del peso y los gradientes al cuadrado."
   ]
  },
  {
   "cell_type": "code",
   "execution_count": 25,
   "id": "36c43496-9cf8-4085-9032-764fb5bf45db",
   "metadata": {},
   "outputs": [
    {
     "name": "stdout",
     "output_type": "stream",
     "text": [
      "Model: \"model\"\n",
      "_________________________________________________________________\n",
      " Layer (type)                Output Shape              Param #   \n",
      "=================================================================\n",
      " input_1 (InputLayer)        [(None, 7)]               0         \n",
      "                                                                 \n",
      " dense (Dense)               (None, 32)                256       \n",
      "                                                                 \n",
      " dense_1 (Dense)             (None, 16)                528       \n",
      "                                                                 \n",
      " dense_2 (Dense)             (None, 16)                272       \n",
      "                                                                 \n",
      " dropout (Dropout)           (None, 16)                0         \n",
      "                                                                 \n",
      " dense_3 (Dense)             (None, 1)                 17        \n",
      "                                                                 \n",
      "=================================================================\n",
      "Total params: 1,073\n",
      "Trainable params: 1,073\n",
      "Non-trainable params: 0\n",
      "_________________________________________________________________\n"
     ]
    }
   ],
   "source": [
    "ts_model = Model(inputs=input_layer, outputs=output_layer)\n",
    "ts_model.compile(loss='mean_squared_error', optimizer='adam')\n",
    "ts_model.summary()"
   ]
  },
  {
   "attachments": {},
   "cell_type": "markdown",
   "id": "b7dd0f9c-b040-42e5-8f13-3f102bde03b4",
   "metadata": {},
   "source": [
    "- El modelo se entrena llamando a la función `fit()` en el objeto modelo y pasándole `X_train` y `y_train`. El entrenamiento se realiza para un número predefinido de épocas. Además, `batch_size` define el número de muestras del conjunto de entrenamiento que se utilizarán para una instancia de backpropagation. El conjunto de datos de validación también se pasa para evaluar el modelo después de cada `epoch` completa. Un objeto `ModelCheckpoint rastrea la función de pérdida en el conjunto de validación y guarda el modelo para la época en la que la función de pérdida ha sido mínima`."
   ]
  },
  {
   "cell_type": "markdown",
   "id": "d39cab46",
   "metadata": {},
   "source": [
    "```shell\n",
    "save_weights_at = os.path.join('keras_models', 'PRSA_data_Air_Pressure_MLP_weights.{epoch:02d}-{val_loss:.4f}.hdf5')\n",
    "save_best = ModelCheckpoint(save_weights_at, monitor='val_loss', verbose=0,\n",
    "                            save_best_only=True, save_weights_only=False, mode='min',\n",
    "                            period=1);\n",
    "```"
   ]
  },
  {
   "cell_type": "markdown",
   "id": "3cec9181",
   "metadata": {},
   "source": [
    "```shell\n",
    "ts_model.fit(x=X_train, y=y_train, batch_size=16, epochs=20,\n",
    "             verbose=2, callbacks=[save_best], validation_data=(X_val, y_val),\n",
    "             shuffle=True);\n",
    "```"
   ]
  },
  {
   "cell_type": "markdown",
   "id": "6d545e37",
   "metadata": {},
   "source": [
    "```{figure} ./figures/epochs_mlp.png\n",
    ":name: epochs_mlp\n",
    ":align: center\n",
    "```"
   ]
  },
  {
   "cell_type": "markdown",
   "id": "894c81f0-eb15-4ff9-beaf-a5dabefd7185",
   "metadata": {},
   "source": [
    "- Se hacen predicciones para la presión atmosférica a partir del modelo mejor guardado. `Las predicciones del modelo, que son sobre la presión atmosférica escalada, se transforman inversamente para obtener predicciones sobre la presión atmosférica original`. También se calcula la bondad de ajuste o `R cuadrado`."
   ]
  },
  {
   "cell_type": "code",
   "execution_count": 28,
   "id": "93f8b3de-5f0b-4bec-8356-d60e7d8f24e9",
   "metadata": {},
   "outputs": [],
   "source": [
    "# best_model = load_model(os.path.join('keras_models', 'PRSA_data_Air_Pressure_MLP_weights.12-0.0001.hdf5'))\n",
    "# preds = best_model.predict(X_val)\n",
    "# pred_PRES = scaler.inverse_transform(preds)\n",
    "# pred_PRES = np.squeeze(pred_PRES)"
   ]
  },
  {
   "cell_type": "code",
   "execution_count": 29,
   "id": "ca6571cd-f40d-49bf-a11f-38dc0e572b69",
   "metadata": {},
   "outputs": [],
   "source": [
    "# r2 = r2_score(df_val['PRES'].loc[7:], pred_PRES)\n",
    "# print('R-squared for the validation set:', round(r2,4))"
   ]
  },
  {
   "cell_type": "code",
   "execution_count": 30,
   "id": "16938ac1-d77b-4aab-93b2-f61825dfd68f",
   "metadata": {},
   "outputs": [],
   "source": [
    "# #Let's plot the first 50 actual and predicted values of air pressure.\n",
    "# plt.figure(figsize=(5.5, 5.5))\n",
    "# plt.plot(range(50), df_val['PRES'].loc[7:56], linestyle='-', marker='*', color='r')\n",
    "# plt.plot(range(50), pred_PRES[:50], linestyle='-', marker='.', color='b')\n",
    "# plt.legend(['Actual','Predicted'], loc=2)\n",
    "# plt.title('Actual vs Predicted Air Pressure')\n",
    "# plt.ylabel('Air Pressure')\n",
    "# plt.xlabel('Index');"
   ]
  },
  {
   "cell_type": "markdown",
   "id": "fde63aa7-bfdc-4749-940e-1c8f38fb04c8",
   "metadata": {},
   "source": [
    "- También se ha entrenado un modelo de previsión de series temporales mediante `MLP` para la variable `pm2.5` y la implementación detallada se presenta a continuación"
   ]
  },
  {
   "cell_type": "code",
   "execution_count": 31,
   "id": "e2561f2a-2f7d-4c04-b931-3dff595e1fbe",
   "metadata": {},
   "outputs": [],
   "source": [
    "df = pd.read_csv('datasets/PRSA_data_2010.1.1-2014.12.31.csv')"
   ]
  },
  {
   "cell_type": "code",
   "execution_count": 32,
   "id": "1845ffa1-a12a-4896-829b-f4f1aa274688",
   "metadata": {},
   "outputs": [
    {
     "name": "stdout",
     "output_type": "stream",
     "text": [
      "Shape of the dataframe: (43824, 13)\n"
     ]
    }
   ],
   "source": [
    "print('Shape of the dataframe:', df.shape)"
   ]
  },
  {
   "cell_type": "code",
   "execution_count": 33,
   "id": "58dcc1d5-fe53-49bd-b72e-857a9fc05c02",
   "metadata": {},
   "outputs": [
    {
     "data": {
      "text/html": [
       "<div>\n",
       "<style scoped>\n",
       "    .dataframe tbody tr th:only-of-type {\n",
       "        vertical-align: middle;\n",
       "    }\n",
       "\n",
       "    .dataframe tbody tr th {\n",
       "        vertical-align: top;\n",
       "    }\n",
       "\n",
       "    .dataframe thead th {\n",
       "        text-align: right;\n",
       "    }\n",
       "</style>\n",
       "<table border=\"1\" class=\"dataframe\">\n",
       "  <thead>\n",
       "    <tr style=\"text-align: right;\">\n",
       "      <th></th>\n",
       "      <th>No</th>\n",
       "      <th>year</th>\n",
       "      <th>month</th>\n",
       "      <th>day</th>\n",
       "      <th>hour</th>\n",
       "      <th>pm2.5</th>\n",
       "      <th>DEWP</th>\n",
       "      <th>TEMP</th>\n",
       "      <th>PRES</th>\n",
       "      <th>cbwd</th>\n",
       "      <th>Iws</th>\n",
       "      <th>Is</th>\n",
       "      <th>Ir</th>\n",
       "    </tr>\n",
       "  </thead>\n",
       "  <tbody>\n",
       "    <tr>\n",
       "      <th>0</th>\n",
       "      <td>1</td>\n",
       "      <td>2010</td>\n",
       "      <td>1</td>\n",
       "      <td>1</td>\n",
       "      <td>0</td>\n",
       "      <td>NaN</td>\n",
       "      <td>-21</td>\n",
       "      <td>-11.0</td>\n",
       "      <td>1021.0</td>\n",
       "      <td>NW</td>\n",
       "      <td>1.79</td>\n",
       "      <td>0</td>\n",
       "      <td>0</td>\n",
       "    </tr>\n",
       "    <tr>\n",
       "      <th>1</th>\n",
       "      <td>2</td>\n",
       "      <td>2010</td>\n",
       "      <td>1</td>\n",
       "      <td>1</td>\n",
       "      <td>1</td>\n",
       "      <td>NaN</td>\n",
       "      <td>-21</td>\n",
       "      <td>-12.0</td>\n",
       "      <td>1020.0</td>\n",
       "      <td>NW</td>\n",
       "      <td>4.92</td>\n",
       "      <td>0</td>\n",
       "      <td>0</td>\n",
       "    </tr>\n",
       "    <tr>\n",
       "      <th>2</th>\n",
       "      <td>3</td>\n",
       "      <td>2010</td>\n",
       "      <td>1</td>\n",
       "      <td>1</td>\n",
       "      <td>2</td>\n",
       "      <td>NaN</td>\n",
       "      <td>-21</td>\n",
       "      <td>-11.0</td>\n",
       "      <td>1019.0</td>\n",
       "      <td>NW</td>\n",
       "      <td>6.71</td>\n",
       "      <td>0</td>\n",
       "      <td>0</td>\n",
       "    </tr>\n",
       "    <tr>\n",
       "      <th>3</th>\n",
       "      <td>4</td>\n",
       "      <td>2010</td>\n",
       "      <td>1</td>\n",
       "      <td>1</td>\n",
       "      <td>3</td>\n",
       "      <td>NaN</td>\n",
       "      <td>-21</td>\n",
       "      <td>-14.0</td>\n",
       "      <td>1019.0</td>\n",
       "      <td>NW</td>\n",
       "      <td>9.84</td>\n",
       "      <td>0</td>\n",
       "      <td>0</td>\n",
       "    </tr>\n",
       "    <tr>\n",
       "      <th>4</th>\n",
       "      <td>5</td>\n",
       "      <td>2010</td>\n",
       "      <td>1</td>\n",
       "      <td>1</td>\n",
       "      <td>4</td>\n",
       "      <td>NaN</td>\n",
       "      <td>-20</td>\n",
       "      <td>-12.0</td>\n",
       "      <td>1018.0</td>\n",
       "      <td>NW</td>\n",
       "      <td>12.97</td>\n",
       "      <td>0</td>\n",
       "      <td>0</td>\n",
       "    </tr>\n",
       "  </tbody>\n",
       "</table>\n",
       "</div>"
      ],
      "text/plain": [
       "   No  year  month  day  hour  pm2.5  DEWP  TEMP    PRES cbwd    Iws  Is  Ir\n",
       "0   1  2010      1    1     0    NaN   -21 -11.0  1021.0   NW   1.79   0   0\n",
       "1   2  2010      1    1     1    NaN   -21 -12.0  1020.0   NW   4.92   0   0\n",
       "2   3  2010      1    1     2    NaN   -21 -11.0  1019.0   NW   6.71   0   0\n",
       "3   4  2010      1    1     3    NaN   -21 -14.0  1019.0   NW   9.84   0   0\n",
       "4   5  2010      1    1     4    NaN   -20 -12.0  1018.0   NW  12.97   0   0"
      ]
     },
     "execution_count": 33,
     "metadata": {},
     "output_type": "execute_result"
    }
   ],
   "source": [
    "#Let's see the first five rows of the DataFrame\n",
    "df.head()"
   ]
  },
  {
   "cell_type": "code",
   "execution_count": 34,
   "id": "1b0d5c24-4291-4e74-b520-548651a345a1",
   "metadata": {},
   "outputs": [],
   "source": [
    "\"\"\"\n",
    "Rows having NaN values in column pm2.5 are dropped.\n",
    "\"\"\"\n",
    "df.dropna(subset=['pm2.5'], axis=0, inplace=True)\n",
    "df.reset_index(drop=True, inplace=True)"
   ]
  },
  {
   "cell_type": "code",
   "execution_count": 35,
   "id": "7efb2776-a751-46e5-baf9-72566a1e1939",
   "metadata": {},
   "outputs": [],
   "source": [
    "df['datetime'] = df[['year', 'month', 'day', 'hour']].apply(lambda row: datetime.datetime(year=row['year'], month=row['month'], day=row['day'],\n",
    "                                                                                          hour=row['hour']), axis=1)\n",
    "df.sort_values('datetime', ascending=True, inplace=True)"
   ]
  },
  {
   "cell_type": "code",
   "execution_count": 36,
   "id": "5ff3714d-d652-4d86-9dd3-2c0cadf6f521",
   "metadata": {},
   "outputs": [
    {
     "data": {
      "image/png": "[encoded data removed]",
      "text/plain": [
       "<Figure size 550x550 with 1 Axes>"
      ]
     },
     "metadata": {},
     "output_type": "display_data"
    }
   ],
   "source": [
    "#Let us draw a box plot to visualize the central tendency and dispersion of pm2.5\n",
    "plt.figure(figsize=(5.5, 5.5))\n",
    "g = sns.boxplot(df['pm2.5'], orient=\"h\", palette=\"Set2\")\n",
    "g.set_title('Box plot of pm2.5');\n",
    "g.set(xlabel='pm2.5')\n",
    "g.set(yticklabels=[])\n",
    "g.tick_params(left=False);"
   ]
  },
  {
   "cell_type": "code",
   "execution_count": 37,
   "id": "6e28403b-72fe-49dd-a052-229039703a17",
   "metadata": {},
   "outputs": [
    {
     "data": {
      "image/png": "[encoded data removed]",
      "text/plain": [
       "<Figure size 550x550 with 1 Axes>"
      ]
     },
     "metadata": {},
     "output_type": "display_data"
    }
   ],
   "source": [
    "plt.figure(figsize=(5.5, 5.5))\n",
    "g = sns.lineplot(df['pm2.5'])\n",
    "g.set_title('Time series of pm2.5')\n",
    "g.set_xlabel('Index')\n",
    "g.set_ylabel('pm2.5 readings');"
   ]
  },
  {
   "cell_type": "code",
   "execution_count": 38,
   "id": "b9f3aa81-1ed2-4b1b-bc63-0527fc31d0a7",
   "metadata": {},
   "outputs": [
    {
     "data": {
      "image/png": "[encoded data removed]",
      "text/plain": [
       "<Figure size 550x550 with 1 Axes>"
      ]
     },
     "metadata": {},
     "output_type": "display_data"
    }
   ],
   "source": [
    "#Let's plot the series for six months to check if any pattern apparently exists.\n",
    "plt.figure(figsize=(5.5, 5.5))\n",
    "g = sns.lineplot(df['pm2.5'].loc[df['datetime']<=datetime.datetime(year=2010,month=6,day=30)], color='g')\n",
    "g.set_title('pm2.5 during 2010')\n",
    "g.set_xlabel('Index')\n",
    "g.set_ylabel('pm2.5 readings');"
   ]
  },
  {
   "cell_type": "code",
   "execution_count": 39,
   "id": "72fc3004-01f3-4893-a4c9-fd985ece100f",
   "metadata": {},
   "outputs": [
    {
     "data": {
      "image/png": "[encoded data removed]",
      "text/plain": [
       "<Figure size 550x550 with 1 Axes>"
      ]
     },
     "metadata": {},
     "output_type": "display_data"
    }
   ],
   "source": [
    "#Let's zoom in on one month.\n",
    "plt.figure(figsize=(5.5, 5.5))\n",
    "g = sns.lineplot(df['pm2.5'].loc[df['datetime']<=datetime.datetime(year=2010,month=1,day=31)], color='g')\n",
    "g.set_title('pm2.5 during Jan 2010')\n",
    "g.set_xlabel('Index')\n",
    "g.set_ylabel('pm2.5 readings');"
   ]
  },
  {
   "cell_type": "code",
   "execution_count": 40,
   "id": "3418624d-9f50-4626-83cd-53fc605c4bee",
   "metadata": {},
   "outputs": [],
   "source": [
    "scaler = MinMaxScaler(feature_range=(0, 1))\n",
    "df['scaled_pm2.5'] = scaler.fit_transform(np.array(df['pm2.5']).reshape(-1, 1))"
   ]
  },
  {
   "cell_type": "code",
   "execution_count": 41,
   "id": "07991c5b-9bd5-4104-8137-41fcaae2809c",
   "metadata": {},
   "outputs": [
    {
     "name": "stdout",
     "output_type": "stream",
     "text": [
      "Shape of train: (33096, 15)\n",
      "Shape of test: (8661, 15)\n"
     ]
    }
   ],
   "source": [
    "\"\"\"\n",
    "Let's start by splitting the dataset into train and validation. The dataset's time period if from\n",
    "Jan 1st, 2010 to Dec 31st, 2014. The first fours years - 2010 to 2013 is used as train and\n",
    "2014 is kept for validation.\n",
    "\"\"\"\n",
    "split_date = datetime.datetime(year=2014, month=1, day=1, hour=0)\n",
    "df_train = df.loc[df['datetime']<split_date]\n",
    "df_val = df.loc[df['datetime']>=split_date]\n",
    "print('Shape of train:', df_train.shape)\n",
    "print('Shape of test:', df_val.shape)"
   ]
  },
  {
   "cell_type": "code",
   "execution_count": 42,
   "id": "97609de5-11cf-48fa-b5b7-111b99c4cb5a",
   "metadata": {},
   "outputs": [
    {
     "data": {
      "text/html": [
       "<div>\n",
       "<style scoped>\n",
       "    .dataframe tbody tr th:only-of-type {\n",
       "        vertical-align: middle;\n",
       "    }\n",
       "\n",
       "    .dataframe tbody tr th {\n",
       "        vertical-align: top;\n",
       "    }\n",
       "\n",
       "    .dataframe thead th {\n",
       "        text-align: right;\n",
       "    }\n",
       "</style>\n",
       "<table border=\"1\" class=\"dataframe\">\n",
       "  <thead>\n",
       "    <tr style=\"text-align: right;\">\n",
       "      <th></th>\n",
       "      <th>No</th>\n",
       "      <th>year</th>\n",
       "      <th>month</th>\n",
       "      <th>day</th>\n",
       "      <th>hour</th>\n",
       "      <th>pm2.5</th>\n",
       "      <th>DEWP</th>\n",
       "      <th>TEMP</th>\n",
       "      <th>PRES</th>\n",
       "      <th>cbwd</th>\n",
       "      <th>Iws</th>\n",
       "      <th>Is</th>\n",
       "      <th>Ir</th>\n",
       "      <th>datetime</th>\n",
       "      <th>scaled_pm2.5</th>\n",
       "    </tr>\n",
       "  </thead>\n",
       "  <tbody>\n",
       "    <tr>\n",
       "      <th>0</th>\n",
       "      <td>25</td>\n",
       "      <td>2010</td>\n",
       "      <td>1</td>\n",
       "      <td>2</td>\n",
       "      <td>0</td>\n",
       "      <td>129.0</td>\n",
       "      <td>-16</td>\n",
       "      <td>-4.0</td>\n",
       "      <td>1020.0</td>\n",
       "      <td>SE</td>\n",
       "      <td>1.79</td>\n",
       "      <td>0</td>\n",
       "      <td>0</td>\n",
       "      <td>2010-01-02 00:00:00</td>\n",
       "      <td>0.129779</td>\n",
       "    </tr>\n",
       "    <tr>\n",
       "      <th>1</th>\n",
       "      <td>26</td>\n",
       "      <td>2010</td>\n",
       "      <td>1</td>\n",
       "      <td>2</td>\n",
       "      <td>1</td>\n",
       "      <td>148.0</td>\n",
       "      <td>-15</td>\n",
       "      <td>-4.0</td>\n",
       "      <td>1020.0</td>\n",
       "      <td>SE</td>\n",
       "      <td>2.68</td>\n",
       "      <td>0</td>\n",
       "      <td>0</td>\n",
       "      <td>2010-01-02 01:00:00</td>\n",
       "      <td>0.148893</td>\n",
       "    </tr>\n",
       "    <tr>\n",
       "      <th>2</th>\n",
       "      <td>27</td>\n",
       "      <td>2010</td>\n",
       "      <td>1</td>\n",
       "      <td>2</td>\n",
       "      <td>2</td>\n",
       "      <td>159.0</td>\n",
       "      <td>-11</td>\n",
       "      <td>-5.0</td>\n",
       "      <td>1021.0</td>\n",
       "      <td>SE</td>\n",
       "      <td>3.57</td>\n",
       "      <td>0</td>\n",
       "      <td>0</td>\n",
       "      <td>2010-01-02 02:00:00</td>\n",
       "      <td>0.159960</td>\n",
       "    </tr>\n",
       "    <tr>\n",
       "      <th>3</th>\n",
       "      <td>28</td>\n",
       "      <td>2010</td>\n",
       "      <td>1</td>\n",
       "      <td>2</td>\n",
       "      <td>3</td>\n",
       "      <td>181.0</td>\n",
       "      <td>-7</td>\n",
       "      <td>-5.0</td>\n",
       "      <td>1022.0</td>\n",
       "      <td>SE</td>\n",
       "      <td>5.36</td>\n",
       "      <td>1</td>\n",
       "      <td>0</td>\n",
       "      <td>2010-01-02 03:00:00</td>\n",
       "      <td>0.182093</td>\n",
       "    </tr>\n",
       "    <tr>\n",
       "      <th>4</th>\n",
       "      <td>29</td>\n",
       "      <td>2010</td>\n",
       "      <td>1</td>\n",
       "      <td>2</td>\n",
       "      <td>4</td>\n",
       "      <td>138.0</td>\n",
       "      <td>-7</td>\n",
       "      <td>-5.0</td>\n",
       "      <td>1022.0</td>\n",
       "      <td>SE</td>\n",
       "      <td>6.25</td>\n",
       "      <td>2</td>\n",
       "      <td>0</td>\n",
       "      <td>2010-01-02 04:00:00</td>\n",
       "      <td>0.138833</td>\n",
       "    </tr>\n",
       "  </tbody>\n",
       "</table>\n",
       "</div>"
      ],
      "text/plain": [
       "   No  year  month  day  hour  pm2.5  DEWP  TEMP    PRES cbwd   Iws  Is  Ir  \\\n",
       "0  25  2010      1    2     0  129.0   -16  -4.0  1020.0   SE  1.79   0   0   \n",
       "1  26  2010      1    2     1  148.0   -15  -4.0  1020.0   SE  2.68   0   0   \n",
       "2  27  2010      1    2     2  159.0   -11  -5.0  1021.0   SE  3.57   0   0   \n",
       "3  28  2010      1    2     3  181.0    -7  -5.0  1022.0   SE  5.36   1   0   \n",
       "4  29  2010      1    2     4  138.0    -7  -5.0  1022.0   SE  6.25   2   0   \n",
       "\n",
       "             datetime  scaled_pm2.5  \n",
       "0 2010-01-02 00:00:00      0.129779  \n",
       "1 2010-01-02 01:00:00      0.148893  \n",
       "2 2010-01-02 02:00:00      0.159960  \n",
       "3 2010-01-02 03:00:00      0.182093  \n",
       "4 2010-01-02 04:00:00      0.138833  "
      ]
     },
     "execution_count": 42,
     "metadata": {},
     "output_type": "execute_result"
    }
   ],
   "source": [
    "#First five rows of train\n",
    "df_train.head()"
   ]
  },
  {
   "cell_type": "code",
   "execution_count": 43,
   "id": "6b918945-ced9-4b0f-b059-84825d4ca7c4",
   "metadata": {},
   "outputs": [
    {
     "data": {
      "text/html": [
       "<div>\n",
       "<style scoped>\n",
       "    .dataframe tbody tr th:only-of-type {\n",
       "        vertical-align: middle;\n",
       "    }\n",
       "\n",
       "    .dataframe tbody tr th {\n",
       "        vertical-align: top;\n",
       "    }\n",
       "\n",
       "    .dataframe thead th {\n",
       "        text-align: right;\n",
       "    }\n",
       "</style>\n",
       "<table border=\"1\" class=\"dataframe\">\n",
       "  <thead>\n",
       "    <tr style=\"text-align: right;\">\n",
       "      <th></th>\n",
       "      <th>No</th>\n",
       "      <th>year</th>\n",
       "      <th>month</th>\n",
       "      <th>day</th>\n",
       "      <th>hour</th>\n",
       "      <th>pm2.5</th>\n",
       "      <th>DEWP</th>\n",
       "      <th>TEMP</th>\n",
       "      <th>PRES</th>\n",
       "      <th>cbwd</th>\n",
       "      <th>Iws</th>\n",
       "      <th>Is</th>\n",
       "      <th>Ir</th>\n",
       "      <th>datetime</th>\n",
       "      <th>scaled_pm2.5</th>\n",
       "    </tr>\n",
       "  </thead>\n",
       "  <tbody>\n",
       "    <tr>\n",
       "      <th>33096</th>\n",
       "      <td>35065</td>\n",
       "      <td>2014</td>\n",
       "      <td>1</td>\n",
       "      <td>1</td>\n",
       "      <td>0</td>\n",
       "      <td>24.0</td>\n",
       "      <td>-20</td>\n",
       "      <td>7.0</td>\n",
       "      <td>1014.0</td>\n",
       "      <td>NW</td>\n",
       "      <td>143.48</td>\n",
       "      <td>0</td>\n",
       "      <td>0</td>\n",
       "      <td>2014-01-01 00:00:00</td>\n",
       "      <td>0.024145</td>\n",
       "    </tr>\n",
       "    <tr>\n",
       "      <th>33097</th>\n",
       "      <td>35066</td>\n",
       "      <td>2014</td>\n",
       "      <td>1</td>\n",
       "      <td>1</td>\n",
       "      <td>1</td>\n",
       "      <td>53.0</td>\n",
       "      <td>-20</td>\n",
       "      <td>7.0</td>\n",
       "      <td>1013.0</td>\n",
       "      <td>NW</td>\n",
       "      <td>147.50</td>\n",
       "      <td>0</td>\n",
       "      <td>0</td>\n",
       "      <td>2014-01-01 01:00:00</td>\n",
       "      <td>0.053320</td>\n",
       "    </tr>\n",
       "    <tr>\n",
       "      <th>33098</th>\n",
       "      <td>35067</td>\n",
       "      <td>2014</td>\n",
       "      <td>1</td>\n",
       "      <td>1</td>\n",
       "      <td>2</td>\n",
       "      <td>65.0</td>\n",
       "      <td>-20</td>\n",
       "      <td>6.0</td>\n",
       "      <td>1013.0</td>\n",
       "      <td>NW</td>\n",
       "      <td>151.52</td>\n",
       "      <td>0</td>\n",
       "      <td>0</td>\n",
       "      <td>2014-01-01 02:00:00</td>\n",
       "      <td>0.065392</td>\n",
       "    </tr>\n",
       "    <tr>\n",
       "      <th>33099</th>\n",
       "      <td>35068</td>\n",
       "      <td>2014</td>\n",
       "      <td>1</td>\n",
       "      <td>1</td>\n",
       "      <td>3</td>\n",
       "      <td>70.0</td>\n",
       "      <td>-20</td>\n",
       "      <td>6.0</td>\n",
       "      <td>1013.0</td>\n",
       "      <td>NW</td>\n",
       "      <td>153.31</td>\n",
       "      <td>0</td>\n",
       "      <td>0</td>\n",
       "      <td>2014-01-01 03:00:00</td>\n",
       "      <td>0.070423</td>\n",
       "    </tr>\n",
       "    <tr>\n",
       "      <th>33100</th>\n",
       "      <td>35069</td>\n",
       "      <td>2014</td>\n",
       "      <td>1</td>\n",
       "      <td>1</td>\n",
       "      <td>4</td>\n",
       "      <td>79.0</td>\n",
       "      <td>-18</td>\n",
       "      <td>3.0</td>\n",
       "      <td>1012.0</td>\n",
       "      <td>cv</td>\n",
       "      <td>0.89</td>\n",
       "      <td>0</td>\n",
       "      <td>0</td>\n",
       "      <td>2014-01-01 04:00:00</td>\n",
       "      <td>0.079477</td>\n",
       "    </tr>\n",
       "  </tbody>\n",
       "</table>\n",
       "</div>"
      ],
      "text/plain": [
       "          No  year  month  day  hour  pm2.5  DEWP  TEMP    PRES cbwd     Iws  \\\n",
       "33096  35065  2014      1    1     0   24.0   -20   7.0  1014.0   NW  143.48   \n",
       "33097  35066  2014      1    1     1   53.0   -20   7.0  1013.0   NW  147.50   \n",
       "33098  35067  2014      1    1     2   65.0   -20   6.0  1013.0   NW  151.52   \n",
       "33099  35068  2014      1    1     3   70.0   -20   6.0  1013.0   NW  153.31   \n",
       "33100  35069  2014      1    1     4   79.0   -18   3.0  1012.0   cv    0.89   \n",
       "\n",
       "       Is  Ir            datetime  scaled_pm2.5  \n",
       "33096   0   0 2014-01-01 00:00:00      0.024145  \n",
       "33097   0   0 2014-01-01 01:00:00      0.053320  \n",
       "33098   0   0 2014-01-01 02:00:00      0.065392  \n",
       "33099   0   0 2014-01-01 03:00:00      0.070423  \n",
       "33100   0   0 2014-01-01 04:00:00      0.079477  "
      ]
     },
     "execution_count": 43,
     "metadata": {},
     "output_type": "execute_result"
    }
   ],
   "source": [
    "df_val.head()"
   ]
  },
  {
   "cell_type": "code",
   "execution_count": 44,
   "id": "eb868c0b-5c1f-4460-9973-f2e3d6f68553",
   "metadata": {},
   "outputs": [],
   "source": [
    "#Reset the indices of the validation set\n",
    "df_val.reset_index(drop=True, inplace=True)"
   ]
  },
  {
   "cell_type": "code",
   "execution_count": 45,
   "id": "ccd8cff0-4215-4231-b37d-a4cd6525d5d0",
   "metadata": {},
   "outputs": [
    {
     "data": {
      "image/png": "[encoded data removed]",
      "text/plain": [
       "<Figure size 550x550 with 1 Axes>"
      ]
     },
     "metadata": {},
     "output_type": "display_data"
    }
   ],
   "source": [
    "\"\"\"\n",
    "The train and validation time series of scaled pm2.5 is also plotted.\n",
    "\"\"\"\n",
    "\n",
    "plt.figure(figsize=(5.5, 5.5))\n",
    "g = sns.lineplot(df_train['scaled_pm2.5'], color='b')\n",
    "g.set_title('Time series of scaled pm2.5 in train set')\n",
    "g.set_xlabel('Index')\n",
    "g.set_ylabel('Scaled pm2.5 readings');"
   ]
  },
  {
   "cell_type": "code",
   "execution_count": 46,
   "id": "54e76bf8-44ba-437c-b44d-c81f76dbdb75",
   "metadata": {},
   "outputs": [
    {
     "data": {
      "image/png": "[encoded data removed]",
      "text/plain": [
       "<Figure size 550x550 with 1 Axes>"
      ]
     },
     "metadata": {},
     "output_type": "display_data"
    }
   ],
   "source": [
    "plt.figure(figsize=(5.5, 5.5))\n",
    "g = sns.lineplot(df_val['scaled_pm2.5'], color='r')\n",
    "g.set_title('Time series of scaled pm2.5 in validation set')\n",
    "g.set_xlabel('Index')\n",
    "g.set_ylabel('Scaled pm2.5 readings');"
   ]
  },
  {
   "cell_type": "code",
   "execution_count": 47,
   "id": "98c0fd23-7eb6-44dc-b4fe-910826123af7",
   "metadata": {},
   "outputs": [
    {
     "name": "stdout",
     "output_type": "stream",
     "text": [
      "Shape of train arrays: (33089, 7) (33089,)\n"
     ]
    }
   ],
   "source": [
    "X_train, y_train = makeXy(df_train['scaled_pm2.5'], 7)\n",
    "print('Shape of train arrays:', X_train.shape, y_train.shape)"
   ]
  },
  {
   "cell_type": "code",
   "execution_count": 48,
   "id": "a21e1bdb-04ba-40bc-8f54-0f7602a00027",
   "metadata": {},
   "outputs": [
    {
     "name": "stdout",
     "output_type": "stream",
     "text": [
      "Shape of validation arrays: (8654, 7) (8654,)\n"
     ]
    }
   ],
   "source": [
    "X_val, y_val = makeXy(df_val['scaled_pm2.5'], 7)\n",
    "print('Shape of validation arrays:', X_val.shape, y_val.shape)"
   ]
  },
  {
   "cell_type": "code",
   "execution_count": 49,
   "id": "b96a0c1c-f4b3-4507-9663-8be25e100a72",
   "metadata": {},
   "outputs": [],
   "source": [
    "#Define input layer which has shape (None, 7) and of type float32. None indicates the number of instances\n",
    "input_layer = Input(shape=(7,), dtype='float32')"
   ]
  },
  {
   "cell_type": "code",
   "execution_count": 50,
   "id": "b93e853e-cc6d-4104-a347-bef7fc5e66f0",
   "metadata": {},
   "outputs": [],
   "source": [
    "#Dense layers are defined with linear activation\n",
    "dense1 = Dense(32, activation='tanh')(input_layer)\n",
    "dense2 = Dense(16, activation='tanh')(dense1)\n",
    "dense3 = Dense(16, activation='tanh')(dense2)"
   ]
  },
  {
   "cell_type": "code",
   "execution_count": 51,
   "id": "d0c7ee26-89bd-4585-8637-aa9d36a1de70",
   "metadata": {},
   "outputs": [],
   "source": [
    "dropout_layer = Dropout(0.2)(dense3)"
   ]
  },
  {
   "cell_type": "code",
   "execution_count": 52,
   "id": "d991c168-a4c2-4ba3-a009-2daf8c0886e1",
   "metadata": {},
   "outputs": [],
   "source": [
    "#Finally the output layer gives prediction for the next day's air pressure.\n",
    "output_layer = Dense(1, activation='linear')(dropout_layer)"
   ]
  },
  {
   "cell_type": "code",
   "execution_count": 53,
   "id": "66990cf6-5feb-4925-847a-ea6822d4b856",
   "metadata": {
    "scrolled": true
   },
   "outputs": [
    {
     "name": "stdout",
     "output_type": "stream",
     "text": [
      "Model: \"model_1\"\n",
      "_________________________________________________________________\n",
      " Layer (type)                Output Shape              Param #   \n",
      "=================================================================\n",
      " input_2 (InputLayer)        [(None, 7)]               0         \n",
      "                                                                 \n",
      " dense_4 (Dense)             (None, 32)                256       \n",
      "                                                                 \n",
      " dense_5 (Dense)             (None, 16)                528       \n",
      "                                                                 \n",
      " dense_6 (Dense)             (None, 16)                272       \n",
      "                                                                 \n",
      " dropout_1 (Dropout)         (None, 16)                0         \n",
      "                                                                 \n",
      " dense_7 (Dense)             (None, 1)                 17        \n",
      "                                                                 \n",
      "=================================================================\n",
      "Total params: 1,073\n",
      "Trainable params: 1,073\n",
      "Non-trainable params: 0\n",
      "_________________________________________________________________\n"
     ]
    }
   ],
   "source": [
    "ts_model = Model(inputs=input_layer, outputs=output_layer)\n",
    "ts_model.compile(loss='mean_absolute_error', optimizer='adam')\n",
    "ts_model.summary()"
   ]
  },
  {
   "cell_type": "markdown",
   "id": "06d5dc46",
   "metadata": {},
   "source": [
    "```shell\n",
    "save_weights_at = os.path.join('keras_models', 'PRSA_data_PM2.5_MLP_weights.{epoch:02d}-{val_loss:.4f}.hdf5')\n",
    "save_best = ModelCheckpoint(save_weights_at, monitor='val_loss', verbose=0,\n",
    "                            save_best_only=True, save_weights_only=False, mode='min',\n",
    "                            period=1)\n",
    "ts_model.fit(x=X_train, y=y_train, batch_size=16, epochs=20,\n",
    "             verbose=1, callbacks=[save_best], validation_data=(X_val, y_val),\n",
    "             shuffle=True);\n",
    "```"
   ]
  },
  {
   "cell_type": "markdown",
   "id": "0d8f8890",
   "metadata": {},
   "source": [
    "```{figure} ./figures/epochs_mlp2.png\n",
    ":name: epochs_mlp2\n",
    ":align: center\n",
    "```"
   ]
  },
  {
   "cell_type": "code",
   "execution_count": 56,
   "id": "39f3bbaa-67cf-45f2-9359-1886695c91df",
   "metadata": {},
   "outputs": [],
   "source": [
    "# best_model = load_model(os.path.join('keras_models', 'PRSA_data_PM2.5_MLP_weights.19-0.0118.hdf5'))\n",
    "# preds = best_model.predict(X_val)\n",
    "# pred_pm25 = scaler.inverse_transform(preds)\n",
    "# pred_pm25 = np.squeeze(pred_pm25)"
   ]
  },
  {
   "cell_type": "code",
   "execution_count": 57,
   "id": "49cd29b9-bb8e-4301-b4be-75b37cc561c5",
   "metadata": {},
   "outputs": [],
   "source": [
    "# mae = mean_absolute_error(df_val['pm2.5'].loc[7:], pred_pm25)\n",
    "# print('MAE for the validation set:', round(mae, 4))"
   ]
  },
  {
   "attachments": {},
   "cell_type": "markdown",
   "id": "0a74e505",
   "metadata": {},
   "source": [
    "- Trazamos los 50 primeros valores reales y previstos de `pm2.5`"
   ]
  },
  {
   "cell_type": "code",
   "execution_count": 59,
   "id": "7fe2a2e7-146f-4c7a-8693-80b587fc812a",
   "metadata": {},
   "outputs": [],
   "source": [
    "# plt.figure(figsize=(5.5, 5.5))\n",
    "# plt.plot(range(50), df_val['pm2.5'].loc[7:56], linestyle='-', marker='*', color='r')\n",
    "# plt.plot(range(50), pred_pm25[:50], linestyle='-', marker='.', color='b')\n",
    "# plt.legend(['Actual','Predicted'], loc=2)\n",
    "# plt.title('Actual vs Predicted pm2.5')\n",
    "# plt.ylabel('pm2.5')\n",
    "# plt.xlabel('Index');"
   ]
  },
  {
   "cell_type": "code",
   "execution_count": null,
   "id": "8bdbf324",
   "metadata": {},
   "outputs": [],
   "source": []
  }
 ],
 "metadata": {
  "kernelspec": {
   "display_name": "Python 3 (ipykernel)",
   "language": "python",
   "name": "python3"
  },
  "language_info": {
   "codemirror_mode": {
    "name": "ipython",
    "version": 3
   },
   "file_extension": ".py",
   "mimetype": "text/x-python",
   "name": "python",
   "nbconvert_exporter": "python",
   "pygments_lexer": "ipython3",
   "version": "3.9.18"
  },
  "toc": {
   "base_numbering": 1,
   "nav_menu": {},
   "number_sections": false,
   "sideBar": false,
   "skip_h1_title": false,
   "title_cell": "Table of Contents",
   "title_sidebar": "Contents",
   "toc_cell": false,
   "toc_position": {},
   "toc_section_display": false,
   "toc_window_display": false
  }
 },
 "nbformat": 4,
 "nbformat_minor": 5
}
