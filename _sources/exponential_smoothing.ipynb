{
 "cells": [
  {
   "cell_type": "markdown",
   "id": "31bd70f1",
   "metadata": {},
   "source": [
    "# Métodos de Suavización Exponencial"
   ]
  },
  {
   "attachments": {},
   "cell_type": "markdown",
   "id": "05239a64",
   "metadata": {},
   "source": [
    "````{admonition} Introducción\n",
    ":class: tip\n",
    "- El presente capítulo trata del ***suavizado de datos en la señal de series temporales***. El capítulo está organizado como sigue:\n",
    "\n",
    "    - ***Introducción al suavizado de series temporales***\n",
    "\n",
    "    - ***Suavizado exponencial de primer orden***\n",
    "\n",
    "    - ***Suavizado exponencial de segundo orden***\n",
    "\n",
    "    - ***Suavizado exponencial de orden superior***\n",
    "````"
   ]
  },
  {
   "cell_type": "markdown",
   "id": "347d2444",
   "metadata": {},
   "source": [
    "# Análisis"
   ]
  },
  {
   "cell_type": "markdown",
   "id": "a3f51dfc",
   "metadata": {},
   "source": [
    "## Introducción al suavizado de series temporales"
   ]
  },
  {
   "attachments": {},
   "cell_type": "markdown",
   "id": "060995b1",
   "metadata": {},
   "source": [
    "- Los datos de las series temporales se componen de ***señal y ruido***, donde la ***señal captura la dinámica intrínseca del proceso***; sin embargo, el ***ruido representa el componente no modelado de la señal o error aleatorio no correlacionado***, el cual en diferentes tiempos es ***estadísticamente independiente***. \n",
    "\n",
    "- La dinámica intrínseca de una señal de serie temporal puede ser tan simple como ***la media del proceso*** o puede ser una ***forma funcional compleja*** dentro de las observaciones, como se representa aquí:\n",
    "\n",
    "    $$\n",
    "    \\\\[1mm]\n",
    "    y_{t}=f(t, \\boldsymbol{\\beta})+\\varepsilon_{t},\\quad\\text{para}\\quad i=1,2,3,\\dots,T,\n",
    "$$\n",
    "    \n",
    "    donde $y_{t}$ representa las observaciones, $\\boldsymbol{\\beta}$ es un vector de parámetros desconocidos, y $\\varepsilon_{t}$ es el ***error aleatorio no correlacionado***, usualmente con media 0 y desviación 1."
   ]
  },
  {
   "cell_type": "markdown",
   "id": "bbe79a5d",
   "metadata": {},
   "source": [
    "````{figure} ./figures/signal_noise.png\n",
    ":align: center\n",
    ":name: signal_noise_fig\n",
    ":scale: 80\n",
    "\n",
    "````"
   ]
  },
  {
   "cell_type": "markdown",
   "id": "0657622a",
   "metadata": {},
   "source": [
    "- $f(t, \\boldsymbol{\\beta})$ ***denota la forma funcional de la señal***. Un ejemplo puede ser una constante (***media***) como forma funcional:\n",
    "\n",
    "$$\n",
    "    y_{t}=\\mu+\\varepsilon_{t}\n",
    "$$\n",
    "\n",
    "- Dado que $\\varepsilon_{t}$ es ***ruido blanco***, este enfoque basado en el suavizado ayuda a ***separar la forma funcional intrínseca del ruido aleatorio, cancelándolo***. \n",
    "\n",
    "- Los métodos predictivos de suavización pueden considerarse como ***filtros*** que toman datos de entrada y ***separan los componentes de tendencia y de ruido***, como se muestra en la {numref}`fig1_chapter2`"
   ]
  },
  {
   "attachments": {},
   "cell_type": "markdown",
   "id": "fd5eaf40",
   "metadata": {},
   "source": [
    "```{figure} ./figures/fig1_chapter2.png\n",
    ":name: fig1_chapter2\n",
    ":align: center\n",
    "\n",
    "Separación de componentes de tendencia y ruido.\n",
    "```"
   ]
  },
  {
   "cell_type": "markdown",
   "id": "e899e6f8",
   "metadata": {},
   "source": [
    "- Un ***proceso constante*** puede ser suavizado reemplazando la observación actual con el mejor estimador para $\\mu$. Usando el criterio de ***mínimos cuadrados***, definimos la ***suma de cuadrados de los errores*** $SS_{E}$, para el proceso constante como \n",
    "\n",
    "$$\n",
    "SS_{E}=\\sum_{t=1}^{T}(y_{t}-\\mu)^{2}.\n",
    "$$"
   ]
  },
  {
   "cell_type": "markdown",
   "id": "4a5edb9f",
   "metadata": {},
   "source": [
    "- La estimación por mínimos cuadrados de $\\mu$ puede ser calculada ***derivando*** $SS_{E}$ ***con respecto a*** $\\mu$ el igualar a cero (***verifíquelo***). Esto entrega\n",
    "\n",
    "  $$\n",
    "  \\hat{\\mu}=\\frac{1}{T}\\sum_{t=1}^{T}y_{t},\n",
    "  $$(constant_process_ols)\n",
    "\n",
    "  donde $\\hat{\\mu}$ ***es la estimación por mínimos cuadrados*** de $\\mu$.\n",
    "\n",
    "- La Ecuación {eq}`constant_process_ols` muestra que la ***estimación por mínimos cuadrados de*** $\\mu$, es, en efecto, el promedio de las observaciones hasta el tiempo $T$."
   ]
  },
  {
   "cell_type": "markdown",
   "id": "2b0c1533",
   "metadata": {},
   "source": [
    "````{admonition} Observación\n",
    ":class: tip\n",
    "\n",
    "- El principal problema con el suavizador de la Ecuación {eq}`constant_process_ols` es que ***reacciona lentamente a procesos de cambios***, debido a que ***acumula más y más puntos de datos ganando algún tipo de inercia***. La solución más obvia es de alguna forma descontar datos más antiguos. \n",
    "- Una solución común es usar la ***media móvil simple*** definida por\n",
    "\n",
    "$$\n",
    "M_{T}= \\frac{y_{T}+y_{T-1}+\\cdots+y_{T-N+1}}{N}=\\frac{1}{N}\\sum_{t=T-N+1}^{N}y_{t}.\n",
    "$$(simple_moving_avg)\n",
    "\n",
    "- Una media ***reaccionará más rápido a cambios si*** $N$ ***es pequeño***. Dado que para observaciones no correlacionadas con varianza constante $\\sigma^{2}$ se tiene que\n",
    "\n",
    "    $$\n",
    "    \\text{Var}(M_{T})=\\frac{\\sigma^{2}}{N}.\n",
    "    $$(variance_sma)\n",
    "\n",
    "- Dada la Ecuación {eq}`variance_sma`. Si se espera que el ***proceso es constante***, un ***valor grande de*** $N$ puede ser usado, mientras que, un ***valor pequeño de*** $N$ ***es preferido si el proceso es cambiante***.    \n",
    "- Queda como ejercicio para el lector verificar que la ***función de autocorrelación (ACF)*** de la media móvil con $k$-lags está dada por (***`verifíquelo`***)\n",
    "\n",
    "$$\n",
    "\\rho_{k}=\n",
    "\\begin{cases}\n",
    "\\displaystyle{1-\\frac{|k|}{N}}, & k<N\\\\\n",
    "0, & k\\geq N\n",
    "\\end{cases}.\n",
    "$$(acf_moving_average)\n",
    "````"
   ]
  },
  {
   "cell_type": "markdown",
   "id": "69182a8c",
   "metadata": {},
   "source": [
    "## Suavización exponencial de primer orden"
   ]
  },
  {
   "cell_type": "markdown",
   "id": "ce7a5886",
   "metadata": {},
   "source": [
    "````{prf:theorem} Suavización exponencial simple\n",
    ":label: th-simple_exp_smoothing\n",
    "\n",
    "- Dada una serie de tiempo $(y_{t})_{t=1}^{T}$. Una ***suavización exponencial ponderada*** está definida por:\n",
    "\n",
    "    $$\n",
    "    \\sum_{t=0}^{T-1}\\theta^{t}y_{T-t}=y_{T}+\\theta y_{T-1}+\\theta^{2}y_{t-2}+\\cdots+\\theta^{T-1}y_{1}\n",
    "    $$(eq:simple_exp_smoothing)\n",
    "\n",
    "    donde $\\theta$ satisface $|\\theta|<1$. Esto es, ***observaciones pasadas son descontadas de manera geométricamente descendiente***. \n",
    "    \n",
    "- La ***suavización exponencial simple*** $\\tilde{y}_{T}$ está representada por:\n",
    "\n",
    "    $$\n",
    "    \\tilde{y}_{T}=\\lambda y_{T}+(1-\\lambda)\\tilde{y}_{T-1},\\quad\\text{donde}\\quad\\lambda=1-\\theta.\n",
    "    $$\n",
    "    \n",
    "    $\\lambda$ es conocido como el ***factor de descuento***. Nótese que el factor de descuento $\\lambda$, representa el peso colocado sobre la última observación $y_{T}$ y $1-\\lambda$ el peso asignado al valor suavizado de la previa observación $\\tilde{y}_{T-1}$.\n",
    "````"
   ]
  },
  {
   "cell_type": "markdown",
   "id": "159b63b5",
   "metadata": {},
   "source": [
    "***`Demostración`***"
   ]
  },
  {
   "cell_type": "markdown",
   "id": "853494f3",
   "metadata": {},
   "source": [
    "- Por hipótesis, ***pasadas observaciones son descontadas en forma geométricamente descendente***, con $|\\theta|<1$. Nótese que el suavizador de la Ecuación {eq}`eq:simple_exp_smoothing` no es una media movil simple. En efecto:"
   ]
  },
  {
   "cell_type": "markdown",
   "id": "4cac5431",
   "metadata": {},
   "source": [
    "$$\n",
    "\\begin{align*}\n",
    "\\sum_{t=0}^{T-1}\\theta^{t}&=1+\\theta+\\theta^2+\\cdots+\\theta^{T-1},\\quad\\text{multiplicando por}~(1-\\theta)\\\\\n",
    "(1-\\theta)\\sum_{t=0}^{T-1}\\theta^{t}&=(1-\\theta)(1+\\theta+\\theta^2+\\cdots+\\theta^{T-1})\\\\\n",
    "&=(1+\\theta+\\theta^2+\\cdots+\\theta^{T-1})-(\\theta+\\theta^2+\\theta^{3}+\\cdots+\\theta^{T-1}+\\theta^{T})\\\\[3mm]\n",
    "&=1-\\theta^{T}\\Longrightarrow\\\\\n",
    "\\sum_{t=0}^{T-1}\\theta^{t}&=\\frac{1-\\theta^{T}}{1-\\theta}.\n",
    "\\end{align*}\n",
    "$$"
   ]
  },
  {
   "cell_type": "markdown",
   "id": "d2e553f5",
   "metadata": {},
   "source": [
    "- Nótese que la sumatoria:\n",
    "    \n",
    "    $$\n",
    "    \\sum_{t=0}^{T-1}\\theta^{t}=\\frac{1-\\theta^{T}}{1-\\theta},\n",
    "    $$\n",
    "\n",
    "    no necesariamente es igual a 1 (*propiedad de los promedios*). Esto puede ser ajustado multiplicando la Ecuación {eq}`eq:simple_exp_smoothing` por $(1-\\theta)/(1-\\theta^{T})$."
   ]
  },
  {
   "cell_type": "markdown",
   "id": "7f6b90a6",
   "metadata": {},
   "source": [
    "- Además, dado que $(1-\\theta)/(1-\\theta^{T})\\rightarrow 1-\\theta$ para valores grandes de $T$, $~|\\theta|<1$. Entonces, la Ecuación {eq}`eq:simple_exp_smoothing` puede reescribirse como:"
   ]
  },
  {
   "cell_type": "markdown",
   "id": "9ed615d8",
   "metadata": {},
   "source": [
    "$$\n",
    "\\begin{align*}\n",
    "\\tilde{y}_{T}&=\\frac{1-\\theta}{1-\\theta^{T}}\\sum_{t=0}^{T-1}\\theta^{t}y_{T-t}\\\\\n",
    "&=(1-\\theta)\\sum_{t=0}^{T-1}\\theta^{t}y_{T-t},~\\text{para valores grandes de $T$}\\\\\n",
    "&=(1-\\theta)(y_{T}+\\theta y_{T-1}+\\theta^{2}y_{T-2}+\\cdots+\\theta^{T-1}y_{1})\n",
    "\\end{align*}\n",
    "$$"
   ]
  },
  {
   "cell_type": "markdown",
   "id": "841db35c",
   "metadata": {},
   "source": [
    "- Entonces la ***suavización exponencial simple*** está dada por\n",
    "\n",
    "$$\n",
    "\\tilde{y}_{T}=(1-\\theta)(y_{T}+\\theta y_{T-1}+\\theta^{2}y_{T-2}+\\cdots+\\theta^{T-1}y_{1})\n",
    "$$ (eq:simple_exp_smoothing2)"
   ]
  },
  {
   "cell_type": "markdown",
   "id": "f4e1518c",
   "metadata": {},
   "source": [
    "- Una ***expresión alternativa*** para la suavización exponencial simple es:"
   ]
  },
  {
   "cell_type": "markdown",
   "id": "25c07365",
   "metadata": {},
   "source": [
    "$$\n",
    "\\begin{align*}\n",
    "\\tilde{y}_{T}&=(1-\\theta)(y_{T}+\\theta y_{T-1}+\\theta^{2}y_{T-2}+\\cdots+\\theta^{T-1}y_{1}\\\\\n",
    "&=(1-\\theta)y_{T}+(1-\\theta)(\\theta y_{T-1}+\\theta^{2}y_{T-2}+\\cdots+\\theta^{T-1}y_{1})\\\\\n",
    "&=(1-\\theta)y_{T}+\\theta(1-\\theta)(y_{T-1}+\\theta y_{T-2}+\\cdots+\\theta^{T-2}y_{1})\\\\\n",
    "&=(1-\\theta)y_{T}+\\theta\\tilde{y}_{T-1}.\n",
    "\\end{align*}\n",
    "$$"
   ]
  },
  {
   "cell_type": "markdown",
   "id": "015f9fc9",
   "metadata": {},
   "source": [
    "- Esto es, la suavización exponencial de primer orden, puede verse como ***combinación lineal de la observación actual y la observación suavizada en un tiempo previo***. Definiendo $\\lambda=1-\\theta$, (***factor de corrección***) se tiene que:\n",
    "\n",
    "$$\n",
    "\\tilde{y}_{T}=\\lambda y_{T}+(1-\\lambda)\\tilde{y}_{T-1}.\n",
    "$$ (eq:simple_exp_smoothing3)"
   ]
  },
  {
   "cell_type": "markdown",
   "id": "58c56a3a",
   "metadata": {},
   "source": [
    "```{admonition} Observación\n",
    ":class: tip\n",
    "\n",
    "Análogamente a la longitud del periodo en la media movil, ***un asunto importante para la suavización exponencial es la selección del factor de descuento*** $\\lambda$. Además, a partir de la Ecuación {eq}`eq:simple_exp_smoothing3` podemos observa que el cálculo de $\\tilde{y}_{1}$ va a requerir conocer $\\tilde{y}_{0}$.\n",
    "```"
   ]
  },
  {
   "cell_type": "markdown",
   "id": "3865f5ac",
   "metadata": {},
   "source": [
    "````{prf:theorem} Selección de $\\tilde{y}_{0}$\n",
    ":label: th-initial-value-simple-exp-smoothing\n",
    "\n",
    "Dada una serie de tiempo $(y_{t})_{t=1}^{T}$, donde $T$ es grande, la contribución de $\\tilde{y}_{0}$ a $\\tilde{y}_{T}$ es mínima. Por lo tanto, ***la estimación de*** $\\tilde{y}_{0}$ ***tiene poca influencia sobre la suavización***. Sin embargo, dos estimaciones de $\\tilde{y}_{0}$ comunmente usadas en las aplicaciones son las siguientes:\n",
    "\n",
    "1. $\\tilde{y}_{0}=y_{1}$: Si los cambios esperados del proceso ocurren temprano y rápido, esta selección para el valor inicial de $\\tilde{y}_{T}$ es razonable.\n",
    "2. $\\tilde{y}_{0}=\\overline{y}$: Tomar el promedio de los datos disponibles. Si el proceso es constante, al menos al inicio, este sería el valor mas adecuado.\n",
    "````"
   ]
  },
  {
   "cell_type": "markdown",
   "id": "bb9980d2",
   "metadata": {},
   "source": [
    "**`Demostración`**"
   ]
  },
  {
   "cell_type": "markdown",
   "id": "6047bfa3",
   "metadata": {},
   "source": [
    "- Dado que $\\tilde{y}_{0}$ es necesario en el calculo recursivo que inicia con: $\\tilde{y}_{1}=\\lambda y_{1}+(1-\\lambda)\\tilde{y}_{0}$, estimamos su valor a partir de la Ecuación {eq}`eq:simple_exp_smoothing3`"
   ]
  },
  {
   "cell_type": "markdown",
   "id": "02a12f0b",
   "metadata": {},
   "source": [
    "$$\n",
    "\\begin{align*}\n",
    "\\tilde{y}_{1}&=\\lambda y_{1}+(1-\\lambda)\\tilde{y}_{0}\\\\\n",
    "\\tilde{y}_{2}&=\\lambda y_{2}+(1-\\lambda)\\tilde{y}_{1}=\\lambda y_{2}+(1-\\lambda)(\\lambda y_{1}+(1-\\lambda)\\tilde{y}_{0})=\\lambda(y_{2}+(1-\\lambda)y_{1})+(1-\\lambda)^{2}\\tilde{y}_{0}\\\\\n",
    "\\tilde{y}_{3}&=\\lambda y_{3}+(1-\\lambda)\\tilde{y}_{2}=\\lambda y_{3}+(1-\\lambda)(\\lambda(y_{2}+(1-\\lambda)\\tilde{y}_{1})+(1-\\lambda)^{2}\\tilde{y}_{0})\\\\\n",
    "&=\\lambda(y_{3}+(1-\\lambda)y_{2}+(1-\\lambda)^{2}y_{1})+(1-\\lambda)^{3}\\tilde{y}_{0}\\\\\n",
    "&\\vdots\\\\\n",
    "\\tilde{y}_{T}&=\\lambda(y_{T}+(1-\\lambda)y_{T-1}+(1-\\lambda)^{2}y_{T-2}+\\cdots+(1-\\lambda)^{T-1}y_{1})+(1-\\lambda)^{T}\\tilde{y}_{0}\n",
    "\\end{align*}\n",
    "$$"
   ]
  },
  {
   "cell_type": "markdown",
   "id": "6ef8ceed",
   "metadata": {},
   "source": [
    "- Por lo tanto, cuando $T$ se hace grande, $~(1-\\lambda)^{T}$ se hace pequeño, esto es, la contribución de $\\tilde{y}_{0}$ a $\\tilde{y}_{T}$ es mínima. Esto es, la estimación de $\\tilde{y}_{0}$ ***no es relevante para un conjunto grande de datos***."
   ]
  },
  {
   "cell_type": "markdown",
   "id": "c4a44dd5",
   "metadata": {},
   "source": [
    "## El valor de $\\lambda$"
   ]
  },
  {
   "cell_type": "markdown",
   "id": "33351f95",
   "metadata": {},
   "source": [
    "``````{admonition} Observación\n",
    "- En general, cuando $\\lambda$ tiende a 1, y se hace más hincapié en la última observación, los ***valores suavizados se aproximarán a las observaciones originales***. \n",
    "- Si $\\lambda=0$, los valores suavizados serán todos igual a una constante, a saber $\\tilde{y}_{0}$. Esta línea constante sería la ***versión más suavizada*** de cualquier patrón que siga la serie de tiempo original.\n",
    "- Para $\\lambda=1$, tenemos $\\tilde{y}_{T}=y_{T}$ y este representará la ***versión menos suavizada*** de la serie de tiempo original.\n",
    "- Con base en la selección de $\\lambda$, esperamos acordemente que la varianza varíe entre 0 y la varianza de la serie de tiempo original. \n",
    "``````"
   ]
  },
  {
   "cell_type": "markdown",
   "id": "6e5cd284",
   "metadata": {},
   "source": [
    "- Nótese que bajo el supuesto de independencia y varianza constante tenemos que\n",
    "\n",
    "$$\n",
    "\\begin{align}\n",
    "\\text{Var}(\\tilde{y}_{T}) &= \\text{Var}\\left(\\lambda\\sum_{t=0}^{\\infty}(1-\\lambda)^{t}y_{T-t}\\right)\\\\\n",
    "&= \\lambda^{2}\\sum_{t=0}^{\\infty}(1-\\lambda)^{2t}\\text{Var}(y_{T-t})\\\\\n",
    "&= \\lambda^{2}\\sum_{t=0}^{\\infty}(1-\\lambda)^{2t}\\text{Var}(y_{T})\\\\\n",
    "&= \\text{Var}(y_{T})\\lambda^{2}\\sum_{t=0}^{\\infty}(1-\\lambda)^{2t}\n",
    "\\end{align}\n",
    "$$\n",
    "\n",
    "- Observe que\n",
    "\n",
    "$$\n",
    "\\sum_{t=0}^{T-1}(1-\\lambda)^{2t}=1+(1-\\lambda)^{2}+(1-\\lambda)^{4}+\\cdots+(1-\\lambda)^{2(T-1)}\n",
    "$$\n",
    "\n",
    "- Multiplicando por $1-(1-\\lambda)^{2}$ se tiene que:\n",
    "\n",
    "$$\n",
    "\\begin{align*}\n",
    "(1-(1-\\lambda)^{2})\\sum_{t=0}^{T-1}(1-\\lambda)^{2t} &= 1+(1-\\lambda)^{2}+(1-\\lambda)^{4}+\\cdots+(1-\\lambda)^{2(T-1)}\\\\\n",
    "&- ((1-\\lambda)^{2}+(1-\\lambda)^{4}+\\cdots+(1-\\lambda)^{2T})\\\\[3mm]\n",
    "&= 1-(1-\\lambda)^{2T}\\rightarrow 1,\\quad\\text{para valores grandes de}~T, |1-\\lambda|<1\\Rightarrow\\\\\n",
    "\\sum_{t=0}^{T-1}(1-\\lambda)^{2t} &= \\frac{1}{\\lambda(2-\\lambda)}\n",
    "\\end{align*}\n",
    "$$\n",
    "\n",
    "- Por lo tanto,\n",
    "\n",
    "$$\n",
    "\\begin{align}\n",
    "\\text{Var}(\\tilde{y}_{T}) = \\text{Var}(y_{T})\\lambda^{2}\\sum_{t=0}^{\\infty}(1-\\lambda)^{2t} = \\text{Var}(y_{T})\\lambda^{2}\\frac{1}{\\lambda(2-\\lambda)} = \\frac{\\lambda}{2-\\lambda}\\text{Var}(y_{T})\n",
    "\\end{align}\n",
    "$$"
   ]
  },
  {
   "cell_type": "markdown",
   "id": "c1156fa0",
   "metadata": {},
   "source": [
    "- Nótese que si $\\lambda\\rightarrow1$, $\\text{Var}(\\tilde{y}_{T})\\rightarrow\\text{Var}(y_{T})$, y si $\\lambda\\rightarrow0$, $\\text{Var}(\\tilde{y}_{T})\\rightarrow0$. La pregunta ahora es, ***¿cuánto suavizado se necesita?. En la literatura se recomienda $\\lambda$ entre 0.1 y 0.4*** y, de hecho, funcionan bien en la práctica. Un método más riguroso para encontrar el valor $\\lambda$ se discutirá más adelante en este capítulo.\n",
    "\n",
    "- Como ***medidas de precisión*** usaremos las siguientes métricas las cuales vienen ya implementadas en `Python`; `MAPE, MAD` y `MSD`. \n",
    "\n",
    "- El ***error porcentual medio absoluto (MAPE)*** es el cambio porcentual medio absoluto entre el valor predicho, esto es $\\tilde{y}_{t-1}:=\\tilde{y}_{t}(t-1)$, para una predicción ***one-step-ahead*** y el valor real dado por\n",
    "\n",
    "$$\n",
    "\\text{MAPE}=\\frac{\\displaystyle{\\sum_{t=1}^{T}|(y_{t}-\\tilde{y}_{t-1})/y_{t}|}}{T}\\times 100,\\quad (y_{t}\\neq 0).\n",
    "$$\n",
    "\n",
    "- La ***desviación media absoluta (MAD)*** es la diferencia absoluta media entre los valores predichos y los verdaderos, dada por\n",
    "\n",
    "$$\n",
    "\\text{MAD}=\\frac{\\displaystyle{\\sum_{t=1}^{T}|(y_{t}-\\tilde{y}_{t-1})|}}{T}.\n",
    "$$\n",
    "\n",
    "- La ***desviación cuadrática media (MSD)*** es la diferencia cuadrática media entre los valores predichos y los verdaderos, dada por\n",
    "\n",
    "$$\n",
    "\\text{MSD}=\\frac{\\displaystyle{\\sum_{t=1}^{T}(y_{t}-\\tilde{y}_{t-1})^{2}}}{T}.\n",
    "$$"
   ]
  },
  {
   "cell_type": "markdown",
   "id": "2301f51b-7234-4fb2-97e5-3ae3844a4199",
   "metadata": {},
   "source": [
    "## Implementación $SES$"
   ]
  },
  {
   "cell_type": "code",
   "execution_count": 1,
   "id": "810ec8b6-e1cd-4bf5-b0ed-2757f05ce77c",
   "metadata": {},
   "outputs": [],
   "source": [
    "import pandas as pd\n",
    "from matplotlib import pyplot as plt\n",
    "import seaborn as sns\n",
    "import warnings\n",
    "warnings.filterwarnings(\"ignore\")\n",
    "sns.set_style(\"darkgrid\")"
   ]
  },
  {
   "cell_type": "code",
   "execution_count": 2,
   "id": "6b52901b-1fa8-45d3-820c-c5f8910adf95",
   "metadata": {},
   "outputs": [],
   "source": [
    "djia_df = pd.read_excel('C:/Data/DJIA_Jan2016_Dec2016.xlsx')"
   ]
  },
  {
   "cell_type": "code",
   "execution_count": 3,
   "id": "00622f4a-4d3d-4265-8fc0-5eb40ef86ae4",
   "metadata": {},
   "outputs": [
    {
     "data": {
      "text/html": [
       "<div>\n",
       "<style scoped>\n",
       "    .dataframe tbody tr th:only-of-type {\n",
       "        vertical-align: middle;\n",
       "    }\n",
       "\n",
       "    .dataframe tbody tr th {\n",
       "        vertical-align: top;\n",
       "    }\n",
       "\n",
       "    .dataframe thead th {\n",
       "        text-align: right;\n",
       "    }\n",
       "</style>\n",
       "<table border=\"1\" class=\"dataframe\">\n",
       "  <thead>\n",
       "    <tr style=\"text-align: right;\">\n",
       "      <th></th>\n",
       "      <th>Open</th>\n",
       "      <th>High</th>\n",
       "      <th>Low</th>\n",
       "      <th>Close</th>\n",
       "      <th>Adj Close</th>\n",
       "      <th>Volume</th>\n",
       "    </tr>\n",
       "    <tr>\n",
       "      <th>Date</th>\n",
       "      <th></th>\n",
       "      <th></th>\n",
       "      <th></th>\n",
       "      <th></th>\n",
       "      <th></th>\n",
       "      <th></th>\n",
       "    </tr>\n",
       "  </thead>\n",
       "  <tbody>\n",
       "    <tr>\n",
       "      <th>2016-01-04</th>\n",
       "      <td>17405.480469</td>\n",
       "      <td>17405.480469</td>\n",
       "      <td>16957.630859</td>\n",
       "      <td>17148.939453</td>\n",
       "      <td>17148.939453</td>\n",
       "      <td>148060000</td>\n",
       "    </tr>\n",
       "    <tr>\n",
       "      <th>2016-01-05</th>\n",
       "      <td>17147.500000</td>\n",
       "      <td>17195.839844</td>\n",
       "      <td>17038.609375</td>\n",
       "      <td>17158.660156</td>\n",
       "      <td>17158.660156</td>\n",
       "      <td>105750000</td>\n",
       "    </tr>\n",
       "    <tr>\n",
       "      <th>2016-01-06</th>\n",
       "      <td>17154.830078</td>\n",
       "      <td>17154.830078</td>\n",
       "      <td>16817.619141</td>\n",
       "      <td>16906.509766</td>\n",
       "      <td>16906.509766</td>\n",
       "      <td>120250000</td>\n",
       "    </tr>\n",
       "    <tr>\n",
       "      <th>2016-01-07</th>\n",
       "      <td>16888.359375</td>\n",
       "      <td>16888.359375</td>\n",
       "      <td>16463.630859</td>\n",
       "      <td>16514.099609</td>\n",
       "      <td>16514.099609</td>\n",
       "      <td>176240000</td>\n",
       "    </tr>\n",
       "    <tr>\n",
       "      <th>2016-01-08</th>\n",
       "      <td>16519.169922</td>\n",
       "      <td>16651.890625</td>\n",
       "      <td>16314.570313</td>\n",
       "      <td>16346.450195</td>\n",
       "      <td>16346.450195</td>\n",
       "      <td>141850000</td>\n",
       "    </tr>\n",
       "  </tbody>\n",
       "</table>\n",
       "</div>"
      ],
      "text/plain": [
       "                    Open          High           Low         Close  \\\n",
       "Date                                                                 \n",
       "2016-01-04  17405.480469  17405.480469  16957.630859  17148.939453   \n",
       "2016-01-05  17147.500000  17195.839844  17038.609375  17158.660156   \n",
       "2016-01-06  17154.830078  17154.830078  16817.619141  16906.509766   \n",
       "2016-01-07  16888.359375  16888.359375  16463.630859  16514.099609   \n",
       "2016-01-08  16519.169922  16651.890625  16314.570313  16346.450195   \n",
       "\n",
       "               Adj Close     Volume  \n",
       "Date                                 \n",
       "2016-01-04  17148.939453  148060000  \n",
       "2016-01-05  17158.660156  105750000  \n",
       "2016-01-06  16906.509766  120250000  \n",
       "2016-01-07  16514.099609  176240000  \n",
       "2016-01-08  16346.450195  141850000  "
      ]
     },
     "execution_count": 3,
     "metadata": {},
     "output_type": "execute_result"
    }
   ],
   "source": [
    "djia_df['Date'] = pd.to_datetime(djia_df['Date'], '%Y-%m-%d')\n",
    "djia_df.index = djia_df['Date']\n",
    "djia_df.drop('Date', axis=1, inplace=True)\n",
    "djia_df.head()"
   ]
  },
  {
   "cell_type": "code",
   "execution_count": 4,
   "id": "fbadf519-91d1-4b21-a80f-860e793a30fb",
   "metadata": {},
   "outputs": [],
   "source": [
    "djia_ts = pd.Series(data=djia_df['Close'].values, index=djia_df.index)"
   ]
  },
  {
   "cell_type": "code",
   "execution_count": 5,
   "id": "f38b953c-3ed0-487b-b66b-e46b82efee70",
   "metadata": {},
   "outputs": [
    {
     "data": {
      "text/plain": [
       "Date\n",
       "2016-01-04    17148.939453\n",
       "2016-01-05    17158.660156\n",
       "2016-01-06    16906.509766\n",
       "2016-01-07    16514.099609\n",
       "2016-01-08    16346.450195\n",
       "dtype: float64"
      ]
     },
     "execution_count": 5,
     "metadata": {},
     "output_type": "execute_result"
    }
   ],
   "source": [
    "djia_ts.head()"
   ]
  },
  {
   "cell_type": "code",
   "execution_count": 6,
   "id": "30931a66-496e-49bd-a4df-a6fc5e0fa77f",
   "metadata": {},
   "outputs": [],
   "source": [
    "plt.rcParams['text.usetex'] = True"
   ]
  },
  {
   "cell_type": "code",
   "execution_count": 7,
   "id": "ff0002f9-1c35-44e6-8cbb-defcf1380e7d",
   "metadata": {},
   "outputs": [
    {
     "data": {
      "image/png": "[encoded data removed]",
      "text/plain": [
       "<Figure size 640x480 with 1 Axes>"
      ]
     },
     "metadata": {},
     "output_type": "display_data"
    }
   ],
   "source": [
    "plt.figure()\n",
    "djia_ts.plot(color='b')\n",
    "plt.title('Dow Jones Industrial Average between Jan 2016 - Dec 2016')\n",
    "plt.xlabel('Time')\n",
    "plt.ylabel('Closing Value');"
   ]
  },
  {
   "cell_type": "code",
   "execution_count": 8,
   "id": "5dbff3ad-3b55-42c0-abc9-1be63c82e7b9",
   "metadata": {},
   "outputs": [],
   "source": [
    "def firstsmooth(y, lambda_, start=None):\n",
    "    ytilde = y.copy()\n",
    "    if start is None:\n",
    "        start = y[0]\n",
    "    ytilde[0] = lambda_ * y[0] + (1 - lambda_) * start\n",
    "    for i in range(1, len(y)):\n",
    "        ytilde[i] = lambda_ * y[i] + (1 - lambda_) * ytilde[i - 1]\n",
    "    return ytilde"
   ]
  },
  {
   "cell_type": "code",
   "execution_count": 9,
   "id": "3b37552b-1d95-467c-ba98-61b5d585bfff",
   "metadata": {},
   "outputs": [],
   "source": [
    "dji_smooth1 = firstsmooth(y=djia_ts, lambda_=0.4)"
   ]
  },
  {
   "cell_type": "code",
   "execution_count": 10,
   "id": "6aa94ea8-70a0-4fbc-94d6-0e6036fb7f1d",
   "metadata": {},
   "outputs": [
    {
     "data": {
      "image/png": "[encoded data removed]",
      "text/plain": [
       "<Figure size 640x480 with 1 Axes>"
      ]
     },
     "metadata": {},
     "output_type": "display_data"
    }
   ],
   "source": [
    "plt.plot(djia_ts, marker='o', linestyle='', markersize=3, label='Dow Jones')\n",
    "plt.plot(dji_smooth1, label='SES $\\lambda=0.4$')\n",
    "plt.xlabel('Date')\n",
    "plt.ylabel('Dow Jones')\n",
    "plt.legend()\n",
    "plt.show()"
   ]
  },
  {
   "cell_type": "code",
   "execution_count": 11,
   "id": "8a26717d-0a6a-4e29-bb4e-b45059d9a8eb",
   "metadata": {},
   "outputs": [],
   "source": [
    "def measacc_fs(y, lambda_):\n",
    "    out = firstsmooth(y, lambda_)\n",
    "    T = len(y)\n",
    "    yh = y.copy().values\n",
    "    out = pd.concat([pd.Series([y[0]]), out.iloc[:-1]], ignore_index=True).values\n",
    "    prederr = yh - out\n",
    "    SSE = sum(prederr**2)\n",
    "    MAPE = 100 * sum(abs(prederr / yh)) / T\n",
    "    MAD = sum(abs(prederr)) / T\n",
    "    MSD = sum(prederr**2) / T\n",
    "    ret1 = pd.DataFrame({\n",
    "        \"SSE\": [SSE],\n",
    "        \"MAPE\": [MAPE],\n",
    "        \"MAD\": [MAD],\n",
    "        \"MSD\": [MSD]\n",
    "    })\n",
    "    ret1.reset_index(drop=True, inplace=True)\n",
    "    return ret1"
   ]
  },
  {
   "cell_type": "code",
   "execution_count": 12,
   "id": "2625bb0f-0930-460d-8ee6-f9b4d50ebe47",
   "metadata": {},
   "outputs": [
    {
     "data": {
      "text/html": [
       "<div>\n",
       "<style scoped>\n",
       "    .dataframe tbody tr th:only-of-type {\n",
       "        vertical-align: middle;\n",
       "    }\n",
       "\n",
       "    .dataframe tbody tr th {\n",
       "        vertical-align: top;\n",
       "    }\n",
       "\n",
       "    .dataframe thead th {\n",
       "        text-align: right;\n",
       "    }\n",
       "</style>\n",
       "<table border=\"1\" class=\"dataframe\">\n",
       "  <thead>\n",
       "    <tr style=\"text-align: right;\">\n",
       "      <th></th>\n",
       "      <th>SSE</th>\n",
       "      <th>MAPE</th>\n",
       "      <th>MAD</th>\n",
       "      <th>MSD</th>\n",
       "    </tr>\n",
       "  </thead>\n",
       "  <tbody>\n",
       "    <tr>\n",
       "      <th>0</th>\n",
       "      <td>6.844383e+06</td>\n",
       "      <td>0.689939</td>\n",
       "      <td>121.602389</td>\n",
       "      <td>27160.251204</td>\n",
       "    </tr>\n",
       "  </tbody>\n",
       "</table>\n",
       "</div>"
      ],
      "text/plain": [
       "            SSE      MAPE         MAD           MSD\n",
       "0  6.844383e+06  0.689939  121.602389  27160.251204"
      ]
     },
     "execution_count": 12,
     "metadata": {},
     "output_type": "execute_result"
    }
   ],
   "source": [
    "measacc_fs(djia_ts, 0.4)"
   ]
  },
  {
   "cell_type": "code",
   "execution_count": 13,
   "id": "0c397022-10a0-4338-be28-4cfb0e7c699f",
   "metadata": {},
   "outputs": [],
   "source": [
    "from statsmodels.tsa.holtwinters import ExponentialSmoothing"
   ]
  },
  {
   "cell_type": "code",
   "execution_count": 14,
   "id": "7aa89b42-c004-4913-8e12-cb6c9c39deeb",
   "metadata": {},
   "outputs": [],
   "source": [
    "def measacc_hw(y, lambda_):\n",
    "    model = ExponentialSmoothing(y.values)\n",
    "    fit = model.fit(smoothing_level=lambda_)\n",
    "    T = len(y)\n",
    "    yh = y.copy().values\n",
    "    y_pred = pd.Series(data=fit.fittedvalues, index=y.index)\n",
    "    out = pd.concat([pd.Series([y[0]]), y_pred[:-1]], ignore_index=True).values\n",
    "    prederr = yh - out\n",
    "    SSE = sum(prederr**2)\n",
    "    MAPE = 100 * sum(abs(prederr / yh)) / T\n",
    "    MAD = sum(abs(prederr)) / T\n",
    "    MSD = sum(prederr**2) / T\n",
    "    ret1 = pd.DataFrame({\n",
    "        \"SSE\": [SSE],\n",
    "        \"MAPE\": [MAPE],\n",
    "        \"MAD\": [MAD],\n",
    "        \"MSD\": [MSD]\n",
    "    })\n",
    "    ret1.reset_index(drop=True, inplace=True)\n",
    "    return ret1"
   ]
  },
  {
   "cell_type": "code",
   "execution_count": 15,
   "id": "9c08cc24-83ad-4c09-b7f0-c85a594314f2",
   "metadata": {},
   "outputs": [
    {
     "data": {
      "text/html": [
       "<div>\n",
       "<style scoped>\n",
       "    .dataframe tbody tr th:only-of-type {\n",
       "        vertical-align: middle;\n",
       "    }\n",
       "\n",
       "    .dataframe tbody tr th {\n",
       "        vertical-align: top;\n",
       "    }\n",
       "\n",
       "    .dataframe thead th {\n",
       "        text-align: right;\n",
       "    }\n",
       "</style>\n",
       "<table border=\"1\" class=\"dataframe\">\n",
       "  <thead>\n",
       "    <tr style=\"text-align: right;\">\n",
       "      <th></th>\n",
       "      <th>SSE</th>\n",
       "      <th>MAPE</th>\n",
       "      <th>MAD</th>\n",
       "      <th>MSD</th>\n",
       "    </tr>\n",
       "  </thead>\n",
       "  <tbody>\n",
       "    <tr>\n",
       "      <th>0</th>\n",
       "      <td>1.084431e+07</td>\n",
       "      <td>0.876061</td>\n",
       "      <td>154.763888</td>\n",
       "      <td>43032.984921</td>\n",
       "    </tr>\n",
       "  </tbody>\n",
       "</table>\n",
       "</div>"
      ],
      "text/plain": [
       "            SSE      MAPE         MAD           MSD\n",
       "0  1.084431e+07  0.876061  154.763888  43032.984921"
      ]
     },
     "execution_count": 15,
     "metadata": {},
     "output_type": "execute_result"
    }
   ],
   "source": [
    "measacc_hw(djia_ts, 0.4)"
   ]
  },
  {
   "cell_type": "markdown",
   "id": "bc20a7ff-6dbe-4777-9184-a8bd00058919",
   "metadata": {},
   "source": [
    "- En este caso, se obtuvo un MAPE del 0.87% lo cual significa que, ***en promedio, las predicciones tienen un error del 0.87% en relación con los valores reales***, el cual es más alto que el implementado en la función `firstsmooth`."
   ]
  },
  {
   "cell_type": "markdown",
   "id": "f704fd10",
   "metadata": {},
   "source": [
    "## Modelado de datos de series temporales"
   ]
  },
  {
   "cell_type": "markdown",
   "id": "7e0e461b",
   "metadata": {},
   "source": [
    "````{prf:theorem}\n",
    "\n",
    "- Considere un ***proceso constante***, esto es, un proceso donde los datos de series de tiempo se espera que varíen en torno a un nivel constante, con fluctuaciones aleatorias, las cuales son caracterizadas usualmente por ***errores no correlacionados con media 0 y varianza constante***. \n",
    "\n",
    "- La clase general de modelos puede expresarse como\n",
    "\n",
    "    $$\n",
    "    y_{t}=f(t, \\boldsymbol{\\beta})+\\varepsilon_{t},\n",
    "    $$\n",
    "\n",
    "    donde $\\boldsymbol{\\beta}$ es un vector de parámetros desconocidos y $\\varepsilon_{t}$ representa errores no correlacionados. \n",
    "\n",
    "- El ***proceso constante*** es miembro de esta clase general:\n",
    "\n",
    "    $$\n",
    "    y_{t}=\\beta_{0}+\\varepsilon_{t},\n",
    "    $$\n",
    "\n",
    "    donde $\\beta_{0}$ es igual a $\\mu$.\n",
    "\n",
    "- Entonces, la ***estimación de mínimos cuadrados ponderada*** de $\\beta_{0}$ en el proceso constante, con ***pesos exponencialmente decrecientes en el tiempo*** es\n",
    "\n",
    "$$\n",
    "\\hat{\\beta}_{0}=(1-\\theta)\\sum_{t=0}^{T-1}\\theta^{t}y_{T-t}.\n",
    "$$\n",
    "````"
   ]
  },
  {
   "cell_type": "markdown",
   "id": "2a0ccb17",
   "metadata": {},
   "source": [
    "**`Demostración`**"
   ]
  },
  {
   "cell_type": "markdown",
   "id": "588bea16",
   "metadata": {},
   "source": [
    "- Consideremos la ***suma de errores cuadráticos*** para el proceso constante, dada por\n",
    "\n",
    "$$\n",
    "SS_{E}=\\sum_{t=1}^{T}(y_{t}-\\mu)^{2}\n",
    "$$\n",
    "\n",
    "- Si afirmamos que no todas las observaciones deberían tener igual influencia sobre la suma, introducimos una cadena de ***pesos geométricamente decrecientes en tiempo***\n",
    "\n",
    "$$\n",
    "SS_{E}^{\\star}=\\sum_{t=0}^{T-1}\\theta^{t}(y_{T-t}-\\beta_{0})^{2},~\\text{donde}~|\\theta|<1.\n",
    "$$(error_sq_sum1)\n",
    "\n",
    "- Derivando la Ecuación {eq}`error_sq_sum1` con respecto a $\\beta_{0}$ e igualando a cero obtenemos el ***estimador por mínimos cuadrados*** para $\\beta_{0}$\n",
    "\n",
    "$$\n",
    "\\begin{align*}\n",
    "\\frac{\\partial SS_{E}^{\\star}}{\\partial\\beta_{0}} &= \\frac{\\partial}{\\partial\\beta_{0}}\\left(\\sum_{t=0}^{T-1}\\theta^{t}(y_{T-t}-\\hat{\\beta}_{0})^{2}\\right)=-2\\sum_{t=0}^{T-1}\\theta^{t}(y_{T-t}-\\hat{\\beta}_{0})=0\n",
    "\\end{align*}\n",
    "$$\n",
    "\n",
    "- Dado que $\\sum_{t=0}^{T-1}\\theta^{t}=(1-\\theta^{T})/(1-\\theta)$, entonces\n",
    "\n",
    "$$\n",
    "\\hat{\\beta}_{0}=\\frac{1-\\theta}{1-\\theta^{T}}\\sum_{t=0}^{T-1}\\theta^{t}y_{T-t}\\rightarrow(1-\\theta)\\sum_{t=0}^{T-1}\\theta^{t}y_{T-t},\\quad\\text{para valores grandes de}~T.\n",
    "$$"
   ]
  },
  {
   "cell_type": "markdown",
   "id": "6a68ad9a",
   "metadata": {},
   "source": [
    "- Nótese que $\\hat{\\beta}_{0}=\\tilde{y}_{T}$. Esto es, el proceso de suavización exponencial simple en efecto provee una ***estimación de mínimos cuadrados ponderada*** de $\\beta_{0}$, para el proceso constante con pesos que son exponencialmente decrecientes en el tiempo."
   ]
  },
  {
   "cell_type": "markdown",
   "id": "a8d73fc2",
   "metadata": {},
   "source": [
    "``````{admonition} Observación\n",
    "- Retomando con nuestra clase de modelo general $y_{t}=f(t; \\boldsymbol{\\beta})+\\varepsilon_{t},~f(t, \\boldsymbol{\\beta})$ puede ser cualquier función de $t$.\n",
    "- Por ejemplo, para ***series de tiempo no estacionarias***, es mas conveniente considerar una ***familia polinómica***, donde el proceso constante es el modelos mas simple que podemos considerar.\n",
    "``````"
   ]
  },
  {
   "cell_type": "markdown",
   "id": "cf076400-7676-4691-b63f-09650c7f30a1",
   "metadata": {},
   "source": [
    "## Suavización exponencial de segundo orden"
   ]
  },
  {
   "cell_type": "markdown",
   "id": "47bfd7ed",
   "metadata": {},
   "source": [
    "``````{prf:theorem}\n",
    "- Un modelo apropiado en tiempo para ***tendencias lineales*** está dado por:\n",
    "\n",
    "    $$\n",
    "    y_{t}=\\beta_{0}+\\beta_{1}t+\\varepsilon_{t},\n",
    "    $$\n",
    "\n",
    "    donde $\\varepsilon_{t}$ es no correlacionado con media 0 y varianza constante $\\sigma_{\\varepsilon}^{2}$.\n",
    "\n",
    "- Demuestre que el suavizador exponencial simple es un estimador sesgado para el ***modelo de tendencia lineal*** y la cantidad de sesgo es: $-(1-\\lambda)\\beta_{1}/\\lambda$, donde\n",
    "\n",
    "$$\n",
    "\\text{E}(\\tilde{y}_{T})=\\beta_{0}+\\beta_{1}T-\\frac{1-\\lambda}{\\lambda}\\beta_{1}=\\text{E}(y_{T})-\\frac{1-\\lambda}{\\lambda}\\beta_{1}.\n",
    "$$\n",
    "\n",
    "- Dada la ***suavización exponencial de segundo orden*** definida por:\n",
    "\n",
    "    $$\n",
    "    \\tilde{y}_{T}^{(2)}=\\lambda\\tilde{y}_{T}^{(1)}+(1-\\lambda)\\tilde{y}_{T-1}^{(2)},\n",
    "    $$\n",
    "\n",
    "    donde $\\tilde{y}_{T}^{(1)}, \\tilde{y}_{T}^{(2)}$ denotan las suavizaciones exponenciales de primer y segundo orden respectivamente, demuestre que el predictor de $\\tilde{y}_{T}$ está dado por\n",
    "\n",
    "    $$\n",
    "    \\tilde{y}_{T}=2\\tilde{y}_{T}^{(1)}-\\tilde{y}_{T}^{(2)}.\n",
    "    $$ \n",
    "\n",
    "- Puede demostrarse  además que $\\tilde{y}_{T}$ es insesgado.\n",
    "``````"
   ]
  },
  {
   "cell_type": "markdown",
   "id": "5e1e9b52",
   "metadata": {},
   "source": [
    "**`Demostración`**"
   ]
  },
  {
   "cell_type": "markdown",
   "id": "8a9e25e8",
   "metadata": {},
   "source": [
    "- Bajo el supuesto de independencia sobre $(y_{t})_{t=1}^{\\infty}$, calculamos suavización exponencial para datos de series de tiempo que exhiben tendencia lineal\n",
    "\n",
    "$$\n",
    "\\text{E}(\\tilde{y}_{T})=\\text{E}\\left(\\lambda\\sum_{t=0}^{T-1}(1-\\lambda)^{t}y_{T-t}\\right)=\\lambda\\sum_{t=0}^{T-1}(1-\\lambda)^{t}\\text{E}(y_{T-t}).\n",
    "$$\n",
    "\n",
    "- Dado que para la tendencia lineal: $\\text{E}(y_{t})=\\text{E}(\\beta_{0}+\\beta_{1}t+\\varepsilon_{t})=\\beta_{0}+\\beta_{1}t$, entonces\n",
    "\n",
    "$$\n",
    "\\begin{align*}\n",
    "\\text{E}(\\tilde{y}_{T}) &= \\lambda\\sum_{t=0}^{T-1}(1-\\lambda)^{t}(\\beta_{0}+\\beta_{1}(T-t))\\\\\n",
    "&= \\lambda\\sum_{t=0}^{T-1}(1-\\lambda)^{t}(\\beta_{0}+\\beta_{1}T)-\\lambda\\sum_{t=0}^{T-1}(1-\\lambda)^{t}(\\beta_{1}t)\\\\\n",
    "&= (\\beta_{0}+\\beta_{1}T)\\lambda\\sum_{t=0}^{T-1}(1-\\lambda)^{t}-\\lambda\\beta_{1}\\sum_{t=0}^{T-1}(1-\\lambda)^{t}t.\n",
    "\\end{align*}\n",
    "$$"
   ]
  },
  {
   "cell_type": "markdown",
   "id": "d892e4e9",
   "metadata": {},
   "source": [
    "- Dado que $|1-\\lambda|<1$ se tiene que $\\sum_{t=0}^{T-1}(1-\\lambda)^{t}=1/(1-(1-\\lambda))=1/\\lambda$. Nótese además que\n",
    "\n",
    "$$\n",
    "\\begin{align*}\n",
    "\\sum_{t=0}^{\\infty}(1-\\lambda)^{t}t&=(1-\\lambda)\\sum_{t=0}^{\\infty}t(1-\\lambda)^{t-1}\\\\\n",
    "&= -(1-\\lambda)\\sum_{t=0}^{\\infty}\\frac{\\partial}{\\partial\\lambda}(1-\\lambda)^{t}\\\\\n",
    "&= -(1-\\lambda)\\frac{\\partial}{\\partial\\lambda}\\left(\\sum_{t=0}^{\\infty}(1-\\lambda)^{t}\\right)\\\\\n",
    "&= -(1-\\lambda)\\frac{\\partial}{\\partial\\lambda}\\left(\\frac{1}{1-(1-\\lambda)}\\right)\\\\\n",
    "&= -(1-\\lambda)\\frac{\\partial}{\\partial\\lambda}\\left(\\frac{1}{\\lambda}\\right)=-(1-\\lambda)\\left(-\\frac{1}{\\lambda^{2}}\\right)=\\frac{1-\\lambda}{\\lambda^{2}}.\n",
    "\\end{align*}\n",
    "$$\n",
    "\n",
    "- Entonces \n",
    "\n",
    "$$\n",
    "\\text{E}(\\tilde{y}_{T})=(\\beta_{0}+\\beta_{1}T)\\lambda\\left(\\frac{1}{\\lambda}\\right)-\\lambda\\beta_{1}\\left(\\frac{1-\\lambda}{\\lambda^{2}}\\right)=(\\beta_{0}+\\beta_{1}T)-\\frac{1-\\lambda}{\\lambda}\\beta_{1}=\\text{E}(y_{T})-\\frac{1-\\lambda}{\\lambda}\\beta_{1}.\n",
    "$$"
   ]
  },
  {
   "cell_type": "markdown",
   "id": "cf188cb8",
   "metadata": {},
   "source": [
    "- Esto es, la suavización exponencial simple es ***sesgada como estimador*** y la cantidad de sesgo está dada por $-(1-\\lambda)\\beta_{1}/\\lambda$, la cual puede generar ***errores de subestimación***. \n",
    "- Una solución puede ser usar $\\lambda$ grande, ya que $(1-\\lambda)/\\lambda\\rightarrow0$ cuando $\\lambda\\rightarrow1$. Técnicas autoadaptativas para $\\lambda$ pueden ser estudiadas, las cuales sigan los cambios en el proceso."
   ]
  },
  {
   "cell_type": "markdown",
   "id": "37ad1672",
   "metadata": {},
   "source": [
    "- Dado que la suavización de segundo orden está dada por\n",
    "\n",
    "    $$\n",
    "    \\tilde{y}_{T}^{(2)}=\\lambda\\tilde{y}_{T}^{(1)}+(1-\\lambda)y_{T-1}^{(2)},\n",
    "    $$\n",
    "\n",
    "    esto es, $\\tilde{y}_{T}^{(2)}$ es obtenida aplicando suavización exponencial simple a $\\tilde{y}_{T}$."
   ]
  },
  {
   "cell_type": "markdown",
   "id": "8f1e99da",
   "metadata": {},
   "source": [
    "- Por ***motivos de derivación de la expresión, consideramos el mismo*** $\\lambda$ para $\\tilde{y}_{T}^{(1)}$ y $\\tilde{y}_{t}^{(2)}$. Dado que la suavización exponencial de primer orden es sesgada, su suavización (***suavización de segundo orden***) también es sesgada. Entonces\n",
    "\n",
    "$$\n",
    "\\text{E}(\\tilde{y}_{T}^{(2)})=\\text{E}(\\tilde{y}_{T}^{(1)})-\\frac{1-\\lambda}{\\lambda}\\beta_{1}. \n",
    "$$\n",
    "\n",
    "- Además\n",
    "\n",
    "$$\n",
    "\\frac{1-\\lambda}{\\lambda}\\beta_{1}=\\text{E}(\\tilde{y}_{T}^{(1)})-E(\\tilde{y}_{T}^{(2)})\\Rightarrow\\tilde{y}_{T}^{(1)}-\\tilde{y}_{T}^{(2)}=\\frac{1-\\lambda}{\\lambda}\\beta_{1},~\\text{entonces}\n",
    "$$\n",
    "\n",
    "$$\n",
    "\\textcolor{red}{\\hat{\\beta}_{1, T}=\\frac{\\lambda}{1-\\lambda}(\\tilde{y}_{T}^{(1)}-\\tilde{y}_{T}^{(2)})}.\n",
    "$$(beta1_estimation_eq)\n",
    "\n",
    "- Usando la Ecuación {eq}`beta1_estimation_eq` tenemos que: $\\text{E}(\\tilde{y}_{T}^{(1)})=(\\hat{\\beta}_{0, T}+\\hat{\\beta}_{1, T}T)-(1-\\lambda)\\hat{\\beta}_{1, T}/\\lambda$, entonces, análogamente\n",
    "\n",
    "$$\n",
    "\\textcolor{red}{\\hat{\\beta}_{0, T}=\\tilde{y}_{T}^{(1)}-T\\hat{\\beta}_{1, T}+\\displaystyle{\\frac{1-\\lambda}{\\lambda}}\\hat{\\beta}_{1, T}.}\n",
    "$$(beta0_estimation_eq)"
   ]
  },
  {
   "cell_type": "markdown",
   "id": "31ba4094",
   "metadata": {},
   "source": [
    "- Reescribiendo $\\hat{\\beta}_{0, T}$ en términos de $\\tilde{y}_{T}^{(1)}$ y $\\tilde{y}_{T}^{(2)}$ obtenemos\n",
    "\n",
    "$$\n",
    "\\begin{align*}\n",
    "\\hat{\\beta}_{0, T} &= \\tilde{y}_{T}^{(1)}-T\\left(\\frac{\\lambda}{1-\\lambda}(\\tilde{y}_{T}^{(1)}-\\tilde{y}_{T}^{(2)})\\right)+\\frac{1-\\lambda}{\\lambda}\\left(\\frac{\\lambda}{1-\\lambda}(\\tilde{y}_{T}^{(1)}-\\tilde{y}_{T}^{(2)})\\right)\\\\\n",
    "&= \\tilde{y}_{T}^{(1)}-T\\frac{\\lambda}{1-\\lambda}(\\tilde{y}_{T}^{(1)}-\\tilde{y}_{T}^{(2)})+(\\tilde{y}_{T}^{(1)}-\\tilde{y}_{T}^{(2)})\\\\\n",
    "&= \\left(2-T\\frac{\\lambda}{1-\\lambda}\\right)\\tilde{y}_{T}^{(1)}-\\left(1-T\\frac{\\lambda}{1-\\lambda}\\right)y_{T}^{(2)},\n",
    "\\end{align*}\n",
    "$$\n",
    "\n",
    "- Entonces\n",
    "\n",
    "$$\n",
    "\\textcolor{red}{\\hat{\\beta}_{0, T} = \\left(2-T\\frac{\\lambda}{1-\\lambda}\\right)\\tilde{y}_{T}^{(1)}-\\left(1-T\\frac{\\lambda}{1-\\lambda}\\right)y_{T}^{(2)}},\n",
    "$$(beta0_estimation_eq_yhat)"
   ]
  },
  {
   "cell_type": "markdown",
   "id": "271bcebc",
   "metadata": {},
   "source": [
    "- Combinando las Ecuaciones {eq}`beta1_estimation_eq`-{eq}`beta0_estimation_eq_yhat` tenemos que\n",
    "\n",
    "$$\n",
    "\\begin{align*}\n",
    "\\tilde{y}_{T} &= \\hat{\\beta}_{0, T}+\\hat{\\beta}_{1, T}T=\\left(2-T\\frac{\\lambda}{1-\\lambda}\\right)\\tilde{y}_{T}^{(1)}-\\left(1-T\\frac{\\lambda}{1-\\lambda}\\right)\\tilde{y}_{T}^{(2)}+\\frac{\\lambda}{1-\\lambda}(\\tilde{y}_{T}^{(1)}-\\tilde{y}_{T}^{(2)})T\\\\\n",
    "&= \\left(2-T\\frac{\\lambda}{1-\\lambda}+T\\frac{\\lambda}{1-\\lambda}\\right)\\tilde{y}_{T}^{(1)}-\\left(1-T\\frac{\\lambda}{1-\\lambda}+T\\frac{\\lambda}{1-\\lambda}\\right)\\tilde{y}_{T}^{(2)}\\\\[2mm]\n",
    "&=2\\tilde{y}_{T}^{(1)}-\\tilde{y}_{T}^{(2)}.\n",
    "\\end{align*}\n",
    "$$\n",
    "\n",
    "- Entonces\n",
    "\n",
    "$$\n",
    "\\textcolor{red}{\\tilde{y}_{T}=2\\tilde{y}_{T}^{(1)}-\\tilde{y}_{T}^{(2)}}\n",
    "$$(first_exp_smooth)"
   ]
  },
  {
   "cell_type": "markdown",
   "id": "09074a19",
   "metadata": {},
   "source": [
    "- Nótese que como\n",
    "\n",
    "$$\n",
    "\\text{E}(\\tilde{y}_{T}^{(1)}) = (\\beta_{0}+\\beta_{1}T)-\\frac{1-\\lambda}{\\lambda}\\beta_{1}\\Rightarrow\\tilde{y}_{T}^{(1)}=(\\hat{\\beta}_{0, T}+\\hat{\\beta}_{1, T}T)-\\frac{1-\\lambda}{\\lambda}\\hat{\\beta}_{1, T}\n",
    "$$"
   ]
  },
  {
   "cell_type": "markdown",
   "id": "a5f790f6",
   "metadata": {},
   "source": [
    "- Además\n",
    "\n",
    "$$\n",
    "\\begin{align*}\n",
    "\\text{E}(\\tilde{y}_{T}^{(2)}) &= \\text{E}(\\tilde{y}_{T}^{(1)})-\\frac{1-\\lambda}{\\lambda}\\hat{\\beta}_{1, T}=\\text{E}\\left((\\hat{\\beta}_{0, T}+\\hat{\\beta}_{1, T}T)-\\frac{1-\\lambda}{\\lambda}\\hat{\\beta}_{1, T}\\right)-\\frac{1-\\lambda}{\\lambda}\\hat{\\beta}_{1, T}\\\\\n",
    "&= (\\hat{\\beta}_{0, T}+\\hat{\\beta}_{1, T})-\\frac{1-\\lambda}{\\lambda}\\hat{\\beta}_{1, T}-\\frac{1-\\lambda}{\\lambda}\\hat{\\beta}_{1, T}=(\\hat{\\beta}_{0, T}+\\hat{\\beta}_{1, T})-2\\left(\\frac{1-\\lambda}{\\lambda}\\right)\\hat{\\beta}_{1, T}\n",
    "\\end{align*}\n",
    "$$"
   ]
  },
  {
   "cell_type": "markdown",
   "id": "2a68fab4",
   "metadata": {},
   "source": [
    "- Entonces\n",
    "\n",
    "$$\n",
    "\\textcolor{red}{\n",
    "\\begin{align*}\n",
    "\\tilde{y}_{T}^{(1)} &= (\\hat{\\beta}_{0, T}+\\hat{\\beta}_{1, T})-\\frac{1-\\lambda}{\\lambda}\\hat{\\beta}_{1, T}\\\\\n",
    "\\tilde{y}_{T}^{(2)} &= (\\hat{\\beta}_{0, T}+\\hat{\\beta}_{1, T})-2\\left(\\frac{1-\\lambda}{\\lambda}\\right)\\hat{\\beta}_{1, T}\n",
    "\\end{align*}\n",
    "}\n",
    "$$"
   ]
  },
  {
   "cell_type": "markdown",
   "id": "f31a4340",
   "metadata": {},
   "source": [
    "- Con los respectivos valores iniciales\n",
    "\n",
    "$$\n",
    "\\begin{align*}\n",
    "\\tilde{y}_{0}^{(1)} &= \\hat{\\beta}_{0, 0}-\\frac{1-\\lambda}{\\lambda}\\hat{\\beta}_{1, 0}\\\\\n",
    "\\tilde{y}_{0}^{(2)} &= \\hat{\\beta}_{0, 0}-2\\left(\\frac{1-\\lambda}{\\lambda}\\right)\\hat{\\beta}_{1, 0}\n",
    "\\end{align*}\n",
    "$$"
   ]
  },
  {
   "cell_type": "markdown",
   "id": "fc024a21",
   "metadata": {},
   "source": [
    "- La ***estimación de los parámetros iniciales*** es obtenida usualmente por medio del ***método de mínimos cuadrado***. Por ejemplo, los parámetros $\\hat{\\beta}_{0, 0}, \\hat{\\beta}_{1, 0}$ asociados al ***US Consumer Prices Index (CPI)*** de Enero 1995 a Diciembre 2004, obtenidos por mínimos cuadrados están dados por $\\hat{\\beta}_{0, 0}=149.89$ y $\\hat{\\beta}_{1, 0}=0.3$. Usando $\\lambda=0.3$ se tiene que\n",
    "\n",
    "$$\n",
    "\\begin{align}\n",
    "\\hat{y}_{0}^{(1)} &= \\hat{\\beta}_{0, 0}-\\frac{1-\\lambda}{\\lambda}\\hat{\\beta}_{1, 0}=149.89-\\frac{1-0.3}{0.3}0.3=146.22\\\\\n",
    "\\hat{y}_{0}^{(2)} &= \\hat{\\beta}_{0, 0}-2\\frac{1-\\lambda}{\\lambda}\\hat{\\beta}_{1, 0}=149.89-2\\frac{1-0.3}{0.3}0.3=142.56\\\\\n",
    "\\end{align}\n",
    "$$"
   ]
  },
  {
   "cell_type": "markdown",
   "id": "70ed5b59-17e3-4192-a15f-3ee7bf076fc9",
   "metadata": {},
   "source": [
    "## Implementación $DES$"
   ]
  },
  {
   "cell_type": "code",
   "execution_count": 16,
   "id": "4bb00da6-7c08-40fb-a844-b16288c11058",
   "metadata": {},
   "outputs": [],
   "source": [
    "import matplotlib.pyplot as plt"
   ]
  },
  {
   "cell_type": "code",
   "execution_count": 17,
   "id": "2218366c-a624-4187-b2b5-d87a067340a5",
   "metadata": {},
   "outputs": [],
   "source": [
    "cpi_smooth1 = firstsmooth(y=djia_ts, lambda_=0.3)\n",
    "cpi_smooth2 = firstsmooth(y=cpi_smooth1, lambda_=0.3)"
   ]
  },
  {
   "cell_type": "code",
   "execution_count": 18,
   "id": "ee950ee9-d175-436f-83d7-d78135cbe5c9",
   "metadata": {},
   "outputs": [],
   "source": [
    "cpi_hat = 2 * cpi_smooth1 - cpi_smooth2"
   ]
  },
  {
   "cell_type": "code",
   "execution_count": 19,
   "id": "ceb14e93-55e8-448c-997f-354e4c73130f",
   "metadata": {},
   "outputs": [
    {
     "data": {
      "image/png": "[encoded data removed]",
      "text/plain": [
       "<Figure size 640x480 with 1 Axes>"
      ]
     },
     "metadata": {},
     "output_type": "display_data"
    }
   ],
   "source": [
    "plt.plot(djia_ts, marker='o', linestyle='', markersize=3, label='Dow Jones')\n",
    "plt.plot(cpi_hat, label='DES $\\lambda=0.3$')\n",
    "plt.xlabel('Date')\n",
    "plt.ylabel('Dow Jones')\n",
    "plt.legend()\n",
    "plt.show()"
   ]
  },
  {
   "cell_type": "markdown",
   "id": "06aa0f1d",
   "metadata": {},
   "source": []
  },
  {
   "cell_type": "markdown",
   "id": "5ff36a15",
   "metadata": {},
   "source": [
    "## Suavización exponencial de alto orden"
   ]
  },
  {
   "cell_type": "markdown",
   "id": "3186c911",
   "metadata": {},
   "source": [
    "- Hasta ahora hemos discutido el uso de suavizadores exponenciales al estimar los ***modelos de tendencia constante y lineal***. Para el primero empleamos el suavizador exponencial simple o de primer orden y para el segundo el suavizador exponencial de segundo orden. Además, se puede demostrar que para el ***modelo polinómico general de*** $n\\text{th}$-ésimo grado de la forma\n",
    "\n",
    "    $$\n",
    "    y_{t}=\\beta_{0}+\\beta_{1}t+\\frac{\\beta_{2}}{2!}t^{2}+\\cdots+\\frac{\\beta_{n}}{n!}t^{n}+\\varepsilon_{t},\n",
    "    $$(highorder_exponential_smoothing)\n",
    "\n",
    "    donde $\\varepsilon_{t}$ se supone independiente con media 0 y varianza constante $\\sigma_{\\varepsilon}^{2}$, empleamos suavizadores exponenciales de orden $n-1$\n",
    "\n",
    "    $$\n",
    "    \\begin{align*}\n",
    "    \\tilde{y}_{T}^{(1)} &= \\lambda y_{T}+(1-\\lambda)\\tilde{y}_{T-1}^{(1)}\\\\\n",
    "    \\tilde{y}_{T}^{(2)} &= \\lambda \\tilde{y}_{T}^{(1)}+(1-\\lambda)\\tilde{y}_{T-1}^{(2)}\\\\\n",
    "    &\\vdots\\\\\n",
    "    \\tilde{y}_{T}^{(n)} &= \\lambda \\tilde{y}_{T}^{(n-1)}+(1-\\lambda)\\tilde{y}_{T-1}^{(n)},\n",
    "    \\end{align*}\n",
    "    $$\n",
    "    \n",
    "    para estimar los parámetros del modelo."
   ]
  },
  {
   "cell_type": "markdown",
   "id": "8dd77f9e",
   "metadata": {},
   "source": [
    "````{admonition} Observación\n",
    ":class: tip\n",
    "\n",
    "- Incluso para el modelo cuadrático, los cálculos se vuelven bastante complicados. Consulte {cite}`montgomery1990forecasting`, {cite}`brown2004smoothing` y {cite}`abraham2009statistical` para las ***soluciones a problemas de suavizamiento exponencial de orden superior*** (***`bonus`***).\n",
    "\n",
    "- Si un polinomio de alto orden parece ser necesario para la serie de tiempo, los ***modelos autorregresivos de media móvil integrada (ARIMA) pueden considerarse en cambio***.\n",
    "````"
   ]
  },
  {
   "cell_type": "markdown",
   "id": "6d62b7dd",
   "metadata": {},
   "source": []
  },
  {
   "cell_type": "markdown",
   "id": "9d5fb4bb",
   "metadata": {},
   "source": [
    "## Forecasting"
   ]
  },
  {
   "cell_type": "markdown",
   "id": "95b7bc4a",
   "metadata": {},
   "source": [
    "``````{admonition} Forecasting\n",
    "- En el tiempo $T$, deseamos ***predecir la observación en la unidad de tiempo siguiente***, $T+1$, u otro valor en el futuro. Denotaremos el pronóstico $\\tau$ pasos hacia adelante (*horizonte* $\\tau$) realizado en el tiempo $T$ como $\\hat{y}_{T+\\tau}(T)$.\n",
    "``````"
   ]
  },
  {
   "cell_type": "markdown",
   "id": "a3a0a3df",
   "metadata": {},
   "source": [
    "### Proceso constante"
   ]
  },
  {
   "cell_type": "markdown",
   "id": "dc1b311d",
   "metadata": {},
   "source": [
    "- La ***suavización exponencial de primer orden*** para el proceso constante está dada por \n",
    "\n",
    "$$\n",
    "\\tilde{y}_{T}=\\lambda y_{T}+(1-\\lambda)\\tilde{y}_{T-1}\n",
    "$$\n",
    "\n",
    "- Se demostró también que $f(t, \\boldsymbol{\\beta})=\\beta_{0}$ puede ser estimado con $\\tilde{y}_{T}$. Dado que ***hasta el momento, el error aleatorio no puede ser predicho***\n",
    "\n",
    "$$\n",
    "\\hat{y}_{T+\\tau}(T)=\\tilde{y}_{T}=\\hat{\\beta}_{0}.\n",
    "$$"
   ]
  },
  {
   "cell_type": "markdown",
   "id": "af691a56",
   "metadata": {},
   "source": [
    "- Dado que ***pronósticos constantes pueden no ser correctos*** a medida que vamos acumulando observaciones, ***actualizamos nuestra predicción por medio de técnicas como `rolling`***.\n",
    "\n",
    "- Por ejemplo, si la observación en el tiempo $T+1$ está disponible, nuestro pronóstico para futuras observaciones sería\n",
    "\n",
    "$$\n",
    "\\begin{align*}\n",
    "\\tilde{y}_{T+1} &= \\lambda y_{T+1}+(1-\\lambda)\\tilde{y}_{T},\\quad\\text{o bien}\\\\\n",
    "\\tilde{y}_{T+1+\\tau}(T+1) &= \\lambda y_{T+1}+(1-\\lambda)\\tilde{y}_{T+\\tau}(T)\\\\[4mm]\n",
    "\\end{align*}\n",
    "$$(fc_in_tplustau_eq)"
   ]
  },
  {
   "cell_type": "markdown",
   "id": "a8dc4026",
   "metadata": {},
   "source": [
    "``````{figure} ./figures/forecasttau_timeseries.png\n",
    ":align: center\n",
    ":name: forecasttau_timeseries_fig\n",
    ":scale: 18\n",
    "``````"
   ]
  },
  {
   "cell_type": "markdown",
   "id": "9e5d2316",
   "metadata": {},
   "source": [
    "- Para $\\tau=1$ la Ecuación {eq}`fc_in_tplustau_eq` puede reescribirse como\n",
    "\n",
    "    $$\n",
    "    \\begin{align*}\n",
    "    \\tilde{y}_{T+2}(T+1) &= \\lambda y_{T+1}+(1-\\lambda)\\tilde{y}_{T+1}(T)\\\\\n",
    "    &= \\tilde{y}_{T+1}(T)+\\lambda(y_{T+1}-\\tilde{y}_{T+1}(T))\\\\\n",
    "    &= \\tilde{y}_{T+1}(T)+\\lambda e_{T+1}(1),\n",
    "    \\end{align*}\n",
    "    $$\n",
    "\n",
    "    donde $e_{T+1}(1):=y_{T+1}-\\tilde{y}_{T+1}(T)$ es llamado, predicción de un paso hacia adelante (***one-step-ahead***) o error de predicción."
   ]
  },
  {
   "cell_type": "markdown",
   "id": "e8494256",
   "metadata": {},
   "source": [
    "``````{admonition} Observación\n",
    "- Pronostico para la observación siguiente es simplemente, el ***pronostico actual mas una fracción del error cometido en el pronostico de la observación actual***\n",
    "- Nótese que la velocidad de reacción del pronostico al error de predicción depende del factor de descuento $\\lambda$ \n",
    "``````"
   ]
  },
  {
   "cell_type": "markdown",
   "id": "a0e22526",
   "metadata": {},
   "source": [
    "## Selección de $\\lambda$"
   ]
  },
  {
   "cell_type": "markdown",
   "id": "1bf24fd7",
   "metadata": {},
   "source": [
    "- Definimos la ***suma de cuadrado para los errores de predicción de horizonte 1*** como\n",
    "\n",
    "$$\n",
    "SS_{E}(\\lambda)=\\sum_{t=1}^{T}e_{t}^{2}(1).\n",
    "$$"
   ]
  },
  {
   "cell_type": "markdown",
   "id": "e3a5a78f",
   "metadata": {},
   "source": [
    "``````{admonition} Observación\n",
    ":class: tip\n",
    "- Para un conjunto histórico de datos, podemos en general calcular $SS_{E}(\\lambda)$ para varios valores de $\\lambda$ y ***seleccionar aquel con la menor suma de errores de predicción al cuadrado***.\n",
    "``````"
   ]
  },
  {
   "cell_type": "markdown",
   "id": "af1b7aea-4f99-42ca-8eff-2e4f2255d980",
   "metadata": {},
   "source": [
    "- Por ejemplo, supongamos que interesados en la ***velocidad promedio en un tramo específico de una autopista durante las horas no pico***. Durante el último año y medio (78 semanas), tenemos disponibles ***promedios semanales de la velocidad promedio en millas por hora entre las 10 a. m. y las 3 p. m***. Los datos se presentan en la siguiente tabla"
   ]
  },
  {
   "cell_type": "code",
   "execution_count": 20,
   "id": "13e17414-9318-42ad-ab77-c4b176b34486",
   "metadata": {},
   "outputs": [],
   "source": [
    "import pandas as pd"
   ]
  },
  {
   "cell_type": "code",
   "execution_count": 21,
   "id": "a705e767-1513-4af0-9171-66737f349926",
   "metadata": {},
   "outputs": [
    {
     "data": {
      "text/html": [
       "<div>\n",
       "<style scoped>\n",
       "    .dataframe tbody tr th:only-of-type {\n",
       "        vertical-align: middle;\n",
       "    }\n",
       "\n",
       "    .dataframe tbody tr th {\n",
       "        vertical-align: top;\n",
       "    }\n",
       "\n",
       "    .dataframe thead th {\n",
       "        text-align: right;\n",
       "    }\n",
       "</style>\n",
       "<table border=\"1\" class=\"dataframe\">\n",
       "  <thead>\n",
       "    <tr style=\"text-align: right;\">\n",
       "      <th></th>\n",
       "      <th>week</th>\n",
       "      <th>speed</th>\n",
       "    </tr>\n",
       "  </thead>\n",
       "  <tbody>\n",
       "    <tr>\n",
       "      <th>0</th>\n",
       "      <td>1</td>\n",
       "      <td>47.12</td>\n",
       "    </tr>\n",
       "    <tr>\n",
       "      <th>1</th>\n",
       "      <td>2</td>\n",
       "      <td>45.01</td>\n",
       "    </tr>\n",
       "    <tr>\n",
       "      <th>2</th>\n",
       "      <td>3</td>\n",
       "      <td>44.69</td>\n",
       "    </tr>\n",
       "    <tr>\n",
       "      <th>3</th>\n",
       "      <td>4</td>\n",
       "      <td>45.41</td>\n",
       "    </tr>\n",
       "    <tr>\n",
       "      <th>4</th>\n",
       "      <td>5</td>\n",
       "      <td>45.45</td>\n",
       "    </tr>\n",
       "  </tbody>\n",
       "</table>\n",
       "</div>"
      ],
      "text/plain": [
       "   week  speed\n",
       "0     1  47.12\n",
       "1     2  45.01\n",
       "2     3  44.69\n",
       "3     4  45.41\n",
       "4     5  45.45"
      ]
     },
     "execution_count": 21,
     "metadata": {},
     "output_type": "execute_result"
    }
   ],
   "source": [
    "speed_df = pd.read_csv(\"https://raw.githubusercontent.com/lihkir/Data/main/weekly_average_speed.csv\")\n",
    "speed_df.head()"
   ]
  },
  {
   "cell_type": "code",
   "execution_count": 22,
   "id": "3144da11-a79f-4717-a75f-222dbb309bf7",
   "metadata": {},
   "outputs": [],
   "source": [
    "speed_ts = pd.Series(data=speed_df['speed'].values, index=speed_df.index)"
   ]
  },
  {
   "cell_type": "code",
   "execution_count": 23,
   "id": "c96e1d13-0bdf-4f23-93de-2ee89fa64a60",
   "metadata": {},
   "outputs": [
    {
     "data": {
      "text/plain": [
       "0    47.12\n",
       "1    45.01\n",
       "2    44.69\n",
       "3    45.41\n",
       "4    45.45\n",
       "dtype: float64"
      ]
     },
     "execution_count": 23,
     "metadata": {},
     "output_type": "execute_result"
    }
   ],
   "source": [
    "speed_ts.head()"
   ]
  },
  {
   "cell_type": "markdown",
   "id": "b04c5287-f382-4f57-9979-ebc80c1bb6c2",
   "metadata": {},
   "source": [
    "- La siguiente figura muestra que los ***datos de la serie temporal siguen un proceso constante***. Sin embargo, para ***suavizar la variación excesiva, podemos usar el suavizado exponencial de primer orden***. La \"mejor\" constante de suavizado se puede determinar encontrando el valor de la constante de suavizado que minimiza la suma de los errores de predicción de un paso adelante al cuadrado."
   ]
  },
  {
   "cell_type": "code",
   "execution_count": 24,
   "id": "5bf11acb-e637-49ef-af6e-d868d4a0f9e1",
   "metadata": {},
   "outputs": [
    {
     "data": {
      "image/png": "[encoded data removed]",
      "text/plain": [
       "<Figure size 640x480 with 1 Axes>"
      ]
     },
     "metadata": {},
     "output_type": "display_data"
    }
   ],
   "source": [
    "plt.figure()\n",
    "speed_ts.plot(color='b')\n",
    "plt.title('The weekly average speed during nonrush hours.')\n",
    "plt.xlabel('Week')\n",
    "plt.ylabel('Speed');"
   ]
  },
  {
   "cell_type": "code",
   "execution_count": 25,
   "id": "912f64dc-1fc6-4002-8458-dd5543c57749",
   "metadata": {},
   "outputs": [],
   "source": [
    "import numpy as np\n",
    "import matplotlib.pyplot as plt"
   ]
  },
  {
   "cell_type": "code",
   "execution_count": 26,
   "id": "be85483b-3cbb-48a7-8b66-4443983ae22b",
   "metadata": {},
   "outputs": [],
   "source": [
    "lambda_vec = np.arange(0.1, 1.0, 0.1)"
   ]
  },
  {
   "cell_type": "code",
   "execution_count": 27,
   "id": "b614372f-e394-4cb8-ad44-e4a0c802acb2",
   "metadata": {},
   "outputs": [],
   "source": [
    "def sse_speed(sc):\n",
    "    return measacc_fs(speed_ts, sc)['SSE'].values[0]"
   ]
  },
  {
   "cell_type": "code",
   "execution_count": 28,
   "id": "37f68c1b-afd8-4f54-9046-8c9a61ae6e5e",
   "metadata": {},
   "outputs": [],
   "source": [
    "sse_vec = pd.Series()\n",
    "for lambda_ in lambda_vec:\n",
    "    sse_vec.loc[len(sse_vec)] = sse_speed(lambda_)"
   ]
  },
  {
   "cell_type": "code",
   "execution_count": 29,
   "id": "f4ad3e8e-de0b-4eb7-a109-44cbe9e8c48e",
   "metadata": {},
   "outputs": [],
   "source": [
    "opt_lambda = sse_vec.min()"
   ]
  },
  {
   "cell_type": "code",
   "execution_count": 30,
   "id": "75498c04-566d-4a37-8b6b-eadc23a08e00",
   "metadata": {},
   "outputs": [
    {
     "data": {
      "image/png": "[encoded data removed]",
      "text/plain": [
       "<Figure size 640x480 with 1 Axes>"
      ]
     },
     "metadata": {},
     "output_type": "display_data"
    }
   ],
   "source": [
    "plt.plot(lambda_vec, sse_vec, marker='o', linestyle='-')\n",
    "plt.title(\"$SSE$ vs. $\\lambda$\")\n",
    "plt.xlabel('$\\lambda$')\n",
    "plt.ylabel('$SSE$')\n",
    "plt.axvline(x=lambda_vec[sse_vec.idxmin()], color='red')\n",
    "plt.show()"
   ]
  },
  {
   "cell_type": "code",
   "execution_count": null,
   "id": "a395a268-d9de-4b6b-a454-416ae22a3f11",
   "metadata": {},
   "outputs": [],
   "source": []
  },
  {
   "cell_type": "markdown",
   "id": "2a5114d9",
   "metadata": {},
   "source": [
    "## Intervalo de predicción"
   ]
  },
  {
   "cell_type": "markdown",
   "id": "4c0d6b9f",
   "metadata": {},
   "source": [
    "- El cálculo de intervalos de predicción requiere de la ***estimación de la varianza del error de predicción***. Este tipo de técnicas serán estudiadas mas adelante en la presente sección"
   ]
  },
  {
   "cell_type": "markdown",
   "id": "6375de92",
   "metadata": {},
   "source": [
    "``````{admonition} Proceso contante\n",
    "- Para un ***proceso constante, el intervalo de predicción*** $100(1-\\alpha/2)$ para cualquier horizonte $\\tau$ está dado por\n",
    "\n",
    "    $$\n",
    "    \\tilde{y}\\pm Z_{\\alpha/2}\\hat{\\sigma}_{e},\n",
    "    $$\n",
    "\n",
    "    donde $\\tilde{y}_{T}$ es la ***suavización exponencial de primer orden***, $Z_{\\alpha/2}$ es el $100(1-\\alpha/2)$ percentíl de la distribución normal estándar, y $\\hat{\\sigma}_{e}$ es la estimación de la desviación estándar de los errores predichos.\n",
    "``````"
   ]
  },
  {
   "cell_type": "markdown",
   "id": "4a0654fe",
   "metadata": {},
   "source": [
    "- Encontraremos solución a problemas de intervalo constante para todos los horizontes de predicción."
   ]
  },
  {
   "cell_type": "markdown",
   "id": "37422c90",
   "metadata": {},
   "source": [
    "``````{admonition} Proceso de tendencia lineal\n",
    ":class: tip\n",
    "\n",
    "- El pronóstico de horizonte $\\tau$ para el ***modelo de tendencia lineal*** está dado por\n",
    "\n",
    "$$\n",
    "\\hat{y}_{T+\\tau}=\\hat{\\beta}_{0, T}+\\hat{\\beta}_{1, T}(T+\\tau)=\\hat{\\beta}_{0, T}+\\hat{\\beta}_{1, T}T+\\hat{\\beta}_{1, T}\\tau=\\hat{y}_{T}+\\hat{\\beta}_{1, T}\\tau.\n",
    "$$\n",
    "\n",
    "- En términos de suavizadores exponenciales\n",
    "\n",
    "$$\n",
    "\\begin{align*}\n",
    "\\hat{y}_{T+\\tau}(T) &= (2\\tilde{y}_{T}^{(1)}-\\tilde{y}_{T}^{(2)})+\\tau\\frac{\\lambda}{1-\\lambda}(\\tilde{y}_{T}^{(1)}-\\tilde{y}_{T}^{(2)})\\\\\n",
    "&= \\left(2+\\frac{\\lambda}{1-\\lambda}\\tau\\right)\\tilde{y}_{T}^{(1)}-\\left(1+\\frac{\\lambda}{1-\\lambda}\\tau\\right)\\tilde{y}_{T}^{(2)}.\n",
    "\\end{align*}\n",
    "$$\n",
    "``````"
   ]
  },
  {
   "cell_type": "markdown",
   "id": "ce16778a",
   "metadata": {},
   "source": [
    "- Nótese que ***las predicciones dependerán ahora del horizonte de predicción*** $\\tau$. En este caso, el $100(1-\\alpha/2)$ intervalo de predicción para cualquier horizonte de tiempo $\\tau$ está dado por (***`bonus`***)\n",
    "\n",
    "  $$\n",
    "  \\left(2+\\frac{\\lambda}{1-\\lambda}\\tau\\right)\\tilde{y}_{T}^{(1)}-\\left(1+\\frac{\\lambda}{1-\\lambda}\\tau\\right)\\tilde{y}_{T}^{(2)}\\pm Z_{\\alpha/2}\\frac{c_{\\tau}}{c_{1}}\\hat{\\sigma}_{e}.\n",
    "  $$\n",
    "\n",
    "  donde\n",
    "\n",
    "  $$\n",
    "  c_{i}^{2}=1+\\frac{\\lambda}{(2-\\lambda)^{3}}[(10-14\\lambda+5\\lambda^{2})+2i\\lambda(4-3\\lambda)+2i^{2}\\lambda^{2}].\n",
    "  $$"
   ]
  },
  {
   "cell_type": "markdown",
   "id": "5f4b618d-980e-41d8-a753-91d4f7bee61e",
   "metadata": {},
   "source": [
    "- A manera de ejemplo, consideremos los datos asociados al ***US Consumer Price Index (CPI)***. Como primera opción, realizaremos ***pronósticos para todo el año 2004*** (*pronósticos de 1 a 12 pasos por delante*)"
   ]
  },
  {
   "cell_type": "code",
   "execution_count": 31,
   "id": "770b369e-889d-432c-9365-fbe739311990",
   "metadata": {},
   "outputs": [],
   "source": [
    "import pandas as pd\n",
    "import numpy as np\n",
    "import matplotlib.pyplot as plt"
   ]
  },
  {
   "cell_type": "code",
   "execution_count": 32,
   "id": "91b1e92b-c7d6-4da1-b632-18e0d2a32c5e",
   "metadata": {},
   "outputs": [],
   "source": [
    "cpi_data = pd.read_csv(\"https://raw.githubusercontent.com/lihkir/Data/main/CPI.csv\", skiprows=1, skipfooter=1, engine='python')"
   ]
  },
  {
   "cell_type": "code",
   "execution_count": 33,
   "id": "75c7bef5-c0f0-46aa-9c7d-505c4c05c008",
   "metadata": {},
   "outputs": [
    {
     "data": {
      "text/html": [
       "<div>\n",
       "<style scoped>\n",
       "    .dataframe tbody tr th:only-of-type {\n",
       "        vertical-align: middle;\n",
       "    }\n",
       "\n",
       "    .dataframe tbody tr th {\n",
       "        vertical-align: top;\n",
       "    }\n",
       "\n",
       "    .dataframe thead th {\n",
       "        text-align: right;\n",
       "    }\n",
       "</style>\n",
       "<table border=\"1\" class=\"dataframe\">\n",
       "  <thead>\n",
       "    <tr style=\"text-align: right;\">\n",
       "      <th></th>\n",
       "      <th>Year</th>\n",
       "      <th>Period</th>\n",
       "      <th>Consumer Price Index</th>\n",
       "      <th>Over-the-Year Percent Change</th>\n",
       "      <th>Over-the-Month Percent Change</th>\n",
       "    </tr>\n",
       "  </thead>\n",
       "  <tbody>\n",
       "    <tr>\n",
       "      <th>0</th>\n",
       "      <td>2024</td>\n",
       "      <td>March</td>\n",
       "      <td>312.3</td>\n",
       "      <td>3.5%</td>\n",
       "      <td>0.6%</td>\n",
       "    </tr>\n",
       "    <tr>\n",
       "      <th>1</th>\n",
       "      <td>2024</td>\n",
       "      <td>February</td>\n",
       "      <td>310.3</td>\n",
       "      <td>3.2%</td>\n",
       "      <td>0.6%</td>\n",
       "    </tr>\n",
       "    <tr>\n",
       "      <th>2</th>\n",
       "      <td>2024</td>\n",
       "      <td>January</td>\n",
       "      <td>308.4</td>\n",
       "      <td>3.1%</td>\n",
       "      <td>0.5%</td>\n",
       "    </tr>\n",
       "    <tr>\n",
       "      <th>3</th>\n",
       "      <td>2023</td>\n",
       "      <td>December</td>\n",
       "      <td>306.7</td>\n",
       "      <td>3.4%</td>\n",
       "      <td>-0.1%</td>\n",
       "    </tr>\n",
       "    <tr>\n",
       "      <th>4</th>\n",
       "      <td>2023</td>\n",
       "      <td>November</td>\n",
       "      <td>307.1</td>\n",
       "      <td>3.1%</td>\n",
       "      <td>-0.2%</td>\n",
       "    </tr>\n",
       "  </tbody>\n",
       "</table>\n",
       "</div>"
      ],
      "text/plain": [
       "   Year    Period  Consumer Price Index Over-the-Year Percent Change  \\\n",
       "0  2024     March                 312.3                         3.5%   \n",
       "1  2024  February                 310.3                         3.2%   \n",
       "2  2024   January                 308.4                         3.1%   \n",
       "3  2023  December                 306.7                         3.4%   \n",
       "4  2023  November                 307.1                         3.1%   \n",
       "\n",
       "  Over-the-Month Percent Change  \n",
       "0                          0.6%  \n",
       "1                          0.6%  \n",
       "2                          0.5%  \n",
       "3                         -0.1%  \n",
       "4                         -0.2%  "
      ]
     },
     "execution_count": 33,
     "metadata": {},
     "output_type": "execute_result"
    }
   ],
   "source": [
    "cpi_data.head()"
   ]
  },
  {
   "cell_type": "code",
   "execution_count": 34,
   "id": "846c4a33-9e51-4575-8f2f-44fe23dc3bb3",
   "metadata": {},
   "outputs": [],
   "source": [
    "cpi_data['Date'] = cpi_data['Period'].astype(str) + '-' + cpi_data['Year'].astype(str)"
   ]
  },
  {
   "cell_type": "code",
   "execution_count": 35,
   "id": "65b9ab89-3acb-4583-8c3a-23cc90aedeb6",
   "metadata": {},
   "outputs": [
    {
     "data": {
      "text/html": [
       "<div>\n",
       "<style scoped>\n",
       "    .dataframe tbody tr th:only-of-type {\n",
       "        vertical-align: middle;\n",
       "    }\n",
       "\n",
       "    .dataframe tbody tr th {\n",
       "        vertical-align: top;\n",
       "    }\n",
       "\n",
       "    .dataframe thead th {\n",
       "        text-align: right;\n",
       "    }\n",
       "</style>\n",
       "<table border=\"1\" class=\"dataframe\">\n",
       "  <thead>\n",
       "    <tr style=\"text-align: right;\">\n",
       "      <th></th>\n",
       "      <th>Year</th>\n",
       "      <th>Period</th>\n",
       "      <th>Consumer Price Index</th>\n",
       "      <th>Over-the-Year Percent Change</th>\n",
       "      <th>Over-the-Month Percent Change</th>\n",
       "    </tr>\n",
       "    <tr>\n",
       "      <th>Date</th>\n",
       "      <th></th>\n",
       "      <th></th>\n",
       "      <th></th>\n",
       "      <th></th>\n",
       "      <th></th>\n",
       "    </tr>\n",
       "  </thead>\n",
       "  <tbody>\n",
       "    <tr>\n",
       "      <th>March-2024</th>\n",
       "      <td>2024</td>\n",
       "      <td>March</td>\n",
       "      <td>312.3</td>\n",
       "      <td>3.5%</td>\n",
       "      <td>0.6%</td>\n",
       "    </tr>\n",
       "    <tr>\n",
       "      <th>February-2024</th>\n",
       "      <td>2024</td>\n",
       "      <td>February</td>\n",
       "      <td>310.3</td>\n",
       "      <td>3.2%</td>\n",
       "      <td>0.6%</td>\n",
       "    </tr>\n",
       "    <tr>\n",
       "      <th>January-2024</th>\n",
       "      <td>2024</td>\n",
       "      <td>January</td>\n",
       "      <td>308.4</td>\n",
       "      <td>3.1%</td>\n",
       "      <td>0.5%</td>\n",
       "    </tr>\n",
       "    <tr>\n",
       "      <th>December-2023</th>\n",
       "      <td>2023</td>\n",
       "      <td>December</td>\n",
       "      <td>306.7</td>\n",
       "      <td>3.4%</td>\n",
       "      <td>-0.1%</td>\n",
       "    </tr>\n",
       "    <tr>\n",
       "      <th>November-2023</th>\n",
       "      <td>2023</td>\n",
       "      <td>November</td>\n",
       "      <td>307.1</td>\n",
       "      <td>3.1%</td>\n",
       "      <td>-0.2%</td>\n",
       "    </tr>\n",
       "  </tbody>\n",
       "</table>\n",
       "</div>"
      ],
      "text/plain": [
       "               Year    Period  Consumer Price Index  \\\n",
       "Date                                                  \n",
       "March-2024     2024     March                 312.3   \n",
       "February-2024  2024  February                 310.3   \n",
       "January-2024   2024   January                 308.4   \n",
       "December-2023  2023  December                 306.7   \n",
       "November-2023  2023  November                 307.1   \n",
       "\n",
       "              Over-the-Year Percent Change Over-the-Month Percent Change  \n",
       "Date                                                                      \n",
       "March-2024                            3.5%                          0.6%  \n",
       "February-2024                         3.2%                          0.6%  \n",
       "January-2024                          3.1%                          0.5%  \n",
       "December-2023                         3.4%                         -0.1%  \n",
       "November-2023                         3.1%                         -0.2%  "
      ]
     },
     "execution_count": 35,
     "metadata": {},
     "output_type": "execute_result"
    }
   ],
   "source": [
    "cpi_data.index = cpi_data['Date']\n",
    "cpi_data.drop('Date', axis=1, inplace=True)\n",
    "cpi_data.head()"
   ]
  },
  {
   "cell_type": "code",
   "execution_count": 36,
   "id": "19dcaa3e-13bb-462d-8110-ae94325e5acf",
   "metadata": {},
   "outputs": [],
   "source": [
    "cpi_ts = pd.Series(data=cpi_data['Consumer Price Index'].values, index=cpi_data.index)[::-1]"
   ]
  },
  {
   "cell_type": "code",
   "execution_count": 37,
   "id": "08343373-0697-4ea2-b5d3-7af05ace78c4",
   "metadata": {},
   "outputs": [
    {
     "data": {
      "text/plain": [
       "Date\n",
       "January-1913       9.8\n",
       "February-1913      9.8\n",
       "March-1913         9.8\n",
       "April-1913         9.8\n",
       "May-1913           9.7\n",
       "                 ...  \n",
       "November-2023    307.1\n",
       "December-2023    306.7\n",
       "January-2024     308.4\n",
       "February-2024    310.3\n",
       "March-2024       312.3\n",
       "Length: 1335, dtype: float64"
      ]
     },
     "execution_count": 37,
     "metadata": {},
     "output_type": "execute_result"
    }
   ],
   "source": [
    "cpi_ts"
   ]
  },
  {
   "cell_type": "markdown",
   "id": "143687c1-cbe5-4637-b8d8-cdb049757391",
   "metadata": {},
   "source": [
    "- Consideremos el ***US Consumer Price Index (CPI)*** de Estados Unidos ***desde enero de 1995 hasta diciembre de 2004***. La siguiente figura muestra claramente que los datos exhiben una tendencia lineal."
   ]
  },
  {
   "cell_type": "code",
   "execution_count": 38,
   "id": "a0588bbb-b070-46f5-b416-688a07e4426c",
   "metadata": {},
   "outputs": [],
   "source": [
    "cpi_dates = cpi_ts[cpi_ts.index.get_loc('January-1995'):cpi_ts.index.get_loc('December-2004')+1]"
   ]
  },
  {
   "cell_type": "code",
   "execution_count": 39,
   "id": "33a80230-c6d9-46ca-b05a-1e1aa92a0eaa",
   "metadata": {},
   "outputs": [
    {
     "data": {
      "text/plain": [
       "Date\n",
       "January-1995      150.3\n",
       "February-1995     150.9\n",
       "March-1995        151.4\n",
       "April-1995        151.9\n",
       "May-1995          152.2\n",
       "                  ...  \n",
       "August-2004       189.5\n",
       "September-2004    189.9\n",
       "October-2004      190.9\n",
       "November-2004     191.0\n",
       "December-2004     190.3\n",
       "Length: 120, dtype: float64"
      ]
     },
     "execution_count": 39,
     "metadata": {},
     "output_type": "execute_result"
    }
   ],
   "source": [
    "cpi_dates"
   ]
  },
  {
   "cell_type": "code",
   "execution_count": 40,
   "id": "ccba2f33-a961-4975-8b45-7e0ce52eb2c3",
   "metadata": {},
   "outputs": [
    {
     "data": {
      "image/png": "[encoded data removed]",
      "text/plain": [
       "<Figure size 640x480 with 1 Axes>"
      ]
     },
     "metadata": {},
     "output_type": "display_data"
    }
   ],
   "source": [
    "fig, ax = plt.subplots()\n",
    "\n",
    "cpi_dates.plot(ax=ax, color='b')\n",
    "ax.set_title('US Consumer Price Index (CPI)')\n",
    "ax.set_xlabel('Closing Value')\n",
    "ax.set_ylabel('Time')\n",
    "ax.tick_params(axis='x', rotation=45)\n",
    "ax.tick_params(axis='y', rotation=45)\n",
    "\n",
    "plt.show()"
   ]
  },
  {
   "cell_type": "markdown",
   "id": "54c3b393-5689-46ec-bfc0-15e6175c4af2",
   "metadata": {},
   "source": [
    "- En ***diciembre de 2003***, realiza las ***previsiones para todo el año 2004*** (*previsiones de 1 a 12 pasos adelante*)"
   ]
  },
  {
   "cell_type": "code",
   "execution_count": 41,
   "id": "e0e40963-acfc-4b67-a2d8-0e3f96577120",
   "metadata": {},
   "outputs": [],
   "source": [
    "lambda_ = 0.3\n",
    "tau_length = 12"
   ]
  },
  {
   "cell_type": "code",
   "execution_count": 42,
   "id": "3ad7ed03-3779-476c-90d4-40ba1f1cfac2",
   "metadata": {},
   "outputs": [],
   "source": [
    "cpi_smooth1 = firstsmooth(cpi_dates.iloc[:-tau_length], lambda_)\n",
    "cpi_smooth2 = firstsmooth(cpi_smooth1, lambda_)"
   ]
  },
  {
   "cell_type": "code",
   "execution_count": 43,
   "id": "698f6822-416d-4ec8-8fdc-8f49ef37bfad",
   "metadata": {},
   "outputs": [],
   "source": [
    "cpi_hat = 2 * cpi_smooth1 - cpi_smooth2"
   ]
  },
  {
   "cell_type": "code",
   "execution_count": 44,
   "id": "e3e3fbf2-81c8-44df-8ebd-57c962121361",
   "metadata": {},
   "outputs": [],
   "source": [
    "tau = np.arange(1, tau_length+1)"
   ]
  },
  {
   "cell_type": "code",
   "execution_count": 45,
   "id": "a282afb8-fa0d-4e1d-8107-cdecda77c75c",
   "metadata": {},
   "outputs": [],
   "source": [
    "T = len(cpi_smooth1)"
   ]
  },
  {
   "cell_type": "code",
   "execution_count": 46,
   "id": "20aa2565-2fb5-4044-aefc-a70eab5c42b1",
   "metadata": {},
   "outputs": [],
   "source": [
    "cpi_forecast = (2 + tau * (lambda_ / (1 - lambda_))) * cpi_smooth1[T-1] - (1 + tau * (lambda_ / (1 - lambda_))) * cpi_smooth2[T-1]"
   ]
  },
  {
   "cell_type": "code",
   "execution_count": 47,
   "id": "a75fd455-b21b-4beb-8d17-91262a117775",
   "metadata": {},
   "outputs": [],
   "source": [
    "ctau = np.sqrt(1 + (lambda_ / ((2 - lambda_)**3)) * (10 - 14 * lambda_ + 5 * (lambda_**2) + 2 * tau * lambda_ * (4 - 3 * lambda_) + 2 * (tau**2) * (lambda_**2)))"
   ]
  },
  {
   "cell_type": "code",
   "execution_count": 48,
   "id": "92ec087c-4965-4559-b2a6-85989423683d",
   "metadata": {},
   "outputs": [],
   "source": [
    "alpha_lev = 0.05"
   ]
  },
  {
   "cell_type": "code",
   "execution_count": 49,
   "id": "22009c5f-4cb5-440f-9f6c-d5d5d6fc8f47",
   "metadata": {},
   "outputs": [],
   "source": [
    "sig_est = np.sqrt(np.var(cpi_dates.iloc[1:] - cpi_hat[:-1]))"
   ]
  },
  {
   "cell_type": "code",
   "execution_count": 50,
   "id": "10516b62-1ec9-4250-bb2d-a22c2388ab1b",
   "metadata": {},
   "outputs": [],
   "source": [
    "cl = np.quantile(ctau / ctau[0] * sig_est, 1 - alpha_lev / 2)"
   ]
  },
  {
   "cell_type": "code",
   "execution_count": 51,
   "id": "1936f03a-70e0-49bf-9684-eab23f6ee302",
   "metadata": {},
   "outputs": [
    {
     "data": {
      "image/png": "[encoded data removed]",
      "text/plain": [
       "<Figure size 640x480 with 1 Axes>"
      ]
     },
     "metadata": {},
     "output_type": "display_data"
    }
   ],
   "source": [
    "fig, ax = plt.subplots()\n",
    "ax.plot(cpi_dates.index[:-tau_length], cpi_dates.iloc[:-tau_length].values, marker='o', linestyle='', markersize=3)\n",
    "ax.plot(cpi_dates.index[-tau_length:], cpi_dates.iloc[-tau_length:].values, marker='o', linestyle='', markersize=3)\n",
    "ax.plot(cpi_dates.index[-tau_length:], cpi_forecast, label='Forecast')\n",
    "ax.plot(cpi_dates.index[-tau_length:], cpi_forecast + cl, label='Upper bound')\n",
    "ax.plot(cpi_dates.index[-tau_length:], cpi_forecast - cl, label='Lower bound')\n",
    "n = 15\n",
    "plt.xticks(range(0, len(cpi_dates.index), n), rotation=45)\n",
    "ax.set_xlabel('Closing Value')\n",
    "ax.set_ylabel('Time')\n",
    "ax.tick_params(axis='x', rotation=45)\n",
    "ax.tick_params(axis='y', rotation=45)\n",
    "plt.legend()\n",
    "plt.show()"
   ]
  },
  {
   "cell_type": "markdown",
   "id": "8492d31b-bf45-43b6-ac18-5504061141be",
   "metadata": {},
   "source": [
    "- Como segunda opción. ***En diciembre de 2003, hacer el pronóstico para enero de 2004***. Luego, ***cuando los datos de enero de 2004 estén disponibles, hacer el pronóstico para febrero de 2004*** (*solo pronósticos de un paso por delante*)\""
   ]
  },
  {
   "cell_type": "code",
   "execution_count": 52,
   "id": "d1f60101-fc2f-4a0b-8428-e764ecc40b49",
   "metadata": {},
   "outputs": [],
   "source": [
    "import numpy as np\n",
    "from scipy.stats import norm"
   ]
  },
  {
   "cell_type": "code",
   "execution_count": 53,
   "id": "4b60b574-0d6e-48fe-ba81-bf0216403692",
   "metadata": {},
   "outputs": [],
   "source": [
    "lambda_ = 0.3\n",
    "T = 108\n",
    "tau = 12\n",
    "alpha_lev = 0.05\n",
    "cpi_forecast = np.zeros(tau)\n",
    "cl = np.zeros(tau)\n",
    "cpi_smooth1 = np.zeros(T + tau)\n",
    "cpi_smooth2 = np.zeros(T + tau)"
   ]
  },
  {
   "cell_type": "code",
   "execution_count": 54,
   "id": "b19812a7-e7bf-44c2-b4e4-44bcabd36732",
   "metadata": {},
   "outputs": [],
   "source": [
    "for i in range(1, tau + 1):\n",
    "    cpi_smooth1[:T + i - 1] = firstsmooth(y=cpi_dates.iloc[:T + i - 1], lambda_=lambda_)\n",
    "    cpi_smooth2[:T + i - 1] = firstsmooth(y=cpi_smooth1[:T + i - 1], lambda_=lambda_)\n",
    "    cpi_forecast[i - 1] = (2 + (lambda_ / (1 - lambda_))) * cpi_smooth1[T + i - 2] - \\\n",
    "                          (1 + (lambda_ / (1 - lambda_))) * cpi_smooth2[T + i - 2] # horizon one each time\n",
    "    cpi_hat = 2 * cpi_smooth1[:T + i - 1] - cpi_smooth2[:T + i - 1]\n",
    "    sig_est = np.sqrt(np.var(cpi_dates.iloc[1:T + i - 1] - cpi_hat[:-1]))\n",
    "    cl[i - 1] = norm.ppf(1 - alpha_lev / 2) * sig_est"
   ]
  },
  {
   "cell_type": "code",
   "execution_count": 55,
   "id": "56fdab7b-6b47-466a-9f09-b7a58f66231f",
   "metadata": {},
   "outputs": [
    {
     "data": {
      "image/png": "[encoded data removed]",
      "text/plain": [
       "<Figure size 640x480 with 1 Axes>"
      ]
     },
     "metadata": {},
     "output_type": "display_data"
    }
   ],
   "source": [
    "plt.figure()\n",
    "plt.plot(cpi_dates.index[:-tau], cpi_dates.iloc[:-tau].values, marker='o', linestyle='', markersize=3, label='CPI')\n",
    "plt.plot(cpi_dates.index[-tau:], cpi_dates.iloc[-tau:].values, marker='o', markersize=3, color='black')\n",
    "plt.plot(cpi_dates.index[-tau:], cpi_forecast, label='Forecast')\n",
    "plt.plot(cpi_dates.index[-tau:], cpi_forecast + cl, linestyle='--', color='red', label='Confidence Interval')\n",
    "plt.plot(cpi_dates.index[-tau:], cpi_forecast - cl, linestyle='--', color='red')\n",
    "plt.legend()\n",
    "n = 15\n",
    "plt.xticks(range(0, len(cpi_dates.index), n), rotation=45)\n",
    "plt.xlabel('Date')\n",
    "plt.ylabel('CPI')\n",
    "plt.show()"
   ]
  },
  {
   "cell_type": "code",
   "execution_count": null,
   "id": "5cd2dedf-58a9-4efb-9b8a-42f099f87ff8",
   "metadata": {},
   "outputs": [],
   "source": []
  },
  {
   "cell_type": "markdown",
   "id": "fcb76ece",
   "metadata": {},
   "source": [
    "## Estimación de $\\sigma_{e}^{2}$"
   ]
  },
  {
   "cell_type": "markdown",
   "id": "73f642f2",
   "metadata": {},
   "source": [
    "- En el proceso de ***estimar la varianza de los errores de pronóstico***, representada como $\\sigma_{e}^{2}$, frecuentemente se postula que ***el modelo subyacente*** (por ejemplo, *constante, tendencia lineal*) es ***correcto e invariante en el tiempo*** (*predicciones precisas y estables a medida que se avanza en el tiempo*). Bajo estas condiciones, dos metodologías distintas están disponibles para estimar $\\sigma_{e}^{2}$"
   ]
  },
  {
   "cell_type": "markdown",
   "id": "0018b6c2",
   "metadata": {},
   "source": [
    "```{admonition} Bonus\n",
    ":class: tip\n",
    "\n",
    "- Encuentre la ***estimación de la varianza de los errores de pronóstico*** $\\sigma_{e}^{2}$ para el modelo de suavización exponencial. Utilice los siguientes documentos como guía [Peter Wanke et. al](https://www.pomsmeetings.org/confproceedings/015/fullpapers/015-0271.pdf) y [Kuliah Genap](http://adjifern.lecture.ub.ac.id/files/2016/03/bahan-ADE-minggu-11b.pdf), así como aquellos que encuentre en su revisión.\n",
    "```"
   ]
  },
  {
   "cell_type": "markdown",
   "id": "9d0370a8",
   "metadata": {},
   "source": [
    "1. Dado el pronóstico `one-step-ahead` definido como $e_{T}(1)=y_{T}-\\hat{y}_{T}(T-1)$. El objetivo es aplicar el modelo a los datos históricos y obtener la ***varianza del error de pronóstico*** a calcular \n",
    "\n",
    "$$\n",
    "\\sigma_{e}^{2}=\\frac{1}{T}\\sum_{t=1}^{T}e_{t}^{2}(1)=\\frac{1}{T}\\sum_{t=1}^{T}(y_{t}-\\hat{y}_{t}(t-1))^{2}.\n",
    "$$"
   ]
  },
  {
   "cell_type": "markdown",
   "id": "1c9d5a9d",
   "metadata": {},
   "source": [
    "- Nótese que en el cálculo de la varianza, la media del ajuste no fue necesaria, ya que para el modelo correcto los pronósticos son insesgados; esto es, ***el valor esperado de los errores de pronóstico es 0***. \n",
    "\n",
    "- A medida que se recopilan más datos, la varianza de los errores de pronóstico puede ser actualizada\n",
    "\n",
    "$$\n",
    "\\hat{\\sigma}_{eT+1}=\\frac{1}{T+1}\\left(T\\hat{\\sigma}_{e, T}^{2}+e_{T+1}^{2}(1)\\right).\n",
    "$$"
   ]
  },
  {
   "cell_type": "markdown",
   "id": "dd2a00bb",
   "metadata": {},
   "source": [
    "- Puede resultar contraintuitivo tener una varianza constante de errores de pronóstico para todos los horizontes de predicción. En su lugar, podemos definir $\\sigma_{e}^{2}(\\tau)$ como la ***varianza del error de pronóstico a*** $\\tau$ ***pasos hacia adelante*** y estimarla mediante\n",
    "\n",
    "$$\n",
    "\\hat{\\sigma}_{e}^{2}(\\tau)=\\frac{1}{T-\\tau+1}\\sum_{t=\\tau}^{T}e_{1}^{2}(\\tau).\n",
    "$$(error_variance_estimation_tau)"
   ]
  },
  {
   "cell_type": "markdown",
   "id": "8ba38056",
   "metadata": {},
   "source": [
    "- Por lo tanto, la estimación en la Ecuación {eq}`error_variance_estimation_tau` puede ser utilizada en los cálculos del ***intervalo de predicción para el pronóstico a*** $\\tau$ ***pasos hacia adelante***."
   ]
  },
  {
   "cell_type": "markdown",
   "id": "7e81291f",
   "metadata": {},
   "source": [
    "2. Para el segundo método de estimación de $\\sigma_{e}^{2}$, primero definiremos la ***desviación media absoluta*** $\\Delta$ como\n",
    "\n",
    "    $$\n",
    "    \\Delta = \\text{E}(|e-\\text{E}(e)|)\n",
    "    $$\n",
    "    \n",
    "    y, asumiendo que el modelo es correcto, calcular su estimación mediante\n",
    "\n",
    "    $$\n",
    "    \\hat{\\Delta}_{T}=\\delta|e_{T}(1)|+(1-\\delta)\\hat{\\Delta}_{T-1}.\n",
    "    $$(mean_absolute_deviationT)\n",
    "\n",
    "    Entonces, el estimador de $\\sigma_{e}^{2}$ está dado por {cite}`montgomery1990forecasting` (***`bonus`***)\n",
    "\n",
    "    $$\n",
    "    \\hat{\\sigma}_{e, T}=1.25\\hat{\\Delta}_{T}.\n",
    "    $$"
   ]
  },
  {
   "cell_type": "markdown",
   "id": "fdea81ff",
   "metadata": {},
   "source": [
    "## Adaptación actualizada del factor de descuento"
   ]
  },
  {
   "cell_type": "markdown",
   "id": "65043d45",
   "metadata": {},
   "source": [
    "- Cambios en el modelo subyacente de series temporales dificultarán que el suavizador exponencial con factor de descuento fijo siga estos cambios. Por lo tanto, surge la necesidad de ***monitorear y, si es necesario, modificar el factor de descuento***. Al hacerlo, el factor de descuento se adaptará a los cambios en el modelo de series temporales. \n",
    "\n",
    "- Para ello, emplearemos el procedimiento descrito originalmente por {cite}`trigg1967exponential` para un único factor de descuento. Como ejemplo, consideraremos el ***suavizador exponencial de primer orden*** y lo modificaremos de la siguiente manera:\n",
    "\n",
    "$$\n",
    "\\hat{y}_{T}=\\lambda_{T}y_{T}+(1-\\lambda_{T})\\hat{y}_{T-1}.\n",
    "$$(adaptive_discount_factor)"
   ]
  },
  {
   "cell_type": "markdown",
   "id": "1dd1a2fc",
   "metadata": {},
   "source": [
    "- Nótese que en la Ecuación {eq}`adaptive_discount_factor`, el factor de descuento $\\lambda_{T}$ se introduce como una función del tiempo y, por lo tanto, ***se le permite adaptarse a los cambios en el modelo de series temporales***. \n",
    "\n",
    "- También definimos el ***error de suavizado*** como\n",
    "\n",
    "    $$\n",
    "    Q_{T}=\\delta e_{T}(1)+(1-\\delta)Q_{T-1},\n",
    "    $$\n",
    "\n",
    "    donde $\\delta$ es un parámetro de suavización."
   ]
  },
  {
   "cell_type": "markdown",
   "id": "b9752c48",
   "metadata": {},
   "source": [
    "- Por último, definimos la señal de seguimiento como\n",
    "\n",
    "    $$\n",
    "    \\frac{Q_{T}}{\\hat{\\Delta}_{T}},\n",
    "    $$\n",
    "\n",
    "    donde $\\hat{\\Delta}_{T}$ está dado por la Ecuación {eq}`mean_absolute_deviationT`."
   ]
  },
  {
   "cell_type": "markdown",
   "id": "4cbf0db8",
   "metadata": {},
   "source": [
    "- ***Se espera que este cociente sea cercano a 0 cuando el sistema de predicción funciona bien, y que se acerque a*** $\\pm1$ ***cuando empiece a fallar***. De hecho, {cite}`trigg1967exponential` sugieren fijar el factor de descuento en\n",
    "\n",
    "    $$\n",
    "    \\lambda_{T}=\\left|\\frac{Q_{T}}{\\hat{\\Delta}_{T}}\\right|,\n",
    "    $$(adaptive_discount_factor_abs)\n",
    "\n",
    "    Donde $\\hat{\\Delta}_{T}$ está dado por la Ecuación {eq}`mean_absolute_deviationT`. La Ecuación {eq}`adaptive_discount_factor_abs` ***permitirá actualizar automáticamente el factor de descuento***."
   ]
  },
  {
   "cell_type": "markdown",
   "id": "a2d2e97e-7eae-4a0a-a780-a324f7abef0d",
   "metadata": {},
   "source": [
    "- La siguiente figura muestra ***dos suavizadores exponenciales simples*** para el ***Índice Dow Jones***, uno con $\\lambda$ fijo de 0.3 y otro con actualización adaptativa basada en el ***método Trigg-Leach*** dado en la Ecuación {eq}`adaptive_discount_factor_abs`. Visualizaremos los ***últimos cien registros*** para poder apreciar mejor las predicciones de cada modelo "
   ]
  },
  {
   "cell_type": "code",
   "execution_count": 56,
   "id": "bb498e0a-bd75-4000-94f4-d22e6b8b080e",
   "metadata": {},
   "outputs": [],
   "source": [
    "def tlsmooth(y, delta_, y_tilde_start=None, lambda_start=1):\n",
    "    T = len(y)\n",
    "    \n",
    "    Qt = np.zeros(T)\n",
    "    Dt = np.zeros(T)\n",
    "    y_tilde = np.zeros(T)\n",
    "    lambd = np.zeros(T)\n",
    "    err = np.zeros(T)\n",
    "    \n",
    "    lambd[0] = lambda_start\n",
    "    if y_tilde_start is None:\n",
    "        y_tilde[0] = y[0]\n",
    "    else:\n",
    "        y_tilde[0] = y_tilde_start\n",
    "    \n",
    "    for i in range(1, T):\n",
    "        err[i] = y[i] - y_tilde[i-1]\n",
    "        Qt[i] = delta_ * err[i] + (1 - delta_) * Qt[i-1]\n",
    "        Dt[i] = delta_ * abs(err[i]) + (1 - delta_) * Dt[i-1]\n",
    "        lambd[i] = abs(Qt[i] / Dt[i])\n",
    "        y_tilde[i] = lambd[i] * y[i] + (1 - lambd[i]) * y_tilde[i-1]\n",
    "    \n",
    "    return np.column_stack((y_tilde, lambd, err, Qt, Dt))"
   ]
  },
  {
   "cell_type": "code",
   "execution_count": 57,
   "id": "252639a5-bab9-459d-9282-889f81bc204e",
   "metadata": {},
   "outputs": [],
   "source": [
    "out_tl_dji = tlsmooth(djia_ts, 0.3)"
   ]
  },
  {
   "cell_type": "code",
   "execution_count": 58,
   "id": "788f5b0c-58ff-4a4c-878f-01ed0a47cdc0",
   "metadata": {},
   "outputs": [],
   "source": [
    "last_fc = 100"
   ]
  },
  {
   "cell_type": "code",
   "execution_count": 59,
   "id": "24850a89-dd6f-45fa-b9fe-8444ea25fd7e",
   "metadata": {},
   "outputs": [
    {
     "data": {
      "image/png": "[encoded data removed]",
      "text/plain": [
       "<Figure size 640x480 with 1 Axes>"
      ]
     },
     "metadata": {},
     "output_type": "display_data"
    }
   ],
   "source": [
    "plt.plot(djia_ts.index[-last_fc:], djia_ts[-last_fc:], marker='o', linestyle='', color='black', label='Dow Jones')\n",
    "plt.plot(djia_ts.index[-last_fc:], out_tl_dji[-last_fc:, 0], color='blue', label='TL Smoother')\n",
    "plt.plot(djia_ts.index[-last_fc:], dji_smooth1[-last_fc:], color='red', label='Exponential Smoother')\n",
    "plt.xlabel('Date')\n",
    "plt.ylabel('Dow Jones')\n",
    "plt.legend()\n",
    "plt.show()"
   ]
  },
  {
   "cell_type": "code",
   "execution_count": null,
   "id": "ac5649fd-72e0-48a6-82e1-8d53a416852b",
   "metadata": {},
   "outputs": [],
   "source": []
  },
  {
   "cell_type": "markdown",
   "id": "1da949cb",
   "metadata": {},
   "source": [
    "## Evaluación del modelo"
   ]
  },
  {
   "cell_type": "markdown",
   "id": "2dc89c6a",
   "metadata": {},
   "source": [
    "- Si el modelo de pronóstico funciona como se esperaba, ***los errores de pronóstico deberían no exhibir ningún patrón o estructura***; es decir, no deberían estar correlacionados. Por lo tanto, siempre es una buena idea verificar esto. Puede hacerlo calculando el ***ACF muestral de los errores de pronóstico*** de"
   ]
  },
  {
   "cell_type": "markdown",
   "id": "c4ce6bdf",
   "metadata": {},
   "source": [
    "$$\n",
    "r_{k}=\\frac{\\displaystyle{\\sum_{t=k}^{T-1}[e_{t}(1)-\\overline{e}][e_{t-k}(1)-\\overline{e}]}}{\\displaystyle{\\sum_{T=0}^{T-1}[e_{t}(1)-\\overline{e}]^{2}}},~\\text{donde}~\\overline{e}=\\frac{1}{n}\\sum_{t=1}^{T}e_{t}(1).\n",
    "$$"
   ]
  },
  {
   "cell_type": "markdown",
   "id": "2186386c",
   "metadata": {},
   "source": [
    "````{admonition} Observación\n",
    ":class: tip\n",
    "\n",
    "- Si los ***errores de pronóstico*** de un paso adelante en realidad ***no están correlacionados***, las ***autocorrelaciones muestrales para cualquier rezago*** $k$ ***deben estar alrededor de 0*** con un error estándar $1/\\sqrt{T}$.\n",
    "\n",
    "- De ahí una ***autocorrelación muestral*** para cualquier rezago $k$ que se encuentre ***fuera de los límites*** $\\pm2/\\sqrt{T}$ ***requerirán una mayor investigación del modelo***.\n",
    "````"
   ]
  },
  {
   "cell_type": "markdown",
   "id": "d48ae8c3",
   "metadata": {},
   "source": [
    "## Suavización exponencial para datos estacionales"
   ]
  },
  {
   "cell_type": "markdown",
   "id": "8a306b0e",
   "metadata": {},
   "source": [
    "- Algunos datos de series de tiempo exhiben ***patrones cíclicos o estacionales*** que no se pueden modelar efectivamente utilizando el modelo polinómico de la Ecuación {eq}`highorder_exponential_smoothing`. Hay varios enfoques disponibles para el análisis de dichos datos. \n",
    "\n",
    "- La metodología en la que nos centraremos fue introducida originalmente por {cite}`holt2004forecasting` y {cite}`winters1960forecasting` y generalmente se conoce como ***método de Winters***, donde se realiza un ajuste estacional al modelo de tendencia lineal."
   ]
  },
  {
   "cell_type": "markdown",
   "id": "cd39f4e8",
   "metadata": {},
   "source": [
    "### Modelo estacional aditivo"
   ]
  },
  {
   "cell_type": "markdown",
   "id": "151ce904",
   "metadata": {},
   "source": [
    "- Para el caso del ***modelo estacional aditivo***, asumiremos que la serie temporal estacional se puede representar mediante el siguiente modelo:\n",
    "\n",
    "    $$\n",
    "    y_{t}=L_{t}+S_{t}+\\varepsilon_{t},\n",
    "    $$(additive_stational_model)\n",
    "\n",
    "    donde $L_{t}$ representa el nivel o ***componente de tendencia lineal*** y puede a su vez ser representado por $\\beta_{0}+\\beta_{1}t$; $S_{t}$ representa el ***ajuste estacional*** con $S_{t}=S_{t+s}=S_{t+2s}=\\cdots$ para $t=1, 2,\\cdots, s-1$ donde $s$ ***es la longitud de período (estación) de los ciclos***; y suponemos que $\\varepsilon_{t}$ es ***no correlacionado con media o y varianza constante*** $\\sigma_{\\varepsilon}^{2}$."
   ]
  },
  {
   "cell_type": "markdown",
   "id": "2432c2db",
   "metadata": {},
   "source": [
    "- Una *restricción habitual* de este modelo es que los ***ajustes estacionales suman cero durante un periodo*** (*evitar tendencia acumulativa en los ajustes estacionales*),\n",
    "\n",
    "$$\n",
    "\\sum_{t=1}^{s}S_{t}=0.\n",
    "$$"
   ]
  },
  {
   "cell_type": "markdown",
   "id": "e2a58915",
   "metadata": {},
   "source": [
    "- En el modelo dado en la Ecuación {eq}`additive_stational_model`, para pronosticar las observaciones futuras, emplearemos ***suavizadores exponenciales de primer orden con diferentes factores de descuento***.\n",
    "\n",
    "- El procedimiento para actualizar las estimaciones de los parámetros una vez que se obtiene la observación actual $y_{T}$ es el siguiente."
   ]
  },
  {
   "cell_type": "markdown",
   "id": "83fd2a6c",
   "metadata": {},
   "source": [
    "1. Actualizar la estimación de $L_{t}$ usando\n",
    "\n",
    "    $$\n",
    "    \\hat{L}_{t}=\\lambda_{1}(y_{T}-\\hat{S}_{T-s})+(1-\\lambda_{1})(\\hat{L}_{T-1}+\\hat{\\beta}_{1, T-1}),\n",
    "    $$(LT_estimation)\n",
    "\n",
    "    donde $0<\\lambda_{1}<1$. Cabe señalar que en la Ecuación {eq}`LT_estimation`, la primera parte puede verse como el valor \"actual\" de $L_{T}$ y la segunda parte como el pronóstico de $L_{T}$ basado en las estimaciones en $T-1$."
   ]
  },
  {
   "cell_type": "markdown",
   "id": "1a5cf0b3",
   "metadata": {},
   "source": [
    "2. Actualizar la estimación de $\\beta_{1}$ usando\n",
    "\n",
    "   $$\n",
    "   \\hat{\\beta}_{1, T}=\\lambda_{2}(\\hat{L}_{T}-\\hat{L}_{T-1})+(1-\\lambda_{2})\\hat{\\beta}_{1, T-1},\n",
    "   $$(beta1T_additive_seasonal_model)\n",
    "\n",
    "   donde $0<\\lambda_{2}<1$. Como en el Paso 1, la estimación de $\\beta_{1}$ en la Ecuación {eq}`beta1T_additive_seasonal_model` puede verse como la combinación lineal del actual valor de $\\beta_{1}$ y su pronóstico an el tiempo $T-1$."
   ]
  },
  {
   "cell_type": "markdown",
   "id": "b68cfaaf-f4c9-4a6f-b1fc-0bf4ac6f7d46",
   "metadata": {},
   "source": [
    "3. Actualizar la estimación de $S_{t}$ usando\n",
    "\n",
    "   $$\n",
    "   \\hat{S}_{T}=\\lambda_{3}(y_{T}-\\hat{L}_{T})+(1-\\lambda_{3})\\hat{S}_{T-s},\n",
    "   $$(seasonal_forecast_additive_model)\n",
    "\n",
    "   donde $0<\\lambda_{3}<1$."
   ]
  },
  {
   "cell_type": "markdown",
   "id": "77446810-82f2-44ef-9a02-8b397bf1b00c",
   "metadata": {},
   "source": [
    "4. Finalmente, el pronóstico $\\tau$ pasos hacia adelante, $\\hat{y}_{T+\\tau}(T)$, es\n",
    "\n",
    "   $$\n",
    "   \\hat{y}_{T+\\tau}(T)=\\hat{L}_{T}+\\hat{\\beta}_{1, T}\\tau+\\hat{S}_{T}(\\tau-s).\n",
    "   $$"
   ]
  },
  {
   "cell_type": "markdown",
   "id": "3a74781a-7c08-4a0f-b069-5e653285af0b",
   "metadata": {},
   "source": [
    "- ***Estimar los valores iniciales de una suavización exponencial es crucial***. Para un conjunto dado de datos históricos con $n$ estaciones ($ns$ observaciones), podemos usar las ***estimaciones de mínimos cuadrados*** del siguiente modelo:\n",
    "\n",
    "  $$\n",
    "  y_{t}=\\beta_{0}+\\beta_{1}t+\\sum_{i=1}^{s-1}\\gamma_{i}(I_{t, i}-I_{t, s})+\\varepsilon_{t},\n",
    "  $$(ols_estimation_additive_model)\n",
    "\n",
    "  donde\n",
    "\n",
    "  $$\n",
    "  I_{t, i}=\n",
    "  \\begin{cases}\n",
    "  1, & t=i, i+s, i+2s, \\dots\\\\\n",
    "  0, & \\text{en otro caso}.\n",
    "  \\end{cases}\n",
    "  $$"
   ]
  },
  {
   "cell_type": "markdown",
   "id": "10ceeb5d-b2dc-4c98-aba5-cb30c1f825a5",
   "metadata": {},
   "source": [
    "- Las ***estimaciones de mínimos cuadrados de los parámetros*** de la Ecuación {eq}`ols_estimation_additive_model` se utilizan para obtener los valores iniciales como"
   ]
  },
  {
   "cell_type": "markdown",
   "id": "eaddce40-e246-4a95-b4a8-765d5a9314e8",
   "metadata": {},
   "source": [
    "$$\n",
    "\\begin{align*}\n",
    "\\hat{\\beta}_{0, 0} &= \\hat{L}_{0}=\\hat{\\beta}_{0}\\\\\n",
    "\\hat{\\beta}_{1, 0} &= \\hat{\\beta}_{1}\\\\\n",
    "\\hat{S}_{j-s} &= \\hat{Y}_{j},~\\text{para}~ 1\\leq j\\leq s-1\\\\\n",
    "\\hat{S}_{0} &= -\\sum_{j=1}^{s-1}\\hat{y}_{j}.\n",
    "\\end{align*}\n",
    "$$"
   ]
  },
  {
   "cell_type": "markdown",
   "id": "a60ea57d-0de5-4a7b-b823-2364761d2035",
   "metadata": {},
   "source": [
    "- Estos son valores iniciales de los parámetros del modelo en el origen original de tiempo, $t = 0$. Para realizar pronósticos desde el origen correcto de tiempo, la componente permanente debe trasladarse al tiempo $T$ calculando $\\hat{L}_{T}=\\hat{L}_{0}+ns\\hat{\\beta}_{1}$. Alternativamente, se podrían suavizar los parámetros usando las Ecuaciones {eq}`LT_estimation`-{eq}`seasonal_forecast_additive_model` para periodos de tiempo $t = 1, 2,\\dots, T$ {cite}`hyndman2008forecasting`."
   ]
  },
  {
   "cell_type": "markdown",
   "id": "fcbf4a1e-891f-47b3-863e-ca73fa189771",
   "metadata": {},
   "source": [
    "````{admonition} Observación\n",
    ":class: tip\n",
    "\n",
    "- Intervalos de predicción como en el caso del suavizado no estacional, requerirían ***estimación de la varianza del error de predicción***. El enfoque más común es utilizar la ***relación entre las técnicas de suavizado exponencial y modelos ARIMA*** que abordaremos en el siguiente capítulo, y estimar la variación del error de predicción acordemente.\n",
    "````"
   ]
  },
  {
   "cell_type": "markdown",
   "id": "faf9cb31-d6cb-472a-a6c0-84e80152536a",
   "metadata": {},
   "source": [
    "### Modelo estacional multiplicativo"
   ]
  },
  {
   "cell_type": "markdown",
   "id": "693dcf6b-4712-4259-84a8-45a1eaf56ca5",
   "metadata": {},
   "source": [
    "- Si la ***amplitud del patrón estacional es proporcional al nivel medio de la serie temporal estacional***, el siguiente modelo estacional multiplicativo será el más adecuado\n",
    "\n",
    "  $$\n",
    "  y_{t}=L_{t}S_{t}+\\varepsilon_{t},\n",
    "  $$(multiplicative_stational_model)\n",
    "\n",
    "  donde $L_{t}$ una vez más representa la componente permanente (i.e. $\\beta_{0}+\\beta_{1}t$); $S_{t}$ representa el ajuste estacional con $S_{t}=S_{t+s}=S_{t+2s}=\\cdots$ para $t=1,2,\\dots, s-1$, donde $s$ es la longitud del periodo de los ciclos; y $\\varepsilon_{t}$ se supone no correlacionado con media 0 y varianza constante $\\sigma_{\\varepsilon}^{2}$.\n",
    "\n",
    "- La restricción para los ajustes estacionales en este caso se convierte en\n",
    "\n",
    "  $$\n",
    "  \\sum_{t}^{s}S_{t}=s.\n",
    "  $$"
   ]
  },
  {
   "cell_type": "markdown",
   "id": "6259b21a-bc0c-4940-a999-730b83b2b2fe",
   "metadata": {},
   "source": [
    "- Como en el modelo aditivo, emplearemos tres suavizadores exponenciales para estimar los parámetros en la Ecuación {eq}`multiplicative_stational_model`"
   ]
  },
  {
   "cell_type": "markdown",
   "id": "a0c4561b-ec89-4f5e-a824-6b2f24c0e09b",
   "metadata": {},
   "source": [
    "1. Actualizar el estimador de $L_{T}$ usando\n",
    "\n",
    "   $$\n",
    "   \\hat{L}_{T}=\\lambda_{1}\\frac{y_{T}}{\\hat{S}_{T-s}}+(1-\\lambda_{1})(\\hat{L}_{T-1}+\\hat{\\beta}_{1, T-1}), \n",
    "   $$\n",
    "\n",
    "   donde $0<\\lambda_{1}<1$."
   ]
  },
  {
   "cell_type": "markdown",
   "id": "d7193853-6596-4e77-88ee-52914dbe776c",
   "metadata": {},
   "source": [
    "2. Actualizar el estimador de $\\beta_{1}$ utilizando\n",
    "\n",
    "   $$\n",
    "   \\hat{\\beta}_{1, T}=\\lambda_{2}(\\hat{L}_{T}-\\hat{L}_{T-1})+(1-\\lambda_{2})\\hat{\\beta}_{1, T-1},\n",
    "   $$\n",
    "\n",
    "   donde $0<\\lambda<1$."
   ]
  },
  {
   "cell_type": "markdown",
   "id": "ccd58ee1-466f-42ed-99cd-1f39b10498a7",
   "metadata": {},
   "source": [
    "3. Actualizar la estimación de $S_{t}$ usando\n",
    "\n",
    "   $$\n",
    "   \\hat{S}_{T}=\\lambda_{3}\\frac{y_{T}}{\\hat{L}_{T}}+(1-\\lambda_{3})\\hat{S}_{T-s},\n",
    "   $$\n",
    "\n",
    "   donde $0<\\lambda_{3}<1$."
   ]
  },
  {
   "cell_type": "markdown",
   "id": "74bef451-fe33-468c-b0bd-d004d0698ce5",
   "metadata": {},
   "source": [
    "4. El pronóstico $\\tau$ pasos hacia adelante, $\\hat{y}_{T+\\tau}(T)$, es\n",
    "\n",
    "   $$\n",
    "   \\hat{y}_{T+\\tau}(T)=(\\hat{L}_{T}+\\hat{\\beta}_{1, T}\\tau)\\hat{S}_{T}(\\tau-s).\n",
    "   $$"
   ]
  },
  {
   "cell_type": "markdown",
   "id": "f6998a23-08e2-489f-b0bb-1d9bea24765b",
   "metadata": {},
   "source": [
    "- Supongamos que un registro que consta de $n$ estaciones de datos es disponible. De este conjunto de datos históricos, los valores iniciales, $\\hat{\\beta}_{0, 0}, \\hat{\\beta}_{1, 0}$ y $\\hat{S}_{0}$, se puede calcular como\n",
    "\n",
    "  $$\n",
    "  \\hat{\\beta}_{0, 0}=\\hat{L}_{0}=\\frac{\\overline{y}_{n}-\\overline{y}_{1}}{(n-1)s},\n",
    "  $$\n",
    "\n",
    "  donde\n",
    "\n",
    "  $$\n",
    "  \\overline{y}_{i}=\\frac{1}{s}\\sum_{t=(i-1)s+1}^{is}y_{t}\n",
    "  $$\n",
    "\n",
    "  y\n",
    "\n",
    "  $$\n",
    "  \\begin{align*}\n",
    "  \\hat{\\beta}_{1, 0} &= \\overline{y}_{1}-\\frac{s}{2}\\hat{\\beta}_{0, 0}\\\\\n",
    "  \\hat{S}_{j-s} &= s\\frac{\\hat{S}_{j}^{\\star}}{\\sum_{i=1}^{s}\\hat{S}_{i}^{\\star}}~\\text{para}~1\\leq j\\leq s, \n",
    "  \\end{align*}\n",
    "  $$\n",
    "\n",
    "  donde\n",
    "\n",
    "  $$\n",
    "  \\hat{S}_{j}^{\\star}=\\frac{1}{n}\\sum_{t=1}^{n}\\frac{y_{(t-1)s+j}}{\\overline{y}_{t}-((s+1)/2-j)\\hat{\\beta}_{0}}.\n",
    "  $$\n",
    "\n",
    "  Para más detalles ver {cite}`montgomery1990forecasting` y {cite}`abraham2009statistical`."
   ]
  },
  {
   "cell_type": "markdown",
   "id": "7002f44d-4cec-471f-8f2d-57afef42664c",
   "metadata": {},
   "source": [
    "## Librería `statsmodels.tsa.holtwinters`"
   ]
  },
  {
   "cell_type": "code",
   "execution_count": 60,
   "id": "f77a3f74-a401-410e-b1c9-d9277669e70b",
   "metadata": {},
   "outputs": [],
   "source": [
    "import pandas as pd\n",
    "import numpy as np\n",
    "from matplotlib import pyplot as plt\n",
    "import seaborn as sns\n",
    "import statsmodels.api as sm\n",
    "from sklearn.metrics import mean_absolute_error\n",
    "import itertools\n",
    "import warnings\n",
    "from statsmodels.tools.sm_exceptions import ConvergenceWarning\n",
    "warnings.simplefilter('ignore', ConvergenceWarning)\n",
    "from statsmodels.tsa.holtwinters import ExponentialSmoothing\n",
    "from statsmodels.tsa.holtwinters import SimpleExpSmoothing\n",
    "from statsmodels.tsa.seasonal import seasonal_decompose\n",
    "import statsmodels.tsa.api as smt"
   ]
  },
  {
   "cell_type": "markdown",
   "id": "d8e93df4-c724-42ce-b9e8-a2af5753bc5f",
   "metadata": {},
   "source": [
    "- Consideremos, nuevamente, el objetivo de estimar la cantidad de ***contaminación atmosférica** por dióxido de carbono a partir de muestras continuas de aire en el ***Observatorio Mauna Loa, Hawai, EE. UU.*** Período de registro: ***marzo de 1958 - diciembre de 2001***."
   ]
  },
  {
   "cell_type": "code",
   "execution_count": 61,
   "id": "db16d9c8-6e08-4989-af56-dd9047c1ed99",
   "metadata": {},
   "outputs": [
    {
     "data": {
      "text/html": [
       "<div>\n",
       "<style scoped>\n",
       "    .dataframe tbody tr th:only-of-type {\n",
       "        vertical-align: middle;\n",
       "    }\n",
       "\n",
       "    .dataframe tbody tr th {\n",
       "        vertical-align: top;\n",
       "    }\n",
       "\n",
       "    .dataframe thead th {\n",
       "        text-align: right;\n",
       "    }\n",
       "</style>\n",
       "<table border=\"1\" class=\"dataframe\">\n",
       "  <thead>\n",
       "    <tr style=\"text-align: right;\">\n",
       "      <th></th>\n",
       "      <th>co2</th>\n",
       "    </tr>\n",
       "  </thead>\n",
       "  <tbody>\n",
       "    <tr>\n",
       "      <th>1958-03-29</th>\n",
       "      <td>316.1</td>\n",
       "    </tr>\n",
       "    <tr>\n",
       "      <th>1958-04-05</th>\n",
       "      <td>317.3</td>\n",
       "    </tr>\n",
       "    <tr>\n",
       "      <th>1958-04-12</th>\n",
       "      <td>317.6</td>\n",
       "    </tr>\n",
       "    <tr>\n",
       "      <th>1958-04-19</th>\n",
       "      <td>317.5</td>\n",
       "    </tr>\n",
       "    <tr>\n",
       "      <th>1958-04-26</th>\n",
       "      <td>316.4</td>\n",
       "    </tr>\n",
       "  </tbody>\n",
       "</table>\n",
       "</div>"
      ],
      "text/plain": [
       "              co2\n",
       "1958-03-29  316.1\n",
       "1958-04-05  317.3\n",
       "1958-04-12  317.6\n",
       "1958-04-19  317.5\n",
       "1958-04-26  316.4"
      ]
     },
     "execution_count": 61,
     "metadata": {},
     "output_type": "execute_result"
    }
   ],
   "source": [
    "data = sm.datasets.co2.load_pandas()\n",
    "y = data.data\n",
    "y.head()"
   ]
  },
  {
   "cell_type": "code",
   "execution_count": 62,
   "id": "0198bab6-63db-48ee-8f93-7c97d1fa8ae9",
   "metadata": {},
   "outputs": [
    {
     "data": {
      "text/plain": [
       "1958-03-01    316.100000\n",
       "1958-04-01    317.200000\n",
       "1958-05-01    317.433333\n",
       "1958-06-01           NaN\n",
       "1958-07-01    315.625000\n",
       "Freq: MS, Name: co2, dtype: float64"
      ]
     },
     "execution_count": 62,
     "metadata": {},
     "output_type": "execute_result"
    }
   ],
   "source": [
    "y = y['co2'].resample('MS').mean()\n",
    "y.head()"
   ]
  },
  {
   "cell_type": "code",
   "execution_count": 63,
   "id": "f9967e08-82b2-42f0-883d-4af7457bc413",
   "metadata": {},
   "outputs": [
    {
     "data": {
      "text/plain": [
       "5"
      ]
     },
     "execution_count": 63,
     "metadata": {},
     "output_type": "execute_result"
    }
   ],
   "source": [
    "y.isnull().sum()"
   ]
  },
  {
   "cell_type": "code",
   "execution_count": 64,
   "id": "905eef7a-6a62-4234-bada-c9b9f509a55e",
   "metadata": {},
   "outputs": [
    {
     "data": {
      "text/plain": [
       "0"
      ]
     },
     "execution_count": 64,
     "metadata": {},
     "output_type": "execute_result"
    }
   ],
   "source": [
    "y = y.fillna(y.bfill())\n",
    "y.isnull().sum()"
   ]
  },
  {
   "cell_type": "code",
   "execution_count": 65,
   "id": "bb81f985-c32a-42a5-bb98-83a397cb5f68",
   "metadata": {},
   "outputs": [
    {
     "data": {
      "image/png": "[encoded data removed]",
      "text/plain": [
       "<Figure size 640x480 with 1 Axes>"
      ]
     },
     "metadata": {},
     "output_type": "display_data"
    }
   ],
   "source": [
    "y.plot()\n",
    "plt.title('Monthly CO2 concentrations')\n",
    "plt.xlabel('Time')\n",
    "plt.ylabel('CO2 concentratition');\n",
    "plt.show()"
   ]
  },
  {
   "cell_type": "markdown",
   "id": "930f159e-4fec-4bfe-846b-c2cfcb61498f",
   "metadata": {},
   "source": [
    "- Dividimos en esta ocasión nuestro dataset en conjunto de ***entrenamiento*** y de ***prueba***. En este caso ***el conjunto de prueba corresponde a los últimos 48 meses***"
   ]
  },
  {
   "cell_type": "code",
   "execution_count": 66,
   "id": "45759daa-8574-4b42-8a5a-2a4a3e2e0dfb",
   "metadata": {},
   "outputs": [
    {
     "name": "stdout",
     "output_type": "stream",
     "text": [
      "(478, 48)\n"
     ]
    }
   ],
   "source": [
    "tau_test = 48\n",
    "train = y[:-tau_test]\n",
    "test  = y[-tau_test:]\n",
    "print((len(train), len(test)))"
   ]
  },
  {
   "cell_type": "markdown",
   "id": "97d4ec6d-518a-4e6f-b0a6-762460e48d8c",
   "metadata": {},
   "source": [
    "- La siguiente función nos permitirá ***graficar los conjuntos de entrenamiento, prueba y las respectivas predicciones*** del conjunto de prueba. Además, mostraremos en el título de estas figuras la métrica `MAE`"
   ]
  },
  {
   "cell_type": "code",
   "execution_count": 67,
   "id": "4b1075ca-6f4c-40bb-997a-3f3c66819b78",
   "metadata": {},
   "outputs": [],
   "source": [
    "def plot_model(train, test, y_pred, title):\n",
    "    \n",
    "    mae = mean_absolute_error(test, y_pred)\n",
    "    train[-112:].plot(legend=True, label=\"Train\", title=f\"{title}, MAE: {round(mae, 2)}\")\n",
    "    test.plot(legend=True, label=\"Test\")\n",
    "    y_pred.plot(legend=True, label=\"Prediction\")\n",
    "    plt.show()"
   ]
  },
  {
   "cell_type": "markdown",
   "id": "efb325df-5e38-46fe-9fbd-375ffcac26e8",
   "metadata": {},
   "source": [
    "### Simple Exponential Smoothing"
   ]
  },
  {
   "cell_type": "markdown",
   "id": "c3f3df52-d3d9-481f-961e-bfc4cecac648",
   "metadata": {},
   "source": [
    "- Cada una de las ***funciones optimizadoras permitirán encontrar el mejor parámetro*** $\\alpha$ para obtener aquel modelo que minimiza en este caso la métrica `MAE`"
   ]
  },
  {
   "cell_type": "code",
   "execution_count": 68,
   "id": "7916d39a-3b79-4768-a350-cf90da56f366",
   "metadata": {},
   "outputs": [],
   "source": [
    "def ses_optimizer(train, alphas, step):\n",
    "\n",
    "    best_alpha, best_mae = None, float(\"inf\")\n",
    "\n",
    "    for alpha in alphas:\n",
    "        ses_model = SimpleExpSmoothing(train).fit(smoothing_level=alpha, optimized=False)\n",
    "        y_pred = ses_model.forecast(step)\n",
    "        mae = mean_absolute_error(test, y_pred)\n",
    "\n",
    "        if mae < best_mae:\n",
    "            best_alpha, best_mae = alpha, mae\n",
    "\n",
    "    return best_alpha, best_mae"
   ]
  },
  {
   "cell_type": "code",
   "execution_count": 69,
   "id": "f270164f-9808-4804-9bb3-181cbb8f4097",
   "metadata": {},
   "outputs": [],
   "source": [
    "def ses_model_tuning(train , test, step, title=\"Model Tuning - Single Exponential Smoothing\"):\n",
    "    \n",
    "    alphas = np.arange(0.8, 1, 0.01)\n",
    "    best_alpha, best_mae = ses_optimizer(train, alphas, step=step)\n",
    "    final_model = SimpleExpSmoothing(train).fit(smoothing_level=best_alpha, optimized=False)\n",
    "    y_pred = final_model.forecast(step)\n",
    "    mae = mean_absolute_error(test, y_pred)\n",
    "    \n",
    "    plot_model(train, test, y_pred, title)"
   ]
  },
  {
   "cell_type": "markdown",
   "id": "d8260774-7ce5-4085-b086-2fe0508c064f",
   "metadata": {},
   "source": [
    "- Observemos las ***predicciones*** obtenidas por medio del ***modelo de suavización exponencial simple***"
   ]
  },
  {
   "cell_type": "code",
   "execution_count": 70,
   "id": "7d308617-3787-4672-b9f4-44e305ff0682",
   "metadata": {},
   "outputs": [
    {
     "data": {
      "image/png": "[encoded data removed]",
      "text/plain": [
       "<Figure size 640x480 with 1 Axes>"
      ]
     },
     "metadata": {},
     "output_type": "display_data"
    }
   ],
   "source": [
    "ses_model_tuning(train, test, step=tau_test)"
   ]
  },
  {
   "cell_type": "markdown",
   "id": "e5ab36ae-3e4b-44c1-b558-c0a376cb9758",
   "metadata": {},
   "source": [
    "### Double Exponential Smoothing"
   ]
  },
  {
   "cell_type": "markdown",
   "id": "310d75d9-1061-4386-a1c7-c303efdb7606",
   "metadata": {},
   "source": [
    "- `ExponentialSmoothing(train, trend=trend)`: Crea una instancia de un modelo de suavización exponencial. Toma como argumento la serie temporal de entrenamiento `train` y especifica el ***tipo de tendencia (lineal o exponencial)*** mediante el parámetro `trend`.\n",
    "\n",
    "- `.fit(smoothing_level=alpha, smoothing_slope=beta)`: Ajusta el modelo a los datos de entrenamiento. Los parámetros `smoothing_level` y `smoothing_slope` ***controlan el nivel de suavizado de la serie temporal y de la tendencia***, respectivamente. Estos parámetros se establecen en los valores dados por `alpha` y `beta`."
   ]
  },
  {
   "cell_type": "code",
   "execution_count": 71,
   "id": "2db27102-c0df-4b93-9a0c-deda1a03ab6d",
   "metadata": {},
   "outputs": [],
   "source": [
    "def des_optimizer(train, alphas, betas, trend, step):\n",
    "\n",
    "    best_alpha, best_beta, best_mae = None, None, float(\"inf\")\n",
    "\n",
    "    for alpha in alphas:\n",
    "        for beta in betas:\n",
    "            des_model = ExponentialSmoothing(train, trend=trend).fit(smoothing_level=alpha, smoothing_slope=beta)\n",
    "            y_pred = des_model.forecast(step)\n",
    "            mae = mean_absolute_error(test, y_pred)\n",
    "            if mae < best_mae:\n",
    "                best_alpha, best_beta, best_mae = alpha, beta, mae\n",
    "\n",
    "    return best_alpha, best_beta, best_mae"
   ]
  },
  {
   "cell_type": "code",
   "execution_count": 72,
   "id": "8e4bb44f-f172-46eb-90e4-847ac2cdeee8",
   "metadata": {},
   "outputs": [],
   "source": [
    "def des_model_tuning(train , test, step, trend, title=\"Model Tuning - Double Exponential Smoothing\"):\n",
    "    \n",
    "    alphas = np.arange(0.01, 1, 0.10)\n",
    "    betas = np.arange(0.01, 1, 0.10)\n",
    "    best_alpha, best_beta, best_mae = des_optimizer(train, alphas, betas, trend=trend, step=step)\n",
    "    final_model = ExponentialSmoothing(train, trend=trend).fit(smoothing_level=best_alpha, smoothing_slope=best_beta)\n",
    "    y_pred = final_model.forecast(step)\n",
    "    mae = mean_absolute_error(test, y_pred)\n",
    "    \n",
    "    plot_model(train, test, y_pred, title)"
   ]
  },
  {
   "cell_type": "code",
   "execution_count": 73,
   "id": "60f15929-26f1-419c-be88-04b6eeac03fe",
   "metadata": {},
   "outputs": [
    {
     "data": {
      "image/png": "[encoded data removed]",
      "text/plain": [
       "<Figure size 640x480 with 1 Axes>"
      ]
     },
     "metadata": {},
     "output_type": "display_data"
    }
   ],
   "source": [
    "des_model_tuning(train, test, step=tau_test, trend='add')"
   ]
  },
  {
   "cell_type": "markdown",
   "id": "ef0700be-7c2c-4f97-a088-f958a98b8366",
   "metadata": {},
   "source": [
    "### Triple Exponential Smoothing"
   ]
  },
  {
   "cell_type": "markdown",
   "id": "2161c9b2-6824-467f-ba8f-6e0ae77c1cfe",
   "metadata": {},
   "source": [
    "- En `ExponentialSmoothing` de la biblioteca `statsmodels` se especifican los ***componentes del modelo, como la tendencia y la estacionalidad***, utilizando los argumentos `trend` y `seasonal`.\n",
    "\n",
    "- Se especifica el ***número de periodos estacionales*** utilizando el argumento `seasonal_periods`. Los parámetros de suavizado (`smoothing_level, smoothing_slope` y `smoothing_seasonal`) se establecen en los valores proporcionados en la lista `comb`."
   ]
  },
  {
   "cell_type": "code",
   "execution_count": 74,
   "id": "a3937fc5-7788-4bea-85a5-8f689eab03ee",
   "metadata": {},
   "outputs": [],
   "source": [
    "def tes_optimizer(train, abg, trend, seasonal,  seasonal_periods, step):\n",
    "    \n",
    "    best_alpha, best_beta, best_gamma, best_mae = None, None, None, float(\"inf\")\n",
    "    for comb in abg:\n",
    "        tes_model = ExponentialSmoothing(train, trend=trend, seasonal=seasonal, seasonal_periods=seasonal_periods).\\\n",
    "            fit(smoothing_level=comb[0], smoothing_slope=comb[1], smoothing_seasonal=comb[2])\n",
    "        y_pred = tes_model.forecast(step)\n",
    "        mae = mean_absolute_error(test, y_pred)\n",
    "        if mae < best_mae:\n",
    "            best_alpha, best_beta, best_gamma, best_mae = comb[0], comb[1], comb[2], mae\n",
    "\n",
    "    return best_alpha, best_beta, best_gamma, best_mae"
   ]
  },
  {
   "cell_type": "code",
   "execution_count": 75,
   "id": "7a7078b4-804c-448d-99cd-deb136151424",
   "metadata": {},
   "outputs": [],
   "source": [
    "def tes_model_tuning(train , test, step, trend, seasonal, seasonal_periods, title=\"Model Tuning - Triple Exponential Smoothing\"):\n",
    "    \n",
    "    alphas = betas = gammas = np.arange(0.10, 1, 0.10)\n",
    "    abg = list(itertools.product(alphas, betas, gammas))\n",
    "    best_alpha, best_beta, best_gamma, best_mae = tes_optimizer(train, abg=abg, trend=trend, seasonal=seasonal, seasonal_periods=seasonal_periods, step=step)\n",
    "    final_model = ExponentialSmoothing(train, trend=trend, seasonal=seasonal).fit(smoothing_level=best_alpha, smoothing_slope=best_beta, smoothing_seasonal=best_gamma)\n",
    "    y_pred = final_model.forecast(step)\n",
    "    mae = mean_absolute_error(test, y_pred)\n",
    "    plot_model(train, test, y_pred, title)\n",
    "    \n",
    "    return best_alpha, best_beta, best_gamma, best_mae"
   ]
  },
  {
   "cell_type": "code",
   "execution_count": 76,
   "id": "4ccda3a4-8d31-41fb-b882-4e533188d752",
   "metadata": {},
   "outputs": [
    {
     "data": {
      "image/png": "[encoded data removed]",
      "text/plain": [
       "<Figure size 640x480 with 1 Axes>"
      ]
     },
     "metadata": {},
     "output_type": "display_data"
    }
   ],
   "source": [
    "best_alpha, best_beta, best_gamma, best_mae = tes_model_tuning(train, test, step=tau_test, trend='add', seasonal='add', seasonal_periods=12)"
   ]
  },
  {
   "cell_type": "markdown",
   "id": "282078f5-b61c-47f5-a556-a5f029f922f8",
   "metadata": {},
   "source": [
    "- Realizamos ahora ***predicciones para datos fuera de la muestra***, en este caso pronosticamos un ***horizonte de 12 meses*** de `CO2`"
   ]
  },
  {
   "cell_type": "code",
   "execution_count": 77,
   "id": "f23332f7-85d2-4c8f-a129-80e51e41472e",
   "metadata": {},
   "outputs": [],
   "source": [
    "def tes_final_model(y, best_alpha, best_beta, best_gamma, step, trend='add', seasonal='add'):\n",
    "  final_model = ExponentialSmoothing(y, trend=trend, seasonal=seasonal).fit(smoothing_level=best_alpha, smoothing_slope=best_beta, smoothing_seasonal=best_gamma)\n",
    "  feature_predict = final_model.forecast(step)\n",
    "  return feature_predict"
   ]
  },
  {
   "cell_type": "code",
   "execution_count": 78,
   "id": "93e68988-527b-4252-940c-2153b1b8deb8",
   "metadata": {},
   "outputs": [],
   "source": [
    "y_pred = tes_final_model(y, best_alpha, best_beta, best_gamma, step=12)"
   ]
  },
  {
   "cell_type": "code",
   "execution_count": 79,
   "id": "7a7dfc49-90ee-425e-978d-1b905e445624",
   "metadata": {},
   "outputs": [
    {
     "data": {
      "image/png": "[encoded data removed]",
      "text/plain": [
       "<Figure size 640x480 with 1 Axes>"
      ]
     },
     "metadata": {},
     "output_type": "display_data"
    }
   ],
   "source": [
    "train[-100:].plot(label = 'Train');\n",
    "test.plot(label = 'Test');\n",
    "y_pred.plot(label = 'Forecast', color = 'black', marker='o', markersize=2);\n",
    "plt.xlabel('Date')\n",
    "plt.ylabel('CO2')\n",
    "plt.legend();"
   ]
  },
  {
   "cell_type": "code",
   "execution_count": null,
   "id": "95fc81bd-990b-4310-b54f-db6bc0cbdb03",
   "metadata": {},
   "outputs": [],
   "source": []
  },
  {
   "attachments": {},
   "cell_type": "markdown",
   "id": "06c9c249",
   "metadata": {},
   "source": [
    "````{admonition} Resumen\n",
    ":class: tip\n",
    "\n",
    "- Este capítulo trata de los enfoques de suavización exponencial para datos de series temporales. Los enfoques pueden ampliarse fácilmente para la predicción mediante la inclusión de términos como el ***factor de suavización, factor de tendencia y factor de estacionalidad***. \n",
    "\n",
    "- El suavizado exponencial de orden único realiza la suavización utilizando solo el factor $\\lambda$, que se amplía con los factores $\\alpha,\\,\\beta$ de segundo orden al incluir tendencia. ***La suavización de tercer orden incorpora todos los factores, tendencia y estacionalidad en el modelo***.\n",
    "\n",
    "- En este capítulo se han tratado todos estos modelos en detalle con su implementación en ***Python***. El enfoque de ***suavizado exponencial puede utilizarse para pronosticar series temporales estacionarias***. Sin embargo, esta suposición puede no ser cierta. ***Se recomienda el suavizado exponencial de orden superior para estos casos***, pero su cálculo es difícil y costoso computacionalmente. Por lo tanto, para hacer frente a este planteamiento, ***se utilizan otras técnicas de previsión como el modelo ARIMA, que se tratará en la siguiente sección***.\n",
    "\n",
    "````"
   ]
  },
  {
   "cell_type": "code",
   "execution_count": null,
   "id": "f7170093-f9e9-4431-b088-cf70463c4d0d",
   "metadata": {},
   "outputs": [],
   "source": []
  },
  {
   "cell_type": "code",
   "execution_count": null,
   "id": "b01135a2-75ab-455f-b5d4-b2f9aaca3785",
   "metadata": {},
   "outputs": [],
   "source": []
  }
 ],
 "metadata": {
  "kernelspec": {
   "display_name": "tensorflow",
   "language": "python",
   "name": "tensorflow"
  },
  "language_info": {
   "codemirror_mode": {
    "name": "ipython",
    "version": 3
   },
   "file_extension": ".py",
   "mimetype": "text/x-python",
   "name": "python",
   "nbconvert_exporter": "python",
   "pygments_lexer": "ipython3",
   "version": "3.11.5"
  },
  "toc": {
   "base_numbering": 1,
   "nav_menu": {},
   "number_sections": true,
   "sideBar": true,
   "skip_h1_title": false,
   "title_cell": "Table of Contents",
   "title_sidebar": "Contents",
   "toc_cell": false,
   "toc_position": {},
   "toc_section_display": true,
   "toc_window_display": false
  }
 },
 "nbformat": 4,
 "nbformat_minor": 5
}
